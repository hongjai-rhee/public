{
  "nbformat": 4,
  "nbformat_minor": 0,
  "metadata": {
    "colab": {
      "name": "브랜드선택_랜덤포레스트.ipynb",
      "provenance": [],
      "collapsed_sections": [],
      "authorship_tag": "ABX9TyPf+xzEooTK/S1GZPTRM8Ra",
      "include_colab_link": true
    },
    "kernelspec": {
      "name": "python3",
      "display_name": "Python 3"
    }
  },
  "cells": [
    {
      "cell_type": "markdown",
      "metadata": {
        "id": "view-in-github",
        "colab_type": "text"
      },
      "source": [
        "<a href=\"https://colab.research.google.com/github/hongjai-rhee/public/blob/master/%EB%B8%8C%EB%9E%9C%EB%93%9C%EC%84%A0%ED%83%9D_%EB%9E%9C%EB%8D%A4%ED%8F%AC%EB%A0%88%EC%8A%A4%ED%8A%B8.ipynb\" target=\"_parent\"><img src=\"https://colab.research.google.com/assets/colab-badge.svg\" alt=\"Open In Colab\"/></a>"
      ]
    },
    {
      "cell_type": "markdown",
      "metadata": {
        "id": "bESDjWHNrago",
        "colab_type": "text"
      },
      "source": [
        "# 브랜드 선택모형을 랜덤 포레스트로 돌려보자.\n",
        "RF는 랜덤하게 만들어진 K개의 디시전 트리를 만들고, 다수결로 클래스를 예측한다.  \n",
        "test 데이터도 bootstrap에 의해 K개로 만들어진다. \n",
        "\n",
        "---\n",
        "\n",
        "\n",
        "전에 했던 브랜드 선택과 동일한 데이터, ‘choice500.csv’를 불러온다.\n",
        "\n",
        " \n"
      ]
    },
    {
      "cell_type": "code",
      "metadata": {
        "id": "-6cD75s2rVx1",
        "colab_type": "code",
        "outputId": "624c7276-8950-4954-d368-ffeb94964e50",
        "colab": {
          "base_uri": "https://localhost:8080/",
          "height": 197
        }
      },
      "source": [
        "\n",
        "## 필요한 라이브러리 불러오기\n",
        "import pandas as pd; import numpy as np; from keras.models import Sequential; from keras.layers import Dense, Dropout, Activation; import matplotlib.pyplot as plt \n",
        "from sklearn.model_selection import train_test_split; from keras.utils.np_utils import to_categorical;  from matplotlib import style\n",
        "## 데이터 불러오기  \n",
        "!git clone https://github.com/hongjai-rhee/public.git\n",
        "## 깃허브 디렉토리 마운트\n",
        "dat = pd.read_csv('/content/public/choice500.csv')\n",
        " \n",
        "print(dat.head())\n",
        "dat = np.array(dat); ncol=dat.shape[1]; nrow=dat.shape[0]\n",
        "x=dat[:,0:ncol-1]; Y=dat[:,ncol-1]-1; y = to_categorical(Y)\n",
        "print(x.shape, y.shape)\n",
        "class_names = ['nabisco', 'keebler', 'sunshine']    ## 브랜드 이름"
      ],
      "execution_count": 37,
      "outputs": [
        {
          "output_type": "stream",
          "text": [
            "fatal: destination path 'public' already exists and is not an empty directory.\n",
            "   age  male  heavy  price1  price2  price3  ...  ad2  ad3  disp1  disp2  disp3  buy\n",
            "0   63     0      0    1.75    1.30    1.73  ...    1    1      0      1      1    2\n",
            "1   29     1      1    1.65    1.43    1.66  ...    1    1      0      0      1    3\n",
            "2   30     1      1    1.62    1.53    1.76  ...    0    0      1      0      0    1\n",
            "3   53     1      1    1.52    1.53    1.76  ...    0    1      1      1      1    3\n",
            "4   55     0      0    1.83    1.62    1.67  ...    0    1      0      0      0    3\n",
            "\n",
            "[5 rows x 13 columns]\n",
            "(500, 12) (500, 3)\n"
          ],
          "name": "stdout"
        }
      ]
    },
    {
      "cell_type": "markdown",
      "metadata": {
        "id": "XqxOWdDxtTCj",
        "colab_type": "text"
      },
      "source": [
        "# 훈련과 검증 데이터를 분리한 후, 학습을 하고, 예측을 한다."
      ]
    },
    {
      "cell_type": "code",
      "metadata": {
        "id": "8JehHF4GryoT",
        "colab_type": "code",
        "outputId": "e8870826-a3b7-4384-f5fb-faa9f63bebc5",
        "colab": {
          "base_uri": "https://localhost:8080/",
          "height": 73
        }
      },
      "source": [
        "from sklearn.model_selection import train_test_split; import random\n",
        "random.seed(155)\n",
        " \n",
        "# 테스트 데이터 30%\n",
        "x_train, x_test, y_train, y_test = train_test_split(x, y, test_size=0.3)\n",
        "\n",
        "\n",
        "from sklearn.ensemble import RandomForestClassifier\n",
        "from sklearn import metrics    \n",
        " \n",
        "# 학습 진행\n",
        "n_tree =100   ## 의사결정 나무의 수\n",
        "forest = RandomForestClassifier(n_estimators=n_tree)\n",
        "forest.fit(x_train, y_train)\n",
        "# 예측\n",
        "y_pred = np.argmax(forest.predict(x_test), axis=1)\n",
        "y_true= np.argmax(y_test, axis=1)\n",
        "print(\"실제\",list(y_true))\n",
        "print(\"예측\",list(y_pred))"
      ],
      "execution_count": 38,
      "outputs": [
        {
          "output_type": "stream",
          "text": [
            "실제 [0, 1, 0, 0, 0, 0, 0, 0, 1, 0, 2, 0, 0, 1, 2, 2, 0, 0, 0, 0, 1, 0, 0, 0, 0, 0, 0, 0, 1, 0, 1, 0, 1, 0, 2, 1, 0, 0, 1, 2, 2, 0, 0, 0, 0, 0, 1, 1, 1, 0, 0, 1, 0, 0, 2, 0, 2, 0, 2, 0, 2, 0, 2, 0, 2, 2, 2, 1, 0, 1, 0, 0, 0, 2, 2, 0, 1, 1, 0, 2, 2, 2, 1, 2, 1, 2, 1, 0, 0, 2, 0, 0, 2, 1, 2, 0, 1, 2, 1, 1, 1, 2, 0, 0, 2, 0, 0, 0, 2, 0, 1, 2, 0, 0, 2, 0, 1, 0, 1, 0, 0, 2, 1, 0, 0, 0, 2, 2, 0, 0, 2, 1, 0, 0, 0, 0, 0, 0, 0, 0, 1, 0, 1, 0, 1, 0, 0, 0, 2, 0]\n",
            "예측 [0, 1, 0, 0, 0, 0, 0, 0, 0, 0, 2, 0, 2, 0, 2, 2, 0, 0, 0, 2, 1, 1, 0, 0, 0, 0, 0, 0, 1, 0, 1, 2, 1, 0, 2, 1, 0, 0, 1, 2, 0, 0, 0, 0, 0, 0, 1, 1, 1, 0, 0, 1, 0, 0, 2, 0, 2, 0, 1, 0, 0, 0, 0, 0, 1, 2, 0, 1, 0, 1, 0, 0, 0, 2, 2, 0, 1, 1, 0, 2, 0, 2, 0, 1, 1, 2, 1, 0, 0, 2, 0, 0, 2, 1, 2, 0, 1, 1, 1, 0, 0, 2, 0, 0, 2, 0, 0, 0, 2, 0, 1, 0, 0, 0, 2, 0, 1, 0, 1, 0, 0, 2, 1, 0, 0, 0, 2, 2, 0, 0, 2, 1, 0, 0, 0, 0, 0, 0, 0, 0, 1, 0, 0, 0, 0, 0, 0, 0, 2, 0]\n"
          ],
          "name": "stdout"
        }
      ]
    },
    {
      "cell_type": "markdown",
      "metadata": {
        "id": "un8zO4RStocB",
        "colab_type": "text"
      },
      "source": [
        "# 검증데이터에 대한 예측력을 살펴보자.\n",
        "랜덤 포레스트는 여러 개의 모형이 collaborate하는 ensemble 모형이므로 예측력이 훨씬 좋아짐을 알 수 있다. How brilliant it is! \n"
      ]
    },
    {
      "cell_type": "code",
      "metadata": {
        "id": "_9pAlXHqrZqB",
        "colab_type": "code",
        "outputId": "4b485d51-0092-4452-edd9-71e711a8bf79",
        "colab": {
          "base_uri": "https://localhost:8080/",
          "height": 143
        }
      },
      "source": [
        "# 정확도 확인\n",
        "acc= metrics.accuracy_score(y_true, y_pred)\n",
        "import matplotlib.pyplot as plt; import numpy as np; from sklearn.metrics import confusion_matrix\n",
        "print(\"훈련 세트 정확도 : {:.3f}\".format(forest.score(x_train,y_train)))\n",
        "print(\"테스트 세트 정확도 : {:.3f}\".format(forest.score(x_test,y_test)))\n",
        "\n",
        "print(\"Confusion Matrix\")\n",
        "print(\"*****************\")\n",
        "print(confusion_matrix(y_true, y_pred))   ## 대각선이 올바른 예측"
      ],
      "execution_count": 39,
      "outputs": [
        {
          "output_type": "stream",
          "text": [
            "훈련 세트 정확도 : 1.000\n",
            "테스트 세트 정확도 : 0.840\n",
            "Confusion Matrix\n",
            "*****************\n",
            "[[78  1  3]\n",
            " [ 7 26  0]\n",
            " [ 6  4 25]]\n"
          ],
          "name": "stdout"
        }
      ]
    },
    {
      "cell_type": "markdown",
      "metadata": {
        "id": "kPPEgrP_ssee",
        "colab_type": "text"
      },
      "source": [
        "# X의 영향력 평가\n",
        "학습된 모형에서 각 특성변수(x)가 클래스(y) 결정에 미치는 영향력을 비율로 표현하여 봅시다. \n"
      ]
    },
    {
      "cell_type": "code",
      "metadata": {
        "id": "FkosCjk1aQ8A",
        "colab_type": "code",
        "colab": {
          "base_uri": "https://localhost:8080/",
          "height": 374
        },
        "outputId": "8e2211c1-22f1-457c-f1e4-81ca56fd1653"
      },
      "source": [
        "xname=['age', 'male=1', 'heavy=1', 'price1', 'price2', 'price3', 'ad1', 'ad2', 'ad3', 'disp1', 'disp2', 'disp3',]\n",
        "importances = list(forest.feature_importances_)\n",
        "feature_list=xname\n",
        "# Import matplotlib for plotting and use magic command for Jupyter Notebooks\n",
        "\n",
        "# Set the style\n",
        "plt.style.use('fivethirtyeight')\n",
        "# list of x locations for plotting\n",
        "x_values = list(range(len(importances)))\n",
        "# Make a bar chart\n",
        "plt.bar(x_values, importances, orientation = 'vertical')\n",
        "# Tick labels for x axis\n",
        "plt.xticks(x_values, feature_list, rotation='vertical')\n",
        "# Axis labels and title\n",
        "plt.ylabel('Importance'); plt.xlabel('Variable'); plt.title('Variable Importances');"
      ],
      "execution_count": 40,
      "outputs": [
        {
          "output_type": "display_data",
          "data": {
            "image/png": "[encoded data removed]",
            "text/plain": [
              "<Figure size 432x288 with 1 Axes>"
            ]
          },
          "metadata": {
            "tags": []
          }
        }
      ]
    },
    {
      "cell_type": "markdown",
      "metadata": {
        "id": "Bj4nfhxIXZqZ",
        "colab_type": "text"
      },
      "source": [
        "# 주어진 X에 대해 y의 클래스를 majority voting으로 예측하여 봅시다"
      ]
    },
    {
      "cell_type": "code",
      "metadata": {
        "id": "Uz_kVT4f7Z4C",
        "colab_type": "code",
        "outputId": "6aa0c876-3365-4739-f7d6-99222e30d686",
        "colab": {
          "base_uri": "https://localhost:8080/",
          "height": 413
        }
      },
      "source": [
        "print(\"age  male  heavy price1 price2 price3 adv1 adv2 adv3  disp1 disp2 disp3\")\n",
        "for i in range(7):\n",
        "    print(x_test[i])\n",
        "    print(\"=======> 이 소비자는\", class_names[y_pred[i]], \"을 살 것으로 예측됩니다\")\n",
        "    print()\n"
      ],
      "execution_count": 41,
      "outputs": [
        {
          "output_type": "stream",
          "text": [
            "age  male  heavy price1 price2 price3 adv1 adv2 adv3  disp1 disp2 disp3\n",
            "[59.    1.    0.    1.59  1.5   1.71  0.    0.    0.    0.    1.    1.  ]\n",
            "=======> 이 소비자는 nabisco 을 살 것으로 예측됩니다\n",
            "\n",
            "[35.    1.    0.    1.79  1.59  1.78  1.    1.    1.    1.    1.    1.  ]\n",
            "=======> 이 소비자는 keebler 을 살 것으로 예측됩니다\n",
            "\n",
            "[42.    0.    0.    1.55  1.47  1.68  0.    1.    0.    1.    1.    1.  ]\n",
            "=======> 이 소비자는 nabisco 을 살 것으로 예측됩니다\n",
            "\n",
            "[56.    0.    1.    1.98  1.35  1.69  1.    1.    1.    1.    0.    0.  ]\n",
            "=======> 이 소비자는 nabisco 을 살 것으로 예측됩니다\n",
            "\n",
            "[25.    0.    0.    1.56  1.39  1.6   1.    1.    0.    1.    0.    1.  ]\n",
            "=======> 이 소비자는 nabisco 을 살 것으로 예측됩니다\n",
            "\n",
            "[30.    0.    1.    1.72  1.64  1.65  0.    0.    0.    0.    1.    1.  ]\n",
            "=======> 이 소비자는 nabisco 을 살 것으로 예측됩니다\n",
            "\n",
            "[45.    1.    0.    1.95  1.82  1.79  1.    0.    0.    0.    1.    1.  ]\n",
            "=======> 이 소비자는 nabisco 을 살 것으로 예측됩니다\n",
            "\n"
          ],
          "name": "stdout"
        }
      ]
    }
  ]
}