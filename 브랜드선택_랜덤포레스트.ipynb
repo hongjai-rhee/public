{
  "nbformat": 4,
  "nbformat_minor": 0,
  "metadata": {
    "colab": {
      "name": "브랜드선택_랜덤포레스트.ipynb",
      "provenance": [],
      "collapsed_sections": [],
      "authorship_tag": "ABX9TyN8TWO+Ams0a5/bk7Bom8Xj",
      "include_colab_link": true
    },
    "kernelspec": {
      "name": "python3",
      "display_name": "Python 3"
    }
  },
  "cells": [
    {
      "cell_type": "markdown",
      "metadata": {
        "id": "view-in-github",
        "colab_type": "text"
      },
      "source": [
        "<a href=\"https://colab.research.google.com/github/hongjai-rhee/public/blob/master/%EB%B8%8C%EB%9E%9C%EB%93%9C%EC%84%A0%ED%83%9D_%EB%9E%9C%EB%8D%A4%ED%8F%AC%EB%A0%88%EC%8A%A4%ED%8A%B8.ipynb\" target=\"_parent\"><img src=\"https://colab.research.google.com/assets/colab-badge.svg\" alt=\"Open In Colab\"/></a>"
      ]
    },
    {
      "cell_type": "markdown",
      "metadata": {
        "id": "bESDjWHNrago",
        "colab_type": "text"
      },
      "source": [
        "# 브랜드 선택모형을 랜덤 포레스트로 돌려보자\n",
        "전에 했던 브랜드 선택과 동일한 데이터, ‘choice500.csv’를 불러온다. \n"
      ]
    },
    {
      "cell_type": "code",
      "metadata": {
        "id": "-6cD75s2rVx1",
        "colab_type": "code",
        "outputId": "68831444-084b-4009-8d44-a1c5acc9f37f",
        "colab": {
          "base_uri": "https://localhost:8080/",
          "height": 179
        }
      },
      "source": [
        "data_file='choice500.csv'    ## 데이터 파일 이름\n",
        "\n",
        "## 필요한 라이브러리 불러오기\n",
        "import pandas as pd; import numpy as np; from keras.models import Sequential; from keras.layers import Dense, Dropout, Activation; import matplotlib.pyplot as plt \n",
        "from sklearn.model_selection import train_test_split; from keras.utils.np_utils import to_categorical;  from matplotlib import style\n",
        "## 데이터 불러오기  \n",
        "dat = pd.read_csv(data_file); \n",
        "print(dat.head())\n",
        "dat = np.array(dat); ncol=dat.shape[1]; nrow=dat.shape[0]\n",
        "x=dat[:,0:ncol-1]; Y=dat[:,ncol-1]-1; y = to_categorical(Y)\n",
        "print(x.shape, y.shape)\n",
        "class_names = ['nabisco', 'keebler', 'sunshine']    ## 브랜드 이름"
      ],
      "execution_count": 83,
      "outputs": [
        {
          "output_type": "stream",
          "text": [
            "   age  male  heavy  price1  price2  price3  ...  ad2  ad3  disp1  disp2  disp3  buy\n",
            "0   63     0      0    1.75    1.30    1.73  ...    1    1      0      1      1    2\n",
            "1   29     1      1    1.65    1.43    1.66  ...    1    1      0      0      1    3\n",
            "2   30     1      1    1.62    1.53    1.76  ...    0    0      1      0      0    1\n",
            "3   53     1      1    1.52    1.53    1.76  ...    0    1      1      1      1    3\n",
            "4   55     0      0    1.83    1.62    1.67  ...    0    1      0      0      0    3\n",
            "\n",
            "[5 rows x 13 columns]\n",
            "(500, 12) (500, 3)\n"
          ],
          "name": "stdout"
        }
      ]
    },
    {
      "cell_type": "markdown",
      "metadata": {
        "id": "XqxOWdDxtTCj",
        "colab_type": "text"
      },
      "source": [
        "# 훈련과 검증 데이터를 분리한 후, 학습을 하고, 예측을 한다."
      ]
    },
    {
      "cell_type": "code",
      "metadata": {
        "id": "8JehHF4GryoT",
        "colab_type": "code",
        "outputId": "66c9c157-6e6b-4d26-d2bb-4e66241aa637",
        "colab": {
          "base_uri": "https://localhost:8080/",
          "height": 73
        }
      },
      "source": [
        "from sklearn.model_selection import train_test_split; import random\n",
        "random.seed(155)\n",
        " \n",
        "# 테스트 데이터 30%\n",
        "x_train, x_test, y_train, y_test = train_test_split(x, y, test_size=0.3)\n",
        "\n",
        "\n",
        "from sklearn.ensemble import RandomForestClassifier\n",
        "from sklearn import metrics    \n",
        " \n",
        "# 학습 진행\n",
        "n_tree =100   ## 의사결정 나무의 수\n",
        "forest = RandomForestClassifier(n_estimators=n_tree)\n",
        "forest.fit(x_train, y_train)\n",
        "# 예측\n",
        "y_pred = np.argmax(forest.predict(x_test), axis=1)\n",
        "y_true= np.argmax(y_test, axis=1)\n",
        "print(\"실제\",list(y_true))\n",
        "print(\"예측\",list(y_pred))"
      ],
      "execution_count": 84,
      "outputs": [
        {
          "output_type": "stream",
          "text": [
            "실제 [2, 2, 0, 2, 1, 1, 1, 1, 0, 0, 0, 2, 2, 1, 2, 1, 1, 2, 1, 2, 1, 1, 2, 1, 0, 0, 0, 0, 0, 1, 0, 0, 1, 0, 0, 2, 1, 0, 0, 2, 0, 0, 2, 1, 0, 2, 0, 2, 1, 0, 0, 0, 1, 0, 0, 0, 0, 1, 0, 1, 0, 0, 2, 0, 0, 0, 0, 2, 0, 2, 0, 0, 0, 2, 0, 0, 0, 2, 0, 0, 0, 0, 1, 0, 0, 1, 1, 0, 0, 0, 1, 1, 0, 0, 2, 2, 0, 2, 0, 0, 0, 2, 0, 2, 2, 0, 2, 1, 0, 0, 2, 1, 2, 2, 1, 0, 0, 0, 0, 1, 1, 1, 2, 0, 1, 2, 0, 2, 1, 0, 1, 2, 0, 0, 1, 0, 2, 0, 1, 0, 0, 0, 0, 2, 2, 1, 0, 0, 2, 0]\n",
            "예측 [2, 0, 0, 2, 1, 0, 1, 1, 0, 0, 0, 2, 2, 1, 0, 1, 1, 0, 1, 0, 1, 1, 2, 1, 1, 0, 0, 0, 0, 1, 0, 0, 1, 0, 0, 0, 0, 0, 0, 2, 2, 0, 2, 0, 0, 0, 0, 2, 0, 0, 0, 0, 1, 0, 0, 0, 0, 1, 0, 0, 2, 0, 2, 0, 0, 0, 0, 2, 0, 2, 0, 0, 0, 2, 0, 0, 0, 1, 0, 0, 0, 0, 0, 0, 0, 1, 0, 0, 0, 0, 1, 0, 0, 0, 1, 2, 0, 2, 0, 0, 0, 2, 0, 2, 1, 0, 0, 1, 0, 0, 0, 1, 2, 0, 1, 0, 0, 0, 2, 1, 1, 1, 0, 0, 1, 2, 0, 2, 1, 0, 1, 2, 0, 0, 1, 1, 2, 2, 1, 0, 0, 2, 0, 1, 2, 1, 2, 0, 2, 2]\n"
          ],
          "name": "stdout"
        }
      ]
    },
    {
      "cell_type": "markdown",
      "metadata": {
        "id": "un8zO4RStocB",
        "colab_type": "text"
      },
      "source": [
        "# 검증데이터에 대한 예측력을 살펴보자.\n",
        "랜덤 포레스트는 여러 개의 모형이 collaborate하는 ensemble 모형이므로 예측력이 훨씬 좋아짐을 알 수 있다. How brilliant it is! \n"
      ]
    },
    {
      "cell_type": "code",
      "metadata": {
        "id": "_9pAlXHqrZqB",
        "colab_type": "code",
        "outputId": "545179ce-f0bc-4665-8578-07dda8f5a6f1",
        "colab": {
          "base_uri": "https://localhost:8080/",
          "height": 143
        }
      },
      "source": [
        "# 정확도 확인\n",
        "acc= metrics.accuracy_score(y_true, y_pred)\n",
        "import matplotlib.pyplot as plt; import numpy as np; from sklearn.metrics import confusion_matrix\n",
        "print(\"훈련 세트 정확도 : {:.3f}\".format(forest.score(x_train,y_train)))\n",
        "print(\"테스트 세트 정확도 : {:.3f}\".format(forest.score(x_test,y_test)))\n",
        "\n",
        "print(\"Confusion Matrix\")\n",
        "print(\"*****************\")\n",
        "print(confusion_matrix(y_true, y_pred))   ## 대각선이 올바른 예측"
      ],
      "execution_count": 85,
      "outputs": [
        {
          "output_type": "stream",
          "text": [
            "훈련 세트 정확도 : 1.000\n",
            "테스트 세트 정확도 : 0.780\n",
            "Confusion Matrix\n",
            "*****************\n",
            "[[68  2  7]\n",
            " [ 8 28  0]\n",
            " [10  4 23]]\n"
          ],
          "name": "stdout"
        }
      ]
    },
    {
      "cell_type": "markdown",
      "metadata": {
        "id": "kPPEgrP_ssee",
        "colab_type": "text"
      },
      "source": [
        "# X의 영향력 평가\n",
        "학습된 모형에서 각 특성변수(x)가 클래스(y) 결정에 미치는 영향력을 비율로 표현하여 봅시다. \n"
      ]
    },
    {
      "cell_type": "code",
      "metadata": {
        "id": "ROwfMpbXnfUm",
        "colab_type": "code",
        "colab": {
          "base_uri": "https://localhost:8080/",
          "height": 333
        },
        "outputId": "2ba6daa5-b93d-48a1-e535-d8a46821b8bf"
      },
      "source": [
        "# 특성 중요도\n",
        "\n",
        "xname=['age', 'male=1', 'heavy=1', 'price1', 'price2', 'price3', 'ad1', 'ad2', 'ad3', 'disp1', 'disp2', 'disp3',]\n",
        "print(\"특성 중요도 : \\n{}\".format(forest.feature_importances_))\n",
        "\n",
        "# 특성 중요도 시각화 하기\n",
        "def plot_feature_importances(model):\n",
        "    n_features = x.shape[1]\n",
        "    plt.barh(range(n_features), model.feature_importances_, align='center')\n",
        "    plt.yticks(np.arange(n_features), xname)\n",
        "    plt.xlabel(\"attr importances\")\n",
        "    plt.ylabel(\"attr\")\n",
        "    plt.ylim(-1, n_features)\n",
        "plt.show()\n",
        "plot_feature_importances(forest)"
      ],
      "execution_count": 86,
      "outputs": [
        {
          "output_type": "stream",
          "text": [
            "특성 중요도 : \n",
            "[0.1031659  0.02410265 0.02178375 0.09531009 0.09366756 0.07676009\n",
            " 0.15522647 0.12856127 0.10718226 0.07204395 0.06131215 0.06088386]\n"
          ],
          "name": "stdout"
        },
        {
          "output_type": "display_data",
          "data": {
            "image/png": "[encoded data removed]",
            "text/plain": [
              "<Figure size 432x288 with 1 Axes>"
            ]
          },
          "metadata": {
            "tags": []
          }
        }
      ]
    },
    {
      "cell_type": "code",
      "metadata": {
        "id": "Uz_kVT4f7Z4C",
        "colab_type": "code",
        "colab": {
          "base_uri": "https://localhost:8080/",
          "height": 413
        },
        "outputId": "9c62e7e9-2617-4c6d-b67a-6fddd161c8d0"
      },
      "source": [
        "print(\"age  male  heavy price1 price2 price3 adv1 adv2 adv3  disp1 disp2 disp3\")\n",
        "for i in range(7):\n",
        "    print(x_test[i])\n",
        "    print(\"=======> 이 소비자는\", class_names[y_pred[i]], \"을 살 것으로 예측됩니다\")\n",
        "    print()\n"
      ],
      "execution_count": 103,
      "outputs": [
        {
          "output_type": "stream",
          "text": [
            "age  male  heavy price1 price2 price3 adv1 adv2 adv3  disp1 disp2 disp3\n",
            "[29.    1.    1.    1.65  1.43  1.66  1.    1.    1.    0.    0.    1.  ]\n",
            "=======> 이 소비자는 sunshine 을 살 것으로 예측됩니다\n",
            "\n",
            "[43.    1.    1.    1.59  1.73  1.64  0.    1.    1.    0.    0.    1.  ]\n",
            "=======> 이 소비자는 nabisco 을 살 것으로 예측됩니다\n",
            "\n",
            "[61.    1.    0.    1.51  1.86  1.67  0.    1.    1.    1.    1.    1.  ]\n",
            "=======> 이 소비자는 nabisco 을 살 것으로 예측됩니다\n",
            "\n",
            "[29.    0.    1.    1.59  1.9   1.76  1.    0.    1.    0.    0.    0.  ]\n",
            "=======> 이 소비자는 sunshine 을 살 것으로 예측됩니다\n",
            "\n",
            "[27.    1.    0.    1.55  1.47  1.67  1.    1.    0.    0.    1.    0.  ]\n",
            "=======> 이 소비자는 keebler 을 살 것으로 예측됩니다\n",
            "\n",
            "[49.    0.    0.    1.5   1.45  1.62  0.    1.    1.    0.    1.    0.  ]\n",
            "=======> 이 소비자는 nabisco 을 살 것으로 예측됩니다\n",
            "\n",
            "[37.    0.    1.    1.87  1.72  1.73  1.    1.    1.    1.    1.    0.  ]\n",
            "=======> 이 소비자는 keebler 을 살 것으로 예측됩니다\n",
            "\n"
          ],
          "name": "stdout"
        }
      ]
    }
  ]
}