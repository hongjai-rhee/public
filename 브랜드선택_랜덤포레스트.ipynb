{
  "nbformat": 4,
  "nbformat_minor": 0,
  "metadata": {
    "colab": {
      "name": "브랜드선택_랜덤포레스트.ipynb",
      "provenance": [],
      "collapsed_sections": [],
      "authorship_tag": "ABX9TyPsirULF8PLbfEfebYQwdIW",
      "include_colab_link": true
    },
    "kernelspec": {
      "name": "python3",
      "display_name": "Python 3"
    }
  },
  "cells": [
    {
      "cell_type": "markdown",
      "metadata": {
        "id": "view-in-github",
        "colab_type": "text"
      },
      "source": [
        "<a href=\"https://colab.research.google.com/github/hongjai-rhee/public/blob/master/%EB%B8%8C%EB%9E%9C%EB%93%9C%EC%84%A0%ED%83%9D_%EB%9E%9C%EB%8D%A4%ED%8F%AC%EB%A0%88%EC%8A%A4%ED%8A%B8.ipynb\" target=\"_parent\"><img src=\"https://colab.research.google.com/assets/colab-badge.svg\" alt=\"Open In Colab\"/></a>"
      ]
    },
    {
      "cell_type": "markdown",
      "metadata": {
        "id": "bESDjWHNrago",
        "colab_type": "text"
      },
      "source": [
        "# 브랜드 선택모형을 랜덤 포레스트로 돌려보자\n",
        "전에 했던 브랜드 선택과 동일한 데이터, ‘choice500.csv’를 불러온다. \n"
      ]
    },
    {
      "cell_type": "code",
      "metadata": {
        "id": "-6cD75s2rVx1",
        "colab_type": "code",
        "colab": {
          "base_uri": "https://localhost:8080/",
          "height": 377
        },
        "outputId": "6df8f8e2-bc53-4ff7-cec1-87a289350a05"
      },
      "source": [
        "data_file='choice500.csv'    ## 데이터 파일 이름\n",
        "\n",
        "## 필요한 라이브러리 불러오기\n",
        "import pandas as pd; import numpy as np; from keras.models import Sequential; from keras.layers import Dense, Dropout, Activation; import matplotlib.pyplot as plt \n",
        "from sklearn.model_selection import train_test_split; from keras.utils.np_utils import to_categorical;  from matplotlib import style\n",
        "\n",
        "## 데이터 불러오기  \n",
        "dat = pd.read_csv(data_file); dat = np.array(dat); ncol=dat.shape[1]; nrow=dat.shape[0]\n",
        "x=dat[:,0:ncol-1]; y=dat[:,ncol-1]-1; y = to_categorical(y)\n",
        "\n",
        "## 데이터 살펴보기  \n",
        "print(np.around(x[0:10,:],2))      # 고객특성(나이, 성별, 헤비유저), 3개 브랜드의 (가격, 광고, 스페셜 디스플레이 여부)\n",
        "print(y[0:10])                     # 선택된 브랜드  \n",
        "class_names = ['nabisco', 'keebler', 'sunshine']    ## 브랜드 이름"
      ],
      "execution_count": 14,
      "outputs": [
        {
          "output_type": "stream",
          "text": [
            "[[29.    1.    1.    1.65  1.43  1.66  1.    1.    1.    0.    0.    1.  ]\n",
            " [30.    1.    1.    1.62  1.53  1.76  0.    0.    0.    1.    0.    0.  ]\n",
            " [53.    1.    1.    1.52  1.53  1.76  1.    0.    1.    1.    1.    1.  ]\n",
            " [55.    0.    0.    1.83  1.62  1.67  1.    0.    1.    0.    0.    0.  ]\n",
            " [57.    0.    0.    1.86  1.63  1.72  1.    0.    0.    0.    1.    1.  ]\n",
            " [31.    0.    1.    1.64  1.85  1.62  0.    0.    1.    1.    1.    0.  ]\n",
            " [30.    1.    0.    1.75  1.67  1.78  1.    1.    1.    0.    0.    1.  ]\n",
            " [37.    1.    1.    1.87  1.37  1.77  1.    1.    0.    1.    1.    1.  ]\n",
            " [44.    1.    0.    1.76  1.9   1.74  0.    0.    1.    0.    1.    0.  ]\n",
            " [26.    1.    1.    1.67  1.39  1.65  0.    0.    1.    1.    1.    1.  ]]\n",
            "[[0. 0. 1.]\n",
            " [1. 0. 0.]\n",
            " [0. 0. 1.]\n",
            " [0. 0. 1.]\n",
            " [1. 0. 0.]\n",
            " [1. 0. 0.]\n",
            " [0. 0. 1.]\n",
            " [0. 1. 0.]\n",
            " [1. 0. 0.]\n",
            " [0. 0. 1.]]\n"
          ],
          "name": "stdout"
        }
      ]
    },
    {
      "cell_type": "markdown",
      "metadata": {
        "id": "XqxOWdDxtTCj",
        "colab_type": "text"
      },
      "source": [
        "# 훈련과 검증 데이터를 분리한 후, 학습을 하고, 예측을 한다."
      ]
    },
    {
      "cell_type": "code",
      "metadata": {
        "id": "8JehHF4GryoT",
        "colab_type": "code",
        "colab": {
          "base_uri": "https://localhost:8080/",
          "height": 73
        },
        "outputId": "60b35add-27a7-4198-9824-7c00bf9e17b2"
      },
      "source": [
        "from sklearn.model_selection import train_test_split; import random\n",
        "random.seed(155)\n",
        " \n",
        "# 테스트 데이터 30%\n",
        "x_train, x_test, y_train, y_test = train_test_split(x, y, test_size=0.3)\n",
        "\n",
        "\n",
        "from sklearn.ensemble import RandomForestClassifier\n",
        "from sklearn import metrics    \n",
        " \n",
        "# 학습 진행\n",
        "n_tree =100   ## 의사결정 나무의 수\n",
        "forest = RandomForestClassifier(n_estimators=n_tree)\n",
        "forest.fit(x_train, y_train)\n",
        "# 예측\n",
        "y_pred = np.argmax(forest.predict(x_test), axis=1)\n",
        "y_true= np.argmax(y_test, axis=1)\n",
        "print(\"실제\",list(y_true))\n",
        "print(\"예측\",list(y_pred))"
      ],
      "execution_count": 15,
      "outputs": [
        {
          "output_type": "stream",
          "text": [
            "실제 [2, 1, 1, 0, 0, 0, 0, 2, 0, 0, 2, 0, 0, 0, 0, 2, 1, 1, 1, 0, 0, 1, 0, 1, 2, 0, 1, 0, 0, 0, 1, 0, 1, 0, 2, 1, 0, 0, 0, 1, 0, 0, 2, 2, 0, 0, 0, 0, 0, 0, 2, 0, 2, 2, 1, 2, 0, 2, 1, 1, 0, 0, 0, 2, 1, 0, 0, 0, 0, 1, 1, 2, 1, 2, 1, 0, 0, 2, 0, 1, 0, 0, 1, 2, 1, 0, 0, 2, 1, 2, 0, 2, 2, 0, 1, 1, 0, 2, 0, 0, 0, 0, 1, 0, 0, 0, 0, 1, 0, 1, 2, 0, 0, 1, 0, 2, 1, 0, 2, 0, 0, 0, 0, 0, 0, 0, 2, 2, 0, 2, 2, 0, 2, 2, 1, 0, 0, 0, 0, 0, 0, 0, 2, 2, 2, 1, 0, 1, 1, 1]\n",
            "예측 [0, 1, 1, 0, 0, 0, 0, 0, 0, 0, 2, 0, 0, 0, 0, 2, 1, 0, 0, 0, 0, 1, 0, 1, 0, 0, 1, 0, 0, 0, 0, 0, 1, 0, 2, 1, 0, 0, 1, 1, 0, 0, 2, 0, 0, 0, 0, 0, 0, 0, 2, 0, 2, 2, 1, 2, 0, 1, 1, 1, 0, 0, 0, 2, 1, 0, 0, 0, 0, 0, 1, 2, 1, 2, 1, 0, 0, 2, 0, 1, 0, 0, 1, 0, 0, 0, 0, 2, 1, 2, 0, 2, 2, 0, 1, 1, 0, 2, 0, 0, 0, 0, 1, 2, 0, 0, 0, 1, 0, 1, 2, 0, 0, 0, 0, 0, 1, 0, 2, 0, 0, 0, 0, 0, 0, 0, 2, 2, 0, 0, 2, 0, 2, 2, 1, 0, 0, 0, 0, 0, 0, 0, 0, 2, 2, 0, 0, 1, 1, 1]\n"
          ],
          "name": "stdout"
        }
      ]
    },
    {
      "cell_type": "markdown",
      "metadata": {
        "id": "un8zO4RStocB",
        "colab_type": "text"
      },
      "source": [
        "# 검증데이터에 대한 예측력을 살펴보자.\n",
        "랜덤 포레스트는 여러 개의 모형이 collaborate하는 ensemble 모형이므로 예측력이 훨씬 좋아짐을 알 수 있다. How brilliant it is! \n"
      ]
    },
    {
      "cell_type": "code",
      "metadata": {
        "id": "_9pAlXHqrZqB",
        "colab_type": "code",
        "colab": {
          "base_uri": "https://localhost:8080/",
          "height": 125
        },
        "outputId": "0def498a-b6fa-4e92-abee-a08a69193d8f"
      },
      "source": [
        "# 정확도 확인\n",
        "acc= metrics.accuracy_score(y_true, y_pred)\n",
        "import matplotlib.pyplot as plt; import numpy as np; from sklearn.metrics import confusion_matrix\n",
        "print(\"test accuracy=\",  np.round(100*acc,2), \"%\")\n",
        "print(\"Confusion Matrix\")\n",
        "print(\"*****************\")\n",
        "print(confusion_matrix(y_true, y_pred))   ## 대각선이 올바른 예측"
      ],
      "execution_count": 16,
      "outputs": [
        {
          "output_type": "stream",
          "text": [
            "test accuracy= 88.0 %\n",
            "Confusion Matrix\n",
            "*****************\n",
            "[[77  1  1]\n",
            " [ 7 29  0]\n",
            " [ 8  1 26]]\n"
          ],
          "name": "stdout"
        }
      ]
    }
  ]
}