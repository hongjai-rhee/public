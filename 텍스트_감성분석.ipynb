{
  "nbformat": 4,
  "nbformat_minor": 0,
  "metadata": {
    "colab": {
      "name": "텍스트_감성분석.ipynb",
      "provenance": [],
      "collapsed_sections": [],
      "authorship_tag": "ABX9TyPABjBYWcOzdK2ICxD6jihF",
      "include_colab_link": true
    },
    "kernelspec": {
      "name": "python3",
      "display_name": "Python 3"
    }
  },
  "cells": [
    {
      "cell_type": "markdown",
      "metadata": {
        "id": "view-in-github",
        "colab_type": "text"
      },
      "source": [
        "<a href=\"https://colab.research.google.com/github/hongjai-rhee/public/blob/master/%ED%85%8D%EC%8A%A4%ED%8A%B8_%EA%B0%90%EC%84%B1%EB%B6%84%EC%84%9D.ipynb\" target=\"_parent\"><img src=\"https://colab.research.google.com/assets/colab-badge.svg\" alt=\"Open In Colab\"/></a>"
      ]
    },
    {
      "cell_type": "markdown",
      "metadata": {
        "id": "5SyFyHRaWMAt",
        "colab_type": "text"
      },
      "source": [
        "#연습데이터 불러오기\n",
        "IMDB의 영화 리뷰 데이터입니다. 이 데이터는 25000개 리뷰에 대한 텍스트(X)와 해당 리뷰가 긍정인 경우 1을 부정인 경우 0으로 표시한 레이블(y)로 구성되어 있습니다. 케라스에서는 해당 IMDB 영화 리뷰 데이터를 imdb.load_data() 함수를 통해 바로 다운로드 할 수 있도록 지원하고 있습니다. 케라스로부터 해당 데이터를 다운로드 받아 감성 분류를 수행하는 모델을 만들어보겠습니다.\n"
      ]
    },
    {
      "cell_type": "code",
      "metadata": {
        "id": "W2VcoEMiXAae",
        "colab_type": "code",
        "colab": {}
      },
      "source": [
        "## 필요한 라이브러리 부르기\n",
        "from keras.datasets import imdb; import numpy as np; from keras import models, layers; import matplotlib.pyplot as plt\n",
        "import matplotlib.pyplot as plt; from matplotlib import style\n",
        "## 리뷰에 자주 나오는 K개의 단어만 사용하기\n",
        "K=10000\n",
        "(train_data, train_labels), (test_data, test_labels) = imdb.load_data(num_words=K) # 50% test, 50% train\n"
      ],
      "execution_count": 0,
      "outputs": []
    },
    {
      "cell_type": "markdown",
      "metadata": {
        "id": "eNNvp4vjG6Oa",
        "colab_type": "text"
      },
      "source": [
        "# 이제 단어와 숫자가 매핑되어 있는 사전을 불러오겠습니다. "
      ]
    },
    {
      "cell_type": "code",
      "metadata": {
        "id": "Tq-nN6uAGSIn",
        "colab_type": "code",
        "colab": {
          "base_uri": "https://localhost:8080/",
          "height": 899
        },
        "outputId": "7d7d9faf-fd5f-449b-9f11-01e34b3814a4"
      },
      "source": [
        "\n",
        "## 사전 읽어오기 (빈도순 정렬) \n",
        "word2num = imdb.get_word_index()\n",
        "num2word = dict([(value, key) for (key, value) in word2num.items()])  # 숫자를 단어로 \n",
        "num2word[256]\n",
        "num2word = dict([(value, key) for (key, value) in word2num.items()])  # 단어를 숫자로\n",
        "for i in range(1,50,1) :  print(i,num2word[i])   ## 빈도순으로 단어 출력"
      ],
      "execution_count": 38,
      "outputs": [
        {
          "output_type": "stream",
          "text": [
            "1 the\n",
            "2 and\n",
            "3 a\n",
            "4 of\n",
            "5 to\n",
            "6 is\n",
            "7 br\n",
            "8 in\n",
            "9 it\n",
            "10 i\n",
            "11 this\n",
            "12 that\n",
            "13 was\n",
            "14 as\n",
            "15 for\n",
            "16 with\n",
            "17 movie\n",
            "18 but\n",
            "19 film\n",
            "20 on\n",
            "21 not\n",
            "22 you\n",
            "23 are\n",
            "24 his\n",
            "25 have\n",
            "26 he\n",
            "27 be\n",
            "28 one\n",
            "29 all\n",
            "30 at\n",
            "31 by\n",
            "32 an\n",
            "33 they\n",
            "34 who\n",
            "35 so\n",
            "36 from\n",
            "37 like\n",
            "38 her\n",
            "39 or\n",
            "40 just\n",
            "41 about\n",
            "42 it's\n",
            "43 out\n",
            "44 has\n",
            "45 if\n",
            "46 some\n",
            "47 there\n",
            "48 what\n",
            "49 good\n"
          ],
          "name": "stdout"
        }
      ]
    },
    {
      "cell_type": "markdown",
      "metadata": {
        "colab_type": "text",
        "id": "-luIWmwqcmfq"
      },
      "source": [
        "# 리뷰 테스트의 각 단어는 dictionary의 정수값으로 매핑 되어 있습니다. \n",
        "num2word를 사용하여 다시 텍스트로 표현할 수도 있습니다. \n"
      ]
    },
    {
      "cell_type": "code",
      "metadata": {
        "id": "aYjohkeNWLYc",
        "colab_type": "code",
        "outputId": "19783713-ed93-4265-c687-8212093973e9",
        "colab": {
          "base_uri": "https://localhost:8080/",
          "height": 487
        }
      },
      "source": [
        "print(train_data[0])\n",
        "ex=train_data[0]\n",
        "for i in range(1,25,1) :  print(num2word[ex[i]-3])"
      ],
      "execution_count": 39,
      "outputs": [
        {
          "output_type": "stream",
          "text": [
            "[1, 14, 22, 16, 43, 530, 973, 1622, 1385, 65, 458, 4468, 66, 3941, 4, 173, 36, 256, 5, 25, 100, 43, 838, 112, 50, 670, 2, 9, 35, 480, 284, 5, 150, 4, 172, 112, 167, 2, 336, 385, 39, 4, 172, 4536, 1111, 17, 546, 38, 13, 447, 4, 192, 50, 16, 6, 147, 2025, 19, 14, 22, 4, 1920, 4613, 469, 4, 22, 71, 87, 12, 16, 43, 530, 38, 76, 15, 13, 1247, 4, 22, 17, 515, 17, 12, 16, 626, 18, 2, 5, 62, 386, 12, 8, 316, 8, 106, 5, 4, 2223, 5244, 16, 480, 66, 3785, 33, 4, 130, 12, 16, 38, 619, 5, 25, 124, 51, 36, 135, 48, 25, 1415, 33, 6, 22, 12, 215, 28, 77, 52, 5, 14, 407, 16, 82, 2, 8, 4, 107, 117, 5952, 15, 256, 4, 2, 7, 3766, 5, 723, 36, 71, 43, 530, 476, 26, 400, 317, 46, 7, 4, 2, 1029, 13, 104, 88, 4, 381, 15, 297, 98, 32, 2071, 56, 26, 141, 6, 194, 7486, 18, 4, 226, 22, 21, 134, 476, 26, 480, 5, 144, 30, 5535, 18, 51, 36, 28, 224, 92, 25, 104, 4, 226, 65, 16, 38, 1334, 88, 12, 16, 283, 5, 16, 4472, 113, 103, 32, 15, 16, 5345, 19, 178, 32]\n",
            "this\n",
            "film\n",
            "was\n",
            "just\n",
            "brilliant\n",
            "casting\n",
            "location\n",
            "scenery\n",
            "story\n",
            "direction\n",
            "everyone's\n",
            "really\n",
            "suited\n",
            "the\n",
            "part\n",
            "they\n",
            "played\n",
            "and\n",
            "you\n",
            "could\n",
            "just\n",
            "imagine\n",
            "being\n",
            "there\n"
          ],
          "name": "stdout"
        }
      ]
    },
    {
      "cell_type": "markdown",
      "metadata": {
        "id": "HDDhdz6fduFE",
        "colab_type": "text"
      },
      "source": [
        ""
      ]
    },
    {
      "cell_type": "markdown",
      "metadata": {
        "colab_type": "text",
        "id": "w-1jV9U-dud2"
      },
      "source": [
        "# 텍스트 정수벡터를 1만개의 단어에 대한 one-hot 코드로 만들고(단어의 위치에 1) \n",
        "# 레이블 y도 one-hot 핫코드로 변환합니다(긍정이면 (1,0).  부정이면 (0,1))\n",
        " \n"
      ]
    },
    {
      "cell_type": "code",
      "metadata": {
        "id": "ayZ_UmDRdvCa",
        "colab_type": "code",
        "outputId": "4baad34b-f125-44b4-a362-747c35c0a11d",
        "colab": {
          "base_uri": "https://localhost:8080/",
          "height": 35
        }
      },
      "source": [
        "## 원핫코드 만들기 \n",
        "def vectorize_sequences(sequences, dimension=10000):\n",
        "    # 크기가 (len(sequences), dimension)이고 모든 원소가 0인 행렬을 만듭니다.\n",
        "    results = np.zeros((len(sequences), dimension))\n",
        "    for i, sequence in enumerate(sequences):\n",
        "        results[i, sequence] = 1. # results[i]에서 특정 인덱스의 위치를 1로 만듭니다.\n",
        "    return results\n",
        "\n",
        "x_train = vectorize_sequences(train_data) # 훈련 데이터를 벡터로 변환합니다.\n",
        "x_test = vectorize_sequences(test_data) # 테스트 데이터를 벡터로 변환합니다\n",
        "y_train = np.asarray(train_labels).astype('float32')\n",
        "y_test = np.asarray(test_labels).astype('float32')\n",
        "print(x_train[33,0:20])                # 센턴스에 있는 단어는 1, 없는 단어는 0.. 빈도는 고려하지 않음 \n",
        "\n",
        "y_test1=1-y_test\n",
        "yy_test=np.transpose(np.vstack([y_test, y_test1]))\n",
        "y_train1=1-y_train\n",
        "yy_train=np.transpose(np.vstack([y_train, y_train1]))"
      ],
      "execution_count": 40,
      "outputs": [
        {
          "output_type": "stream",
          "text": [
            "[0. 1. 1. 0. 1. 1. 1. 1. 1. 1. 0. 1. 1. 1. 1. 1. 1. 0. 1. 0.]\n"
          ],
          "name": "stdout"
        }
      ]
    },
    {
      "cell_type": "markdown",
      "metadata": {
        "id": "J-HzcRUrfK5B",
        "colab_type": "text"
      },
      "source": [
        "# 분류 모형을 만들어 실행시킵니다.\n",
        "가장 간단한 단층 Dense모형을 사용해보겠습니다. \n",
        " \n"
      ]
    },
    {
      "cell_type": "code",
      "metadata": {
        "id": "PAmevC9GfJc8",
        "colab_type": "code",
        "outputId": "6d9733e0-eca6-459b-8ab3-876c64768868",
        "colab": {
          "base_uri": "https://localhost:8080/",
          "height": 395
        }
      },
      "source": [
        "\n",
        "EPOCH=10\n",
        "BATCH=512\n",
        "\n",
        "#모형 만들기\n",
        "model = models.Sequential()\n",
        "#model.add(layers.Dense(10, activation='relu', input_shape=(10000,)))\n",
        "#model.add(layers.Dense(16, activation='relu'))\n",
        "model.add(layers.Dense(2, input_shape=(10000,), activation='softmax'))\n",
        "model.compile(optimizer='rmsprop',loss='binary_crossentropy', metrics=['accuracy'])\n",
        "\n",
        "x_val = x_train[:10000]; partial_x_train = x_train[10000:]; y_val = yy_train[:10000]; partial_y_train = yy_train[10000:]\n",
        "\n",
        "model.compile(optimizer='rmsprop', loss='binary_crossentropy',metrics=['acc'])\n",
        "history = model.fit(partial_x_train, partial_y_train, epochs=EPOCH, batch_size=BATCH, validation_data=(x_val, y_val))\n",
        "\n",
        "history_dict = history.history; loss = history_dict['loss']; acc = history_dict['acc']; val_acc = history_dict['val_acc']\n"
      ],
      "execution_count": 41,
      "outputs": [
        {
          "output_type": "stream",
          "text": [
            "Train on 15000 samples, validate on 10000 samples\n",
            "Epoch 1/10\n",
            "15000/15000 [==============================] - 2s 112us/step - loss: 0.5631 - acc: 0.7789 - val_loss: 0.5000 - val_acc: 0.8045\n",
            "Epoch 2/10\n",
            "15000/15000 [==============================] - 1s 89us/step - loss: 0.4305 - acc: 0.8725 - val_loss: 0.4152 - val_acc: 0.8631\n",
            "Epoch 3/10\n",
            "15000/15000 [==============================] - 1s 88us/step - loss: 0.3624 - acc: 0.8945 - val_loss: 0.3739 - val_acc: 0.8709\n",
            "Epoch 4/10\n",
            "15000/15000 [==============================] - 1s 88us/step - loss: 0.3166 - acc: 0.9077 - val_loss: 0.3433 - val_acc: 0.8810\n",
            "Epoch 5/10\n",
            "15000/15000 [==============================] - 1s 89us/step - loss: 0.2838 - acc: 0.9156 - val_loss: 0.3232 - val_acc: 0.8853\n",
            "Epoch 6/10\n",
            "15000/15000 [==============================] - 1s 90us/step - loss: 0.2585 - acc: 0.9245 - val_loss: 0.3092 - val_acc: 0.8874\n",
            "Epoch 7/10\n",
            "15000/15000 [==============================] - 1s 90us/step - loss: 0.2385 - acc: 0.9307 - val_loss: 0.2998 - val_acc: 0.8893\n",
            "Epoch 8/10\n",
            "15000/15000 [==============================] - 1s 89us/step - loss: 0.2223 - acc: 0.9370 - val_loss: 0.2914 - val_acc: 0.8883\n",
            "Epoch 9/10\n",
            "15000/15000 [==============================] - 1s 88us/step - loss: 0.2086 - acc: 0.9401 - val_loss: 0.2860 - val_acc: 0.8892\n",
            "Epoch 10/10\n",
            "15000/15000 [==============================] - 1s 89us/step - loss: 0.1967 - acc: 0.9445 - val_loss: 0.2842 - val_acc: 0.8893\n"
          ],
          "name": "stdout"
        }
      ]
    },
    {
      "cell_type": "markdown",
      "metadata": {
        "id": "hEDjvd4efx26",
        "colab_type": "text"
      },
      "source": [
        "# 학습에 따른 정확도의 변화를 그림으로 표시해봅시다. "
      ]
    },
    {
      "cell_type": "code",
      "metadata": {
        "id": "-EzWwHeBf6Hb",
        "colab_type": "code",
        "outputId": "48b875ac-e6fa-4f3f-df56-8ca9f0419765",
        "colab": {
          "base_uri": "https://localhost:8080/",
          "height": 280
        }
      },
      "source": [
        "epoch=range(0,EPOCH,1)\n",
        "plt.plot(epoch, acc, label='Accuracy (%)')\n",
        "plt.xlabel('Epochs'); plt.ylabel('Accuracy'); plt.show()\n",
        "\n"
      ],
      "execution_count": 42,
      "outputs": [
        {
          "output_type": "display_data",
          "data": {
            "image/png": "[encoded data removed]",
            "text/plain": [
              "<Figure size 432x288 with 1 Axes>"
            ]
          },
          "metadata": {
            "tags": []
          }
        }
      ]
    },
    {
      "cell_type": "markdown",
      "metadata": {
        "id": "C1gUcZ-1hBxc",
        "colab_type": "text"
      },
      "source": [
        "# 테스트 셋에 있는 3개 리뷰의 예측결과를 살펴봅시다. "
      ]
    },
    {
      "cell_type": "code",
      "metadata": {
        "id": "ohPtgFVfhCLz",
        "colab_type": "code",
        "outputId": "34dc59c2-5fd3-40c9-fce0-2c658f4a6496",
        "colab": {
          "base_uri": "https://localhost:8080/",
          "height": 277
        }
      },
      "source": [
        "\n",
        "## 7. 예측결과 시각화  \n",
        "class_names=('negative', 'positive')\n",
        "pt=model.predict(x_train)\n",
        "\n",
        "plt.figure(figsize=(15,15))\n",
        "for i in range(3) :\n",
        "    ratio = pt[i]; plt.subplot(1,3,i+1); plt.xticks([]); plt.yticks([]); plt.grid(False)\n",
        "    plt.pie(ratio, labels=class_names, shadow=True, startangle=90, autopct='%0.1f%%')\n",
        "plt.show()\n",
        "## EOFF"
      ],
      "execution_count": 45,
      "outputs": [
        {
          "output_type": "display_data",
          "data": {
            "image/png": "[encoded data removed]",
            "text/plain": [
              "<Figure size 1080x1080 with 3 Axes>"
            ]
          },
          "metadata": {
            "tags": []
          }
        }
      ]
    }
  ]
}