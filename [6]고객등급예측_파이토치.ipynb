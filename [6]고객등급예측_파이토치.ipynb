{
  "nbformat": 4,
  "nbformat_minor": 0,
  "metadata": {
    "colab": {
      "name": "[6]고객등급예측_파이토치.ipynb",
      "provenance": [],
      "collapsed_sections": [],
      "authorship_tag": "ABX9TyNUHA/KBK4btpx6+bCOxANV",
      "include_colab_link": true
    },
    "kernelspec": {
      "name": "python3",
      "display_name": "Python 3"
    },
    "accelerator": "GPU"
  },
  "cells": [
    {
      "cell_type": "markdown",
      "metadata": {
        "id": "view-in-github",
        "colab_type": "text"
      },
      "source": [
        "<a href=\"https://colab.research.google.com/github/hongjai-rhee/public/blob/master/%5B6%5D%EA%B3%A0%EA%B0%9D%EB%93%B1%EA%B8%89%EC%98%88%EC%B8%A1_%ED%8C%8C%EC%9D%B4%ED%86%A0%EC%B9%98.ipynb\" target=\"_parent\"><img src=\"https://colab.research.google.com/assets/colab-badge.svg\" alt=\"Open In Colab\"/></a>"
      ]
    },
    {
      "cell_type": "markdown",
      "metadata": {
        "id": "ehk8WEVTD-Ir",
        "colab_type": "text"
      },
      "source": [
        "![image.png](data:image/png;base64,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)"
      ]
    },
    {
      "cell_type": "markdown",
      "metadata": {
        "id": "rk5GGtCC0i6q",
        "colab_type": "text"
      },
      "source": [
        "# 고객특성을 보고 등급을 예측하여 보자"
      ]
    },
    {
      "cell_type": "code",
      "metadata": {
        "id": "53mLHAkA0bkn",
        "colab_type": "code",
        "colab": {}
      },
      "source": [
        "## 필요한 라이브러리 불러오기\n",
        "import pandas as pd; import numpy as np; import matplotlib.pyplot as plt \n",
        "from sklearn.model_selection import train_test_split;  from matplotlib import style\n",
        "\n",
        "from torch.autograd import Variable\n",
        "from __future__ import print_function; from torch import nn, optim, cuda, tensor\n",
        "from torch.utils import data; from torchvision import datasets, transforms\n",
        "import torch.nn.functional as F ; import time\n",
        "from sklearn.metrics import accuracy_score, precision_score, recall_score\n",
        "import torch; from torch.autograd import Variable"
      ],
      "execution_count": 0,
      "outputs": []
    },
    {
      "cell_type": "markdown",
      "metadata": {
        "id": "dIEXgmzV1Kt_",
        "colab_type": "text"
      },
      "source": [
        "# ‘customer1500.csv’ 파일을 구글 드라이브에 마운트 한 다음 데이터 파일을 불러오자\n",
        "\n",
        "\n"
      ]
    },
    {
      "cell_type": "code",
      "metadata": {
        "id": "mAmy7SMublX4",
        "colab_type": "code",
        "outputId": "1d7e561e-3759-4794-89b0-e50fd46d40c6",
        "colab": {
          "base_uri": "https://localhost:8080/",
          "height": 35
        }
      },
      "source": [
        "dat = np.array(pd.read_csv('customer1500.csv'))\n",
        "\n",
        "y=dat[:,0]; x=dat[:,1:65] #  y=3개의 고객상태 label(0/1/2), x=64개의 특성벡터\n",
        "class_names = ['buy NONE', 'buy SMALL', 'buy BIG']   \n",
        "\n",
        "## 훈련과 검증셋으로 나누기\n",
        "x_train=x[0:1000,]; x_test=x[1000:1499,]\n",
        "y_train=y[0:1000,]; y_test=y[1000:1499,]\n",
        "\n",
        "# 토치 모맷으로 데이터 바꾸기\n",
        "x_train = Variable(torch.Tensor(x_train).float())\n",
        "x_test = Variable(torch.Tensor(x_test).float())\n",
        "y_train = Variable(torch.Tensor(y_train).long())   ## long =정수\n",
        "y_test = Variable(torch.Tensor(y_test).long())\n",
        "\n",
        "print(x_train.shape, y_train.shape)"
      ],
      "execution_count": 45,
      "outputs": [
        {
          "output_type": "stream",
          "text": [
            "torch.Size([1000, 64]) torch.Size([1000])\n"
          ],
          "name": "stdout"
        }
      ]
    },
    {
      "cell_type": "markdown",
      "metadata": {
        "id": "Ij5zZbTscCDY",
        "colab_type": "text"
      },
      "source": [
        "# 모형 설정"
      ]
    },
    {
      "cell_type": "code",
      "metadata": {
        "id": "ukl4U4Jo0SAs",
        "colab_type": "code",
        "colab": {}
      },
      "source": [
        "class Net(nn.Module):\n",
        "\n",
        "    def __init__(self):    ## 레이어 구조 설정 (뉴론의 수)\n",
        "        super(Net, self).__init__()\n",
        "        #self.l1 = nn.Linear(64, 20)   ## 다양한 층으로 구성가능하다  \n",
        "        #self.l2 = nn.Linear(20, 10)    \n",
        "        #self.l3 = nn.Linear(10, 6)    \n",
        "        #self.l4 = nn.Linear(6, 4)    \n",
        "        self.l5 = nn.Linear(64, 3)    ## 아웃풋레이어\n",
        "\n",
        "    def forward(self, x):  ## 연산방법과 활성화함수 설정\n",
        "        #x = F.relu(self.l1(x))\n",
        "        #x = F.relu(self.l2(x))\n",
        "        #x = F.relu(self.l3(x))\n",
        "        #x = F.relu(self.l4(x))\n",
        "        return self.l5(x)               ## no softmax here\n",
        "\n",
        "model = Net()\n",
        "\n",
        "criterion = nn.CrossEntropyLoss()    ## 손실함수 지정\n",
        "optimizer = optim.SGD(model.parameters(), lr=0.01, momentum=0.5)   ## 최적화모듈 지정\n"
      ],
      "execution_count": 0,
      "outputs": []
    },
    {
      "cell_type": "markdown",
      "metadata": {
        "id": "qrIhVJSH9zTY",
        "colab_type": "text"
      },
      "source": [
        "# 학습 실행"
      ]
    },
    {
      "cell_type": "code",
      "metadata": {
        "id": "Zkq-RyvhvmRc",
        "colab_type": "code",
        "outputId": "5324902d-d58d-447d-a008-5c96fabee20d",
        "colab": {
          "base_uri": "https://localhost:8080/",
          "height": 971
        }
      },
      "source": [
        "nb_epochs = 5000   # 학습횟수, 배치=all\n",
        "\n",
        "for epoch in range(nb_epochs + 1):\n",
        "    hypothesis = model(x_train)            # f(x) 계산\n",
        "    loss = criterion(hypothesis, y_train)  # loss 계산\n",
        "    loss.backward()                        # 백프로파게이션 for gradient\n",
        "    optimizer.step()                       # 파라미터 업데이트 \n",
        "    running_loss = loss.item()\n",
        "\n",
        "    if epoch % 100 == 0:\n",
        "        print('number of epoch=','[%d] loss: %.3f' %\n",
        "                  ( epoch + 1,running_loss))\n",
        "        running_loss = 0.0\n",
        "\n",
        "## 츨력사항 지정\n",
        "predict_out = model(x_test)\n",
        "_, predict_y = torch.max(predict_out, 1)\n",
        "print('===================>>>>>>')\n",
        "print('test-set prediction accuracy = ', np.round(100*accuracy_score(y_test.data, predict_y.data),2), \"%\")"
      ],
      "execution_count": 56,
      "outputs": [
        {
          "output_type": "stream",
          "text": [
            "number of epoch= [1] loss: 0.000\n",
            "number of epoch= [101] loss: 0.000\n",
            "number of epoch= [201] loss: 0.000\n",
            "number of epoch= [301] loss: 0.000\n",
            "number of epoch= [401] loss: 0.000\n",
            "number of epoch= [501] loss: 0.020\n",
            "number of epoch= [601] loss: 0.057\n",
            "number of epoch= [701] loss: 0.057\n",
            "number of epoch= [801] loss: 0.018\n",
            "number of epoch= [901] loss: 0.036\n",
            "number of epoch= [1001] loss: 0.058\n",
            "number of epoch= [1101] loss: 0.069\n",
            "number of epoch= [1201] loss: 0.067\n",
            "number of epoch= [1301] loss: 0.053\n",
            "number of epoch= [1401] loss: 0.026\n",
            "number of epoch= [1501] loss: 0.000\n",
            "number of epoch= [1601] loss: 0.000\n",
            "number of epoch= [1701] loss: 0.000\n",
            "number of epoch= [1801] loss: 0.013\n",
            "number of epoch= [1901] loss: 0.025\n",
            "number of epoch= [2001] loss: 0.024\n",
            "number of epoch= [2101] loss: 0.010\n",
            "number of epoch= [2201] loss: 0.000\n",
            "number of epoch= [2301] loss: 0.000\n",
            "number of epoch= [2401] loss: 0.000\n",
            "number of epoch= [2501] loss: 0.005\n",
            "number of epoch= [2601] loss: 0.012\n",
            "number of epoch= [2701] loss: 0.007\n",
            "number of epoch= [2801] loss: 0.000\n",
            "number of epoch= [2901] loss: 0.000\n",
            "number of epoch= [3001] loss: 0.000\n",
            "number of epoch= [3101] loss: 0.000\n",
            "number of epoch= [3201] loss: 0.007\n",
            "number of epoch= [3301] loss: 0.008\n",
            "number of epoch= [3401] loss: 0.000\n",
            "number of epoch= [3501] loss: 0.001\n",
            "number of epoch= [3601] loss: 0.015\n",
            "number of epoch= [3701] loss: 0.063\n",
            "number of epoch= [3801] loss: 0.079\n",
            "number of epoch= [3901] loss: 0.064\n",
            "number of epoch= [4001] loss: 0.049\n",
            "number of epoch= [4101] loss: 0.025\n",
            "number of epoch= [4201] loss: 0.023\n",
            "number of epoch= [4301] loss: 0.034\n",
            "number of epoch= [4401] loss: 0.034\n",
            "number of epoch= [4501] loss: 0.034\n",
            "number of epoch= [4601] loss: 0.015\n",
            "number of epoch= [4701] loss: 0.000\n",
            "number of epoch= [4801] loss: 0.000\n",
            "number of epoch= [4901] loss: 0.009\n",
            "number of epoch= [5001] loss: 0.016\n",
            "===================>>>>>>\n",
            "test-set prediction accuracy =  91.58 %\n"
          ],
          "name": "stdout"
        }
      ]
    },
    {
      "cell_type": "markdown",
      "metadata": {
        "id": "RmCrnfwDFyBh",
        "colab_type": "text"
      },
      "source": [
        "# 예측하기"
      ]
    },
    {
      "cell_type": "code",
      "metadata": {
        "id": "WBRs7XDL-88z",
        "colab_type": "code",
        "colab": {
          "base_uri": "https://localhost:8080/",
          "height": 143
        },
        "outputId": "a270224e-2f27-4e0c-a39d-13d75f5c0efe"
      },
      "source": [
        "# 예측하기 \n",
        "i=29\n",
        "x_new= x_test[i]; \n",
        "print('x=', x_new.data)\n",
        "yhat = F.softmax(model(x_new),0)\n",
        "print()\n",
        "print('y=', torch.argmax(yhat))\n",
        "print('Expected probability=', yhat.data)\n",
        "#EOF"
      ],
      "execution_count": 63,
      "outputs": [
        {
          "output_type": "stream",
          "text": [
            "x= tensor([1., 1., 1., 1., 0., 0., 0., 1., 0., 1., 1., 1., 0., 1., 1., 0., 0., 0.,\n",
            "        0., 0., 0., 0., 0., 1., 1., 1., 0., 0., 0., 1., 0., 0., 1., 1., 0., 1.,\n",
            "        1., 1., 1., 0., 1., 0., 1., 0., 1., 0., 1., 1., 0., 1., 1., 1., 1., 0.,\n",
            "        1., 0., 1., 0., 0., 0., 1., 0., 0., 1.])\n",
            "\n",
            "y= tensor(2)\n",
            "Expected probability= tensor([0., 0., 1.])\n"
          ],
          "name": "stdout"
        }
      ]
    }
  ]
}