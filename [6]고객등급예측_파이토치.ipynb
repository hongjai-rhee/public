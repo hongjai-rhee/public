{
  "nbformat": 4,
  "nbformat_minor": 0,
  "metadata": {
    "colab": {
      "name": "[6]고객등급예측_파이토치.ipynb",
      "provenance": [],
      "collapsed_sections": [],
      "toc_visible": true,
      "authorship_tag": "ABX9TyPQ3scwcdIgv6MsVrDfUebE",
      "include_colab_link": true
    },
    "kernelspec": {
      "name": "python3",
      "display_name": "Python 3"
    },
    "accelerator": "GPU"
  },
  "cells": [
    {
      "cell_type": "markdown",
      "metadata": {
        "id": "view-in-github",
        "colab_type": "text"
      },
      "source": [
        "<a href=\"https://colab.research.google.com/github/hongjai-rhee/public/blob/master/%5B6%5D%EA%B3%A0%EA%B0%9D%EB%93%B1%EA%B8%89%EC%98%88%EC%B8%A1_%ED%8C%8C%EC%9D%B4%ED%86%A0%EC%B9%98.ipynb\" target=\"_parent\"><img src=\"https://colab.research.google.com/assets/colab-badge.svg\" alt=\"Open In Colab\"/></a>"
      ]
    },
    {
      "cell_type": "markdown",
      "metadata": {
        "id": "rk5GGtCC0i6q",
        "colab_type": "text"
      },
      "source": [
        "# 고객의 이미지로 등급을 예측하여 보자"
      ]
    },
    {
      "cell_type": "code",
      "metadata": {
        "id": "53mLHAkA0bkn",
        "colab_type": "code",
        "outputId": "f1a23aa5-d085-4079-fbad-eb5642875d99",
        "colab": {
          "base_uri": "https://localhost:8080/",
          "height": 100
        }
      },
      "source": [
        "## 필요한 라이브러리 불러오기\n",
        "import pandas as pd; import numpy as np; from keras.models import Sequential; from keras.layers import Dense, Dropout, Activation; import matplotlib.pyplot as plt \n",
        "from sklearn.model_selection import train_test_split; from keras.utils.np_utils import to_categorical;  from matplotlib import style\n",
        "import cv2; from google.colab.patches import cv2_imshow\n",
        "\n",
        "!git clone https://github.com/hongjai-rhee/public.git"
      ],
      "execution_count": 1,
      "outputs": [
        {
          "output_type": "stream",
          "text": [
            "Using TensorFlow backend.\n"
          ],
          "name": "stderr"
        },
        {
          "output_type": "display_data",
          "data": {
            "text/html": [
              "<p style=\"color: red;\">\n",
              "The default version of TensorFlow in Colab will soon switch to TensorFlow 2.x.<br>\n",
              "We recommend you <a href=\"https://www.tensorflow.org/guide/migrate\" target=\"_blank\">upgrade</a> now \n",
              "or ensure your notebook will continue to use TensorFlow 1.x via the <code>%tensorflow_version 1.x</code> magic:\n",
              "<a href=\"https://colab.research.google.com/notebooks/tensorflow_version.ipynb\" target=\"_blank\">more info</a>.</p>\n"
            ],
            "text/plain": [
              "<IPython.core.display.HTML object>"
            ]
          },
          "metadata": {
            "tags": []
          }
        },
        {
          "output_type": "stream",
          "text": [
            "fatal: destination path 'public' already exists and is not an empty directory.\n"
          ],
          "name": "stdout"
        }
      ]
    },
    {
      "cell_type": "code",
      "metadata": {
        "id": "7ycRe38WLKkC",
        "colab_type": "code",
        "colab": {}
      },
      "source": [
        "# https://github.com/pytorch/examples/blob/master/mnist/main.py\n",
        "from __future__ import print_function; from torch import nn, optim, cuda, tensor\n",
        "from torch.utils import data; from torchvision import datasets, transforms\n",
        "import torch.nn.functional as F ; import time"
      ],
      "execution_count": 0,
      "outputs": []
    },
    {
      "cell_type": "markdown",
      "metadata": {
        "id": "dIEXgmzV1Kt_",
        "colab_type": "text"
      },
      "source": [
        "# ‘customer1500.csv’ 파일을 구글 드라이브에 마운트 한 다음 데이터 파일을 불러오자\n",
        "\n",
        "\n"
      ]
    },
    {
      "cell_type": "code",
      "metadata": {
        "id": "mAmy7SMublX4",
        "colab_type": "code",
        "colab": {
          "base_uri": "https://localhost:8080/",
          "height": 35
        },
        "outputId": "76e4031e-349f-4369-bfd1-d5106271307c"
      },
      "source": [
        "dat = tensor(np.array(pd.read_csv('customer1500.csv')))\n",
        "dat.shape"
      ],
      "execution_count": 22,
      "outputs": [
        {
          "output_type": "execute_result",
          "data": {
            "text/plain": [
              "torch.Size([1499, 65])"
            ]
          },
          "metadata": {
            "tags": []
          },
          "execution_count": 22
        }
      ]
    },
    {
      "cell_type": "markdown",
      "metadata": {
        "id": "Ij5zZbTscCDY",
        "colab_type": "text"
      },
      "source": [
        "# 데이터 로드를 학습"
      ]
    },
    {
      "cell_type": "code",
      "metadata": {
        "id": "-idMFvVB1FBu",
        "colab_type": "code",
        "colab": {
          "base_uri": "https://localhost:8080/",
          "height": 143
        },
        "outputId": "fd52eec7-2634-4f0f-e2e2-4719c87cb62f"
      },
      "source": [
        "dat = tensor(np.array(pd.read_csv('customer1500.csv')))\n",
        "\n",
        "y=dat[:,0]; x=dat[:,1:65] # x= image(8*8), y=고객상태 label\n",
        "x=tensor(x); y=tensor(y)\n",
        "\n",
        "\n",
        "train_dataset = datasets.MNIST(root='./mnist_data/',\n",
        "                               train=True,\n",
        "                               transform=transforms.ToTensor(),\n",
        "                               download=True)\n",
        "\n",
        "test_dataset = datasets.MNIST(root='./mnist_data/',\n",
        "                              train=False,\n",
        "                              transform=transforms.ToTensor())    \n",
        "\n",
        "# Data Loader (배치 사이즈에 맞도록 데이터 정리)\n",
        "train_loader = data.DataLoader(dataset=train_dataset, batch_size=batch_size, shuffle=True)\n",
        "test_loader = data.DataLoader(dataset=test_dataset,batch_size=batch_size, shuffle=False)"
      ],
      "execution_count": 11,
      "outputs": [
        {
          "output_type": "execute_result",
          "data": {
            "text/plain": [
              "tensor([[0, 0, 0,  ..., 0, 0, 0],\n",
              "        [0, 1, 1,  ..., 0, 1, 1],\n",
              "        [0, 0, 0,  ..., 0, 0, 0],\n",
              "        ...,\n",
              "        [0, 0, 0,  ..., 0, 0, 0],\n",
              "        [0, 0, 0,  ..., 0, 0, 0],\n",
              "        [0, 0, 0,  ..., 0, 0, 0]])"
            ]
          },
          "metadata": {
            "tags": []
          },
          "execution_count": 11
        }
      ]
    },
    {
      "cell_type": "code",
      "metadata": {
        "id": "W2UyM-1RPCGJ",
        "colab_type": "code",
        "outputId": "ba2ed1e3-3bfb-4d92-9d87-4027e52437c4",
        "colab": {
          "base_uri": "https://localhost:8080/",
          "height": 53
        }
      },
      "source": [
        "device = 'cuda' if cuda.is_available() else 'cpu'\n",
        "print(f'Training MNIST Model on {device}\\n{\"=\" * 44}')"
      ],
      "execution_count": 12,
      "outputs": [
        {
          "output_type": "stream",
          "text": [
            "Training MNIST Model on cuda\n",
            "============================================\n"
          ],
          "name": "stdout"
        }
      ]
    },
    {
      "cell_type": "markdown",
      "metadata": {
        "id": "BargnPfzAE4I",
        "colab_type": "text"
      },
      "source": [
        "# x는 고객의 특성을 64개의 숫자벡터로 표현한 것이다.\n",
        "# 특성은 인구통계학적 특성, 구매이력, 또는 사진 등이 될 수 있다"
      ]
    },
    {
      "cell_type": "code",
      "metadata": {
        "id": "kI9YfZpv_6k4",
        "colab_type": "code",
        "outputId": "7f922267-0203-4aed-a914-85a8260eb80c",
        "colab": {
          "base_uri": "https://localhost:8080/",
          "height": 89
        }
      },
      "source": [
        "print(x[1])  ## 1번 고객의 특성 벡터\n",
        "x.shape"
      ],
      "execution_count": 16,
      "outputs": [
        {
          "output_type": "stream",
          "text": [
            "tensor([0, 1, 1, 1, 0, 1, 1, 0, 0, 1, 0, 0, 0, 1, 1, 1, 1, 0, 1, 1, 1, 0, 1, 1,\n",
            "        0, 0, 1, 0, 1, 1, 0, 1, 1, 0, 0, 1, 1, 1, 1, 1, 1, 1, 1, 1, 1, 0, 1, 0,\n",
            "        1, 0, 0, 0, 0, 0, 1, 1, 0, 1, 0, 1, 1, 0, 1, 1])\n"
          ],
          "name": "stdout"
        },
        {
          "output_type": "execute_result",
          "data": {
            "text/plain": [
              "torch.Size([1499, 64])"
            ]
          },
          "metadata": {
            "tags": []
          },
          "execution_count": 16
        }
      ]
    },
    {
      "cell_type": "markdown",
      "metadata": {
        "id": "khOQAomorkF3",
        "colab_type": "text"
      },
      "source": [
        ""
      ]
    },
    {
      "cell_type": "markdown",
      "metadata": {
        "id": "q_Xbn5KsASYP",
        "colab_type": "text"
      },
      "source": [
        "# y는 각 고객이 어떤 등급에 속하는지 나타내는 레이블이다. \n",
        " \n",
        " \t0= buy none\n",
        " \t1= buy small\n",
        " \t2= buy big"
      ]
    },
    {
      "cell_type": "code",
      "metadata": {
        "id": "0ppTIGeWAyOv",
        "colab_type": "code",
        "outputId": "829f36f8-0c06-42e3-b4ad-184ee46a5bc1",
        "colab": {
          "base_uri": "https://localhost:8080/",
          "height": 107
        }
      },
      "source": [
        "print(y[0:100])\n"
      ],
      "execution_count": 14,
      "outputs": [
        {
          "output_type": "stream",
          "text": [
            "tensor([0, 2, 0, 1, 0, 2, 1, 0, 2, 1, 2, 2, 2, 0, 2, 1, 1, 1, 2, 2, 2, 1, 2, 2,\n",
            "        1, 2, 2, 1, 2, 2, 1, 1, 2, 0, 2, 1, 1, 1, 0, 2, 1, 1, 1, 1, 1, 2, 0, 1,\n",
            "        2, 2, 0, 2, 1, 2, 1, 1, 1, 0, 2, 0, 0, 1, 1, 1, 0, 2, 1, 2, 2, 2, 1, 1,\n",
            "        2, 0, 1, 1, 1, 1, 1, 0, 2, 1, 1, 1, 1, 1, 2, 1, 2, 1, 2, 1, 1, 0, 1, 1,\n",
            "        0, 2, 1, 1])\n"
          ],
          "name": "stdout"
        }
      ]
    },
    {
      "cell_type": "markdown",
      "metadata": {
        "id": "ck9rvakk2bEQ",
        "colab_type": "text"
      },
      "source": [
        "# 고객의 특성을 시각화하여 보자. \n",
        "얼굴이미지도 동일하게 처리 가능하다. 어떻게 생긴 고객이 우리 제품 구매가능성이 더 높을까? ㅎㅎ  \n"
      ]
    },
    {
      "cell_type": "code",
      "metadata": {
        "id": "t1BP0BJb1mcm",
        "colab_type": "code",
        "outputId": "e2033024-7e09-418d-f9be-c661536ce3ad",
        "colab": {
          "base_uri": "https://localhost:8080/",
          "height": 578
        }
      },
      "source": [
        "# 이미지 벡터 시각화\n",
        "z = x.reshape(1499, 8,8)\n",
        "plt.figure(figsize=(10,10))\n",
        "for i in range(64) :\n",
        "    plt.subplot(8,8,i+1)\n",
        "    plt.xticks([])\n",
        "    plt.yticks([])\n",
        "    plt.grid(False)\n",
        "    plt.imshow(z[i])\n",
        "plt.show()"
      ],
      "execution_count": 15,
      "outputs": [
        {
          "output_type": "display_data",
          "data": {
            "image/png": "[encoded data removed]",
            "text/plain": [
              "<Figure size 720x720 with 64 Axes>"
            ]
          },
          "metadata": {
            "tags": []
          }
        }
      ]
    },
    {
      "cell_type": "markdown",
      "metadata": {
        "id": "XAxQdO3n2vew",
        "colab_type": "text"
      },
      "source": [
        "# 딥러닝 파라미터 설정"
      ]
    },
    {
      "cell_type": "code",
      "metadata": {
        "id": "2odE5t5N2jmH",
        "colab_type": "code",
        "colab": {}
      },
      "source": [
        "# 이제 전과 같이 딥러닝 파라미터를 정의하자\n",
        "\n",
        "EPOCH=70; BATCH=32  ## 학습횟수 \n",
        "batch_size = 64\n",
        "class_names = ['buy NONE', 'buy SMALL', 'buy BIG']   \n",
        " \n"
      ],
      "execution_count": 0,
      "outputs": []
    },
    {
      "cell_type": "markdown",
      "metadata": {
        "id": "LwntzJei29Wv",
        "colab_type": "text"
      },
      "source": [
        "# 모형 설정"
      ]
    },
    {
      "cell_type": "code",
      "metadata": {
        "id": "6WhSrzLmL3Ov",
        "colab_type": "code",
        "colab": {}
      },
      "source": [
        "class Net(nn.Module):\n",
        "\n",
        "    def __init__(self):    ## 레이어 구조 설정 (뉴론의 수)\n",
        "        super(Net, self).__init__()\n",
        "        self.l1 = nn.Linear(64, 32)   ## 인풋레이어        \n",
        "        self.l2 = nn.Linear(32, 3)   ## 히든 1\n",
        "        \n",
        "    def forward(self, x):  ## 연산방법과 활성화함수 설정\n",
        "        #x = x.view(-1, 784)  # Flatten the data (n, 1, 28, 28)-> (n, 784)\n",
        "        x = F.relu(self.l1(x))\n",
        "        return self.l2(x)               ## no softmax here\n",
        "\n",
        "model = Net()\n",
        "model.to(device)   ## GPU 지정\n",
        "\n",
        "criterion = nn.CrossEntropyLoss()    ## 손실함수 지정\n",
        "optimizer = optim.SGD(model.parameters(), lr=0.01, momentum=0.5)   ## 최적화모듈 지정\n"
      ],
      "execution_count": 0,
      "outputs": []
    },
    {
      "cell_type": "code",
      "metadata": {
        "id": "iU-bNUIRMQ9l",
        "colab_type": "code",
        "colab": {}
      },
      "source": [
        "\n",
        "def train(epoch):\n",
        "    model.train()\n",
        "    for batch_idx, (data, target) in enumerate(train_loader):\n",
        "        data, target = data.to(device), target.to(device)\n",
        "        optimizer.zero_grad()\n",
        "        output = model(data)\n",
        "        loss = criterion(output, target)\n",
        "        loss.backward()\n",
        "        optimizer.step()\n",
        "        if batch_idx % 10 == 0:\n",
        "            print('Train Epoch: {} | Batch Status: {}/{} ({:.0f}%) | Loss: {:.6f}'.format(\n",
        "                epoch+1, batch_idx * len(data), len(train_loader.dataset),\n",
        "                100. * batch_idx / len(train_loader), loss.item()))\n",
        "\n",
        "\n",
        "def test():\n",
        "    model.eval()\n",
        "    test_loss = 0\n",
        "    correct = 0\n",
        "    for data, target in test_loader:\n",
        "        data, target = data.to(device), target.to(device)\n",
        "        output = model(data)\n",
        "        # sum up batch loss\n",
        "        test_loss += criterion(output, target).item()\n",
        "        # get the index of the max\n",
        "        pred = output.data.max(1, keepdim=True)[1]\n",
        "        correct += pred.eq(target.data.view_as(pred)).cpu().sum()\n",
        "\n",
        "    test_loss /= len(test_loader.dataset)\n",
        "    print(f'===========================\\nTest set: Average loss: {test_loss:.4f}, Accuracy: {correct}/{len(test_loader.dataset)} '\n",
        "          f'({100. * correct / len(test_loader.dataset):.0f}%)')"
      ],
      "execution_count": 0,
      "outputs": []
    },
    {
      "cell_type": "markdown",
      "metadata": {
        "id": "9oq8dztM3sSe",
        "colab_type": "text"
      },
      "source": [
        "# 모델성능 시각화하기"
      ]
    },
    {
      "cell_type": "markdown",
      "metadata": {
        "id": "FU9MENF13993",
        "colab_type": "text"
      },
      "source": [
        "# 신규고객의 이미지를 입력하여, 확률적인 등급예측을 해보자."
      ]
    },
    {
      "cell_type": "code",
      "metadata": {
        "id": "C7n2aC7Aa4OY",
        "colab_type": "code",
        "colab": {}
      },
      "source": [
        "for epoch in range(EPOCH):\n",
        "      train(epoch)\n",
        "      test()"
      ],
      "execution_count": 0,
      "outputs": []
    },
    {
      "cell_type": "code",
      "metadata": {
        "id": "r2sQEMpH5AHa",
        "colab_type": "code",
        "outputId": "974e51b8-4eb3-4f64-f3d7-8dabfa64a443",
        "colab": {
          "base_uri": "https://localhost:8080/",
          "height": 448
        }
      },
      "source": [
        "# 예측하기 \n",
        "x_new= x_test; yhat = model.predict(x_new)\n",
        "z_new =x_new.reshape(x_new.shape[0], 8,8)\n",
        "print('고객 특성')\n",
        "plt.figure(figsize=(15,15))\n",
        "for i in range(4) :\n",
        "    plt.subplot(1,4,i+1); plt.xticks([]);plt.yticks([]);plt.grid(False); plt.imshow(z_new[i])\n",
        "plt.show()\n",
        "print('고객 유형 예측')\n",
        "plt.figure(figsize=(15,15))\n",
        "for i in range(4) :\n",
        "    plt.subplot(1,4, i+1); plt.xticks([]);plt.yticks([]);plt.grid(False); \n",
        "    ratio = yhat[i]; plt.pie(ratio, labels=class_names, shadow=True, startangle=90, autopct='%0.1f%%');   \n",
        "plt.show()\n",
        "\n",
        "#EOF"
      ],
      "execution_count": 0,
      "outputs": [
        {
          "output_type": "stream",
          "text": [
            "고객 특성\n"
          ],
          "name": "stdout"
        },
        {
          "output_type": "display_data",
          "data": {
            "image/png": "[encoded data removed]",
            "text/plain": [
              "<Figure size 1080x1080 with 4 Axes>"
            ]
          },
          "metadata": {
            "tags": []
          }
        },
        {
          "output_type": "stream",
          "text": [
            "고객 유형 예측\n"
          ],
          "name": "stdout"
        },
        {
          "output_type": "display_data",
          "data": {
            "image/png": "[encoded data removed]",
            "text/plain": [
              "<Figure size 1080x1080 with 4 Axes>"
            ]
          },
          "metadata": {
            "tags": []
          }
        }
      ]
    },
    {
      "cell_type": "markdown",
      "metadata": {
        "id": "Rbfw4HN-8k1H",
        "colab_type": "text"
      },
      "source": [
        "# 어떤 고객이 가장 우수한 것으로 예측되는가? \n",
        "이 방법을 응용하면 무엇을 할 수 있을지 곰곰이 생각해봅시다. "
      ]
    }
  ]
}