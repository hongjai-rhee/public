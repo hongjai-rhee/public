{
  "nbformat": 4,
  "nbformat_minor": 0,
  "metadata": {
    "colab": {
      "name": "[6-1]고객등급예측_파이토치.ipynb",
      "provenance": [],
      "collapsed_sections": [],
      "authorship_tag": "ABX9TyMzr7xhgs9ezRFXRJo5Bvve",
      "include_colab_link": true
    },
    "kernelspec": {
      "name": "python3",
      "display_name": "Python 3"
    },
    "accelerator": "GPU"
  },
  "cells": [
    {
      "cell_type": "markdown",
      "metadata": {
        "id": "view-in-github",
        "colab_type": "text"
      },
      "source": [
        "<a href=\"https://colab.research.google.com/github/hongjai-rhee/public/blob/master/%5B6%5D%EA%B3%A0%EA%B0%9D%EB%93%B1%EA%B8%89%EC%98%88%EC%B8%A1_%ED%8C%8C%EC%9D%B4%ED%86%A0%EC%B9%98.ipynb\" target=\"_parent\"><img src=\"https://colab.research.google.com/assets/colab-badge.svg\" alt=\"Open In Colab\"/></a>"
      ]
    },
    {
      "cell_type": "markdown",
      "metadata": {
        "id": "fE0bb0Ljhbgh",
        "colab_type": "text"
      },
      "source": [
        "# 이번엔 구글의 tensorflow 대신 페이스북이 개발한 pytorch 모듈을 사용해보겠습니다.  "
      ]
    },
    {
      "cell_type": "markdown",
      "metadata": {
        "id": "ehk8WEVTD-Ir",
        "colab_type": "text"
      },
      "source": [
        "![image.png](data:image/png;base64,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)"
      ]
    },
    {
      "cell_type": "markdown",
      "metadata": {
        "colab_type": "text",
        "id": "yM9FbMbySl62"
      },
      "source": [
        "# 고객의 이미지로 등급을 예측하여 보자"
      ]
    },
    {
      "cell_type": "code",
      "metadata": {
        "id": "Hjkf9gAP0Bnx",
        "colab_type": "code",
        "colab": {}
      },
      "source": [
        "df='image1.JPG'"
      ],
      "execution_count": 0,
      "outputs": []
    },
    {
      "cell_type": "code",
      "metadata": {
        "id": "53mLHAkA0bkn",
        "colab_type": "code",
        "outputId": "2110a40b-ebc1-4298-a33c-6a36ec40bf0e",
        "colab": {
          "base_uri": "https://localhost:8080/",
          "height": 143
        }
      },
      "source": [
        "## 필요한 라이브러리 불러오기\n",
        "import pandas as pd; import numpy as np; import matplotlib.pyplot as plt \n",
        "from sklearn.model_selection import train_test_split;  from matplotlib import style\n",
        "from torch.autograd import Variable\n",
        "from __future__ import print_function; from torch import nn, optim, cuda, tensor\n",
        "from torch.utils import data; from torchvision import datasets, transforms\n",
        "import torch.nn.functional as F ; import time\n",
        "from sklearn.metrics import accuracy_score, precision_score, recall_score\n",
        "import torch; from torch.autograd import Variable\n",
        "\n",
        "!git clone https://github.com/hongjai-rhee/public.git"
      ],
      "execution_count": 2,
      "outputs": [
        {
          "output_type": "stream",
          "text": [
            "Cloning into 'public'...\n",
            "remote: Enumerating objects: 143, done.\u001b[K\n",
            "remote: Counting objects:   0% (1/143)\u001b[K\rremote: Counting objects:   1% (2/143)\u001b[K\rremote: Counting objects:   2% (3/143)\u001b[K\rremote: Counting objects:   3% (5/143)\u001b[K\rremote: Counting objects:   4% (6/143)\u001b[K\rremote: Counting objects:   5% (8/143)\u001b[K\rremote: Counting objects:   6% (9/143)\u001b[K\rremote: Counting objects:   7% (11/143)\u001b[K\rremote: Counting objects:   8% (12/143)\u001b[K\rremote: Counting objects:   9% (13/143)\u001b[K\rremote: Counting objects:  10% (15/143)\u001b[K\rremote: Counting objects:  11% (16/143)\u001b[K\rremote: Counting objects:  12% (18/143)\u001b[K\rremote: Counting objects:  13% (19/143)\u001b[K\rremote: Counting objects:  14% (21/143)\u001b[K\rremote: Counting objects:  15% (22/143)\u001b[K\rremote: Counting objects:  16% (23/143)\u001b[K\rremote: Counting objects:  17% (25/143)\u001b[K\rremote: Counting objects:  18% (26/143)\u001b[K\rremote: Counting objects:  19% (28/143)\u001b[K\rremote: Counting objects:  20% (29/143)\u001b[K\rremote: Counting objects:  21% (31/143)\u001b[K\rremote: Counting objects:  22% (32/143)\u001b[K\rremote: Counting objects:  23% (33/143)\u001b[K\rremote: Counting objects:  24% (35/143)\u001b[K\rremote: Counting objects:  25% (36/143)\u001b[K\rremote: Counting objects:  26% (38/143)\u001b[K\rremote: Counting objects:  27% (39/143)\u001b[K\rremote: Counting objects:  28% (41/143)\u001b[K\rremote: Counting objects:  29% (42/143)\u001b[K\rremote: Counting objects:  30% (43/143)\u001b[K\rremote: Counting objects:  31% (45/143)\u001b[K\rremote: Counting objects:  32% (46/143)\u001b[K\rremote: Counting objects:  33% (48/143)\u001b[K\rremote: Counting objects:  34% (49/143)\u001b[K\rremote: Counting objects:  35% (51/143)\u001b[K\rremote: Counting objects:  36% (52/143)\u001b[K\rremote: Counting objects:  37% (53/143)\u001b[K\rremote: Counting objects:  38% (55/143)\u001b[K\rremote: Counting objects:  39% (56/143)\u001b[K\rremote: Counting objects:  40% (58/143)\u001b[K\rremote: Counting objects:  41% (59/143)\u001b[K\rremote: Counting objects:  42% (61/143)\u001b[K\rremote: Counting objects:  43% (62/143)\u001b[K\rremote: Counting objects:  44% (63/143)\u001b[K\rremote: Counting objects:  45% (65/143)\u001b[K\rremote: Counting objects:  46% (66/143)\u001b[K\rremote: Counting objects:  47% (68/143)\u001b[K\rremote: Counting objects:  48% (69/143)\u001b[K\rremote: Counting objects:  49% (71/143)\u001b[K\rremote: Counting objects:  50% (72/143)\u001b[K\rremote: Counting objects:  51% (73/143)\u001b[K\rremote: Counting objects:  52% (75/143)\u001b[K\rremote: Counting objects:  53% (76/143)\u001b[K\rremote: Counting objects:  54% (78/143)\u001b[K\rremote: Counting objects:  55% (79/143)\u001b[K\rremote: Counting objects:  56% (81/143)\u001b[K\rremote: Counting objects:  57% (82/143)\u001b[K\rremote: Counting objects:  58% (83/143)\u001b[K\rremote: Counting objects:  59% (85/143)\u001b[K\rremote: Counting objects:  60% (86/143)\u001b[K\rremote: Counting objects:  61% (88/143)\u001b[K\rremote: Counting objects:  62% (89/143)\u001b[K\rremote: Counting objects:  63% (91/143)\u001b[K\rremote: Counting objects:  64% (92/143)\u001b[K\rremote: Counting objects:  65% (93/143)\u001b[K\rremote: Counting objects:  66% (95/143)\u001b[K\rremote: Counting objects:  67% (96/143)\u001b[K\rremote: Counting objects:  68% (98/143)\u001b[K\rremote: Counting objects:  69% (99/143)\u001b[K\rremote: Counting objects:  70% (101/143)\u001b[K\rremote: Counting objects:  71% (102/143)\u001b[K\rremote: Counting objects:  72% (103/143)\u001b[K\rremote: Counting objects:  73% (105/143)\u001b[K\rremote: Counting objects:  74% (106/143)\u001b[K\rremote: Counting objects:  75% (108/143)\u001b[K\rremote: Counting objects:  76% (109/143)\u001b[K\rremote: Counting objects:  77% (111/143)\u001b[K\rremote: Counting objects:  78% (112/143)\u001b[K\rremote: Counting objects:  79% (113/143)\u001b[K\rremote: Counting objects:  80% (115/143)\u001b[K\rremote: Counting objects:  81% (116/143)\u001b[K\rremote: Counting objects:  82% (118/143)\u001b[K\rremote: Counting objects:  83% (119/143)\u001b[K\rremote: Counting objects:  84% (121/143)\u001b[K\rremote: Counting objects:  85% (122/143)\u001b[K\rremote: Counting objects:  86% (123/143)\u001b[K\rremote: Counting objects:  87% (125/143)\u001b[K\rremote: Counting objects:  88% (126/143)\u001b[K\rremote: Counting objects:  89% (128/143)\u001b[K\rremote: Counting objects:  90% (129/143)\u001b[K\rremote: Counting objects:  91% (131/143)\u001b[K\rremote: Counting objects:  92% (132/143)\u001b[K\rremote: Counting objects:  93% (133/143)\u001b[K\rremote: Counting objects:  94% (135/143)\u001b[K\rremote: Counting objects:  95% (136/143)\u001b[K\rremote: Counting objects:  96% (138/143)\u001b[K\rremote: Counting objects:  97% (139/143)\u001b[K\rremote: Counting objects:  98% (141/143)\u001b[K\rremote: Counting objects:  99% (142/143)\u001b[K\rremote: Counting objects: 100% (143/143)\u001b[K\rremote: Counting objects: 100% (143/143), done.\u001b[K\n",
            "remote: Compressing objects:   0% (1/122)\u001b[K\rremote: Compressing objects:   1% (2/122)\u001b[K\rremote: Compressing objects:   2% (3/122)\u001b[K\rremote: Compressing objects:   3% (4/122)\u001b[K\rremote: Compressing objects:   4% (5/122)\u001b[K\rremote: Compressing objects:   5% (7/122)\u001b[K\rremote: Compressing objects:   6% (8/122)\u001b[K\rremote: Compressing objects:   7% (9/122)\u001b[K\rremote: Compressing objects:   8% (10/122)\u001b[K\rremote: Compressing objects:   9% (11/122)\u001b[K\rremote: Compressing objects:  10% (13/122)\u001b[K\rremote: Compressing objects:  11% (14/122)\u001b[K\rremote: Compressing objects:  12% (15/122)\u001b[K\rremote: Compressing objects:  13% (16/122)\u001b[K\rremote: Compressing objects:  14% (18/122)\u001b[K\rremote: Compressing objects:  15% (19/122)\u001b[K\rremote: Compressing objects:  16% (20/122)\u001b[K\rremote: Compressing objects:  17% (21/122)\u001b[K\rremote: Compressing objects:  18% (22/122)\u001b[K\rremote: Compressing objects:  19% (24/122)\u001b[K\rremote: Compressing objects:  20% (25/122)\u001b[K\rremote: Compressing objects:  21% (26/122)\u001b[K\rremote: Compressing objects:  22% (27/122)\u001b[K\rremote: Compressing objects:  23% (29/122)\u001b[K\rremote: Compressing objects:  24% (30/122)\u001b[K\rremote: Compressing objects:  25% (31/122)\u001b[K\rremote: Compressing objects:  26% (32/122)\u001b[K\rremote: Compressing objects:  27% (33/122)\u001b[K\rremote: Compressing objects:  28% (35/122)\u001b[K\rremote: Compressing objects:  29% (36/122)\u001b[K\rremote: Compressing objects:  30% (37/122)\u001b[K\rremote: Compressing objects:  31% (38/122)\u001b[K\rremote: Compressing objects:  32% (40/122)\u001b[K\rremote: Compressing objects:  33% (41/122)\u001b[K\rremote: Compressing objects:  34% (42/122)\u001b[K\rremote: Compressing objects:  35% (43/122)\u001b[K\rremote: Compressing objects:  36% (44/122)\u001b[K\rremote: Compressing objects:  37% (46/122)\u001b[K\rremote: Compressing objects:  38% (47/122)\u001b[K\rremote: Compressing objects:  39% (48/122)\u001b[K\rremote: Compressing objects:  40% (49/122)\u001b[K\rremote: Compressing objects:  41% (51/122)\u001b[K\rremote: Compressing objects:  42% (52/122)\u001b[K\rremote: Compressing objects:  43% (53/122)\u001b[K\rremote: Compressing objects:  44% (54/122)\u001b[K\rremote: Compressing objects:  45% (55/122)\u001b[K\rremote: Compressing objects:  46% (57/122)\u001b[K\rremote: Compressing objects:  47% (58/122)\u001b[K\rremote: Compressing objects:  48% (59/122)\u001b[K\rremote: Compressing objects:  49% (60/122)\u001b[K\rremote: Compressing objects:  50% (61/122)\u001b[K\rremote: Compressing objects:  51% (63/122)\u001b[K\rremote: Compressing objects:  52% (64/122)\u001b[K\rremote: Compressing objects:  53% (65/122)\u001b[K\rremote: Compressing objects:  54% (66/122)\u001b[K\rremote: Compressing objects:  55% (68/122)\u001b[K\rremote: Compressing objects:  56% (69/122)\u001b[K\rremote: Compressing objects:  57% (70/122)\u001b[K\rremote: Compressing objects:  58% (71/122)\u001b[K\rremote: Compressing objects:  59% (72/122)\u001b[K\rremote: Compressing objects:  60% (74/122)\u001b[K\rremote: Compressing objects:  61% (75/122)\u001b[K\rremote: Compressing objects:  62% (76/122)\u001b[K\rremote: Compressing objects:  63% (77/122)\u001b[K\rremote: Compressing objects:  64% (79/122)\u001b[K\rremote: Compressing objects:  65% (80/122)\u001b[K\rremote: Compressing objects:  66% (81/122)\u001b[K\rremote: Compressing objects:  67% (82/122)\u001b[K\rremote: Compressing objects:  68% (83/122)\u001b[K\rremote: Compressing objects:  69% (85/122)\u001b[K\rremote: Compressing objects:  70% (86/122)\u001b[K\rremote: Compressing objects:  71% (87/122)\u001b[K\rremote: Compressing objects:  72% (88/122)\u001b[K\rremote: Compressing objects:  73% (90/122)\u001b[K\rremote: Compressing objects:  74% (91/122)\u001b[K\rremote: Compressing objects:  75% (92/122)\u001b[K\rremote: Compressing objects:  76% (93/122)\u001b[K\rremote: Compressing objects:  77% (94/122)\u001b[K\rremote: Compressing objects:  78% (96/122)\u001b[K\rremote: Compressing objects:  79% (97/122)\u001b[K\rremote: Compressing objects:  80% (98/122)\u001b[K\rremote: Compressing objects:  81% (99/122)\u001b[K\rremote: Compressing objects:  82% (101/122)\u001b[K\rremote: Compressing objects:  83% (102/122)\u001b[K\rremote: Compressing objects:  84% (103/122)\u001b[K\rremote: Compressing objects:  85% (104/122)\u001b[K\rremote: Compressing objects:  86% (105/122)\u001b[K\rremote: Compressing objects:  87% (107/122)\u001b[K\rremote: Compressing objects:  88% (108/122)\u001b[K\rremote: Compressing objects:  89% (109/122)\u001b[K\rremote: Compressing objects:  90% (110/122)\u001b[K\rremote: Compressing objects:  91% (112/122)\u001b[K\rremote: Compressing objects:  92% (113/122)\u001b[K\rremote: Compressing objects:  93% (114/122)\u001b[K\rremote: Compressing objects:  94% (115/122)\u001b[K\rremote: Compressing objects:  95% (116/122)\u001b[K\rremote: Compressing objects:  96% (118/122)\u001b[K\rremote: Compressing objects:  97% (119/122)\u001b[K\rremote: Compressing objects:  98% (120/122)\u001b[K\rremote: Compressing objects:  99% (121/122)\u001b[K\rremote: Compressing objects: 100% (122/122)\u001b[K\rremote: Compressing objects: 100% (122/122), done.\u001b[K\n",
            "Receiving objects:   0% (1/321)   \rReceiving objects:   1% (4/321)   \rReceiving objects:   2% (7/321)   \rReceiving objects:   3% (10/321)   \rReceiving objects:   4% (13/321)   \rReceiving objects:   5% (17/321)   \rReceiving objects:   6% (20/321)   \rReceiving objects:   7% (23/321)   \rReceiving objects:   8% (26/321)   \rReceiving objects:   9% (29/321)   \rReceiving objects:  10% (33/321)   \rReceiving objects:  11% (36/321)   \rReceiving objects:  12% (39/321)   \rReceiving objects:  13% (42/321)   \rReceiving objects:  14% (45/321)   \rReceiving objects:  15% (49/321)   \rReceiving objects:  16% (52/321)   \rReceiving objects:  17% (55/321)   \rReceiving objects:  18% (58/321)   \rReceiving objects:  19% (61/321)   \rReceiving objects:  20% (65/321)   \rReceiving objects:  21% (68/321)   \rReceiving objects:  22% (71/321)   \rReceiving objects:  23% (74/321)   \rReceiving objects:  24% (78/321)   \rReceiving objects:  25% (81/321)   \rReceiving objects:  26% (84/321)   \rReceiving objects:  27% (87/321)   \rReceiving objects:  28% (90/321)   \rReceiving objects:  29% (94/321)   \rReceiving objects:  30% (97/321)   \rReceiving objects:  31% (100/321)   \rReceiving objects:  32% (103/321)   \rReceiving objects:  33% (106/321)   \rReceiving objects:  34% (110/321)   \rReceiving objects:  35% (113/321)   \rReceiving objects:  36% (116/321)   \rReceiving objects:  37% (119/321)   \rReceiving objects:  38% (122/321)   \rReceiving objects:  39% (126/321)   \rReceiving objects:  40% (129/321)   \rReceiving objects:  41% (132/321)   \rReceiving objects:  42% (135/321)   \rReceiving objects:  43% (139/321)   \rReceiving objects:  44% (142/321)   \rReceiving objects:  45% (145/321)   \rReceiving objects:  46% (148/321)   \rReceiving objects:  47% (151/321)   \rReceiving objects:  48% (155/321)   \rReceiving objects:  49% (158/321)   \rReceiving objects:  50% (161/321)   \rReceiving objects:  51% (164/321)   \rReceiving objects:  52% (167/321)   \rReceiving objects:  53% (171/321)   \rReceiving objects:  54% (174/321)   \rReceiving objects:  55% (177/321)   \rReceiving objects:  56% (180/321)   \rReceiving objects:  57% (183/321)   \rReceiving objects:  58% (187/321)   \rReceiving objects:  59% (190/321)   \rReceiving objects:  60% (193/321)   \rReceiving objects:  61% (196/321)   \rReceiving objects:  62% (200/321)   \rReceiving objects:  63% (203/321)   \rReceiving objects:  64% (206/321)   \rReceiving objects:  65% (209/321)   \rReceiving objects:  66% (212/321)   \rReceiving objects:  67% (216/321)   \rReceiving objects:  68% (219/321)   \rReceiving objects:  69% (222/321)   \rReceiving objects:  70% (225/321)   \rReceiving objects:  71% (228/321)   \rReceiving objects:  72% (232/321)   \rReceiving objects:  73% (235/321)   \rReceiving objects:  74% (238/321)   \rReceiving objects:  75% (241/321)   \rReceiving objects:  76% (244/321)   \rReceiving objects:  77% (248/321)   \rReceiving objects:  78% (251/321)   \rReceiving objects:  79% (254/321)   \rremote: Total 321 (delta 71), reused 53 (delta 21), pack-reused 178\u001b[K\n",
            "Receiving objects:  80% (257/321)   \rReceiving objects:  81% (261/321)   \rReceiving objects:  82% (264/321)   \rReceiving objects:  83% (267/321)   \rReceiving objects:  84% (270/321)   \rReceiving objects:  85% (273/321)   \rReceiving objects:  86% (277/321)   \rReceiving objects:  87% (280/321)   \rReceiving objects:  88% (283/321)   \rReceiving objects:  89% (286/321)   \rReceiving objects:  90% (289/321)   \rReceiving objects:  91% (293/321)   \rReceiving objects:  92% (296/321)   \rReceiving objects:  93% (299/321)   \rReceiving objects:  94% (302/321)   \rReceiving objects:  95% (305/321)   \rReceiving objects:  96% (309/321)   \rReceiving objects:  97% (312/321)   \rReceiving objects:  98% (315/321)   \rReceiving objects:  99% (318/321)   \rReceiving objects: 100% (321/321)   \rReceiving objects: 100% (321/321), 9.02 MiB | 27.01 MiB/s, done.\n",
            "Resolving deltas:   0% (0/149)   \rResolving deltas:   1% (2/149)   \rResolving deltas:   2% (3/149)   \rResolving deltas:   9% (14/149)   \rResolving deltas:  20% (30/149)   \rResolving deltas:  38% (57/149)   \rResolving deltas:  39% (59/149)   \rResolving deltas:  40% (60/149)   \rResolving deltas:  41% (62/149)   \rResolving deltas:  42% (63/149)   \rResolving deltas:  46% (69/149)   \rResolving deltas:  47% (71/149)   \rResolving deltas:  48% (72/149)   \rResolving deltas:  50% (75/149)   \rResolving deltas:  51% (76/149)   \rResolving deltas:  87% (131/149)   \rResolving deltas:  89% (134/149)   \rResolving deltas:  91% (136/149)   \rResolving deltas:  92% (138/149)   \rResolving deltas:  94% (141/149)   \rResolving deltas: 100% (149/149)   \rResolving deltas: 100% (149/149), done.\n"
          ],
          "name": "stdout"
        }
      ]
    },
    {
      "cell_type": "markdown",
      "metadata": {
        "id": "BVBV_9j908zy",
        "colab_type": "text"
      },
      "source": [
        "# 숫자는 이미지로 이미지는 숫자로 변화될 수 있다. \n",
        "**국민배우, 마동석의 사진을 불러와서, 숫자벡터로 바꾸어보자.**\n",
        "."
      ]
    },
    {
      "cell_type": "code",
      "metadata": {
        "id": "Mt0sbmzQ0H9w",
        "colab_type": "code",
        "outputId": "2312c1a3-e517-4107-9266-e38fa0637dcd",
        "colab": {
          "base_uri": "https://localhost:8080/",
          "height": 269
        }
      },
      "source": [
        "import cv2; from google.colab.patches import cv2_imshow\n",
        "\n",
        "x1=cv2.imread(df); \n",
        "x1= cv2.cvtColor(x1, cv2.COLOR_BGR2GRAY)  ## 흑백으로 변환\n",
        "plt.imshow(x1,  cmap='gray')\n",
        "plt.show()"
      ],
      "execution_count": 3,
      "outputs": [
        {
          "output_type": "display_data",
          "data": {
            "image/png": "[encoded data removed]",
            "text/plain": [
              "<Figure size 432x288 with 1 Axes>"
            ]
          },
          "metadata": {
            "tags": []
          }
        }
      ]
    },
    {
      "cell_type": "code",
      "metadata": {
        "id": "qXsUS9bA1CAQ",
        "colab_type": "code",
        "outputId": "11f04270-e2f2-4d61-ac91-ef0139880134",
        "colab": {
          "base_uri": "https://localhost:8080/",
          "height": 161
        }
      },
      "source": [
        "print(x1)\n",
        "x1.shape\n"
      ],
      "execution_count": 4,
      "outputs": [
        {
          "output_type": "stream",
          "text": [
            "[[81 78 75 ... 64 64 64]\n",
            " [83 82 82 ... 64 64 65]\n",
            " [78 80 82 ... 65 65 65]\n",
            " ...\n",
            " [ 6  7  9 ... 27 27 27]\n",
            " [ 8  8  7 ... 26 26 25]\n",
            " [ 5  6  6 ... 26 25 25]]\n"
          ],
          "name": "stdout"
        },
        {
          "output_type": "execute_result",
          "data": {
            "text/plain": [
              "(265, 237)"
            ]
          },
          "metadata": {
            "tags": []
          },
          "execution_count": 4
        }
      ]
    },
    {
      "cell_type": "markdown",
      "metadata": {
        "id": "f01d1I8l1m2Q",
        "colab_type": "text"
      },
      "source": [
        "이 사진은 265*237 픽셀을 가지고, 숫자는 각 픽셀의 RGB 코드를 의미한다. \n"
      ]
    },
    {
      "cell_type": "markdown",
      "metadata": {
        "colab_type": "text",
        "id": "NgNKsul0ThD1"
      },
      "source": [
        "# ‘customer1500.csv’ 파일을 구글 드라이브에 마운트 한 다음 데이터 파일을 불러오자\n",
        "\n",
        "\n"
      ]
    },
    {
      "cell_type": "code",
      "metadata": {
        "id": "mAmy7SMublX4",
        "colab_type": "code",
        "outputId": "a6a672ff-65ff-4eda-fb7c-4c9d8093659f",
        "colab": {
          "base_uri": "https://localhost:8080/",
          "height": 35
        }
      },
      "source": [
        "dat = np.array(pd.read_csv('/content/public/customer1500.csv'))\n",
        "\n",
        "y=dat[:,0]; x=dat[:,1:65] #  y=3개의 고객상태 label(0/1/2), x=64개의 특성벡터\n",
        "class_names = ['buy NONE', 'buy SMALL', 'buy BIG']   \n",
        "\n",
        "## 훈련과 검증셋으로 나누기\n",
        "x_train=x[0:1000,]; x_test=x[1000:1499,]\n",
        "y_train=y[0:1000,]; y_test=y[1000:1499,]\n",
        " \n",
        "\n",
        "# 토치 모맷으로 데이터 바꾸기\n",
        "x_train = Variable(torch.Tensor(x_train).float())\n",
        "x_test = Variable(torch.Tensor(x_test).float())\n",
        "y_train = Variable(torch.Tensor(y_train).long())   ## long =정수\n",
        "y_test = Variable(torch.Tensor(y_test).long())\n",
        "\n",
        "## 훈련과 검증셋으로 나누기\n",
        "x_train=x[0:1000,]; x_test=x[1000:1499,]\n",
        "y_train=y[0:1000,]; y_test=y[1000:1499,]\n",
        "\n",
        "# 토치 포맷으로 데이터 바꾸기\n",
        "x_train = Variable(torch.Tensor(x_train).float())\n",
        "x_test = Variable(torch.Tensor(x_test).float())\n",
        "y_train = Variable(torch.Tensor(y_train).long())   ## long =정수\n",
        "y_test = Variable(torch.Tensor(y_test).long())\n",
        "\n",
        "print(x_train.shape, y_train.shape)"
      ],
      "execution_count": 17,
      "outputs": [
        {
          "output_type": "stream",
          "text": [
            "torch.Size([1000, 64]) torch.Size([1000])\n"
          ],
          "name": "stdout"
        }
      ]
    },
    {
      "cell_type": "markdown",
      "metadata": {
        "id": "BargnPfzAE4I",
        "colab_type": "text"
      },
      "source": [
        "# x는 고객의 특성을 64개의 숫자벡터로 표현한 것이다.\n",
        "# 특성은 인구통계학적 특성, 구매이력, 또는 사진 등이 될 수 있다"
      ]
    },
    {
      "cell_type": "code",
      "metadata": {
        "id": "kI9YfZpv_6k4",
        "colab_type": "code",
        "outputId": "0ca51443-cd39-4577-8864-fcc3ab0c759b",
        "colab": {
          "base_uri": "https://localhost:8080/",
          "height": 53
        }
      },
      "source": [
        "print(x[1])  ## 1번 고객의 특성 벡터"
      ],
      "execution_count": 6,
      "outputs": [
        {
          "output_type": "stream",
          "text": [
            "[0 1 1 1 0 1 1 0 0 1 0 0 0 1 1 1 1 0 1 1 1 0 1 1 0 0 1 0 1 1 0 1 1 0 0 1 1\n",
            " 1 1 1 1 1 1 1 1 0 1 0 1 0 0 0 0 0 1 1 0 1 0 1 1 0 1 1]\n"
          ],
          "name": "stdout"
        }
      ]
    },
    {
      "cell_type": "markdown",
      "metadata": {
        "id": "q_Xbn5KsASYP",
        "colab_type": "text"
      },
      "source": [
        "# y는 각 고객이 어떤 등급에 속하는지 나타내는 레이블이다. \n",
        " \n",
        " \t0= buy none\n",
        " \t1= buy small\n",
        " \t2= buy big"
      ]
    },
    {
      "cell_type": "code",
      "metadata": {
        "id": "lz4MExznUGIJ",
        "colab_type": "code",
        "outputId": "0f333b1d-9b51-468e-88aa-bb3e12cfee27",
        "colab": {
          "base_uri": "https://localhost:8080/",
          "height": 71
        }
      },
      "source": [
        "print(y[0:100])"
      ],
      "execution_count": 7,
      "outputs": [
        {
          "output_type": "stream",
          "text": [
            "[0 2 0 1 0 2 1 0 2 1 2 2 2 0 2 1 1 1 2 2 2 1 2 2 1 2 2 1 2 2 1 1 2 0 2 1 1\n",
            " 1 0 2 1 1 1 1 1 2 0 1 2 2 0 2 1 2 1 1 1 0 2 0 0 1 1 1 0 2 1 2 2 2 1 1 2 0\n",
            " 1 1 1 1 1 0 2 1 1 1 1 1 2 1 2 1 2 1 1 0 1 1 0 2 1 1]\n"
          ],
          "name": "stdout"
        }
      ]
    },
    {
      "cell_type": "markdown",
      "metadata": {
        "id": "ck9rvakk2bEQ",
        "colab_type": "text"
      },
      "source": [
        "# 고객의 특성을 시각화하여 보자. \n",
        "얼굴이미지도 동일하게 처리 가능하다. 어떻게 생긴 고객이 우리 제품 구매가능성이 더 높을까? ㅎㅎ  \n"
      ]
    },
    {
      "cell_type": "code",
      "metadata": {
        "id": "t1BP0BJb1mcm",
        "colab_type": "code",
        "outputId": "bbc7c168-e1d7-4667-d98e-f3836fbad705",
        "colab": {
          "base_uri": "https://localhost:8080/",
          "height": 578
        }
      },
      "source": [
        "# 이미지 벡터 시각화\n",
        "z = x.reshape(1499, 8,8)\n",
        "plt.figure(figsize=(10,10))\n",
        "for i in range(64) :\n",
        "    plt.subplot(8,8,i+1)\n",
        "    plt.xticks([])\n",
        "    plt.yticks([])\n",
        "    plt.grid(False)\n",
        "    plt.imshow(z[i])\n",
        "plt.show()"
      ],
      "execution_count": 8,
      "outputs": [
        {
          "output_type": "display_data",
          "data": {
            "image/png": "[encoded data removed]",
            "text/plain": [
              "<Figure size 720x720 with 64 Axes>"
            ]
          },
          "metadata": {
            "tags": []
          }
        }
      ]
    },
    {
      "cell_type": "markdown",
      "metadata": {
        "id": "Ij5zZbTscCDY",
        "colab_type": "text"
      },
      "source": [
        "# 모형 설정 (using Pytorch developed by Facebook)"
      ]
    },
    {
      "cell_type": "code",
      "metadata": {
        "id": "jdRnw5lD7bAe",
        "colab_type": "code",
        "colab": {}
      },
      "source": [
        "nb_epochs = 5000   # 학습횟수, 미니배치=NO\n",
        "hidden=0           # hidden layer neoron의 수, 단층망 if 0\n",
        "learn_rate=0.01\n"
      ],
      "execution_count": 0,
      "outputs": []
    },
    {
      "cell_type": "markdown",
      "metadata": {
        "id": "lzRFS8Lz_ER0",
        "colab_type": "text"
      },
      "source": [
        "이 아래는 자동으로 실행됨 (do not touch !)"
      ]
    },
    {
      "cell_type": "code",
      "metadata": {
        "id": "ukl4U4Jo0SAs",
        "colab_type": "code",
        "colab": {
          "base_uri": "https://localhost:8080/",
          "height": 35
        },
        "outputId": "4cb05f6e-e06f-4c63-d6c7-4fc55d90ce3f"
      },
      "source": [
        "## 아래는 자동\n",
        "n_input= x_train.shape[1]\n",
        "n_output=torch.max(y_train.data).item()+1\n",
        "print(n_input, hidden, n_output)\n",
        "\n",
        "class Net(nn.Module):\n",
        "\n",
        "    def __init__(self):    ## 레이어 구조 설정 (자동)\n",
        "        super(Net, self).__init__()\n",
        "        if hidden==0 :\n",
        "          self.l0 = nn.Linear(n_input, n_output)    ## 아웃풋레이어\n",
        "        else:\n",
        "          self.l1 = nn.Linear(n_input, hidden)   \n",
        "          self.l2 = nn.Linear(hidden, n_output)    \n",
        "          #self.l3 = nn.Linear(10, 6)              \n",
        "          #self.l4 = nn.Linear(6, 4)    ## 다양한 층으로 구성가능하다  \n",
        "        \n",
        "    def forward(self, x):  ## 연산방법과 활성화함수 설정\n",
        "        if hidden==0 : \n",
        "          return self.l0(x)           \n",
        "        else:  \n",
        "          x = F.relu(self.l1(x))\n",
        "          return self.l2(x)           \n",
        "\n",
        "model = Net()\n",
        "criterion = nn.CrossEntropyLoss()    ## 손실함수 지정\n",
        "optimizer = optim.SGD(model.parameters(), lr=learn_rate, momentum=0.5)   ## 최적화모듈 지정\n"
      ],
      "execution_count": 50,
      "outputs": [
        {
          "output_type": "stream",
          "text": [
            "64 0 3\n"
          ],
          "name": "stdout"
        }
      ]
    },
    {
      "cell_type": "markdown",
      "metadata": {
        "id": "qrIhVJSH9zTY",
        "colab_type": "text"
      },
      "source": [
        "# 학습 실행"
      ]
    },
    {
      "cell_type": "code",
      "metadata": {
        "id": "Zkq-RyvhvmRc",
        "colab_type": "code",
        "outputId": "b25ca886-6600-49ac-be45-37b9bb39a060",
        "colab": {
          "base_uri": "https://localhost:8080/",
          "height": 971
        }
      },
      "source": [
        "\n",
        "for epoch in range(nb_epochs+1 ):\n",
        "    hypothesis = model(x_train)            # f(x) 계산\n",
        "    loss = criterion(hypothesis, y_train)  # loss 계산\n",
        "    loss.backward()                        # 백프로파게이션 for gradient\n",
        "    optimizer.step()                       # 파라미터 업데이트 \n",
        "  \n",
        "    if epoch % 100 == 0:\n",
        "        print('number of epoch=','[%d] loss: %.3f' %\n",
        "                  ( epoch ,loss.data))\n",
        "  \n",
        "## 츨력사항 지정\n",
        "predict_out = model(x_test)\n",
        "_, predict_y = torch.max(predict_out, 1)\n",
        "print('===================>>>>>>')\n",
        "print('test-set prediction accuracy = ', np.round(100*accuracy_score(y_test.data, predict_y.data),2), \"%\")"
      ],
      "execution_count": 52,
      "outputs": [
        {
          "output_type": "stream",
          "text": [
            "number of epoch= [0] loss: 11.764\n",
            "number of epoch= [100] loss: 1.976\n",
            "number of epoch= [200] loss: 6.155\n",
            "number of epoch= [300] loss: 11.094\n",
            "number of epoch= [400] loss: 2.295\n",
            "number of epoch= [500] loss: 0.728\n",
            "number of epoch= [600] loss: 7.777\n",
            "number of epoch= [700] loss: 6.626\n",
            "number of epoch= [800] loss: 1.611\n",
            "number of epoch= [900] loss: 5.264\n",
            "number of epoch= [1000] loss: 11.782\n",
            "number of epoch= [1100] loss: 4.259\n",
            "number of epoch= [1200] loss: 2.265\n",
            "number of epoch= [1300] loss: 6.967\n",
            "number of epoch= [1400] loss: 6.666\n",
            "number of epoch= [1500] loss: 0.621\n",
            "number of epoch= [1600] loss: 0.855\n",
            "number of epoch= [1700] loss: 6.093\n",
            "number of epoch= [1800] loss: 8.037\n",
            "number of epoch= [1900] loss: 3.153\n",
            "number of epoch= [2000] loss: 1.448\n",
            "number of epoch= [2100] loss: 8.026\n",
            "number of epoch= [2200] loss: 8.234\n",
            "number of epoch= [2300] loss: 1.157\n",
            "number of epoch= [2400] loss: 1.858\n",
            "number of epoch= [2500] loss: 6.345\n",
            "number of epoch= [2600] loss: 6.694\n",
            "number of epoch= [2700] loss: 1.673\n",
            "number of epoch= [2800] loss: 0.018\n",
            "number of epoch= [2900] loss: 2.970\n",
            "number of epoch= [3000] loss: 7.714\n",
            "number of epoch= [3100] loss: 4.197\n",
            "number of epoch= [3200] loss: 0.988\n",
            "number of epoch= [3300] loss: 1.657\n",
            "number of epoch= [3400] loss: 7.039\n",
            "number of epoch= [3500] loss: 7.938\n",
            "number of epoch= [3600] loss: 2.383\n",
            "number of epoch= [3700] loss: 1.521\n",
            "number of epoch= [3800] loss: 3.930\n",
            "number of epoch= [3900] loss: 6.941\n",
            "number of epoch= [4000] loss: 4.842\n",
            "number of epoch= [4100] loss: 1.280\n",
            "number of epoch= [4200] loss: 0.111\n",
            "number of epoch= [4300] loss: 1.516\n",
            "number of epoch= [4400] loss: 5.165\n",
            "number of epoch= [4500] loss: 5.060\n",
            "number of epoch= [4600] loss: 1.552\n",
            "number of epoch= [4700] loss: 0.286\n",
            "number of epoch= [4800] loss: 1.189\n",
            "number of epoch= [4900] loss: 4.973\n",
            "number of epoch= [5000] loss: 6.308\n",
            "===================>>>>>>\n",
            "test-set prediction accuracy =  92.38 %\n"
          ],
          "name": "stdout"
        }
      ]
    },
    {
      "cell_type": "markdown",
      "metadata": {
        "id": "RmCrnfwDFyBh",
        "colab_type": "text"
      },
      "source": [
        "# 예측결과 평가하기"
      ]
    },
    {
      "cell_type": "code",
      "metadata": {
        "id": "IrIdo8MyJd1B",
        "colab_type": "code",
        "outputId": "8c99e3c2-e6b7-490d-e678-91d0ca23a40f",
        "colab": {
          "base_uri": "https://localhost:8080/",
          "height": 71
        }
      },
      "source": [
        "from sklearn.metrics import confusion_matrix, classification_report; import seaborn as sn\n",
        "yhat=torch.argmax(model(x_test),axis=1)\n",
        "cm=confusion_matrix(y_test, yhat)\n",
        "cm"
      ],
      "execution_count": 54,
      "outputs": [
        {
          "output_type": "execute_result",
          "data": {
            "text/plain": [
              "array([[ 86,   4,   0],\n",
              "       [  9, 223,   1],\n",
              "       [  0,  24, 152]])"
            ]
          },
          "metadata": {
            "tags": []
          },
          "execution_count": 54
        }
      ]
    },
    {
      "cell_type": "code",
      "metadata": {
        "id": "QGALyxpQLES6",
        "colab_type": "code",
        "outputId": "43088d93-a721-4f7e-90d1-0713cb2804df",
        "colab": {
          "base_uri": "https://localhost:8080/",
          "height": 301
        }
      },
      "source": [
        "import pandas as pd\n",
        "import seaborn as sn\n",
        "print('대각선은 올바른 예측')\n",
        "sn.heatmap(cm, annot=True, fmt=\"d\", cmap=\"YlGnBu\")"
      ],
      "execution_count": 53,
      "outputs": [
        {
          "output_type": "stream",
          "text": [
            "대각선은 올바른 예측\n"
          ],
          "name": "stdout"
        },
        {
          "output_type": "execute_result",
          "data": {
            "text/plain": [
              "<matplotlib.axes._subplots.AxesSubplot at 0x7fc3fbedb908>"
            ]
          },
          "metadata": {
            "tags": []
          },
          "execution_count": 53
        },
        {
          "output_type": "display_data",
          "data": {
            "image/png": "[encoded data removed]",
            "text/plain": [
              "<Figure size 432x288 with 2 Axes>"
            ]
          },
          "metadata": {
            "tags": []
          }
        }
      ]
    },
    {
      "cell_type": "markdown",
      "metadata": {
        "id": "FU9MENF13993",
        "colab_type": "text"
      },
      "source": [
        "# 학습된 모형을 이용하여, 신규고객의 특성을 보고 고객유형을 예측을 해보자."
      ]
    },
    {
      "cell_type": "code",
      "metadata": {
        "colab_type": "code",
        "outputId": "1cb97692-b50d-4987-d6e9-6ca62ae3e962",
        "id": "7Hur46Y1C7_h",
        "colab": {
          "base_uri": "https://localhost:8080/",
          "height": 143
        }
      },
      "source": [
        "# 예측하기 \n",
        "from random import randint\n",
        "\n",
        "i = randint(1, 100)  # 1부터 100 사이의 임의의 정수\n",
        "\n",
        "x_new= x_test[i]\n",
        "print(i, '번 고객의 특성 벡터')\n",
        "print('=======================')\n",
        "print(x_new.numpy())\n",
        "yhat =model(x_new) ; yhat =F.softmax(model(x_new), dim=0); yy=torch.argmax(yhat)\n",
        "\n",
        "class color:\n",
        "   PURPLE = '\\033[95m'; BLUE = '\\033[94m' ;  RED = '\\033[91m' ; BOLD = '\\033[1m';  UNDERLINE = '\\033[4m' ; END = '\\033[0m'\n",
        "\n",
        "print()\n",
        "print('========>  이 고객은', 100*yhat[yy].data.item(), '%의 확률로', color.RED  + class_names[yy] + color.END, \"유형으로 예측됩니다\")\n",
        "#EOF"
      ],
      "execution_count": 77,
      "outputs": [
        {
          "output_type": "stream",
          "text": [
            "89 번 고객의 특성 벡터\n",
            "=======================\n",
            "[1. 0. 1. 0. 0. 1. 0. 1. 1. 1. 0. 1. 0. 0. 1. 0. 1. 1. 0. 1. 0. 0. 1. 1.\n",
            " 0. 0. 1. 0. 1. 1. 1. 0. 0. 1. 1. 0. 0. 1. 0. 0. 0. 1. 0. 0. 0. 1. 0. 1.\n",
            " 1. 0. 0. 1. 0. 1. 1. 1. 0. 1. 1. 1. 1. 1. 1. 1.]\n",
            "\n",
            "========>  이 고객은 100.0 %의 확률로 \u001b[91mbuy BIG\u001b[0m 유형으로 예측됩니다\n"
          ],
          "name": "stdout"
        }
      ]
    },
    {
      "cell_type": "markdown",
      "metadata": {
        "id": "Rbfw4HN-8k1H",
        "colab_type": "text"
      },
      "source": [
        "# 딥러닝 코딩은 전혀 어렵지 않습니다. \n",
        "# 학습데이터를 구할수 있으며, 예측이 의미있는 문제를 만드는게 핵심입니다."
      ]
    }
  ]
}