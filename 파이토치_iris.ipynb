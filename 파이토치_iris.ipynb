{
  "nbformat": 4,
  "nbformat_minor": 0,
  "metadata": {
    "colab": {
      "name": "파이토치_iris.ipynb",
      "provenance": [],
      "authorship_tag": "ABX9TyMfXDFC3MtfZTBSRLfGuOKl",
      "include_colab_link": true
    },
    "kernelspec": {
      "name": "python3",
      "display_name": "Python 3"
    }
  },
  "cells": [
    {
      "cell_type": "markdown",
      "metadata": {
        "id": "view-in-github",
        "colab_type": "text"
      },
      "source": [
        "<a href=\"https://colab.research.google.com/github/hongjai-rhee/public/blob/master/%ED%8C%8C%EC%9D%B4%ED%86%A0%EC%B9%98_iris.ipynb\" target=\"_parent\"><img src=\"https://colab.research.google.com/assets/colab-badge.svg\" alt=\"Open In Colab\"/></a>"
      ]
    },
    {
      "cell_type": "markdown",
      "metadata": {
        "id": "6EMHnMqswkUE",
        "colab_type": "text"
      },
      "source": [
        "![image.png](data:image/png;base64,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)"
      ]
    },
    {
      "cell_type": "markdown",
      "metadata": {
        "id": "RkESGyZM0SKN",
        "colab_type": "text"
      },
      "source": [
        "# 라이블러리 불러오기"
      ]
    },
    {
      "cell_type": "code",
      "metadata": {
        "id": "1WjURpHovElp",
        "colab_type": "code",
        "colab": {}
      },
      "source": [
        "import pandas as pd; from sklearn.model_selection import train_test_split\n",
        "from sklearn.metrics import accuracy_score, precision_score, recall_score\n",
        "import torch; import torch.nn as nn ; import torch.nn.functional as F ; from torch.autograd import Variable"
      ],
      "execution_count": 0,
      "outputs": []
    },
    {
      "cell_type": "code",
      "metadata": {
        "id": "efHdS18vvbxF",
        "colab_type": "code",
        "colab": {
          "base_uri": "https://localhost:8080/",
          "height": 35
        },
        "outputId": "d884775a-2ad9-45ca-ef90-d2f8db79d429"
      },
      "source": [
        "torch.manual_seed(1)  ## 랜덤 고정 "
      ],
      "execution_count": 78,
      "outputs": [
        {
          "output_type": "execute_result",
          "data": {
            "text/plain": [
              "<torch._C.Generator at 0x7f599293e5f0>"
            ]
          },
          "metadata": {
            "tags": []
          },
          "execution_count": 78
        }
      ]
    },
    {
      "cell_type": "markdown",
      "metadata": {
        "id": "fMcHntt90XOl",
        "colab_type": "text"
      },
      "source": [
        "# 데이터 불러오기"
      ]
    },
    {
      "cell_type": "code",
      "metadata": {
        "id": "b-9V6SN3y28O",
        "colab_type": "code",
        "colab": {
          "base_uri": "https://localhost:8080/",
          "height": 359
        },
        "outputId": "5c2c08a9-cb08-4300-aac8-8f1c3d2d969a"
      },
      "source": [
        "# load IRIS dataset\n",
        "dataset = pd.read_csv('iris.csv')\n",
        "dataset.head(10)"
      ],
      "execution_count": 79,
      "outputs": [
        {
          "output_type": "execute_result",
          "data": {
            "text/html": [
              "<div>\n",
              "<style scoped>\n",
              "    .dataframe tbody tr th:only-of-type {\n",
              "        vertical-align: middle;\n",
              "    }\n",
              "\n",
              "    .dataframe tbody tr th {\n",
              "        vertical-align: top;\n",
              "    }\n",
              "\n",
              "    .dataframe thead th {\n",
              "        text-align: right;\n",
              "    }\n",
              "</style>\n",
              "<table border=\"1\" class=\"dataframe\">\n",
              "  <thead>\n",
              "    <tr style=\"text-align: right;\">\n",
              "      <th></th>\n",
              "      <th>sepal.length</th>\n",
              "      <th>sepal.width</th>\n",
              "      <th>petal.length</th>\n",
              "      <th>petal.width</th>\n",
              "      <th>variety</th>\n",
              "    </tr>\n",
              "  </thead>\n",
              "  <tbody>\n",
              "    <tr>\n",
              "      <th>0</th>\n",
              "      <td>5.1</td>\n",
              "      <td>3.5</td>\n",
              "      <td>1.4</td>\n",
              "      <td>0.2</td>\n",
              "      <td>Setosa</td>\n",
              "    </tr>\n",
              "    <tr>\n",
              "      <th>1</th>\n",
              "      <td>4.9</td>\n",
              "      <td>3.0</td>\n",
              "      <td>1.4</td>\n",
              "      <td>0.2</td>\n",
              "      <td>Setosa</td>\n",
              "    </tr>\n",
              "    <tr>\n",
              "      <th>2</th>\n",
              "      <td>4.7</td>\n",
              "      <td>3.2</td>\n",
              "      <td>1.3</td>\n",
              "      <td>0.2</td>\n",
              "      <td>Setosa</td>\n",
              "    </tr>\n",
              "    <tr>\n",
              "      <th>3</th>\n",
              "      <td>4.6</td>\n",
              "      <td>3.1</td>\n",
              "      <td>1.5</td>\n",
              "      <td>0.2</td>\n",
              "      <td>Setosa</td>\n",
              "    </tr>\n",
              "    <tr>\n",
              "      <th>4</th>\n",
              "      <td>5.0</td>\n",
              "      <td>3.6</td>\n",
              "      <td>1.4</td>\n",
              "      <td>0.2</td>\n",
              "      <td>Setosa</td>\n",
              "    </tr>\n",
              "    <tr>\n",
              "      <th>5</th>\n",
              "      <td>5.4</td>\n",
              "      <td>3.9</td>\n",
              "      <td>1.7</td>\n",
              "      <td>0.4</td>\n",
              "      <td>Setosa</td>\n",
              "    </tr>\n",
              "    <tr>\n",
              "      <th>6</th>\n",
              "      <td>4.6</td>\n",
              "      <td>3.4</td>\n",
              "      <td>1.4</td>\n",
              "      <td>0.3</td>\n",
              "      <td>Setosa</td>\n",
              "    </tr>\n",
              "    <tr>\n",
              "      <th>7</th>\n",
              "      <td>5.0</td>\n",
              "      <td>3.4</td>\n",
              "      <td>1.5</td>\n",
              "      <td>0.2</td>\n",
              "      <td>Setosa</td>\n",
              "    </tr>\n",
              "    <tr>\n",
              "      <th>8</th>\n",
              "      <td>4.4</td>\n",
              "      <td>2.9</td>\n",
              "      <td>1.4</td>\n",
              "      <td>0.2</td>\n",
              "      <td>Setosa</td>\n",
              "    </tr>\n",
              "    <tr>\n",
              "      <th>9</th>\n",
              "      <td>4.9</td>\n",
              "      <td>3.1</td>\n",
              "      <td>1.5</td>\n",
              "      <td>0.1</td>\n",
              "      <td>Setosa</td>\n",
              "    </tr>\n",
              "  </tbody>\n",
              "</table>\n",
              "</div>"
            ],
            "text/plain": [
              "   sepal.length  sepal.width  petal.length  petal.width variety\n",
              "0           5.1          3.5           1.4          0.2  Setosa\n",
              "1           4.9          3.0           1.4          0.2  Setosa\n",
              "2           4.7          3.2           1.3          0.2  Setosa\n",
              "3           4.6          3.1           1.5          0.2  Setosa\n",
              "4           5.0          3.6           1.4          0.2  Setosa\n",
              "5           5.4          3.9           1.7          0.4  Setosa\n",
              "6           4.6          3.4           1.4          0.3  Setosa\n",
              "7           5.0          3.4           1.5          0.2  Setosa\n",
              "8           4.4          2.9           1.4          0.2  Setosa\n",
              "9           4.9          3.1           1.5          0.1  Setosa"
            ]
          },
          "metadata": {
            "tags": []
          },
          "execution_count": 79
        }
      ]
    },
    {
      "cell_type": "code",
      "metadata": {
        "id": "_6MPpH1Q3bfX",
        "colab_type": "code",
        "colab": {
          "base_uri": "https://localhost:8080/",
          "height": 359
        },
        "outputId": "92b3fc62-ef83-4e50-ba08-c16c7075bf0f"
      },
      "source": [
        "# transform species to numerics\n",
        "dataset.loc[dataset.variety=='Setosa', 'variety'] = 0\n",
        "dataset.loc[dataset.variety=='Versicolor', 'variety'] = 1\n",
        "dataset.loc[dataset.variety=='Virginica', 'variety'] = 2\n",
        "\n",
        "dataset.head(10)"
      ],
      "execution_count": 80,
      "outputs": [
        {
          "output_type": "execute_result",
          "data": {
            "text/html": [
              "<div>\n",
              "<style scoped>\n",
              "    .dataframe tbody tr th:only-of-type {\n",
              "        vertical-align: middle;\n",
              "    }\n",
              "\n",
              "    .dataframe tbody tr th {\n",
              "        vertical-align: top;\n",
              "    }\n",
              "\n",
              "    .dataframe thead th {\n",
              "        text-align: right;\n",
              "    }\n",
              "</style>\n",
              "<table border=\"1\" class=\"dataframe\">\n",
              "  <thead>\n",
              "    <tr style=\"text-align: right;\">\n",
              "      <th></th>\n",
              "      <th>sepal.length</th>\n",
              "      <th>sepal.width</th>\n",
              "      <th>petal.length</th>\n",
              "      <th>petal.width</th>\n",
              "      <th>variety</th>\n",
              "    </tr>\n",
              "  </thead>\n",
              "  <tbody>\n",
              "    <tr>\n",
              "      <th>0</th>\n",
              "      <td>5.1</td>\n",
              "      <td>3.5</td>\n",
              "      <td>1.4</td>\n",
              "      <td>0.2</td>\n",
              "      <td>0</td>\n",
              "    </tr>\n",
              "    <tr>\n",
              "      <th>1</th>\n",
              "      <td>4.9</td>\n",
              "      <td>3.0</td>\n",
              "      <td>1.4</td>\n",
              "      <td>0.2</td>\n",
              "      <td>0</td>\n",
              "    </tr>\n",
              "    <tr>\n",
              "      <th>2</th>\n",
              "      <td>4.7</td>\n",
              "      <td>3.2</td>\n",
              "      <td>1.3</td>\n",
              "      <td>0.2</td>\n",
              "      <td>0</td>\n",
              "    </tr>\n",
              "    <tr>\n",
              "      <th>3</th>\n",
              "      <td>4.6</td>\n",
              "      <td>3.1</td>\n",
              "      <td>1.5</td>\n",
              "      <td>0.2</td>\n",
              "      <td>0</td>\n",
              "    </tr>\n",
              "    <tr>\n",
              "      <th>4</th>\n",
              "      <td>5.0</td>\n",
              "      <td>3.6</td>\n",
              "      <td>1.4</td>\n",
              "      <td>0.2</td>\n",
              "      <td>0</td>\n",
              "    </tr>\n",
              "    <tr>\n",
              "      <th>5</th>\n",
              "      <td>5.4</td>\n",
              "      <td>3.9</td>\n",
              "      <td>1.7</td>\n",
              "      <td>0.4</td>\n",
              "      <td>0</td>\n",
              "    </tr>\n",
              "    <tr>\n",
              "      <th>6</th>\n",
              "      <td>4.6</td>\n",
              "      <td>3.4</td>\n",
              "      <td>1.4</td>\n",
              "      <td>0.3</td>\n",
              "      <td>0</td>\n",
              "    </tr>\n",
              "    <tr>\n",
              "      <th>7</th>\n",
              "      <td>5.0</td>\n",
              "      <td>3.4</td>\n",
              "      <td>1.5</td>\n",
              "      <td>0.2</td>\n",
              "      <td>0</td>\n",
              "    </tr>\n",
              "    <tr>\n",
              "      <th>8</th>\n",
              "      <td>4.4</td>\n",
              "      <td>2.9</td>\n",
              "      <td>1.4</td>\n",
              "      <td>0.2</td>\n",
              "      <td>0</td>\n",
              "    </tr>\n",
              "    <tr>\n",
              "      <th>9</th>\n",
              "      <td>4.9</td>\n",
              "      <td>3.1</td>\n",
              "      <td>1.5</td>\n",
              "      <td>0.1</td>\n",
              "      <td>0</td>\n",
              "    </tr>\n",
              "  </tbody>\n",
              "</table>\n",
              "</div>"
            ],
            "text/plain": [
              "   sepal.length  sepal.width  petal.length  petal.width  variety\n",
              "0           5.1          3.5           1.4          0.2        0\n",
              "1           4.9          3.0           1.4          0.2        0\n",
              "2           4.7          3.2           1.3          0.2        0\n",
              "3           4.6          3.1           1.5          0.2        0\n",
              "4           5.0          3.6           1.4          0.2        0\n",
              "5           5.4          3.9           1.7          0.4        0\n",
              "6           4.6          3.4           1.4          0.3        0\n",
              "7           5.0          3.4           1.5          0.2        0\n",
              "8           4.4          2.9           1.4          0.2        0\n",
              "9           4.9          3.1           1.5          0.1        0"
            ]
          },
          "metadata": {
            "tags": []
          },
          "execution_count": 80
        }
      ]
    },
    {
      "cell_type": "markdown",
      "metadata": {
        "id": "KtqnXSKV32Vb",
        "colab_type": "text"
      },
      "source": [
        "# 토치 텐서형 데이터로 변환"
      ]
    },
    {
      "cell_type": "code",
      "metadata": {
        "id": "fo00ML2W30S9",
        "colab_type": "code",
        "colab": {
          "base_uri": "https://localhost:8080/",
          "height": 107
        },
        "outputId": "f0a20036-963f-4e55-bec3-966561eaf877"
      },
      "source": [
        "\n",
        "train_X, test_X, train_y, test_y = train_test_split(dataset[dataset.columns[0:4]].values,\n",
        "                                                    dataset.variety.values, test_size=0.5)\n",
        "\n",
        "# 토치 모맷으로 데이터 바꾸기\n",
        "train_X = Variable(torch.Tensor(train_X).float())\n",
        "test_X = Variable(torch.Tensor(test_X).float())\n",
        "train_y = Variable(torch.Tensor(train_y).long())   ## long =정수\n",
        "test_y = Variable(torch.Tensor(test_y).long())\n",
        "\n",
        "train_X[0:5]"
      ],
      "execution_count": 87,
      "outputs": [
        {
          "output_type": "execute_result",
          "data": {
            "text/plain": [
              "tensor([[5.1000, 2.5000, 3.0000, 1.1000],\n",
              "        [4.9000, 3.0000, 1.4000, 0.2000],\n",
              "        [5.6000, 2.5000, 3.9000, 1.1000],\n",
              "        [4.9000, 2.4000, 3.3000, 1.0000],\n",
              "        [5.5000, 4.2000, 1.4000, 0.2000]])"
            ]
          },
          "metadata": {
            "tags": []
          },
          "execution_count": 87
        }
      ]
    },
    {
      "cell_type": "markdown",
      "metadata": {
        "id": "hkzoIdeOzdUE",
        "colab_type": "text"
      },
      "source": [
        "# 모형설정"
      ]
    },
    {
      "cell_type": "code",
      "metadata": {
        "id": "iOLQqtrtvhGb",
        "colab_type": "code",
        "colab": {}
      },
      "source": [
        "class Net(nn.Module):\n",
        "    # define nn\n",
        "    def __init__(self):\n",
        "        super(Net, self).__init__()\n",
        "        #self.fc1 = nn.Linear(4, 100)       # input layer\n",
        "        #self.fc2 = nn.Linear(100, 100)     # hidden layer\n",
        "        self.fc3 = nn.Linear(4, 3)       # output layer\n",
        "        self.softmax = nn.Softmax(dim=1)   \n",
        "\n",
        "    def forward(self, X):                  # 활성화함수 지정\n",
        "        #X = F.relu(self.fc1(X))\n",
        "        #X = self.fc2(X)\n",
        "        X = self.fc3(X)\n",
        "        X = self.softmax(X)\n",
        "\n",
        "        return X"
      ],
      "execution_count": 0,
      "outputs": []
    },
    {
      "cell_type": "code",
      "metadata": {
        "id": "STi8VrRS4lC0",
        "colab_type": "code",
        "colab": {}
      },
      "source": [
        "net = Net()\n",
        "\n",
        "criterion = nn.CrossEntropyLoss()# cross entropy loss\n",
        "\n",
        "optimizer = torch.optim.SGD(net.parameters(), lr=0.01)"
      ],
      "execution_count": 0,
      "outputs": []
    },
    {
      "cell_type": "markdown",
      "metadata": {
        "id": "wknbxXuC0cn0",
        "colab_type": "text"
      },
      "source": [
        "# 학습 실행"
      ]
    },
    {
      "cell_type": "code",
      "metadata": {
        "id": "utuf84Jc6p4v",
        "colab_type": "code",
        "colab": {
          "base_uri": "https://localhost:8080/",
          "height": 233
        },
        "outputId": "50940700-b85e-4080-a48b-3f018795815a"
      },
      "source": [
        "for epoch in range(1000):\n",
        "    optimizer.zero_grad()\n",
        "    hypothesis = net(train_X)      # yhat=f(X)\n",
        "    loss = criterion(hypothesis, train_y)\n",
        "    loss.backward()\n",
        "    optimizer.step()\n",
        "    \n",
        "    if epoch % 100 == 0:\n",
        "        print('number of epoch=', epoch, 'loss=', loss.data)\n",
        "\n",
        "predict_out = net(test_X)\n",
        "_, predict_y = torch.max(predict_out, 1)\n",
        "import numpy as np;\n",
        "print('===================>>>>>>')\n",
        "\n",
        "print('test-set prediction accuracy = ', np.round(100*accuracy_score(test_y.data, predict_y.data),2), \"%\")"
      ],
      "execution_count": 109,
      "outputs": [
        {
          "output_type": "stream",
          "text": [
            "number of epoch= 0 loss= tensor(0.7680)\n",
            "number of epoch= 100 loss= tensor(0.7649)\n",
            "number of epoch= 200 loss= tensor(0.7620)\n",
            "number of epoch= 300 loss= tensor(0.7592)\n",
            "number of epoch= 400 loss= tensor(0.7565)\n",
            "number of epoch= 500 loss= tensor(0.7539)\n",
            "number of epoch= 600 loss= tensor(0.7513)\n",
            "number of epoch= 700 loss= tensor(0.7488)\n",
            "number of epoch= 800 loss= tensor(0.7465)\n",
            "number of epoch= 900 loss= tensor(0.7441)\n",
            "===================>>>>>>\n",
            "test-set prediction accuracy =  100.0 %\n"
          ],
          "name": "stdout"
        }
      ]
    },
    {
      "cell_type": "code",
      "metadata": {
        "id": "KE3MIAvEwUok",
        "colab_type": "code",
        "colab": {
          "base_uri": "https://localhost:8080/",
          "height": 107
        },
        "outputId": "2f61f7a4-c8cd-40e1-bf89-8231adfce7fc"
      },
      "source": [
        "print(list(net.parameters()))"
      ],
      "execution_count": 110,
      "outputs": [
        {
          "output_type": "stream",
          "text": [
            "[Parameter containing:\n",
            "tensor([[ 0.5649,  1.1162, -1.3769, -0.6482],\n",
            "        [ 0.4114, -0.2770,  0.0897,  0.0811],\n",
            "        [-0.7857, -0.6155,  1.6574,  1.0153]], requires_grad=True), Parameter containing:\n",
            "tensor([ 0.1311,  0.5314, -0.1511], requires_grad=True)]\n"
          ],
          "name": "stdout"
        }
      ]
    }
  ]
}