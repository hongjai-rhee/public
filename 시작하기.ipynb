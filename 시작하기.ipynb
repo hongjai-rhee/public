{
  "nbformat": 4,
  "nbformat_minor": 0,
  "metadata": {
    "colab": {
      "name": "시작하기.ipynb",
      "provenance": [],
      "authorship_tag": "ABX9TyN9R9nt3r6Bj5NLy8F0ifWk",
      "include_colab_link": true
    },
    "kernelspec": {
      "name": "python3",
      "display_name": "Python 3"
    }
  },
  "cells": [
    {
      "cell_type": "markdown",
      "metadata": {
        "id": "view-in-github",
        "colab_type": "text"
      },
      "source": [
        "<a href=\"https://colab.research.google.com/github/hongjai-rhee/public/blob/master/%EC%8B%9C%EC%9E%91%ED%95%98%EA%B8%B0.ipynb\" target=\"_parent\"><img src=\"https://colab.research.google.com/assets/colab-badge.svg\" alt=\"Open In Colab\"/></a>"
      ]
    },
    {
      "cell_type": "markdown",
      "metadata": {
        "id": "UTdLtTsxjV4M",
        "colab_type": "text"
      },
      "source": [
        "# 데이터 생성과정이 알려져 있는 경우의 학습과정을 살펴봅시다\n",
        "아래 데이터는 y= 3+x1-2*x2의 식으로 만들어져 있습니다. \n"
      ]
    },
    {
      "cell_type": "code",
      "metadata": {
        "id": "-LR-6wR4jTkP",
        "colab_type": "code",
        "outputId": "7f11a3ba-cbb9-45e1-d521-52d20e1e6b38",
        "colab": {
          "base_uri": "https://localhost:8080/",
          "height": 208
        }
      },
      "source": [
        "# 필요한 라이브러리 불러오기\n",
        "import pandas as pd; import numpy as np; from keras.models import Sequential; from keras.layers import Dense, Dropout, Activation\n",
        "# 깃허브의 데이터 부르기\n",
        "!git clone https://github.com/hongjai-rhee/public.git\n",
        "## 깃허브 디렉토리 마운트\n",
        "dat = pd.read_csv('/content/public/trivial.csv')\n",
        "dat = np.array(dat)\n",
        "x=dat[:,0:2]\n",
        "y=dat[:,2]\n",
        "print(x.shape, y.shape)\n"
      ],
      "execution_count": 1,
      "outputs": [
        {
          "output_type": "stream",
          "text": [
            "Using TensorFlow backend.\n"
          ],
          "name": "stderr"
        },
        {
          "output_type": "display_data",
          "data": {
            "text/html": [
              "<p style=\"color: red;\">\n",
              "The default version of TensorFlow in Colab will soon switch to TensorFlow 2.x.<br>\n",
              "We recommend you <a href=\"https://www.tensorflow.org/guide/migrate\" target=\"_blank\">upgrade</a> now \n",
              "or ensure your notebook will continue to use TensorFlow 1.x via the <code>%tensorflow_version 1.x</code> magic:\n",
              "<a href=\"https://colab.research.google.com/notebooks/tensorflow_version.ipynb\" target=\"_blank\">more info</a>.</p>\n"
            ],
            "text/plain": [
              "<IPython.core.display.HTML object>"
            ]
          },
          "metadata": {
            "tags": []
          }
        },
        {
          "output_type": "stream",
          "text": [
            "Cloning into 'public'...\n",
            "remote: Enumerating objects: 75, done.\u001b[K\n",
            "remote: Counting objects: 100% (75/75), done.\u001b[K\n",
            "remote: Compressing objects: 100% (64/64), done.\u001b[K\n",
            "remote: Total 75 (delta 28), reused 40 (delta 10), pack-reused 0\u001b[K\n",
            "Unpacking objects: 100% (75/75), done.\n",
            "(1000, 2) (1000,)\n"
          ],
          "name": "stdout"
        }
      ]
    },
    {
      "cell_type": "markdown",
      "metadata": {
        "id": "6d9uawyTkXzt",
        "colab_type": "text"
      },
      "source": [
        "# 데이터를 훈련과 검증 셋으로 나누어 줍니다 "
      ]
    },
    {
      "cell_type": "code",
      "metadata": {
        "id": "IcRK2_AlkgL0",
        "colab_type": "code",
        "colab": {
          "base_uri": "https://localhost:8080/",
          "height": 35
        },
        "outputId": "dd79f852-402f-4f9f-ee67-01aa5d7757ce"
      },
      "source": [
        "\n",
        "x_train=x[0:800,];x_test=x[800:1000,]\n",
        "y_train=y[0:800,];y_test=y[800:1000,]\n",
        "print(x_train.shape, x_test.shape, y_train.shape, y_test.shape)\n"
      ],
      "execution_count": 2,
      "outputs": [
        {
          "output_type": "stream",
          "text": [
            "(800, 2) (200, 2) (800,) (200,)\n"
          ],
          "name": "stdout"
        }
      ]
    },
    {
      "cell_type": "markdown",
      "metadata": {
        "id": "uJTOvSgtkqCc",
        "colab_type": "text"
      },
      "source": [
        "# 모델을 설정합니다."
      ]
    },
    {
      "cell_type": "code",
      "metadata": {
        "id": "pNxu9_p1kkgE",
        "colab_type": "code",
        "colab": {
          "base_uri": "https://localhost:8080/",
          "height": 197
        },
        "outputId": "9b289fd9-7ea0-4f09-c100-1d36f5761d5a"
      },
      "source": [
        "model = Sequential()\n",
        "model.add(Dense(1, input_dim=2, kernel_initializer='he_normal', activation='linear'))\n",
        "model.summary()\n"
      ],
      "execution_count": 4,
      "outputs": [
        {
          "output_type": "stream",
          "text": [
            "Model: \"sequential_2\"\n",
            "_________________________________________________________________\n",
            "Layer (type)                 Output Shape              Param #   \n",
            "=================================================================\n",
            "dense_2 (Dense)              (None, 1)                 3         \n",
            "=================================================================\n",
            "Total params: 3\n",
            "Trainable params: 3\n",
            "Non-trainable params: 0\n",
            "_________________________________________________________________\n"
          ],
          "name": "stdout"
        }
      ]
    },
    {
      "cell_type": "markdown",
      "metadata": {
        "id": "CUWf4Sh3mxkE",
        "colab_type": "text"
      },
      "source": [
        "# 학습시키기\n",
        "mse를 낮추는 방향으로 파라미터가 변화합니다.\n"
      ]
    },
    {
      "cell_type": "code",
      "metadata": {
        "id": "LSJpy53Xk0qk",
        "colab_type": "code",
        "colab": {
          "base_uri": "https://localhost:8080/",
          "height": 1000
        },
        "outputId": "d6beaee3-6122-4dc0-c9c1-d59c89b97a5f"
      },
      "source": [
        "EPOCH=100  ## 학습횟수 정하기\n",
        "# 모델 학습과정 설정하기\n",
        "model.compile(optimizer='rmsprop', loss='mse')\n",
        "# 모델 학습시키기\n",
        "hist = model.fit(x_train, y_train, epochs = EPOCH, verbose = 2)\n",
        "\n",
        "from sklearn.metrics import r2_score; import matplotlib.pyplot as plt\n",
        "# 5. 학습과정 살펴보기\n",
        "plt.plot(range(EPOCH), hist.history['loss'], label='Mean Square Errors', color='darkred')\n",
        "plt.xlabel('epochs')\n",
        "plt.ylabel('MSE')\n",
        "plt.title('Change of MSE over epochs')\n",
        "plt.show()"
      ],
      "execution_count": 13,
      "outputs": [
        {
          "output_type": "stream",
          "text": [
            "Epoch 1/100\n",
            " - 0s - loss: 1.6138e-06\n",
            "Epoch 2/100\n",
            " - 0s - loss: 1.0615e-06\n",
            "Epoch 3/100\n",
            " - 0s - loss: 1.0613e-06\n",
            "Epoch 4/100\n",
            " - 0s - loss: 9.3493e-07\n",
            "Epoch 5/100\n",
            " - 0s - loss: 1.0297e-06\n",
            "Epoch 6/100\n",
            " - 0s - loss: 1.0473e-06\n",
            "Epoch 7/100\n",
            " - 0s - loss: 1.1486e-06\n",
            "Epoch 8/100\n",
            " - 0s - loss: 8.1008e-07\n",
            "Epoch 9/100\n",
            " - 0s - loss: 9.6486e-07\n",
            "Epoch 10/100\n",
            " - 0s - loss: 1.0915e-06\n",
            "Epoch 11/100\n",
            " - 0s - loss: 1.1114e-06\n",
            "Epoch 12/100\n",
            " - 0s - loss: 9.7989e-07\n",
            "Epoch 13/100\n",
            " - 0s - loss: 1.0587e-06\n",
            "Epoch 14/100\n",
            " - 0s - loss: 9.2505e-07\n",
            "Epoch 15/100\n",
            " - 0s - loss: 1.0747e-06\n",
            "Epoch 16/100\n",
            " - 0s - loss: 1.0189e-06\n",
            "Epoch 17/100\n",
            " - 0s - loss: 9.6872e-07\n",
            "Epoch 18/100\n",
            " - 0s - loss: 1.1427e-06\n",
            "Epoch 19/100\n",
            " - 0s - loss: 9.8888e-07\n",
            "Epoch 20/100\n",
            " - 0s - loss: 8.4907e-07\n",
            "Epoch 21/100\n",
            " - 0s - loss: 1.1531e-06\n",
            "Epoch 22/100\n",
            " - 0s - loss: 9.7161e-07\n",
            "Epoch 23/100\n",
            " - 0s - loss: 1.1103e-06\n",
            "Epoch 24/100\n",
            " - 0s - loss: 1.0155e-06\n",
            "Epoch 25/100\n",
            " - 0s - loss: 1.0300e-06\n",
            "Epoch 26/100\n",
            " - 0s - loss: 9.5710e-07\n",
            "Epoch 27/100\n",
            " - 0s - loss: 1.0318e-06\n",
            "Epoch 28/100\n",
            " - 0s - loss: 1.0725e-06\n",
            "Epoch 29/100\n",
            " - 0s - loss: 1.0096e-06\n",
            "Epoch 30/100\n",
            " - 0s - loss: 1.0363e-06\n",
            "Epoch 31/100\n",
            " - 0s - loss: 9.8480e-07\n",
            "Epoch 32/100\n",
            " - 0s - loss: 9.4380e-07\n",
            "Epoch 33/100\n",
            " - 0s - loss: 1.1757e-06\n",
            "Epoch 34/100\n",
            " - 0s - loss: 1.0029e-06\n",
            "Epoch 35/100\n",
            " - 0s - loss: 9.8249e-07\n",
            "Epoch 36/100\n",
            " - 0s - loss: 1.0008e-06\n",
            "Epoch 37/100\n",
            " - 0s - loss: 1.0663e-06\n",
            "Epoch 38/100\n",
            " - 0s - loss: 1.1145e-06\n",
            "Epoch 39/100\n",
            " - 0s - loss: 8.8096e-07\n",
            "Epoch 40/100\n",
            " - 0s - loss: 1.0793e-06\n",
            "Epoch 41/100\n",
            " - 0s - loss: 1.0077e-06\n",
            "Epoch 42/100\n",
            " - 0s - loss: 1.1078e-06\n",
            "Epoch 43/100\n",
            " - 0s - loss: 8.9210e-07\n",
            "Epoch 44/100\n",
            " - 0s - loss: 9.4824e-07\n",
            "Epoch 45/100\n",
            " - 0s - loss: 1.0748e-06\n",
            "Epoch 46/100\n",
            " - 0s - loss: 1.0723e-06\n",
            "Epoch 47/100\n",
            " - 0s - loss: 9.9790e-07\n",
            "Epoch 48/100\n",
            " - 0s - loss: 1.0925e-06\n",
            "Epoch 49/100\n",
            " - 0s - loss: 9.8136e-07\n",
            "Epoch 50/100\n",
            " - 0s - loss: 1.0030e-06\n",
            "Epoch 51/100\n",
            " - 0s - loss: 9.8271e-07\n",
            "Epoch 52/100\n",
            " - 0s - loss: 1.0523e-06\n",
            "Epoch 53/100\n",
            " - 0s - loss: 1.0186e-06\n",
            "Epoch 54/100\n",
            " - 0s - loss: 9.4903e-07\n",
            "Epoch 55/100\n",
            " - 0s - loss: 1.1216e-06\n",
            "Epoch 56/100\n",
            " - 0s - loss: 1.0142e-06\n",
            "Epoch 57/100\n",
            " - 0s - loss: 9.6016e-07\n",
            "Epoch 58/100\n",
            " - 0s - loss: 1.1050e-06\n",
            "Epoch 59/100\n",
            " - 0s - loss: 9.6279e-07\n",
            "Epoch 60/100\n",
            " - 0s - loss: 1.0802e-06\n",
            "Epoch 61/100\n",
            " - 0s - loss: 1.0459e-06\n",
            "Epoch 62/100\n",
            " - 0s - loss: 9.0323e-07\n",
            "Epoch 63/100\n",
            " - 0s - loss: 1.0904e-06\n",
            "Epoch 64/100\n",
            " - 0s - loss: 1.0924e-06\n",
            "Epoch 65/100\n",
            " - 0s - loss: 8.9823e-07\n",
            "Epoch 66/100\n",
            " - 0s - loss: 1.0111e-06\n",
            "Epoch 67/100\n",
            " - 0s - loss: 1.1499e-06\n",
            "Epoch 68/100\n",
            " - 0s - loss: 9.2605e-07\n",
            "Epoch 69/100\n",
            " - 0s - loss: 1.0973e-06\n",
            "Epoch 70/100\n",
            " - 0s - loss: 1.0126e-06\n",
            "Epoch 71/100\n",
            " - 0s - loss: 1.0431e-06\n",
            "Epoch 72/100\n",
            " - 0s - loss: 9.2233e-07\n",
            "Epoch 73/100\n",
            " - 0s - loss: 1.0866e-06\n",
            "Epoch 74/100\n",
            " - 0s - loss: 9.6215e-07\n",
            "Epoch 75/100\n",
            " - 0s - loss: 1.0002e-06\n",
            "Epoch 76/100\n",
            " - 0s - loss: 1.0559e-06\n",
            "Epoch 77/100\n",
            " - 0s - loss: 1.0631e-06\n",
            "Epoch 78/100\n",
            " - 0s - loss: 9.7499e-07\n",
            "Epoch 79/100\n",
            " - 0s - loss: 1.0425e-06\n",
            "Epoch 80/100\n",
            " - 0s - loss: 1.0348e-06\n",
            "Epoch 81/100\n",
            " - 0s - loss: 1.0635e-06\n",
            "Epoch 82/100\n",
            " - 0s - loss: 9.8642e-07\n",
            "Epoch 83/100\n",
            " - 0s - loss: 9.4281e-07\n",
            "Epoch 84/100\n",
            " - 0s - loss: 1.0535e-06\n",
            "Epoch 85/100\n",
            " - 0s - loss: 1.0744e-06\n",
            "Epoch 86/100\n",
            " - 0s - loss: 1.0572e-06\n",
            "Epoch 87/100\n",
            " - 0s - loss: 9.0693e-07\n",
            "Epoch 88/100\n",
            " - 0s - loss: 1.0777e-06\n",
            "Epoch 89/100\n",
            " - 0s - loss: 1.0423e-06\n",
            "Epoch 90/100\n",
            " - 0s - loss: 9.9495e-07\n",
            "Epoch 91/100\n",
            " - 0s - loss: 1.0603e-06\n",
            "Epoch 92/100\n",
            " - 0s - loss: 1.0712e-06\n",
            "Epoch 93/100\n",
            " - 0s - loss: 9.9590e-07\n",
            "Epoch 94/100\n",
            " - 0s - loss: 9.6199e-07\n",
            "Epoch 95/100\n",
            " - 0s - loss: 1.0116e-06\n",
            "Epoch 96/100\n",
            " - 0s - loss: 1.0492e-06\n",
            "Epoch 97/100\n",
            " - 0s - loss: 1.0489e-06\n",
            "Epoch 98/100\n",
            " - 0s - loss: 1.0006e-06\n",
            "Epoch 99/100\n",
            " - 0s - loss: 1.0620e-06\n",
            "Epoch 100/100\n",
            " - 0s - loss: 9.9392e-07\n"
          ],
          "name": "stdout"
        },
        {
          "output_type": "display_data",
          "data": {
            "image/png": "[encoded data removed]",
            "text/plain": [
              "<Figure size 432x288 with 1 Axes>"
            ]
          },
          "metadata": {
            "tags": []
          }
        }
      ]
    },
    {
      "cell_type": "markdown",
      "metadata": {
        "id": "7t_sP-77nCpe",
        "colab_type": "text"
      },
      "source": [
        "# 학습된 파라미터 출력"
      ]
    },
    {
      "cell_type": "code",
      "metadata": {
        "id": "MNoi4EoPmeSH",
        "colab_type": "code",
        "colab": {
          "base_uri": "https://localhost:8080/",
          "height": 53
        },
        "outputId": "d330f29b-1869-41b6-d72e-b0d143fd08a7"
      },
      "source": [
        "print(model.layers[0].get_weights())\n"
      ],
      "execution_count": 14,
      "outputs": [
        {
          "output_type": "stream",
          "text": [
            "[array([[ 1.0006069],\n",
            "       [-1.9993892]], dtype=float32), array([3.0003648], dtype=float32)]\n"
          ],
          "name": "stdout"
        }
      ]
    },
    {
      "cell_type": "markdown",
      "metadata": {
        "id": "6J10kO4enPGW",
        "colab_type": "text"
      },
      "source": [
        "# 예측하기"
      ]
    },
    {
      "cell_type": "code",
      "metadata": {
        "id": "SttxSP6Wmnic",
        "colab_type": "code",
        "colab": {
          "base_uri": "https://localhost:8080/",
          "height": 269
        },
        "outputId": "807d4901-8677-4d6f-849c-04d3f8c16b12"
      },
      "source": [
        " \n",
        "x_new= x_test[0:5]; print('X');print(np.round(x_new,2)); \n",
        "yhat = model.predict(x_new)\n",
        "print('predicted value'); print(np.round(yhat,2))\n",
        "print('true value'); print(np.round(y_test[0:5],2))\n",
        "## EOF\n"
      ],
      "execution_count": 12,
      "outputs": [
        {
          "output_type": "stream",
          "text": [
            "X\n",
            "[[0.32 0.24]\n",
            " [0.71 0.59]\n",
            " [0.35 0.45]\n",
            " [0.32 0.56]\n",
            " [0.18 0.44]]\n",
            "predicted value\n",
            "[[2.84]\n",
            " [2.53]\n",
            " [2.45]\n",
            " [2.21]\n",
            " [2.29]]\n",
            "true value\n",
            "[2.84 2.52 2.45 2.21 2.29]\n"
          ],
          "name": "stdout"
        }
      ]
    },
    {
      "cell_type": "markdown",
      "metadata": {
        "id": "NlEgghZvnWUF",
        "colab_type": "text"
      },
      "source": [
        "# 불확실성의 탐험\n",
        "사실 우리는 f(X)의 형태를 알지 못합니다. 적절한 네트워크의 구조를 찾아, 충분히 학습하는 것이 필요합니다. \n"
      ]
    }
  ]
}