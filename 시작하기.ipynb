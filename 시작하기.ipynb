{
  "nbformat": 4,
  "nbformat_minor": 0,
  "metadata": {
    "colab": {
      "name": "시작하기.ipynb",
      "provenance": [],
      "authorship_tag": "ABX9TyPqyvOVatiF80TV71DvWaKh",
      "include_colab_link": true
    },
    "kernelspec": {
      "name": "python3",
      "display_name": "Python 3"
    }
  },
  "cells": [
    {
      "cell_type": "markdown",
      "metadata": {
        "id": "view-in-github",
        "colab_type": "text"
      },
      "source": [
        "<a href=\"https://colab.research.google.com/github/hongjai-rhee/public/blob/master/%EC%8B%9C%EC%9E%91%ED%95%98%EA%B8%B0.ipynb\" target=\"_parent\"><img src=\"https://colab.research.google.com/assets/colab-badge.svg\" alt=\"Open In Colab\"/></a>"
      ]
    },
    {
      "cell_type": "markdown",
      "metadata": {
        "id": "UTdLtTsxjV4M",
        "colab_type": "text"
      },
      "source": [
        "# 데이터 생성과정이 알려져 있는 경우의 학습과정을 살펴봅시다\n",
        "아래 데이터는 y= 3+x1-2*x2의 식으로 만들어져 있습니다. \n"
      ]
    },
    {
      "cell_type": "code",
      "metadata": {
        "id": "-LR-6wR4jTkP",
        "colab_type": "code",
        "colab": {
          "base_uri": "https://localhost:8080/",
          "height": 53
        },
        "outputId": "be23576c-892b-4d75-a36b-fffd125383d6"
      },
      "source": [
        "# 필요한 라이브러리 불러오기\n",
        "import pandas as pd; import numpy as np; from keras.models import Sequential; from keras.layers import Dense, Dropout, Activation\n",
        "# 깃허브의 데이터 부르기\n",
        "!git clone https://github.com/hongjai-rhee/public.git\n",
        "## 깃허브 디렉토리 마운트\n",
        "dat = pd.read_csv('/content/public/trivial.csv')\n",
        "dat = np.array(dat)\n",
        "x=dat[:,0:2]\n",
        "y=dat[:,2]\n",
        "print(x.shape, y.shape)\n"
      ],
      "execution_count": 2,
      "outputs": [
        {
          "output_type": "stream",
          "text": [
            "fatal: destination path 'public' already exists and is not an empty directory.\n",
            "(1000, 2) (1000,)\n"
          ],
          "name": "stdout"
        }
      ]
    }
  ]
}