{
  "nbformat": 4,
  "nbformat_minor": 0,
  "metadata": {
    "colab": {
      "name": "[7]브랜드선택_DNN.ipynb",
      "provenance": [],
      "collapsed_sections": [],
      "authorship_tag": "ABX9TyNIjtVygEbAGv9YrxR/gwc1",
      "include_colab_link": true
    },
    "kernelspec": {
      "name": "python3",
      "display_name": "Python 3"
    }
  },
  "cells": [
    {
      "cell_type": "markdown",
      "metadata": {
        "id": "view-in-github",
        "colab_type": "text"
      },
      "source": [
        "<a href=\"https://colab.research.google.com/github/hongjai-rhee/public/blob/master/%5B7%5D%EB%B8%8C%EB%9E%9C%EB%93%9C%EC%84%A0%ED%83%9D_DNN.ipynb\" target=\"_parent\"><img src=\"https://colab.research.google.com/assets/colab-badge.svg\" alt=\"Open In Colab\"/></a>"
      ]
    },
    {
      "cell_type": "markdown",
      "metadata": {
        "id": "xVzg33gfQJlg",
        "colab_type": "text"
      },
      "source": [
        "# 신경망을 사용하여 브랜드 선택을 학습하여 보자"
      ]
    },
    {
      "cell_type": "markdown",
      "metadata": {
        "id": "BWkFoo5bzzQh",
        "colab_type": "text"
      },
      "source": [
        "# 데이터 불러오기\n",
        "데이터파일 이름을 지정한 후, 해당 파일을 코랩에 마운트하고\n",
        "필요한 라이브러리를 불러온다\n"
      ]
    },
    {
      "cell_type": "code",
      "metadata": {
        "id": "BXXIvoqMygeA",
        "colab_type": "code",
        "outputId": "e9b1e97f-9bd7-4b68-85b6-37f8b4bd67bf",
        "colab": {
          "base_uri": "https://localhost:8080/",
          "height": 208
        }
      },
      "source": [
        "## 필요한 라이브러리 불러오기\n",
        "import pandas as pd; import numpy as np; from keras.models import Sequential; from keras.layers import Dense, Dropout, Activation; import matplotlib.pyplot as plt \n",
        "from sklearn.model_selection import train_test_split; from keras.utils.np_utils import to_categorical;  from matplotlib import style\n",
        "\n",
        "!git clone https://github.com/hongjai-rhee/public.git\n",
        " "
      ],
      "execution_count": 1,
      "outputs": [
        {
          "output_type": "stream",
          "text": [
            "Using TensorFlow backend.\n"
          ],
          "name": "stderr"
        },
        {
          "output_type": "display_data",
          "data": {
            "text/html": [
              "<p style=\"color: red;\">\n",
              "The default version of TensorFlow in Colab will soon switch to TensorFlow 2.x.<br>\n",
              "We recommend you <a href=\"https://www.tensorflow.org/guide/migrate\" target=\"_blank\">upgrade</a> now \n",
              "or ensure your notebook will continue to use TensorFlow 1.x via the <code>%tensorflow_version 1.x</code> magic:\n",
              "<a href=\"https://colab.research.google.com/notebooks/tensorflow_version.ipynb\" target=\"_blank\">more info</a>.</p>\n"
            ],
            "text/plain": [
              "<IPython.core.display.HTML object>"
            ]
          },
          "metadata": {
            "tags": []
          }
        },
        {
          "output_type": "stream",
          "text": [
            "Cloning into 'public'...\n",
            "remote: Enumerating objects: 26, done.\u001b[K\n",
            "remote: Counting objects: 100% (26/26), done.\u001b[K\n",
            "remote: Compressing objects: 100% (23/23), done.\u001b[K\n",
            "remote: Total 379 (delta 12), reused 7 (delta 3), pack-reused 353\u001b[K\n",
            "Receiving objects: 100% (379/379), 9.77 MiB | 29.86 MiB/s, done.\n",
            "Resolving deltas: 100% (190/190), done.\n"
          ],
          "name": "stdout"
        }
      ]
    },
    {
      "cell_type": "code",
      "metadata": {
        "id": "px23XmB988ya",
        "colab_type": "code",
        "outputId": "66ee22c8-8d98-4616-9506-60a2ebc5a2ec",
        "colab": {
          "base_uri": "https://localhost:8080/",
          "height": 204
        }
      },
      "source": [
        "## 데이터 불러오기  \n",
        "dat = pd.read_csv('/content/public/choice500.csv')\n",
        "dat.head()\n"
      ],
      "execution_count": 2,
      "outputs": [
        {
          "output_type": "execute_result",
          "data": {
            "text/html": [
              "<div>\n",
              "<style scoped>\n",
              "    .dataframe tbody tr th:only-of-type {\n",
              "        vertical-align: middle;\n",
              "    }\n",
              "\n",
              "    .dataframe tbody tr th {\n",
              "        vertical-align: top;\n",
              "    }\n",
              "\n",
              "    .dataframe thead th {\n",
              "        text-align: right;\n",
              "    }\n",
              "</style>\n",
              "<table border=\"1\" class=\"dataframe\">\n",
              "  <thead>\n",
              "    <tr style=\"text-align: right;\">\n",
              "      <th></th>\n",
              "      <th>age</th>\n",
              "      <th>male</th>\n",
              "      <th>heavy</th>\n",
              "      <th>price1</th>\n",
              "      <th>price2</th>\n",
              "      <th>price3</th>\n",
              "      <th>ad1</th>\n",
              "      <th>ad2</th>\n",
              "      <th>ad3</th>\n",
              "      <th>disp1</th>\n",
              "      <th>disp2</th>\n",
              "      <th>disp3</th>\n",
              "      <th>buy</th>\n",
              "    </tr>\n",
              "  </thead>\n",
              "  <tbody>\n",
              "    <tr>\n",
              "      <th>0</th>\n",
              "      <td>63</td>\n",
              "      <td>0</td>\n",
              "      <td>0</td>\n",
              "      <td>1.75</td>\n",
              "      <td>1.30</td>\n",
              "      <td>1.73</td>\n",
              "      <td>1</td>\n",
              "      <td>1</td>\n",
              "      <td>1</td>\n",
              "      <td>0</td>\n",
              "      <td>1</td>\n",
              "      <td>1</td>\n",
              "      <td>2</td>\n",
              "    </tr>\n",
              "    <tr>\n",
              "      <th>1</th>\n",
              "      <td>29</td>\n",
              "      <td>1</td>\n",
              "      <td>1</td>\n",
              "      <td>1.65</td>\n",
              "      <td>1.43</td>\n",
              "      <td>1.66</td>\n",
              "      <td>1</td>\n",
              "      <td>1</td>\n",
              "      <td>1</td>\n",
              "      <td>0</td>\n",
              "      <td>0</td>\n",
              "      <td>1</td>\n",
              "      <td>3</td>\n",
              "    </tr>\n",
              "    <tr>\n",
              "      <th>2</th>\n",
              "      <td>30</td>\n",
              "      <td>1</td>\n",
              "      <td>1</td>\n",
              "      <td>1.62</td>\n",
              "      <td>1.53</td>\n",
              "      <td>1.76</td>\n",
              "      <td>0</td>\n",
              "      <td>0</td>\n",
              "      <td>0</td>\n",
              "      <td>1</td>\n",
              "      <td>0</td>\n",
              "      <td>0</td>\n",
              "      <td>1</td>\n",
              "    </tr>\n",
              "    <tr>\n",
              "      <th>3</th>\n",
              "      <td>53</td>\n",
              "      <td>1</td>\n",
              "      <td>1</td>\n",
              "      <td>1.52</td>\n",
              "      <td>1.53</td>\n",
              "      <td>1.76</td>\n",
              "      <td>1</td>\n",
              "      <td>0</td>\n",
              "      <td>1</td>\n",
              "      <td>1</td>\n",
              "      <td>1</td>\n",
              "      <td>1</td>\n",
              "      <td>3</td>\n",
              "    </tr>\n",
              "    <tr>\n",
              "      <th>4</th>\n",
              "      <td>55</td>\n",
              "      <td>0</td>\n",
              "      <td>0</td>\n",
              "      <td>1.83</td>\n",
              "      <td>1.62</td>\n",
              "      <td>1.67</td>\n",
              "      <td>1</td>\n",
              "      <td>0</td>\n",
              "      <td>1</td>\n",
              "      <td>0</td>\n",
              "      <td>0</td>\n",
              "      <td>0</td>\n",
              "      <td>3</td>\n",
              "    </tr>\n",
              "  </tbody>\n",
              "</table>\n",
              "</div>"
            ],
            "text/plain": [
              "   age  male  heavy  price1  price2  price3  ...  ad2  ad3  disp1  disp2  disp3  buy\n",
              "0   63     0      0    1.75    1.30    1.73  ...    1    1      0      1      1    2\n",
              "1   29     1      1    1.65    1.43    1.66  ...    1    1      0      0      1    3\n",
              "2   30     1      1    1.62    1.53    1.76  ...    0    0      1      0      0    1\n",
              "3   53     1      1    1.52    1.53    1.76  ...    0    1      1      1      1    3\n",
              "4   55     0      0    1.83    1.62    1.67  ...    0    1      0      0      0    3\n",
              "\n",
              "[5 rows x 13 columns]"
            ]
          },
          "metadata": {
            "tags": []
          },
          "execution_count": 2
        }
      ]
    },
    {
      "cell_type": "markdown",
      "metadata": {
        "id": "HsaSGzNM5OPq",
        "colab_type": "text"
      },
      "source": [
        "# 데이터의 구조를 살펴보자"
      ]
    },
    {
      "cell_type": "code",
      "metadata": {
        "id": "Y0-r00OM0KMY",
        "colab_type": "code",
        "outputId": "9168a64c-5f4d-4e01-86cd-8d178c00a793",
        "colab": {
          "base_uri": "https://localhost:8080/",
          "height": 702
        }
      },
      "source": [
        "## 1. 데이터 살펴보기  \n",
        "dat = np.array(dat); ncol=dat.shape[1]; nrow=dat.shape[0]\n",
        "x=dat[:,0:ncol-1]; y=dat[:,ncol-1]-1  \n",
        "y = to_categorical(y)\n",
        "\n",
        "print('X= 고객특성')\n",
        "print(np.around(x[0:10,:],2))      # 고객특성(나이, 성별, 헤비유저), 3개 브랜드의 (가격, 광고, 스페셜 디스플레이 여부)\n",
        "\n",
        "class_names = ['nabisco', 'keebler', 'sunshine']    ## 브랜드 이름\n",
        "\n",
        "# X 벡터를 이미지로 시각화\n",
        "import copy \n",
        "z=copy.copy(x)\n",
        "z[:,0]=z[:,0]/50\n",
        "z = z.reshape(nrow, 4,3)\n",
        "\n",
        "plt.figure(figsize=(10,5))\n",
        "for i in range(10) :\n",
        "    plt.subplot(2,5,i+1)\n",
        "    plt.xticks([])\n",
        "    plt.yticks([])\n",
        "    plt.grid(False)\n",
        "    plt.imshow(z[i])\n",
        "plt.show()\n",
        "print('y=선택 브랜드의 원핫 코드')\n",
        "print(y[0:10])                     # 선택된 브랜드  "
      ],
      "execution_count": 3,
      "outputs": [
        {
          "output_type": "stream",
          "text": [
            "X= 고객특성\n",
            "[[63.    0.    0.    1.75  1.3   1.73  1.    1.    1.    0.    1.    1.  ]\n",
            " [29.    1.    1.    1.65  1.43  1.66  1.    1.    1.    0.    0.    1.  ]\n",
            " [30.    1.    1.    1.62  1.53  1.76  0.    0.    0.    1.    0.    0.  ]\n",
            " [53.    1.    1.    1.52  1.53  1.76  1.    0.    1.    1.    1.    1.  ]\n",
            " [55.    0.    0.    1.83  1.62  1.67  1.    0.    1.    0.    0.    0.  ]\n",
            " [57.    0.    0.    1.86  1.63  1.72  1.    0.    0.    0.    1.    1.  ]\n",
            " [31.    0.    1.    1.64  1.85  1.62  0.    0.    1.    1.    1.    0.  ]\n",
            " [30.    1.    0.    1.75  1.67  1.78  1.    1.    1.    0.    0.    1.  ]\n",
            " [37.    1.    1.    1.87  1.37  1.77  1.    1.    0.    1.    1.    1.  ]\n",
            " [44.    1.    0.    1.76  1.9   1.74  0.    0.    1.    0.    1.    0.  ]]\n"
          ],
          "name": "stdout"
        },
        {
          "output_type": "display_data",
          "data": {
            "image/png": "[encoded data removed]",
            "text/plain": [
              "<Figure size 720x360 with 10 Axes>"
            ]
          },
          "metadata": {
            "tags": []
          }
        },
        {
          "output_type": "stream",
          "text": [
            "y=선택 브랜드의 원핫 코드\n",
            "[[0. 1. 0.]\n",
            " [0. 0. 1.]\n",
            " [1. 0. 0.]\n",
            " [0. 0. 1.]\n",
            " [0. 0. 1.]\n",
            " [1. 0. 0.]\n",
            " [1. 0. 0.]\n",
            " [0. 0. 1.]\n",
            " [0. 1. 0.]\n",
            " [1. 0. 0.]]\n"
          ],
          "name": "stdout"
        }
      ]
    },
    {
      "cell_type": "markdown",
      "metadata": {
        "id": "7XaW0TKE52Sx",
        "colab_type": "text"
      },
      "source": [
        "# 학습 파라미터를 설정하자"
      ]
    },
    {
      "cell_type": "code",
      "metadata": {
        "id": "MExaDG0H5YlI",
        "colab_type": "code",
        "colab": {}
      },
      "source": [
        "hidden_neuron=4      ## 은닉층(1개)의 뉴론 수 (은닉층 없으면 0으로 설정)\n",
        "EPOCH=200; BATCH=32  ## 학습횟수 \n",
        "test = 0.2           ## 데이터 중 테스트셋의 비율 \n"
      ],
      "execution_count": 0,
      "outputs": []
    },
    {
      "cell_type": "markdown",
      "metadata": {
        "id": "l6Ccjetc8G4J",
        "colab_type": "text"
      },
      "source": [
        "# 모형을 설정하고 학습시키자\n",
        "\n"
      ]
    },
    {
      "cell_type": "code",
      "metadata": {
        "id": "pWDeZE4j6rEa",
        "colab_type": "code",
        "outputId": "aeedc457-de76-4b31-c3b7-8131b33cbf0d",
        "colab": {
          "base_uri": "https://localhost:8080/",
          "height": 1000
        }
      },
      "source": [
        "\n",
        "#### 이 아래는 자동으로 실행됨\n",
        "## 2. 학습/검증 데이터 나누기  (80-20)\n",
        "x_train, x_test, y_train, y_test = train_test_split(x, y, test_size=test, random_state=77)\n",
        "\n",
        "## 3. 모델만들기\n",
        "if hidden_neuron ==0: \n",
        "    model = Sequential()\n",
        "    model.add(Dense(y_train.shape[1], input_dim=x_train.shape[1], activation='softmax'))## 은닉층=0\n",
        "else: \n",
        "    model = Sequential()\n",
        "    model.add(Dense(hidden_neuron, input_dim=x_train.shape[1], activation='relu'))\n",
        "    model.add(Dense(y_train.shape[1], activation='softmax')) ## 은닉층=1\n",
        "\n",
        "model.compile(loss='categorical_crossentropy', optimizer='adam', metrics=['accuracy'])\n",
        "hist = model.fit(x_train, y_train, epochs = EPOCH, batch_size=BATCH, validation_data=(x_test, y_test), verbose = 2)\n",
        "model.summary()\n",
        "\n",
        "# model fit 그림으로 표시\n",
        "plt.plot(range(EPOCH), hist.history['acc'], label='Accuracy', color='darkred')\n",
        "plt.plot(range(EPOCH), hist.history['val_acc'], label='Validation Accuracy', color='darkblue')\n",
        "plt.xlabel('epochs'); plt.ylabel('accuracy(%)'); plt.title('red=train, blue=validation'); plt.show()\n",
        "model.summary()"
      ],
      "execution_count": 5,
      "outputs": [
        {
          "output_type": "stream",
          "text": [
            "WARNING:tensorflow:From /usr/local/lib/python3.6/dist-packages/keras/backend/tensorflow_backend.py:66: The name tf.get_default_graph is deprecated. Please use tf.compat.v1.get_default_graph instead.\n",
            "\n",
            "WARNING:tensorflow:From /usr/local/lib/python3.6/dist-packages/keras/backend/tensorflow_backend.py:541: The name tf.placeholder is deprecated. Please use tf.compat.v1.placeholder instead.\n",
            "\n",
            "WARNING:tensorflow:From /usr/local/lib/python3.6/dist-packages/keras/backend/tensorflow_backend.py:4432: The name tf.random_uniform is deprecated. Please use tf.random.uniform instead.\n",
            "\n",
            "WARNING:tensorflow:From /usr/local/lib/python3.6/dist-packages/keras/optimizers.py:793: The name tf.train.Optimizer is deprecated. Please use tf.compat.v1.train.Optimizer instead.\n",
            "\n",
            "WARNING:tensorflow:From /usr/local/lib/python3.6/dist-packages/keras/backend/tensorflow_backend.py:3576: The name tf.log is deprecated. Please use tf.math.log instead.\n",
            "\n",
            "WARNING:tensorflow:From /usr/local/lib/python3.6/dist-packages/tensorflow_core/python/ops/math_grad.py:1424: where (from tensorflow.python.ops.array_ops) is deprecated and will be removed in a future version.\n",
            "Instructions for updating:\n",
            "Use tf.where in 2.0, which has the same broadcast rule as np.where\n",
            "WARNING:tensorflow:From /usr/local/lib/python3.6/dist-packages/keras/backend/tensorflow_backend.py:1033: The name tf.assign_add is deprecated. Please use tf.compat.v1.assign_add instead.\n",
            "\n",
            "WARNING:tensorflow:From /usr/local/lib/python3.6/dist-packages/keras/backend/tensorflow_backend.py:1020: The name tf.assign is deprecated. Please use tf.compat.v1.assign instead.\n",
            "\n",
            "WARNING:tensorflow:From /usr/local/lib/python3.6/dist-packages/keras/backend/tensorflow_backend.py:3005: The name tf.Session is deprecated. Please use tf.compat.v1.Session instead.\n",
            "\n",
            "Train on 400 samples, validate on 100 samples\n",
            "Epoch 1/200\n",
            "WARNING:tensorflow:From /usr/local/lib/python3.6/dist-packages/keras/backend/tensorflow_backend.py:190: The name tf.get_default_session is deprecated. Please use tf.compat.v1.get_default_session instead.\n",
            "\n",
            "WARNING:tensorflow:From /usr/local/lib/python3.6/dist-packages/keras/backend/tensorflow_backend.py:197: The name tf.ConfigProto is deprecated. Please use tf.compat.v1.ConfigProto instead.\n",
            "\n",
            "WARNING:tensorflow:From /usr/local/lib/python3.6/dist-packages/keras/backend/tensorflow_backend.py:207: The name tf.global_variables is deprecated. Please use tf.compat.v1.global_variables instead.\n",
            "\n",
            "WARNING:tensorflow:From /usr/local/lib/python3.6/dist-packages/keras/backend/tensorflow_backend.py:216: The name tf.is_variable_initialized is deprecated. Please use tf.compat.v1.is_variable_initialized instead.\n",
            "\n",
            "WARNING:tensorflow:From /usr/local/lib/python3.6/dist-packages/keras/backend/tensorflow_backend.py:223: The name tf.variables_initializer is deprecated. Please use tf.compat.v1.variables_initializer instead.\n",
            "\n",
            " - 1s - loss: 4.1556 - acc: 0.2300 - val_loss: 3.1032 - val_acc: 0.2100\n",
            "Epoch 2/200\n",
            " - 0s - loss: 3.4965 - acc: 0.2300 - val_loss: 2.5181 - val_acc: 0.2100\n",
            "Epoch 3/200\n",
            " - 0s - loss: 2.9903 - acc: 0.2375 - val_loss: 2.1161 - val_acc: 0.2600\n",
            "Epoch 4/200\n",
            " - 0s - loss: 2.6313 - acc: 0.3250 - val_loss: 1.8732 - val_acc: 0.5200\n",
            "Epoch 5/200\n",
            " - 0s - loss: 2.3824 - acc: 0.4750 - val_loss: 1.7048 - val_acc: 0.6000\n",
            "Epoch 6/200\n",
            " - 0s - loss: 2.1782 - acc: 0.5025 - val_loss: 1.5686 - val_acc: 0.6000\n",
            "Epoch 7/200\n",
            " - 0s - loss: 1.9955 - acc: 0.5025 - val_loss: 1.4483 - val_acc: 0.6000\n",
            "Epoch 8/200\n",
            " - 0s - loss: 1.8318 - acc: 0.5025 - val_loss: 1.3417 - val_acc: 0.6000\n",
            "Epoch 9/200\n",
            " - 0s - loss: 1.6764 - acc: 0.5025 - val_loss: 1.2475 - val_acc: 0.6000\n",
            "Epoch 10/200\n",
            " - 0s - loss: 1.5439 - acc: 0.5025 - val_loss: 1.1646 - val_acc: 0.6000\n",
            "Epoch 11/200\n",
            " - 0s - loss: 1.4271 - acc: 0.5025 - val_loss: 1.0948 - val_acc: 0.6000\n",
            "Epoch 12/200\n",
            " - 0s - loss: 1.3261 - acc: 0.5025 - val_loss: 1.0395 - val_acc: 0.6000\n",
            "Epoch 13/200\n",
            " - 0s - loss: 1.2418 - acc: 0.5025 - val_loss: 0.9991 - val_acc: 0.6000\n",
            "Epoch 14/200\n",
            " - 0s - loss: 1.1796 - acc: 0.5025 - val_loss: 0.9658 - val_acc: 0.6000\n",
            "Epoch 15/200\n",
            " - 0s - loss: 1.1309 - acc: 0.5025 - val_loss: 0.9472 - val_acc: 0.6000\n",
            "Epoch 16/200\n",
            " - 0s - loss: 1.0921 - acc: 0.4975 - val_loss: 0.9391 - val_acc: 0.6100\n",
            "Epoch 17/200\n",
            " - 0s - loss: 1.0722 - acc: 0.4900 - val_loss: 0.9369 - val_acc: 0.6100\n",
            "Epoch 18/200\n",
            " - 0s - loss: 1.0591 - acc: 0.4975 - val_loss: 0.9399 - val_acc: 0.6100\n",
            "Epoch 19/200\n",
            " - 0s - loss: 1.0518 - acc: 0.4875 - val_loss: 0.9448 - val_acc: 0.6200\n",
            "Epoch 20/200\n",
            " - 0s - loss: 1.0479 - acc: 0.4950 - val_loss: 0.9473 - val_acc: 0.6000\n",
            "Epoch 21/200\n",
            " - 0s - loss: 1.0457 - acc: 0.4950 - val_loss: 0.9492 - val_acc: 0.5900\n",
            "Epoch 22/200\n",
            " - 0s - loss: 1.0443 - acc: 0.4925 - val_loss: 0.9487 - val_acc: 0.5900\n",
            "Epoch 23/200\n",
            " - 0s - loss: 1.0429 - acc: 0.4950 - val_loss: 0.9484 - val_acc: 0.5900\n",
            "Epoch 24/200\n",
            " - 0s - loss: 1.0416 - acc: 0.4900 - val_loss: 0.9486 - val_acc: 0.5900\n",
            "Epoch 25/200\n",
            " - 0s - loss: 1.0404 - acc: 0.4925 - val_loss: 0.9472 - val_acc: 0.6000\n",
            "Epoch 26/200\n",
            " - 0s - loss: 1.0391 - acc: 0.4950 - val_loss: 0.9465 - val_acc: 0.6000\n",
            "Epoch 27/200\n",
            " - 0s - loss: 1.0378 - acc: 0.4950 - val_loss: 0.9469 - val_acc: 0.6000\n",
            "Epoch 28/200\n",
            " - 0s - loss: 1.0366 - acc: 0.4950 - val_loss: 0.9468 - val_acc: 0.6000\n",
            "Epoch 29/200\n",
            " - 0s - loss: 1.0354 - acc: 0.4975 - val_loss: 0.9460 - val_acc: 0.6000\n",
            "Epoch 30/200\n",
            " - 0s - loss: 1.0341 - acc: 0.4950 - val_loss: 0.9451 - val_acc: 0.6000\n",
            "Epoch 31/200\n",
            " - 0s - loss: 1.0330 - acc: 0.4950 - val_loss: 0.9448 - val_acc: 0.6000\n",
            "Epoch 32/200\n",
            " - 0s - loss: 1.0319 - acc: 0.5000 - val_loss: 0.9412 - val_acc: 0.6000\n",
            "Epoch 33/200\n",
            " - 0s - loss: 1.0302 - acc: 0.4975 - val_loss: 0.9394 - val_acc: 0.5900\n",
            "Epoch 34/200\n",
            " - 0s - loss: 1.0297 - acc: 0.4975 - val_loss: 0.9406 - val_acc: 0.6000\n",
            "Epoch 35/200\n",
            " - 0s - loss: 1.0277 - acc: 0.4975 - val_loss: 0.9377 - val_acc: 0.5900\n",
            "Epoch 36/200\n",
            " - 0s - loss: 1.0260 - acc: 0.4975 - val_loss: 0.9382 - val_acc: 0.6000\n",
            "Epoch 37/200\n",
            " - 0s - loss: 1.0252 - acc: 0.4975 - val_loss: 0.9382 - val_acc: 0.6000\n",
            "Epoch 38/200\n",
            " - 0s - loss: 1.0236 - acc: 0.5025 - val_loss: 0.9358 - val_acc: 0.6000\n",
            "Epoch 39/200\n",
            " - 0s - loss: 1.0219 - acc: 0.5000 - val_loss: 0.9355 - val_acc: 0.6000\n",
            "Epoch 40/200\n",
            " - 0s - loss: 1.0208 - acc: 0.4975 - val_loss: 0.9340 - val_acc: 0.5900\n",
            "Epoch 41/200\n",
            " - 0s - loss: 1.0194 - acc: 0.4975 - val_loss: 0.9328 - val_acc: 0.5900\n",
            "Epoch 42/200\n",
            " - 0s - loss: 1.0182 - acc: 0.4975 - val_loss: 0.9324 - val_acc: 0.5900\n",
            "Epoch 43/200\n",
            " - 0s - loss: 1.0166 - acc: 0.5000 - val_loss: 0.9329 - val_acc: 0.6000\n",
            "Epoch 44/200\n",
            " - 0s - loss: 1.0153 - acc: 0.4975 - val_loss: 0.9328 - val_acc: 0.6000\n",
            "Epoch 45/200\n",
            " - 0s - loss: 1.0139 - acc: 0.4975 - val_loss: 0.9296 - val_acc: 0.5900\n",
            "Epoch 46/200\n",
            " - 0s - loss: 1.0123 - acc: 0.4975 - val_loss: 0.9277 - val_acc: 0.5900\n",
            "Epoch 47/200\n",
            " - 0s - loss: 1.0110 - acc: 0.5000 - val_loss: 0.9251 - val_acc: 0.6100\n",
            "Epoch 48/200\n",
            " - 0s - loss: 1.0098 - acc: 0.4975 - val_loss: 0.9289 - val_acc: 0.6000\n",
            "Epoch 49/200\n",
            " - 0s - loss: 1.0078 - acc: 0.5000 - val_loss: 0.9267 - val_acc: 0.6000\n",
            "Epoch 50/200\n",
            " - 0s - loss: 1.0068 - acc: 0.5025 - val_loss: 0.9272 - val_acc: 0.6000\n",
            "Epoch 51/200\n",
            " - 0s - loss: 1.0054 - acc: 0.5025 - val_loss: 0.9252 - val_acc: 0.6000\n",
            "Epoch 52/200\n",
            " - 0s - loss: 1.0034 - acc: 0.5000 - val_loss: 0.9234 - val_acc: 0.5900\n",
            "Epoch 53/200\n",
            " - 0s - loss: 1.0019 - acc: 0.5000 - val_loss: 0.9213 - val_acc: 0.5900\n",
            "Epoch 54/200\n",
            " - 0s - loss: 1.0018 - acc: 0.5000 - val_loss: 0.9179 - val_acc: 0.6100\n",
            "Epoch 55/200\n",
            " - 0s - loss: 0.9988 - acc: 0.5025 - val_loss: 0.9209 - val_acc: 0.5900\n",
            "Epoch 56/200\n",
            " - 0s - loss: 0.9982 - acc: 0.5050 - val_loss: 0.9236 - val_acc: 0.6000\n",
            "Epoch 57/200\n",
            " - 0s - loss: 0.9959 - acc: 0.5050 - val_loss: 0.9169 - val_acc: 0.6100\n",
            "Epoch 58/200\n",
            " - 0s - loss: 0.9943 - acc: 0.5000 - val_loss: 0.9147 - val_acc: 0.6100\n",
            "Epoch 59/200\n",
            " - 0s - loss: 0.9926 - acc: 0.5025 - val_loss: 0.9142 - val_acc: 0.6100\n",
            "Epoch 60/200\n",
            " - 0s - loss: 0.9915 - acc: 0.5025 - val_loss: 0.9119 - val_acc: 0.6100\n",
            "Epoch 61/200\n",
            " - 0s - loss: 0.9894 - acc: 0.5025 - val_loss: 0.9122 - val_acc: 0.6100\n",
            "Epoch 62/200\n",
            " - 0s - loss: 0.9882 - acc: 0.5025 - val_loss: 0.9105 - val_acc: 0.6100\n",
            "Epoch 63/200\n",
            " - 0s - loss: 0.9864 - acc: 0.5075 - val_loss: 0.9079 - val_acc: 0.6100\n",
            "Epoch 64/200\n",
            " - 0s - loss: 0.9847 - acc: 0.5050 - val_loss: 0.9068 - val_acc: 0.6100\n",
            "Epoch 65/200\n",
            " - 0s - loss: 0.9829 - acc: 0.5075 - val_loss: 0.9056 - val_acc: 0.6100\n",
            "Epoch 66/200\n",
            " - 0s - loss: 0.9811 - acc: 0.5075 - val_loss: 0.9046 - val_acc: 0.6100\n",
            "Epoch 67/200\n",
            " - 0s - loss: 0.9797 - acc: 0.5075 - val_loss: 0.9038 - val_acc: 0.6100\n",
            "Epoch 68/200\n",
            " - 0s - loss: 0.9787 - acc: 0.5075 - val_loss: 0.9059 - val_acc: 0.6000\n",
            "Epoch 69/200\n",
            " - 0s - loss: 0.9762 - acc: 0.5100 - val_loss: 0.9031 - val_acc: 0.6100\n",
            "Epoch 70/200\n",
            " - 0s - loss: 0.9746 - acc: 0.5075 - val_loss: 0.8969 - val_acc: 0.6100\n",
            "Epoch 71/200\n",
            " - 0s - loss: 0.9729 - acc: 0.5125 - val_loss: 0.8999 - val_acc: 0.6100\n",
            "Epoch 72/200\n",
            " - 0s - loss: 0.9711 - acc: 0.5100 - val_loss: 0.8977 - val_acc: 0.6100\n",
            "Epoch 73/200\n",
            " - 0s - loss: 0.9690 - acc: 0.5125 - val_loss: 0.8963 - val_acc: 0.6100\n",
            "Epoch 74/200\n",
            " - 0s - loss: 0.9671 - acc: 0.5150 - val_loss: 0.8972 - val_acc: 0.6100\n",
            "Epoch 75/200\n",
            " - 0s - loss: 0.9664 - acc: 0.5150 - val_loss: 0.8996 - val_acc: 0.6100\n",
            "Epoch 76/200\n",
            " - 0s - loss: 0.9633 - acc: 0.5125 - val_loss: 0.8944 - val_acc: 0.6100\n",
            "Epoch 77/200\n",
            " - 0s - loss: 0.9616 - acc: 0.5125 - val_loss: 0.8889 - val_acc: 0.6100\n",
            "Epoch 78/200\n",
            " - 0s - loss: 0.9602 - acc: 0.5125 - val_loss: 0.8912 - val_acc: 0.6100\n",
            "Epoch 79/200\n",
            " - 0s - loss: 0.9596 - acc: 0.5125 - val_loss: 0.8891 - val_acc: 0.6100\n",
            "Epoch 80/200\n",
            " - 0s - loss: 0.9564 - acc: 0.5100 - val_loss: 0.8844 - val_acc: 0.6100\n",
            "Epoch 81/200\n",
            " - 0s - loss: 0.9541 - acc: 0.5100 - val_loss: 0.8850 - val_acc: 0.6100\n",
            "Epoch 82/200\n",
            " - 0s - loss: 0.9518 - acc: 0.5125 - val_loss: 0.8840 - val_acc: 0.6100\n",
            "Epoch 83/200\n",
            " - 0s - loss: 0.9497 - acc: 0.5150 - val_loss: 0.8846 - val_acc: 0.6100\n",
            "Epoch 84/200\n",
            " - 0s - loss: 0.9474 - acc: 0.5150 - val_loss: 0.8833 - val_acc: 0.6100\n",
            "Epoch 85/200\n",
            " - 0s - loss: 0.9454 - acc: 0.5175 - val_loss: 0.8818 - val_acc: 0.6100\n",
            "Epoch 86/200\n",
            " - 0s - loss: 0.9443 - acc: 0.5125 - val_loss: 0.8748 - val_acc: 0.6100\n",
            "Epoch 87/200\n",
            " - 0s - loss: 0.9415 - acc: 0.5150 - val_loss: 0.8764 - val_acc: 0.6100\n",
            "Epoch 88/200\n",
            " - 0s - loss: 0.9392 - acc: 0.5150 - val_loss: 0.8748 - val_acc: 0.6100\n",
            "Epoch 89/200\n",
            " - 0s - loss: 0.9373 - acc: 0.5150 - val_loss: 0.8733 - val_acc: 0.6100\n",
            "Epoch 90/200\n",
            " - 0s - loss: 0.9350 - acc: 0.5150 - val_loss: 0.8725 - val_acc: 0.6100\n",
            "Epoch 91/200\n",
            " - 0s - loss: 0.9327 - acc: 0.5150 - val_loss: 0.8695 - val_acc: 0.6100\n",
            "Epoch 92/200\n",
            " - 0s - loss: 0.9304 - acc: 0.5150 - val_loss: 0.8679 - val_acc: 0.6100\n",
            "Epoch 93/200\n",
            " - 0s - loss: 0.9284 - acc: 0.5150 - val_loss: 0.8655 - val_acc: 0.6100\n",
            "Epoch 94/200\n",
            " - 0s - loss: 0.9262 - acc: 0.5200 - val_loss: 0.8649 - val_acc: 0.6100\n",
            "Epoch 95/200\n",
            " - 0s - loss: 0.9241 - acc: 0.5150 - val_loss: 0.8606 - val_acc: 0.6200\n",
            "Epoch 96/200\n",
            " - 0s - loss: 0.9226 - acc: 0.5225 - val_loss: 0.8653 - val_acc: 0.6200\n",
            "Epoch 97/200\n",
            " - 0s - loss: 0.9193 - acc: 0.5250 - val_loss: 0.8607 - val_acc: 0.6100\n",
            "Epoch 98/200\n",
            " - 0s - loss: 0.9176 - acc: 0.5275 - val_loss: 0.8580 - val_acc: 0.6100\n",
            "Epoch 99/200\n",
            " - 0s - loss: 0.9146 - acc: 0.5225 - val_loss: 0.8572 - val_acc: 0.6100\n",
            "Epoch 100/200\n",
            " - 0s - loss: 0.9124 - acc: 0.5250 - val_loss: 0.8537 - val_acc: 0.6200\n",
            "Epoch 101/200\n",
            " - 0s - loss: 0.9107 - acc: 0.5275 - val_loss: 0.8530 - val_acc: 0.6200\n",
            "Epoch 102/200\n",
            " - 0s - loss: 0.9078 - acc: 0.5300 - val_loss: 0.8512 - val_acc: 0.6200\n",
            "Epoch 103/200\n",
            " - 0s - loss: 0.9062 - acc: 0.5350 - val_loss: 0.8470 - val_acc: 0.6300\n",
            "Epoch 104/200\n",
            " - 0s - loss: 0.9025 - acc: 0.5350 - val_loss: 0.8494 - val_acc: 0.6200\n",
            "Epoch 105/200\n",
            " - 0s - loss: 0.9005 - acc: 0.5400 - val_loss: 0.8488 - val_acc: 0.6200\n",
            "Epoch 106/200\n",
            " - 0s - loss: 0.8986 - acc: 0.5475 - val_loss: 0.8455 - val_acc: 0.6400\n",
            "Epoch 107/200\n",
            " - 0s - loss: 0.8950 - acc: 0.5475 - val_loss: 0.8493 - val_acc: 0.6200\n",
            "Epoch 108/200\n",
            " - 0s - loss: 0.8931 - acc: 0.5500 - val_loss: 0.8434 - val_acc: 0.6300\n",
            "Epoch 109/200\n",
            " - 0s - loss: 0.8908 - acc: 0.5525 - val_loss: 0.8404 - val_acc: 0.6300\n",
            "Epoch 110/200\n",
            " - 0s - loss: 0.8899 - acc: 0.5550 - val_loss: 0.8361 - val_acc: 0.6400\n",
            "Epoch 111/200\n",
            " - 0s - loss: 0.8852 - acc: 0.5575 - val_loss: 0.8381 - val_acc: 0.6500\n",
            "Epoch 112/200\n",
            " - 0s - loss: 0.8835 - acc: 0.5575 - val_loss: 0.8367 - val_acc: 0.6400\n",
            "Epoch 113/200\n",
            " - 0s - loss: 0.8811 - acc: 0.5550 - val_loss: 0.8305 - val_acc: 0.6400\n",
            "Epoch 114/200\n",
            " - 0s - loss: 0.8781 - acc: 0.5575 - val_loss: 0.8308 - val_acc: 0.6300\n",
            "Epoch 115/200\n",
            " - 0s - loss: 0.8756 - acc: 0.5675 - val_loss: 0.8345 - val_acc: 0.6200\n",
            "Epoch 116/200\n",
            " - 0s - loss: 0.8736 - acc: 0.5650 - val_loss: 0.8284 - val_acc: 0.6200\n",
            "Epoch 117/200\n",
            " - 0s - loss: 0.8706 - acc: 0.5600 - val_loss: 0.8256 - val_acc: 0.6200\n",
            "Epoch 118/200\n",
            " - 0s - loss: 0.8694 - acc: 0.5725 - val_loss: 0.8307 - val_acc: 0.6100\n",
            "Epoch 119/200\n",
            " - 0s - loss: 0.8656 - acc: 0.5800 - val_loss: 0.8256 - val_acc: 0.6000\n",
            "Epoch 120/200\n",
            " - 0s - loss: 0.8631 - acc: 0.5725 - val_loss: 0.8225 - val_acc: 0.6100\n",
            "Epoch 121/200\n",
            " - 0s - loss: 0.8602 - acc: 0.5750 - val_loss: 0.8207 - val_acc: 0.6000\n",
            "Epoch 122/200\n",
            " - 0s - loss: 0.8578 - acc: 0.5800 - val_loss: 0.8187 - val_acc: 0.6000\n",
            "Epoch 123/200\n",
            " - 0s - loss: 0.8557 - acc: 0.5800 - val_loss: 0.8188 - val_acc: 0.6200\n",
            "Epoch 124/200\n",
            " - 0s - loss: 0.8535 - acc: 0.5775 - val_loss: 0.8128 - val_acc: 0.6200\n",
            "Epoch 125/200\n",
            " - 0s - loss: 0.8523 - acc: 0.5725 - val_loss: 0.8155 - val_acc: 0.6100\n",
            "Epoch 126/200\n",
            " - 0s - loss: 0.8484 - acc: 0.5725 - val_loss: 0.8117 - val_acc: 0.6300\n",
            "Epoch 127/200\n",
            " - 0s - loss: 0.8464 - acc: 0.5900 - val_loss: 0.8052 - val_acc: 0.6200\n",
            "Epoch 128/200\n",
            " - 0s - loss: 0.8434 - acc: 0.5950 - val_loss: 0.8084 - val_acc: 0.6300\n",
            "Epoch 129/200\n",
            " - 0s - loss: 0.8414 - acc: 0.5875 - val_loss: 0.8093 - val_acc: 0.6000\n",
            "Epoch 130/200\n",
            " - 0s - loss: 0.8394 - acc: 0.5975 - val_loss: 0.8058 - val_acc: 0.6100\n",
            "Epoch 131/200\n",
            " - 0s - loss: 0.8365 - acc: 0.5875 - val_loss: 0.8111 - val_acc: 0.6000\n",
            "Epoch 132/200\n",
            " - 0s - loss: 0.8337 - acc: 0.5925 - val_loss: 0.8051 - val_acc: 0.6000\n",
            "Epoch 133/200\n",
            " - 0s - loss: 0.8310 - acc: 0.5950 - val_loss: 0.8026 - val_acc: 0.6100\n",
            "Epoch 134/200\n",
            " - 0s - loss: 0.8285 - acc: 0.5925 - val_loss: 0.7997 - val_acc: 0.6200\n",
            "Epoch 135/200\n",
            " - 0s - loss: 0.8269 - acc: 0.6075 - val_loss: 0.7972 - val_acc: 0.6200\n",
            "Epoch 136/200\n",
            " - 0s - loss: 0.8243 - acc: 0.6050 - val_loss: 0.7966 - val_acc: 0.6000\n",
            "Epoch 137/200\n",
            " - 0s - loss: 0.8220 - acc: 0.6025 - val_loss: 0.8030 - val_acc: 0.6200\n",
            "Epoch 138/200\n",
            " - 0s - loss: 0.8205 - acc: 0.6175 - val_loss: 0.7944 - val_acc: 0.6200\n",
            "Epoch 139/200\n",
            " - 0s - loss: 0.8175 - acc: 0.6050 - val_loss: 0.7976 - val_acc: 0.6200\n",
            "Epoch 140/200\n",
            " - 0s - loss: 0.8152 - acc: 0.6075 - val_loss: 0.7955 - val_acc: 0.6400\n",
            "Epoch 141/200\n",
            " - 0s - loss: 0.8133 - acc: 0.6225 - val_loss: 0.7911 - val_acc: 0.6300\n",
            "Epoch 142/200\n",
            " - 0s - loss: 0.8116 - acc: 0.6275 - val_loss: 0.7966 - val_acc: 0.6000\n",
            "Epoch 143/200\n",
            " - 0s - loss: 0.8084 - acc: 0.6225 - val_loss: 0.7906 - val_acc: 0.6300\n",
            "Epoch 144/200\n",
            " - 0s - loss: 0.8062 - acc: 0.6300 - val_loss: 0.7836 - val_acc: 0.6300\n",
            "Epoch 145/200\n",
            " - 0s - loss: 0.8041 - acc: 0.6350 - val_loss: 0.7897 - val_acc: 0.6200\n",
            "Epoch 146/200\n",
            " - 0s - loss: 0.8021 - acc: 0.6325 - val_loss: 0.7839 - val_acc: 0.6400\n",
            "Epoch 147/200\n",
            " - 0s - loss: 0.8022 - acc: 0.6175 - val_loss: 0.7895 - val_acc: 0.6000\n",
            "Epoch 148/200\n",
            " - 0s - loss: 0.7968 - acc: 0.6400 - val_loss: 0.7811 - val_acc: 0.6200\n",
            "Epoch 149/200\n",
            " - 0s - loss: 0.7953 - acc: 0.6450 - val_loss: 0.7774 - val_acc: 0.6300\n",
            "Epoch 150/200\n",
            " - 0s - loss: 0.7925 - acc: 0.6350 - val_loss: 0.7823 - val_acc: 0.6200\n",
            "Epoch 151/200\n",
            " - 0s - loss: 0.7930 - acc: 0.6300 - val_loss: 0.7844 - val_acc: 0.6200\n",
            "Epoch 152/200\n",
            " - 0s - loss: 0.7889 - acc: 0.6375 - val_loss: 0.7727 - val_acc: 0.6300\n",
            "Epoch 153/200\n",
            " - 0s - loss: 0.7876 - acc: 0.6500 - val_loss: 0.7767 - val_acc: 0.6200\n",
            "Epoch 154/200\n",
            " - 0s - loss: 0.7857 - acc: 0.6325 - val_loss: 0.7817 - val_acc: 0.6200\n",
            "Epoch 155/200\n",
            " - 0s - loss: 0.7830 - acc: 0.6400 - val_loss: 0.7771 - val_acc: 0.6200\n",
            "Epoch 156/200\n",
            " - 0s - loss: 0.7814 - acc: 0.6450 - val_loss: 0.7658 - val_acc: 0.6100\n",
            "Epoch 157/200\n",
            " - 0s - loss: 0.7797 - acc: 0.6500 - val_loss: 0.7764 - val_acc: 0.6200\n",
            "Epoch 158/200\n",
            " - 0s - loss: 0.7775 - acc: 0.6575 - val_loss: 0.7699 - val_acc: 0.6100\n",
            "Epoch 159/200\n",
            " - 0s - loss: 0.7744 - acc: 0.6500 - val_loss: 0.7757 - val_acc: 0.6100\n",
            "Epoch 160/200\n",
            " - 0s - loss: 0.7731 - acc: 0.6525 - val_loss: 0.7733 - val_acc: 0.6000\n",
            "Epoch 161/200\n",
            " - 0s - loss: 0.7716 - acc: 0.6575 - val_loss: 0.7668 - val_acc: 0.6200\n",
            "Epoch 162/200\n",
            " - 0s - loss: 0.7691 - acc: 0.6550 - val_loss: 0.7662 - val_acc: 0.6200\n",
            "Epoch 163/200\n",
            " - 0s - loss: 0.7672 - acc: 0.6525 - val_loss: 0.7663 - val_acc: 0.6200\n",
            "Epoch 164/200\n",
            " - 0s - loss: 0.7654 - acc: 0.6475 - val_loss: 0.7654 - val_acc: 0.6100\n",
            "Epoch 165/200\n",
            " - 0s - loss: 0.7639 - acc: 0.6550 - val_loss: 0.7663 - val_acc: 0.6000\n",
            "Epoch 166/200\n",
            " - 0s - loss: 0.7618 - acc: 0.6525 - val_loss: 0.7629 - val_acc: 0.6100\n",
            "Epoch 167/200\n",
            " - 0s - loss: 0.7615 - acc: 0.6575 - val_loss: 0.7595 - val_acc: 0.6300\n",
            "Epoch 168/200\n",
            " - 0s - loss: 0.7582 - acc: 0.6625 - val_loss: 0.7664 - val_acc: 0.6000\n",
            "Epoch 169/200\n",
            " - 0s - loss: 0.7569 - acc: 0.6625 - val_loss: 0.7618 - val_acc: 0.6200\n",
            "Epoch 170/200\n",
            " - 0s - loss: 0.7547 - acc: 0.6625 - val_loss: 0.7682 - val_acc: 0.5900\n",
            "Epoch 171/200\n",
            " - 0s - loss: 0.7528 - acc: 0.6650 - val_loss: 0.7614 - val_acc: 0.6200\n",
            "Epoch 172/200\n",
            " - 0s - loss: 0.7516 - acc: 0.6700 - val_loss: 0.7594 - val_acc: 0.6100\n",
            "Epoch 173/200\n",
            " - 0s - loss: 0.7499 - acc: 0.6650 - val_loss: 0.7587 - val_acc: 0.6200\n",
            "Epoch 174/200\n",
            " - 0s - loss: 0.7502 - acc: 0.6550 - val_loss: 0.7514 - val_acc: 0.6400\n",
            "Epoch 175/200\n",
            " - 0s - loss: 0.7481 - acc: 0.6575 - val_loss: 0.7677 - val_acc: 0.6000\n",
            "Epoch 176/200\n",
            " - 0s - loss: 0.7454 - acc: 0.6600 - val_loss: 0.7580 - val_acc: 0.6300\n",
            "Epoch 177/200\n",
            " - 0s - loss: 0.7434 - acc: 0.6675 - val_loss: 0.7560 - val_acc: 0.6000\n",
            "Epoch 178/200\n",
            " - 0s - loss: 0.7419 - acc: 0.6675 - val_loss: 0.7557 - val_acc: 0.6100\n",
            "Epoch 179/200\n",
            " - 0s - loss: 0.7409 - acc: 0.6625 - val_loss: 0.7508 - val_acc: 0.6300\n",
            "Epoch 180/200\n",
            " - 0s - loss: 0.7395 - acc: 0.6675 - val_loss: 0.7598 - val_acc: 0.6200\n",
            "Epoch 181/200\n",
            " - 0s - loss: 0.7369 - acc: 0.6700 - val_loss: 0.7554 - val_acc: 0.6100\n",
            "Epoch 182/200\n",
            " - 0s - loss: 0.7362 - acc: 0.6675 - val_loss: 0.7477 - val_acc: 0.6100\n",
            "Epoch 183/200\n",
            " - 0s - loss: 0.7347 - acc: 0.6600 - val_loss: 0.7477 - val_acc: 0.6300\n",
            "Epoch 184/200\n",
            " - 0s - loss: 0.7331 - acc: 0.6650 - val_loss: 0.7609 - val_acc: 0.6100\n",
            "Epoch 185/200\n",
            " - 0s - loss: 0.7311 - acc: 0.6675 - val_loss: 0.7472 - val_acc: 0.6200\n",
            "Epoch 186/200\n",
            " - 0s - loss: 0.7306 - acc: 0.6625 - val_loss: 0.7510 - val_acc: 0.6300\n",
            "Epoch 187/200\n",
            " - 0s - loss: 0.7290 - acc: 0.6600 - val_loss: 0.7432 - val_acc: 0.6100\n",
            "Epoch 188/200\n",
            " - 0s - loss: 0.7274 - acc: 0.6575 - val_loss: 0.7481 - val_acc: 0.6100\n",
            "Epoch 189/200\n",
            " - 0s - loss: 0.7261 - acc: 0.6650 - val_loss: 0.7399 - val_acc: 0.6300\n",
            "Epoch 190/200\n",
            " - 0s - loss: 0.7247 - acc: 0.6650 - val_loss: 0.7476 - val_acc: 0.6100\n",
            "Epoch 191/200\n",
            " - 0s - loss: 0.7228 - acc: 0.6625 - val_loss: 0.7447 - val_acc: 0.6000\n",
            "Epoch 192/200\n",
            " - 0s - loss: 0.7213 - acc: 0.6675 - val_loss: 0.7458 - val_acc: 0.6200\n",
            "Epoch 193/200\n",
            " - 0s - loss: 0.7206 - acc: 0.6675 - val_loss: 0.7485 - val_acc: 0.6200\n",
            "Epoch 194/200\n",
            " - 0s - loss: 0.7196 - acc: 0.6675 - val_loss: 0.7422 - val_acc: 0.6200\n",
            "Epoch 195/200\n",
            " - 0s - loss: 0.7173 - acc: 0.6700 - val_loss: 0.7481 - val_acc: 0.6300\n",
            "Epoch 196/200\n",
            " - 0s - loss: 0.7179 - acc: 0.6675 - val_loss: 0.7521 - val_acc: 0.6200\n",
            "Epoch 197/200\n",
            " - 0s - loss: 0.7148 - acc: 0.6675 - val_loss: 0.7419 - val_acc: 0.6200\n",
            "Epoch 198/200\n",
            " - 0s - loss: 0.7141 - acc: 0.6675 - val_loss: 0.7361 - val_acc: 0.6300\n",
            "Epoch 199/200\n",
            " - 0s - loss: 0.7131 - acc: 0.6775 - val_loss: 0.7391 - val_acc: 0.6000\n",
            "Epoch 200/200\n",
            " - 0s - loss: 0.7115 - acc: 0.6800 - val_loss: 0.7415 - val_acc: 0.6000\n",
            "Model: \"sequential_1\"\n",
            "_________________________________________________________________\n",
            "Layer (type)                 Output Shape              Param #   \n",
            "=================================================================\n",
            "dense_1 (Dense)              (None, 4)                 52        \n",
            "_________________________________________________________________\n",
            "dense_2 (Dense)              (None, 3)                 15        \n",
            "=================================================================\n",
            "Total params: 67\n",
            "Trainable params: 67\n",
            "Non-trainable params: 0\n",
            "_________________________________________________________________\n"
          ],
          "name": "stdout"
        },
        {
          "output_type": "display_data",
          "data": {
            "image/png": "[encoded data removed]",
            "text/plain": [
              "<Figure size 432x288 with 1 Axes>"
            ]
          },
          "metadata": {
            "tags": []
          }
        },
        {
          "output_type": "stream",
          "text": [
            "Model: \"sequential_1\"\n",
            "_________________________________________________________________\n",
            "Layer (type)                 Output Shape              Param #   \n",
            "=================================================================\n",
            "dense_1 (Dense)              (None, 4)                 52        \n",
            "_________________________________________________________________\n",
            "dense_2 (Dense)              (None, 3)                 15        \n",
            "=================================================================\n",
            "Total params: 67\n",
            "Trainable params: 67\n",
            "Non-trainable params: 0\n",
            "_________________________________________________________________\n"
          ],
          "name": "stdout"
        }
      ]
    },
    {
      "cell_type": "markdown",
      "metadata": {
        "id": "J9zNGqCV8sSf",
        "colab_type": "text"
      },
      "source": [
        "# 학습된 모형을 사용하여 예측하기"
      ]
    },
    {
      "cell_type": "code",
      "metadata": {
        "id": "V81VzzwI8cjh",
        "colab_type": "code",
        "outputId": "3bcb033d-c452-43d2-8d72-399fc9381998",
        "colab": {
          "base_uri": "https://localhost:8080/",
          "height": 277
        }
      },
      "source": [
        "\n",
        "# 6. 예측하기 \n",
        "x_new= x_test[0:3]; x_new; yhat = model.predict(x_new)\n",
        "\n",
        "plt.figure(figsize=(15,205))\n",
        "for i in range(3) :\n",
        "    ratio = yhat[i]; plt.subplot(1,3,i+1); plt.xticks([]); plt.yticks([]); plt.grid(False)\n",
        "    plt.pie(ratio, labels=class_names, shadow=True, startangle=90, autopct='%0.1f%%')\n",
        "plt.show()\n"
      ],
      "execution_count": 6,
      "outputs": [
        {
          "output_type": "display_data",
          "data": {
            "image/png": "[encoded data removed]",
            "text/plain": [
              "<Figure size 1080x14760 with 3 Axes>"
            ]
          },
          "metadata": {
            "tags": []
          }
        }
      ]
    },
    {
      "cell_type": "markdown",
      "metadata": {
        "id": "2TaYUdAUD1BS",
        "colab_type": "text"
      },
      "source": [
        "# X가 주어졌을 때 확률적인 구매예측을 해보자"
      ]
    },
    {
      "cell_type": "code",
      "metadata": {
        "id": "Jy8TpvPICMuD",
        "colab_type": "code",
        "outputId": "bbfa668e-25d9-41cb-ac86-4b548160ae6e",
        "colab": {
          "base_uri": "https://localhost:8080/",
          "height": 197
        }
      },
      "source": [
        "y_pred=np.argmax(yhat,axis=1)\n",
        "print(\"age male heavy  price1 price2 price3 adv1 adv2 adv3  disp1 disp2 disp3\")\n",
        "\n",
        "for i in range(3):\n",
        "    print(x_test[i])\n",
        "    print(\"=======> 이 경우\", np.round(100*yhat[i,y_pred[i]],2), \"%의 확률로\", class_names[y_pred[i]], \"을 살 것으로 예측됩니다\")\n",
        "    print()\n"
      ],
      "execution_count": 8,
      "outputs": [
        {
          "output_type": "stream",
          "text": [
            "age male heavy  price1 price2 price3 adv1 adv2 adv3  disp1 disp2 disp3\n",
            "[57.    1.    1.    1.52  1.64  1.67  1.    0.    1.    0.    1.    1.  ]\n",
            "=======> 이 경우 50.04 %의 확률로 nabisco 을 살 것으로 예측됩니다\n",
            "\n",
            "[50.    0.    1.    1.55  1.54  1.75  0.    1.    1.    0.    0.    1.  ]\n",
            "=======> 이 경우 61.89 %의 확률로 nabisco 을 살 것으로 예측됩니다\n",
            "\n",
            "[56.    1.    0.    1.73  1.66  1.71  1.    0.    1.    1.    0.    1.  ]\n",
            "=======> 이 경우 60.27 %의 확률로 sunshine 을 살 것으로 예측됩니다\n",
            "\n"
          ],
          "name": "stdout"
        }
      ]
    },
    {
      "cell_type": "markdown",
      "metadata": {
        "id": "4c7q7XkU9bqp",
        "colab_type": "text"
      },
      "source": [
        "이 결과를 어떻게 해석할까?\n",
        "브랜드 선택에 관한 모형의 예측력을 높이기 위해서는 어떤 데이터가 필요할까?\n",
        "?"
      ]
    },
    {
      "cell_type": "markdown",
      "metadata": {
        "id": "lGWgwgwHdVbG",
        "colab_type": "text"
      },
      "source": [
        "# 학습된 모형을 저장하자"
      ]
    },
    {
      "cell_type": "code",
      "metadata": {
        "id": "mAlpTg9jdfHl",
        "colab_type": "code",
        "colab": {}
      },
      "source": [
        "# 모델 저장하기\n",
        "from keras.models import load_model\n",
        "model.save('brand_model_01.h5')\n",
        "\n",
        "## 모델을 불러올때, \n",
        "#model1 = load_model('brand_model_01.h5')\n",
        "#yhat1 = model1.predict(x_new)\n",
        "#yhat1)"
      ],
      "execution_count": 0,
      "outputs": []
    },
    {
      "cell_type": "markdown",
      "metadata": {
        "id": "rJ-vFO0uwHQK",
        "colab_type": "text"
      },
      "source": [
        "# 선택모형에 NN의 대안으로 RF(랜덤-포레스트) 모형을 사용할 수 있다."
      ]
    },
    {
      "cell_type": "markdown",
      "metadata": {
        "id": "bk_3S2xiwh6E",
        "colab_type": "text"
      },
      "source": [
        "X에서 랜덤으로 추출된 부분집합 x변수에 의해 y변수의 클래스를 구분하는 decision tree를 K개 만든 다음, 주어진 X에 대한 K개 예측치를 다수결로 평가하여 최종 예측을 하는 알고리즘. 똑똑한 한 명보다 조금 덜 똑똑한 100명이 더 낫다는 멋진 아이디어. \n",
        "https://medium.com/@deepvalidation/title-3b0e263605de\n"
      ]
    }
  ]
}