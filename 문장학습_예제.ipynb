{
  "nbformat": 4,
  "nbformat_minor": 0,
  "metadata": {
    "colab": {
      "name": "문장학습_예제.ipynb",
      "provenance": [],
      "collapsed_sections": [],
      "authorship_tag": "ABX9TyO4ia0urQpmTTJloI81BIFg",
      "include_colab_link": true
    },
    "kernelspec": {
      "name": "python3",
      "display_name": "Python 3"
    }
  },
  "cells": [
    {
      "cell_type": "markdown",
      "metadata": {
        "id": "view-in-github",
        "colab_type": "text"
      },
      "source": [
        "<a href=\"https://colab.research.google.com/github/hongjai-rhee/public/blob/master/%EB%AC%B8%EC%9E%A5%ED%95%99%EC%8A%B5_%EC%98%88%EC%A0%9C.ipynb\" target=\"_parent\"><img src=\"https://colab.research.google.com/assets/colab-badge.svg\" alt=\"Open In Colab\"/></a>"
      ]
    },
    {
      "cell_type": "markdown",
      "metadata": {
        "id": "Cax67YiRMIyN",
        "colab_type": "text"
      },
      "source": [
        "# 문장생성 알고리즘\n",
        "기계가 글을 쓸 수 있을까? 문장은 단어의 sequence이다. 주어진 일부 sequence 뒤에 어떤 단어가 나타날 확률을 알 수 있다면 기계가 문장을 생성하는 것이 가능할 것이다. 간단한 예를 통해 살펴보자.\n"
      ]
    },
    {
      "cell_type": "code",
      "metadata": {
        "id": "1ukkJyogFFUk",
        "colab_type": "code",
        "outputId": "9ff1cf57-cff0-4af1-f6ec-996babe70a99",
        "colab": {
          "base_uri": "https://localhost:8080/",
          "height": 161
        }
      },
      "source": [
        "#-*- encoding: utf-8 -*-     ## 한글사용\n",
        "EPOCH=200\n",
        "\n",
        "\n",
        "from tensorflow.keras.preprocessing.text import Tokenizer\n",
        "from tensorflow.keras.preprocessing.sequence import pad_sequences\n",
        "import numpy as np\n",
        "from tensorflow.keras.utils import to_categorical\n",
        "text=\"\"\"경마장에 가는 말이 뛰고 있다\\n\n",
        "경마장에 가는 말이 달리고 있다\\n\n",
        "달리고 오는 말이 지친다\\n\n",
        "가는 말이 고와야 오는 말이 곱다\\n\"\"\"\n",
        "print(text)\n"
      ],
      "execution_count": 144,
      "outputs": [
        {
          "output_type": "stream",
          "text": [
            "경마장에 가는 말이 뛰고 있다\n",
            "\n",
            "경마장에 가는 말이 달리고 있다\n",
            "\n",
            "달리고 오는 말이 지친다\n",
            "\n",
            "가는 말이 고와야 오는 말이 곱다\n",
            "\n"
          ],
          "name": "stdout"
        }
      ]
    },
    {
      "cell_type": "markdown",
      "metadata": {
        "id": "Xo3YJpyIMy2y",
        "colab_type": "text"
      },
      "source": [
        "이 코드에서 text 변수는 학습을 위해 사용하는 책이다. 이 책에는 4개의 문장이 수록되어 있다. 세익스피어의 소설을 text로 사용하면 세익스피어를 흉내 낼 수 있다.  "
      ]
    },
    {
      "cell_type": "markdown",
      "metadata": {
        "id": "lVXA_mH-N8iZ",
        "colab_type": "text"
      },
      "source": [
        "아래 코드는 주어진 책에서 모든 단어를 추출하는 기능을 수행한다. text에는 모두 12개의 단어가 수록되어 있다 (코드 0은 기타)."
      ]
    },
    {
      "cell_type": "code",
      "metadata": {
        "id": "OtHyXUDnFhnJ",
        "colab_type": "code",
        "outputId": "760f46a1-0a5b-4436-84ff-1caab6470712",
        "colab": {
          "base_uri": "https://localhost:8080/",
          "height": 53
        }
      },
      "source": [
        "t = Tokenizer()\n",
        "t.fit_on_texts([text])\n",
        "vocab_size = len(t.word_index) + 1\n",
        "# 케라스 토크나이저의 정수 인코딩은 인덱스가 1부터 시작하지만,\n",
        "# 케라스 원-핫 인코딩에서 배열의 인덱스가 0부터 시작하기 때문에\n",
        "# 배열의 크기를 실제 단어 집합의 크기보다 +1로 생성해야하므로 미리 +1 선언 \n",
        "print('단어 집합의 크기 : %d' % vocab_size)\n",
        "print(t.word_index)"
      ],
      "execution_count": 143,
      "outputs": [
        {
          "output_type": "stream",
          "text": [
            "단어 집합의 크기 : 11\n",
            "{'말이': 1, '가는': 2, '경마장에': 3, '있다': 4, '달리고': 5, '오는': 6, '뛰고': 7, '지친다': 8, '고와야': 9, '곱다': 10}\n"
          ],
          "name": "stdout"
        }
      ]
    },
    {
      "cell_type": "markdown",
      "metadata": {
        "colab_type": "text",
        "id": "MXZZlrj9OOGB"
      },
      "source": [
        "Sequence는 text에 주어진 문장을 순서에 따라 아래와 같이 15개로 나눈 것이다. \n",
        "1.  경마장에 가는  \n",
        "2.  경마장에 가는 말이 \n",
        "3.  경마장에 가는 말이 뛰고 \n",
        "4.  경마장에 가는 말이 뛰고 있다\n",
        "5.  경마장에 가는  \n",
        "6.  경마장에 가는 말이 \n",
        "7.  경마장에 가는 말이 달리고 \n",
        "8.  경마장에 가는 말이 달리고 있다\n",
        "9.  달리고 오는\n",
        "10. 달리고 오는 말이 \n",
        "11. 달리고 오는 말이 지친다\n",
        "12. 가는 말이 고와야 \n",
        "13. 가는 말이 고와야 오는  \n",
        "14. 가는 말이 고와야 오는 말이  \n",
        "15. 가는 말이 고와야 오는 말이 곱다 \n",
        " \n",
        "\n"
      ]
    },
    {
      "cell_type": "code",
      "metadata": {
        "id": "qLBke6HhF3Fo",
        "colab_type": "code",
        "outputId": "a2cca11b-7cc9-46ac-975c-6b4e1ffbd4f4",
        "colab": {
          "base_uri": "https://localhost:8080/",
          "height": 35
        }
      },
      "source": [
        "sequences = list()\n",
        "for line in text.split('\\n'): # Wn을 기준으로 문장 토큰화\n",
        "    encoded = t.texts_to_sequences([line])[0]\n",
        "    for i in range(1, len(encoded)):\n",
        "        sequence = encoded[:i+1]\n",
        "        sequences.append(sequence)\n",
        "\n",
        "print('학습에 사용할 샘플의 개수: %d' % len(sequences))"
      ],
      "execution_count": 145,
      "outputs": [
        {
          "output_type": "stream",
          "text": [
            "학습에 사용할 샘플의 개수: 16\n"
          ],
          "name": "stdout"
        }
      ]
    },
    {
      "cell_type": "code",
      "metadata": {
        "id": "NSrjR8qTGCZQ",
        "colab_type": "code",
        "outputId": "24f67fe3-751c-490c-8db7-8f57d9471db0",
        "colab": {
          "base_uri": "https://localhost:8080/",
          "height": 35
        }
      },
      "source": [
        "print(sequences)"
      ],
      "execution_count": 146,
      "outputs": [
        {
          "output_type": "stream",
          "text": [
            "[[3, 2], [3, 2, 1], [3, 2, 1, 7], [3, 2, 1, 7, 4], [3, 2], [3, 2, 1], [3, 2, 1, 5], [3, 2, 1, 5, 4], [5, 6], [5, 6, 1], [5, 6, 1, 8], [2, 1], [2, 1, 9], [2, 1, 9, 6], [2, 1, 9, 6, 1], [2, 1, 9, 6, 1, 10]]\n"
          ],
          "name": "stdout"
        }
      ]
    },
    {
      "cell_type": "markdown",
      "metadata": {
        "id": "lCaIFtl6TB3F",
        "colab_type": "text"
      },
      "source": [
        "Sequence중 가장 긴 것은 6개의 단어를 포함하고 있다 "
      ]
    },
    {
      "cell_type": "code",
      "metadata": {
        "id": "rU9-PcfpGPs4",
        "colab_type": "code",
        "outputId": "15cccdfb-0c17-43ac-865c-d3f4f832434a",
        "colab": {
          "base_uri": "https://localhost:8080/",
          "height": 35
        }
      },
      "source": [
        "max_len=max(len(l) for l in sequences) # 모든 샘플에서 길이가 가장 긴 샘플의 길이 출력\n",
        "print('샘플의 최대 길이 : {}'.format(max_len))"
      ],
      "execution_count": 147,
      "outputs": [
        {
          "output_type": "stream",
          "text": [
            "샘플의 최대 길이 : 6\n"
          ],
          "name": "stdout"
        }
      ]
    },
    {
      "cell_type": "markdown",
      "metadata": {
        "id": "_scmKrsNTRL6",
        "colab_type": "text"
      },
      "source": [
        "# Padding\n",
        "데이터의 필드를 6개로 맞추기 위해 [3,2]을 [0,0,0,0,3,2]로 맞추어 준다 (부족한 곳은 0을 넣어 패딩)\n"
      ]
    },
    {
      "cell_type": "code",
      "metadata": {
        "id": "ZImw6HvGGUmg",
        "colab_type": "code",
        "colab": {}
      },
      "source": [
        "sequences =np.array(pad_sequences(sequences, maxlen=max_len, padding='pre'))\n"
      ],
      "execution_count": 0,
      "outputs": []
    },
    {
      "cell_type": "code",
      "metadata": {
        "id": "u_qTTj6aGYVA",
        "colab_type": "code",
        "outputId": "f6aef558-d97d-41be-fc2a-2089101dd711",
        "colab": {
          "base_uri": "https://localhost:8080/",
          "height": 305
        }
      },
      "source": [
        "print(sequences)"
      ],
      "execution_count": 149,
      "outputs": [
        {
          "output_type": "stream",
          "text": [
            "[[ 0  0  0  0  3  2]\n",
            " [ 0  0  0  3  2  1]\n",
            " [ 0  0  3  2  1  7]\n",
            " [ 0  3  2  1  7  4]\n",
            " [ 0  0  0  0  3  2]\n",
            " [ 0  0  0  3  2  1]\n",
            " [ 0  0  3  2  1  5]\n",
            " [ 0  3  2  1  5  4]\n",
            " [ 0  0  0  0  5  6]\n",
            " [ 0  0  0  5  6  1]\n",
            " [ 0  0  5  6  1  8]\n",
            " [ 0  0  0  0  2  1]\n",
            " [ 0  0  0  2  1  9]\n",
            " [ 0  0  2  1  9  6]\n",
            " [ 0  2  1  9  6  1]\n",
            " [ 2  1  9  6  1 10]]\n"
          ],
          "name": "stdout"
        }
      ]
    },
    {
      "cell_type": "markdown",
      "metadata": {
        "id": "Gk2dj_S9U3AC",
        "colab_type": "text"
      },
      "source": [
        "# 학습데이터 만들기\n",
        "Sequence의 마지막 필드를 y로 나머지를 X로 저장한다\n"
      ]
    },
    {
      "cell_type": "code",
      "metadata": {
        "id": "TVsFsIMnGhU4",
        "colab_type": "code",
        "colab": {}
      },
      "source": [
        "sequences = np.array(sequences)\n",
        "X = sequences[:,:-1]\n",
        "y = sequences[:,-1]\n",
        "# 리스트의 마지막 값을 제외하고 저장한 것은 X\n",
        "# 리스트의 마지막 값만 저장한 것은 y. 이는 레이블에 해당됨."
      ],
      "execution_count": 0,
      "outputs": []
    },
    {
      "cell_type": "code",
      "metadata": {
        "id": "0Vna_t1TGk9o",
        "colab_type": "code",
        "outputId": "e87ff22c-517a-4481-cb12-b3e0630c2a6e",
        "colab": {
          "base_uri": "https://localhost:8080/",
          "height": 305
        }
      },
      "source": [
        "print(X) ## 앞의 단어 sequence\n"
      ],
      "execution_count": 153,
      "outputs": [
        {
          "output_type": "stream",
          "text": [
            "[[0 0 0 0 3]\n",
            " [0 0 0 3 2]\n",
            " [0 0 3 2 1]\n",
            " [0 3 2 1 7]\n",
            " [0 0 0 0 3]\n",
            " [0 0 0 3 2]\n",
            " [0 0 3 2 1]\n",
            " [0 3 2 1 5]\n",
            " [0 0 0 0 5]\n",
            " [0 0 0 5 6]\n",
            " [0 0 5 6 1]\n",
            " [0 0 0 0 2]\n",
            " [0 0 0 2 1]\n",
            " [0 0 2 1 9]\n",
            " [0 2 1 9 6]\n",
            " [2 1 9 6 1]]\n"
          ],
          "name": "stdout"
        }
      ]
    },
    {
      "cell_type": "code",
      "metadata": {
        "id": "okw-lge8Go3Q",
        "colab_type": "code",
        "outputId": "c4404fbd-c85a-40b3-ea86-1d983460ce86",
        "colab": {
          "base_uri": "https://localhost:8080/",
          "height": 35
        }
      },
      "source": [
        "print(y)  ## 뒤에 오는 단어"
      ],
      "execution_count": 154,
      "outputs": [
        {
          "output_type": "stream",
          "text": [
            "[ 2  1  7  4  2  1  5  4  6  1  8  1  9  6  1 10]\n"
          ],
          "name": "stdout"
        }
      ]
    },
    {
      "cell_type": "markdown",
      "metadata": {
        "id": "BfJFpOcqVIPS",
        "colab_type": "text"
      },
      "source": [
        "y는 단어의 카테고리를 나타내므로, one-hot 인코딩한다."
      ]
    },
    {
      "cell_type": "code",
      "metadata": {
        "id": "Qo6kQlFDGs14",
        "colab_type": "code",
        "outputId": "10043a44-282e-44d4-8645-2d8e41b1e83b",
        "colab": {
          "base_uri": "https://localhost:8080/",
          "height": 305
        }
      },
      "source": [
        "y = to_categorical(y, num_classes=vocab_size)\n",
        "print(y)\n"
      ],
      "execution_count": 155,
      "outputs": [
        {
          "output_type": "stream",
          "text": [
            "[[0. 0. 1. 0. 0. 0. 0. 0. 0. 0. 0.]\n",
            " [0. 1. 0. 0. 0. 0. 0. 0. 0. 0. 0.]\n",
            " [0. 0. 0. 0. 0. 0. 0. 1. 0. 0. 0.]\n",
            " [0. 0. 0. 0. 1. 0. 0. 0. 0. 0. 0.]\n",
            " [0. 0. 1. 0. 0. 0. 0. 0. 0. 0. 0.]\n",
            " [0. 1. 0. 0. 0. 0. 0. 0. 0. 0. 0.]\n",
            " [0. 0. 0. 0. 0. 1. 0. 0. 0. 0. 0.]\n",
            " [0. 0. 0. 0. 1. 0. 0. 0. 0. 0. 0.]\n",
            " [0. 0. 0. 0. 0. 0. 1. 0. 0. 0. 0.]\n",
            " [0. 1. 0. 0. 0. 0. 0. 0. 0. 0. 0.]\n",
            " [0. 0. 0. 0. 0. 0. 0. 0. 1. 0. 0.]\n",
            " [0. 1. 0. 0. 0. 0. 0. 0. 0. 0. 0.]\n",
            " [0. 0. 0. 0. 0. 0. 0. 0. 0. 1. 0.]\n",
            " [0. 0. 0. 0. 0. 0. 1. 0. 0. 0. 0.]\n",
            " [0. 1. 0. 0. 0. 0. 0. 0. 0. 0. 0.]\n",
            " [0. 0. 0. 0. 0. 0. 0. 0. 0. 0. 1.]]\n"
          ],
          "name": "stdout"
        }
      ]
    },
    {
      "cell_type": "markdown",
      "metadata": {
        "id": "JdsriUy9WBoP",
        "colab_type": "text"
      },
      "source": [
        "# 모형설정\n",
        "softmax 분류모델을 만들어 실행하자. 특히 문맥을 파악하기 위해, 단어의 배열 순서가 중요하므로 RNN 레이어를 사용한다. \n"
      ]
    },
    {
      "cell_type": "code",
      "metadata": {
        "id": "8PACatkTG1_3",
        "colab_type": "code",
        "outputId": "1a26237b-55fb-42f6-850a-e2762470aa69",
        "colab": {
          "base_uri": "https://localhost:8080/",
          "height": 1000
        }
      },
      "source": [
        "from tensorflow.keras.models import Sequential\n",
        "from tensorflow.keras.layers import Embedding, Dense, SimpleRNN\n",
        "model = Sequential()\n",
        "model.add(Embedding(vocab_size, 10, input_length=max_len-1)) # 레이블을 분리하였으므로 이제 X의 길이는 5\n",
        "model.add(SimpleRNN(16))\n",
        "model.add(Dense(vocab_size, activation='softmax'))\n",
        "model.compile(loss='categorical_crossentropy', optimizer='adam', metrics=['accuracy'])\n",
        "model.fit(X, y, epochs=EPOCH, verbose=2)\n"
      ],
      "execution_count": 156,
      "outputs": [
        {
          "output_type": "stream",
          "text": [
            "Train on 16 samples\n",
            "Epoch 1/200\n",
            "16/16 - 0s - loss: 2.4097 - acc: 0.0000e+00\n",
            "Epoch 2/200\n",
            "16/16 - 0s - loss: 2.4016 - acc: 0.0625\n",
            "Epoch 3/200\n",
            "16/16 - 0s - loss: 2.3938 - acc: 0.1250\n",
            "Epoch 4/200\n",
            "16/16 - 0s - loss: 2.3861 - acc: 0.1250\n",
            "Epoch 5/200\n",
            "16/16 - 0s - loss: 2.3785 - acc: 0.1250\n",
            "Epoch 6/200\n",
            "16/16 - 0s - loss: 2.3711 - acc: 0.1250\n",
            "Epoch 7/200\n",
            "16/16 - 0s - loss: 2.3638 - acc: 0.1875\n",
            "Epoch 8/200\n",
            "16/16 - 0s - loss: 2.3565 - acc: 0.1875\n",
            "Epoch 9/200\n",
            "16/16 - 0s - loss: 2.3492 - acc: 0.1875\n",
            "Epoch 10/200\n",
            "16/16 - 0s - loss: 2.3418 - acc: 0.1875\n",
            "Epoch 11/200\n",
            "16/16 - 0s - loss: 2.3344 - acc: 0.3125\n",
            "Epoch 12/200\n",
            "16/16 - 0s - loss: 2.3270 - acc: 0.3125\n",
            "Epoch 13/200\n",
            "16/16 - 0s - loss: 2.3194 - acc: 0.3125\n",
            "Epoch 14/200\n",
            "16/16 - 0s - loss: 2.3117 - acc: 0.3125\n",
            "Epoch 15/200\n",
            "16/16 - 0s - loss: 2.3039 - acc: 0.3125\n",
            "Epoch 16/200\n",
            "16/16 - 0s - loss: 2.2959 - acc: 0.3125\n",
            "Epoch 17/200\n",
            "16/16 - 0s - loss: 2.2877 - acc: 0.3125\n",
            "Epoch 18/200\n",
            "16/16 - 0s - loss: 2.2794 - acc: 0.3125\n",
            "Epoch 19/200\n",
            "16/16 - 0s - loss: 2.2708 - acc: 0.3125\n",
            "Epoch 20/200\n",
            "16/16 - 0s - loss: 2.2620 - acc: 0.3125\n",
            "Epoch 21/200\n",
            "16/16 - 0s - loss: 2.2530 - acc: 0.3125\n",
            "Epoch 22/200\n",
            "16/16 - 0s - loss: 2.2438 - acc: 0.3125\n",
            "Epoch 23/200\n",
            "16/16 - 0s - loss: 2.2343 - acc: 0.3125\n",
            "Epoch 24/200\n",
            "16/16 - 0s - loss: 2.2246 - acc: 0.3125\n",
            "Epoch 25/200\n",
            "16/16 - 0s - loss: 2.2147 - acc: 0.3125\n",
            "Epoch 26/200\n",
            "16/16 - 0s - loss: 2.2045 - acc: 0.3125\n",
            "Epoch 27/200\n",
            "16/16 - 0s - loss: 2.1940 - acc: 0.3125\n",
            "Epoch 28/200\n",
            "16/16 - 0s - loss: 2.1833 - acc: 0.3125\n",
            "Epoch 29/200\n",
            "16/16 - 0s - loss: 2.1724 - acc: 0.3125\n",
            "Epoch 30/200\n",
            "16/16 - 0s - loss: 2.1612 - acc: 0.3125\n",
            "Epoch 31/200\n",
            "16/16 - 0s - loss: 2.1498 - acc: 0.3125\n",
            "Epoch 32/200\n",
            "16/16 - 0s - loss: 2.1382 - acc: 0.3125\n",
            "Epoch 33/200\n",
            "16/16 - 0s - loss: 2.1264 - acc: 0.3125\n",
            "Epoch 34/200\n",
            "16/16 - 0s - loss: 2.1144 - acc: 0.3125\n",
            "Epoch 35/200\n",
            "16/16 - 0s - loss: 2.1022 - acc: 0.3125\n",
            "Epoch 36/200\n",
            "16/16 - 0s - loss: 2.0899 - acc: 0.3125\n",
            "Epoch 37/200\n",
            "16/16 - 0s - loss: 2.0774 - acc: 0.3125\n",
            "Epoch 38/200\n",
            "16/16 - 0s - loss: 2.0648 - acc: 0.3125\n",
            "Epoch 39/200\n",
            "16/16 - 0s - loss: 2.0521 - acc: 0.3125\n",
            "Epoch 40/200\n",
            "16/16 - 0s - loss: 2.0393 - acc: 0.3125\n",
            "Epoch 41/200\n",
            "16/16 - 0s - loss: 2.0264 - acc: 0.3125\n",
            "Epoch 42/200\n",
            "16/16 - 0s - loss: 2.0134 - acc: 0.3125\n",
            "Epoch 43/200\n",
            "16/16 - 0s - loss: 2.0003 - acc: 0.3125\n",
            "Epoch 44/200\n",
            "16/16 - 0s - loss: 1.9871 - acc: 0.3125\n",
            "Epoch 45/200\n",
            "16/16 - 0s - loss: 1.9739 - acc: 0.3125\n",
            "Epoch 46/200\n",
            "16/16 - 0s - loss: 1.9606 - acc: 0.3125\n",
            "Epoch 47/200\n",
            "16/16 - 0s - loss: 1.9472 - acc: 0.3125\n",
            "Epoch 48/200\n",
            "16/16 - 0s - loss: 1.9338 - acc: 0.3125\n",
            "Epoch 49/200\n",
            "16/16 - 0s - loss: 1.9202 - acc: 0.3125\n",
            "Epoch 50/200\n",
            "16/16 - 0s - loss: 1.9066 - acc: 0.3125\n",
            "Epoch 51/200\n",
            "16/16 - 0s - loss: 1.8929 - acc: 0.3125\n",
            "Epoch 52/200\n",
            "16/16 - 0s - loss: 1.8792 - acc: 0.3125\n",
            "Epoch 53/200\n",
            "16/16 - 0s - loss: 1.8653 - acc: 0.3125\n",
            "Epoch 54/200\n",
            "16/16 - 0s - loss: 1.8514 - acc: 0.3125\n",
            "Epoch 55/200\n",
            "16/16 - 0s - loss: 1.8374 - acc: 0.3125\n",
            "Epoch 56/200\n",
            "16/16 - 0s - loss: 1.8233 - acc: 0.3125\n",
            "Epoch 57/200\n",
            "16/16 - 0s - loss: 1.8091 - acc: 0.3125\n",
            "Epoch 58/200\n",
            "16/16 - 0s - loss: 1.7949 - acc: 0.3125\n",
            "Epoch 59/200\n",
            "16/16 - 0s - loss: 1.7805 - acc: 0.3125\n",
            "Epoch 60/200\n",
            "16/16 - 0s - loss: 1.7661 - acc: 0.3125\n",
            "Epoch 61/200\n",
            "16/16 - 0s - loss: 1.7515 - acc: 0.3750\n",
            "Epoch 62/200\n",
            "16/16 - 0s - loss: 1.7369 - acc: 0.3750\n",
            "Epoch 63/200\n",
            "16/16 - 0s - loss: 1.7223 - acc: 0.3750\n",
            "Epoch 64/200\n",
            "16/16 - 0s - loss: 1.7075 - acc: 0.3750\n",
            "Epoch 65/200\n",
            "16/16 - 0s - loss: 1.6927 - acc: 0.3750\n",
            "Epoch 66/200\n",
            "16/16 - 0s - loss: 1.6779 - acc: 0.3750\n",
            "Epoch 67/200\n",
            "16/16 - 0s - loss: 1.6629 - acc: 0.4375\n",
            "Epoch 68/200\n",
            "16/16 - 0s - loss: 1.6480 - acc: 0.4375\n",
            "Epoch 69/200\n",
            "16/16 - 0s - loss: 1.6330 - acc: 0.4375\n",
            "Epoch 70/200\n",
            "16/16 - 0s - loss: 1.6180 - acc: 0.4375\n",
            "Epoch 71/200\n",
            "16/16 - 0s - loss: 1.6029 - acc: 0.4375\n",
            "Epoch 72/200\n",
            "16/16 - 0s - loss: 1.5879 - acc: 0.4375\n",
            "Epoch 73/200\n",
            "16/16 - 0s - loss: 1.5728 - acc: 0.5000\n",
            "Epoch 74/200\n",
            "16/16 - 0s - loss: 1.5577 - acc: 0.5625\n",
            "Epoch 75/200\n",
            "16/16 - 0s - loss: 1.5427 - acc: 0.5625\n",
            "Epoch 76/200\n",
            "16/16 - 0s - loss: 1.5276 - acc: 0.6250\n",
            "Epoch 77/200\n",
            "16/16 - 0s - loss: 1.5126 - acc: 0.6250\n",
            "Epoch 78/200\n",
            "16/16 - 0s - loss: 1.4976 - acc: 0.6250\n",
            "Epoch 79/200\n",
            "16/16 - 0s - loss: 1.4826 - acc: 0.6250\n",
            "Epoch 80/200\n",
            "16/16 - 0s - loss: 1.4677 - acc: 0.6250\n",
            "Epoch 81/200\n",
            "16/16 - 0s - loss: 1.4528 - acc: 0.6250\n",
            "Epoch 82/200\n",
            "16/16 - 0s - loss: 1.4380 - acc: 0.6250\n",
            "Epoch 83/200\n",
            "16/16 - 0s - loss: 1.4232 - acc: 0.6250\n",
            "Epoch 84/200\n",
            "16/16 - 0s - loss: 1.4085 - acc: 0.6250\n",
            "Epoch 85/200\n",
            "16/16 - 0s - loss: 1.3939 - acc: 0.6250\n",
            "Epoch 86/200\n",
            "16/16 - 0s - loss: 1.3793 - acc: 0.6250\n",
            "Epoch 87/200\n",
            "16/16 - 0s - loss: 1.3648 - acc: 0.6250\n",
            "Epoch 88/200\n",
            "16/16 - 0s - loss: 1.3504 - acc: 0.6250\n",
            "Epoch 89/200\n",
            "16/16 - 0s - loss: 1.3361 - acc: 0.6250\n",
            "Epoch 90/200\n",
            "16/16 - 0s - loss: 1.3218 - acc: 0.6250\n",
            "Epoch 91/200\n",
            "16/16 - 0s - loss: 1.3077 - acc: 0.6250\n",
            "Epoch 92/200\n",
            "16/16 - 0s - loss: 1.2936 - acc: 0.6250\n",
            "Epoch 93/200\n",
            "16/16 - 0s - loss: 1.2797 - acc: 0.6250\n",
            "Epoch 94/200\n",
            "16/16 - 0s - loss: 1.2658 - acc: 0.6250\n",
            "Epoch 95/200\n",
            "16/16 - 0s - loss: 1.2521 - acc: 0.6250\n",
            "Epoch 96/200\n",
            "16/16 - 0s - loss: 1.2385 - acc: 0.6250\n",
            "Epoch 97/200\n",
            "16/16 - 0s - loss: 1.2250 - acc: 0.6250\n",
            "Epoch 98/200\n",
            "16/16 - 0s - loss: 1.2116 - acc: 0.6250\n",
            "Epoch 99/200\n",
            "16/16 - 0s - loss: 1.1984 - acc: 0.6250\n",
            "Epoch 100/200\n",
            "16/16 - 0s - loss: 1.1853 - acc: 0.6250\n",
            "Epoch 101/200\n",
            "16/16 - 0s - loss: 1.1723 - acc: 0.6250\n",
            "Epoch 102/200\n",
            "16/16 - 0s - loss: 1.1594 - acc: 0.6250\n",
            "Epoch 103/200\n",
            "16/16 - 0s - loss: 1.1467 - acc: 0.6250\n",
            "Epoch 104/200\n",
            "16/16 - 0s - loss: 1.1341 - acc: 0.6250\n",
            "Epoch 105/200\n",
            "16/16 - 0s - loss: 1.1217 - acc: 0.6250\n",
            "Epoch 106/200\n",
            "16/16 - 0s - loss: 1.1093 - acc: 0.6875\n",
            "Epoch 107/200\n",
            "16/16 - 0s - loss: 1.0972 - acc: 0.6875\n",
            "Epoch 108/200\n",
            "16/16 - 0s - loss: 1.0852 - acc: 0.8125\n",
            "Epoch 109/200\n",
            "16/16 - 0s - loss: 1.0733 - acc: 0.8125\n",
            "Epoch 110/200\n",
            "16/16 - 0s - loss: 1.0616 - acc: 0.8125\n",
            "Epoch 111/200\n",
            "16/16 - 0s - loss: 1.0500 - acc: 0.8125\n",
            "Epoch 112/200\n",
            "16/16 - 0s - loss: 1.0386 - acc: 0.8125\n",
            "Epoch 113/200\n",
            "16/16 - 0s - loss: 1.0273 - acc: 0.8125\n",
            "Epoch 114/200\n",
            "16/16 - 0s - loss: 1.0162 - acc: 0.8125\n",
            "Epoch 115/200\n",
            "16/16 - 0s - loss: 1.0052 - acc: 0.8750\n",
            "Epoch 116/200\n",
            "16/16 - 0s - loss: 0.9944 - acc: 0.8750\n",
            "Epoch 117/200\n",
            "16/16 - 0s - loss: 0.9837 - acc: 0.8750\n",
            "Epoch 118/200\n",
            "16/16 - 0s - loss: 0.9731 - acc: 0.8750\n",
            "Epoch 119/200\n",
            "16/16 - 0s - loss: 0.9628 - acc: 0.8750\n",
            "Epoch 120/200\n",
            "16/16 - 0s - loss: 0.9525 - acc: 0.8750\n",
            "Epoch 121/200\n",
            "16/16 - 0s - loss: 0.9424 - acc: 0.8750\n",
            "Epoch 122/200\n",
            "16/16 - 0s - loss: 0.9325 - acc: 0.8750\n",
            "Epoch 123/200\n",
            "16/16 - 0s - loss: 0.9226 - acc: 0.8750\n",
            "Epoch 124/200\n",
            "16/16 - 0s - loss: 0.9130 - acc: 0.8750\n",
            "Epoch 125/200\n",
            "16/16 - 0s - loss: 0.9034 - acc: 0.8750\n",
            "Epoch 126/200\n",
            "16/16 - 0s - loss: 0.8940 - acc: 0.8750\n",
            "Epoch 127/200\n",
            "16/16 - 0s - loss: 0.8848 - acc: 0.8750\n",
            "Epoch 128/200\n",
            "16/16 - 0s - loss: 0.8756 - acc: 0.8750\n",
            "Epoch 129/200\n",
            "16/16 - 0s - loss: 0.8666 - acc: 0.8750\n",
            "Epoch 130/200\n",
            "16/16 - 0s - loss: 0.8578 - acc: 0.8750\n",
            "Epoch 131/200\n",
            "16/16 - 0s - loss: 0.8490 - acc: 0.8750\n",
            "Epoch 132/200\n",
            "16/16 - 0s - loss: 0.8404 - acc: 0.8750\n",
            "Epoch 133/200\n",
            "16/16 - 0s - loss: 0.8319 - acc: 0.8750\n",
            "Epoch 134/200\n",
            "16/16 - 0s - loss: 0.8235 - acc: 0.8750\n",
            "Epoch 135/200\n",
            "16/16 - 0s - loss: 0.8153 - acc: 0.8750\n",
            "Epoch 136/200\n",
            "16/16 - 0s - loss: 0.8072 - acc: 0.8750\n",
            "Epoch 137/200\n",
            "16/16 - 0s - loss: 0.7992 - acc: 0.8750\n",
            "Epoch 138/200\n",
            "16/16 - 0s - loss: 0.7913 - acc: 0.8750\n",
            "Epoch 139/200\n",
            "16/16 - 0s - loss: 0.7835 - acc: 0.8750\n",
            "Epoch 140/200\n",
            "16/16 - 0s - loss: 0.7758 - acc: 0.8750\n",
            "Epoch 141/200\n",
            "16/16 - 0s - loss: 0.7682 - acc: 0.8750\n",
            "Epoch 142/200\n",
            "16/16 - 0s - loss: 0.7608 - acc: 0.8750\n",
            "Epoch 143/200\n",
            "16/16 - 0s - loss: 0.7534 - acc: 0.8750\n",
            "Epoch 144/200\n",
            "16/16 - 0s - loss: 0.7462 - acc: 0.8750\n",
            "Epoch 145/200\n",
            "16/16 - 0s - loss: 0.7390 - acc: 0.8750\n",
            "Epoch 146/200\n",
            "16/16 - 0s - loss: 0.7320 - acc: 0.8750\n",
            "Epoch 147/200\n",
            "16/16 - 0s - loss: 0.7250 - acc: 0.8750\n",
            "Epoch 148/200\n",
            "16/16 - 0s - loss: 0.7182 - acc: 0.8750\n",
            "Epoch 149/200\n",
            "16/16 - 0s - loss: 0.7114 - acc: 0.8750\n",
            "Epoch 150/200\n",
            "16/16 - 0s - loss: 0.7047 - acc: 0.8750\n",
            "Epoch 151/200\n",
            "16/16 - 0s - loss: 0.6981 - acc: 0.8750\n",
            "Epoch 152/200\n",
            "16/16 - 0s - loss: 0.6916 - acc: 0.8750\n",
            "Epoch 153/200\n",
            "16/16 - 0s - loss: 0.6852 - acc: 0.8750\n",
            "Epoch 154/200\n",
            "16/16 - 0s - loss: 0.6789 - acc: 0.9375\n",
            "Epoch 155/200\n",
            "16/16 - 0s - loss: 0.6727 - acc: 0.9375\n",
            "Epoch 156/200\n",
            "16/16 - 0s - loss: 0.6665 - acc: 0.9375\n",
            "Epoch 157/200\n",
            "16/16 - 0s - loss: 0.6604 - acc: 0.9375\n",
            "Epoch 158/200\n",
            "16/16 - 0s - loss: 0.6544 - acc: 0.9375\n",
            "Epoch 159/200\n",
            "16/16 - 0s - loss: 0.6485 - acc: 0.9375\n",
            "Epoch 160/200\n",
            "16/16 - 0s - loss: 0.6427 - acc: 0.9375\n",
            "Epoch 161/200\n",
            "16/16 - 0s - loss: 0.6369 - acc: 0.9375\n",
            "Epoch 162/200\n",
            "16/16 - 0s - loss: 0.6312 - acc: 0.9375\n",
            "Epoch 163/200\n",
            "16/16 - 0s - loss: 0.6256 - acc: 0.9375\n",
            "Epoch 164/200\n",
            "16/16 - 0s - loss: 0.6200 - acc: 0.9375\n",
            "Epoch 165/200\n",
            "16/16 - 0s - loss: 0.6145 - acc: 0.9375\n",
            "Epoch 166/200\n",
            "16/16 - 0s - loss: 0.6091 - acc: 0.9375\n",
            "Epoch 167/200\n",
            "16/16 - 0s - loss: 0.6037 - acc: 0.9375\n",
            "Epoch 168/200\n",
            "16/16 - 0s - loss: 0.5985 - acc: 0.9375\n",
            "Epoch 169/200\n",
            "16/16 - 0s - loss: 0.5932 - acc: 0.9375\n",
            "Epoch 170/200\n",
            "16/16 - 0s - loss: 0.5881 - acc: 0.9375\n",
            "Epoch 171/200\n",
            "16/16 - 0s - loss: 0.5830 - acc: 0.9375\n",
            "Epoch 172/200\n",
            "16/16 - 0s - loss: 0.5779 - acc: 0.9375\n",
            "Epoch 173/200\n",
            "16/16 - 0s - loss: 0.5730 - acc: 0.9375\n",
            "Epoch 174/200\n",
            "16/16 - 0s - loss: 0.5680 - acc: 0.9375\n",
            "Epoch 175/200\n",
            "16/16 - 0s - loss: 0.5632 - acc: 0.9375\n",
            "Epoch 176/200\n",
            "16/16 - 0s - loss: 0.5584 - acc: 0.9375\n",
            "Epoch 177/200\n",
            "16/16 - 0s - loss: 0.5536 - acc: 0.9375\n",
            "Epoch 178/200\n",
            "16/16 - 0s - loss: 0.5489 - acc: 0.9375\n",
            "Epoch 179/200\n",
            "16/16 - 0s - loss: 0.5443 - acc: 0.9375\n",
            "Epoch 180/200\n",
            "16/16 - 0s - loss: 0.5397 - acc: 0.9375\n",
            "Epoch 181/200\n",
            "16/16 - 0s - loss: 0.5352 - acc: 0.9375\n",
            "Epoch 182/200\n",
            "16/16 - 0s - loss: 0.5307 - acc: 0.9375\n",
            "Epoch 183/200\n",
            "16/16 - 0s - loss: 0.5263 - acc: 0.9375\n",
            "Epoch 184/200\n",
            "16/16 - 0s - loss: 0.5219 - acc: 0.9375\n",
            "Epoch 185/200\n",
            "16/16 - 0s - loss: 0.5175 - acc: 0.9375\n",
            "Epoch 186/200\n",
            "16/16 - 0s - loss: 0.5133 - acc: 0.9375\n",
            "Epoch 187/200\n",
            "16/16 - 0s - loss: 0.5090 - acc: 0.9375\n",
            "Epoch 188/200\n",
            "16/16 - 0s - loss: 0.5048 - acc: 0.9375\n",
            "Epoch 189/200\n",
            "16/16 - 0s - loss: 0.5007 - acc: 0.9375\n",
            "Epoch 190/200\n",
            "16/16 - 0s - loss: 0.4966 - acc: 0.9375\n",
            "Epoch 191/200\n",
            "16/16 - 0s - loss: 0.4925 - acc: 0.9375\n",
            "Epoch 192/200\n",
            "16/16 - 0s - loss: 0.4885 - acc: 0.9375\n",
            "Epoch 193/200\n",
            "16/16 - 0s - loss: 0.4845 - acc: 0.9375\n",
            "Epoch 194/200\n",
            "16/16 - 0s - loss: 0.4806 - acc: 0.9375\n",
            "Epoch 195/200\n",
            "16/16 - 0s - loss: 0.4767 - acc: 0.9375\n",
            "Epoch 196/200\n",
            "16/16 - 0s - loss: 0.4729 - acc: 0.9375\n",
            "Epoch 197/200\n",
            "16/16 - 0s - loss: 0.4691 - acc: 0.9375\n",
            "Epoch 198/200\n",
            "16/16 - 0s - loss: 0.4653 - acc: 0.9375\n",
            "Epoch 199/200\n",
            "16/16 - 0s - loss: 0.4616 - acc: 0.9375\n",
            "Epoch 200/200\n",
            "16/16 - 0s - loss: 0.4579 - acc: 0.9375\n"
          ],
          "name": "stdout"
        },
        {
          "output_type": "execute_result",
          "data": {
            "text/plain": [
              "<tensorflow.python.keras.callbacks.History at 0x7f3030e06e80>"
            ]
          },
          "metadata": {
            "tags": []
          },
          "execution_count": 156
        }
      ]
    },
    {
      "cell_type": "markdown",
      "metadata": {
        "id": "mjcGmM8UXdAy",
        "colab_type": "text"
      },
      "source": [
        "# 예측하기\n",
        "시작 단어를 주고, 생성 단어 개수를 입력하면 컴퓨터가 문장을 만들어준다.\n",
        " \n"
      ]
    },
    {
      "cell_type": "markdown",
      "metadata": {
        "id": "4D6W1k6kXWoq",
        "colab_type": "text"
      },
      "source": [
        "아래 함수는 처음 단어 하나와 단어생성 개수 K를 입력하면, 학습된 모형의 예측치를 사용하여 K개의 후속단어를 순차적으로 뽑아주는 기능을 수행한다.   "
      ]
    },
    {
      "cell_type": "code",
      "metadata": {
        "id": "YhCXs5p6HBEy",
        "colab_type": "code",
        "outputId": "3efc5241-43a7-467d-ba09-4f1cb24f1a30",
        "colab": {
          "base_uri": "https://localhost:8080/",
          "height": 53
        }
      },
      "source": [
        "def sentence_generation(model, t, current_word, n): # 모델, 토크나이저, 현재 단어, 반복할 횟수\n",
        "    init_word = current_word # 처음 들어온 단어도 마지막에 같이 출력하기위해 저장\n",
        "    sentence = ''\n",
        "    for _ in range(n): # n번 반복\n",
        "        encoded = t.texts_to_sequences([current_word])[0] # 현재 단어에 대한 정수 인코딩\n",
        "        encoded = pad_sequences([encoded], maxlen=max_len-1, padding='pre') # 데이터에 대한 패딩\n",
        "        result = model.predict_classes(encoded, verbose=0)\n",
        "    # 입력한 X(현재 단어)에 대해서 Y를 예측하고 Y(예측한 단어)를 result에 저장.\n",
        "        for word, index in t.word_index.items(): \n",
        "            if index == result: # 만약 예측한 단어와 인덱스와 동일한 단어가 있다면\n",
        "                break # 해당 단어가 예측 단어이므로 break\n",
        "        current_word = current_word + ' '  + word # 현재 단어 + ' ' + 예측 단어를 현재 단어로 변경\n",
        "        sentence = sentence + ' ' + word # 예측 단어를 문장에 저장\n",
        "    # for문이므로 이 행동을 다시 반복\n",
        "    sentence = init_word + sentence\n",
        "    return sentence\n",
        "\n",
        "print(sentence_generation(model, t, '가는', 10))\n",
        "print(sentence_generation(model, t, '오는', 10))\n",
        "\n",
        "\n"
      ],
      "execution_count": 163,
      "outputs": [
        {
          "output_type": "stream",
          "text": [
            "가는 말이 고와야 오는 말이 곱다 있다 말이 곱다 말이 뛰고\n",
            "오는 말이 말이 가는 말이 고와야 오는 말이 곱다 있다 말이\n"
          ],
          "name": "stdout"
        }
      ]
    },
    {
      "cell_type": "markdown",
      "metadata": {
        "id": "6NZqJ-xKaYYZ",
        "colab_type": "text"
      },
      "source": [
        "**아직** 단어갯수와 패턴인식에 대한 학습이 미진함 ㅎㅎ"
      ]
    },
    {
      "cell_type": "markdown",
      "metadata": {
        "id": "CUOFdcZmco2H",
        "colab_type": "text"
      },
      "source": [
        "# 가을엔   \n",
        " *“바람이 잎사귀에 정갈하게 흔들린다. 달과 별을 만나는 이 소리는 날이 갈수록 그리움으로 몸집을 불린다. ”*  \n",
        " \n"
      ]
    },
    {
      "cell_type": "markdown",
      "metadata": {
        "id": "yZSGPV9YN11J",
        "colab_type": "text"
      },
      "source": [
        ""
      ]
    }
  ]
}