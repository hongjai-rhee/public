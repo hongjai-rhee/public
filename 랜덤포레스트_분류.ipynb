{
  "nbformat": 4,
  "nbformat_minor": 0,
  "metadata": {
    "colab": {
      "name": "랜덤포레스트_분류.ipynb",
      "provenance": [],
      "collapsed_sections": [],
      "authorship_tag": "ABX9TyMOuzMDHUvm4JBeibwAv0XA",
      "include_colab_link": true
    },
    "kernelspec": {
      "name": "python3",
      "display_name": "Python 3"
    }
  },
  "cells": [
    {
      "cell_type": "markdown",
      "metadata": {
        "id": "view-in-github",
        "colab_type": "text"
      },
      "source": [
        "<a href=\"https://colab.research.google.com/github/hongjai-rhee/public/blob/master/%EB%9E%9C%EB%8D%A4%ED%8F%AC%EB%A0%88%EC%8A%A4%ED%8A%B8_%EB%B6%84%EB%A5%98.ipynb\" target=\"_parent\"><img src=\"https://colab.research.google.com/assets/colab-badge.svg\" alt=\"Open In Colab\"/></a>"
      ]
    },
    {
      "cell_type": "markdown",
      "metadata": {
        "id": "XirlOELRjIyz",
        "colab_type": "text"
      },
      "source": [
        "# 랜덤 포레스트 분류 모형\n",
        "X에서 랜덤으로 추출된 부분집합 x변수에 의해 y변수의 클래스를 구분하는 decision tree를 K개 만든 다음, 주어진 X에 대한 K개 예측치를 다수결로 평가하여 최종 예측을 하는 알고리즘. 똑똑한 한 명보다 조금 덜 똑똑한 100명이 더 낫다는 멋진 아이디어. \n",
        "https://medium.com/@deepvalidation/title-3b0e263605de\n",
        " \n",
        " \n"
      ]
    },
    {
      "cell_type": "markdown",
      "metadata": {
        "id": "JSXcFOZij_bM",
        "colab_type": "text"
      },
      "source": [
        "# 아이리스 데이타를 불러오자. "
      ]
    },
    {
      "cell_type": "code",
      "metadata": {
        "id": "XYxG13yce2M4",
        "colab_type": "code",
        "colab": {
          "base_uri": "https://localhost:8080/",
          "height": 204
        },
        "outputId": "c6982e2a-dcf6-4e5a-cc7d-7944e65cb875"
      },
      "source": [
        "import pandas as pd; from sklearn import datasets\n",
        "\n",
        "iris = datasets.load_iris()\n",
        "data.head()#species (품종)는 3개의 카테고리를 가진다(0/1/2)"
      ],
      "execution_count": 67,
      "outputs": [
        {
          "output_type": "execute_result",
          "data": {
            "text/html": [
              "<div>\n",
              "<style scoped>\n",
              "    .dataframe tbody tr th:only-of-type {\n",
              "        vertical-align: middle;\n",
              "    }\n",
              "\n",
              "    .dataframe tbody tr th {\n",
              "        vertical-align: top;\n",
              "    }\n",
              "\n",
              "    .dataframe thead th {\n",
              "        text-align: right;\n",
              "    }\n",
              "</style>\n",
              "<table border=\"1\" class=\"dataframe\">\n",
              "  <thead>\n",
              "    <tr style=\"text-align: right;\">\n",
              "      <th></th>\n",
              "      <th>sepal length</th>\n",
              "      <th>sepal width</th>\n",
              "      <th>petal length</th>\n",
              "      <th>petal width</th>\n",
              "      <th>species</th>\n",
              "    </tr>\n",
              "  </thead>\n",
              "  <tbody>\n",
              "    <tr>\n",
              "      <th>0</th>\n",
              "      <td>5.1</td>\n",
              "      <td>3.5</td>\n",
              "      <td>1.4</td>\n",
              "      <td>0.2</td>\n",
              "      <td>0</td>\n",
              "    </tr>\n",
              "    <tr>\n",
              "      <th>1</th>\n",
              "      <td>4.9</td>\n",
              "      <td>3.0</td>\n",
              "      <td>1.4</td>\n",
              "      <td>0.2</td>\n",
              "      <td>0</td>\n",
              "    </tr>\n",
              "    <tr>\n",
              "      <th>2</th>\n",
              "      <td>4.7</td>\n",
              "      <td>3.2</td>\n",
              "      <td>1.3</td>\n",
              "      <td>0.2</td>\n",
              "      <td>0</td>\n",
              "    </tr>\n",
              "    <tr>\n",
              "      <th>3</th>\n",
              "      <td>4.6</td>\n",
              "      <td>3.1</td>\n",
              "      <td>1.5</td>\n",
              "      <td>0.2</td>\n",
              "      <td>0</td>\n",
              "    </tr>\n",
              "    <tr>\n",
              "      <th>4</th>\n",
              "      <td>5.0</td>\n",
              "      <td>3.6</td>\n",
              "      <td>1.4</td>\n",
              "      <td>0.2</td>\n",
              "      <td>0</td>\n",
              "    </tr>\n",
              "  </tbody>\n",
              "</table>\n",
              "</div>"
            ],
            "text/plain": [
              "   sepal length  sepal width  petal length  petal width  species\n",
              "0           5.1          3.5           1.4          0.2        0\n",
              "1           4.9          3.0           1.4          0.2        0\n",
              "2           4.7          3.2           1.3          0.2        0\n",
              "3           4.6          3.1           1.5          0.2        0\n",
              "4           5.0          3.6           1.4          0.2        0"
            ]
          },
          "metadata": {
            "tags": []
          },
          "execution_count": 67
        }
      ]
    },
    {
      "cell_type": "markdown",
      "metadata": {
        "id": "kqOKcOGJk0s7",
        "colab_type": "text"
      },
      "source": [
        "# 훈련과 검증 데이터를 분리한다."
      ]
    },
    {
      "cell_type": "code",
      "metadata": {
        "id": "TzkeNqLFfKIc",
        "colab_type": "code",
        "colab": {
          "base_uri": "https://localhost:8080/",
          "height": 35
        },
        "outputId": "a8ab77ca-3cd0-4b65-8ec1-b47b7d16865a"
      },
      "source": [
        "from sklearn.model_selection import train_test_split; import random\n",
        "random.seed(155)\n",
        " \n",
        "x = data[['sepal length', 'sepal width', 'petal length', 'petal width']]\n",
        "y = data['species']\n",
        " \n",
        "# 테스트 데이터 30%\n",
        "x_train, x_test, y_train, y_test = train_test_split(x, y, test_size=0.3)\n",
        "print(x_train.shape, x_test.shape, y_train.shape, y_test.shape)\n"
      ],
      "execution_count": 68,
      "outputs": [
        {
          "output_type": "stream",
          "text": [
            "(105, 4) (45, 4) (105,) (45,)\n"
          ],
          "name": "stdout"
        }
      ]
    },
    {
      "cell_type": "markdown",
      "metadata": {
        "id": "_CPR3-OXlYKM",
        "colab_type": "text"
      },
      "source": [
        "# 학습을 하고, 예측을 한다."
      ]
    },
    {
      "cell_type": "code",
      "metadata": {
        "id": "keZi81D9lI7C",
        "colab_type": "code",
        "colab": {
          "base_uri": "https://localhost:8080/",
          "height": 53
        },
        "outputId": "4252d95d-243d-4ade-ea5f-34ce81799940"
      },
      "source": [
        "from sklearn.ensemble import RandomForestClassifier\n",
        "from sklearn import metrics    \n",
        "# 학습 진행\n",
        "n_tree =100   ## 의사결정 나무의 수\n",
        "forest = RandomForestClassifier(n_estimators=n_tree)\n",
        "forest.fit(x_train, y_train)\n",
        "# 예측\n",
        "y_pred = forest.predict(x_test)\n",
        "print(\"실제\",list(y_test))\n",
        "print(\"예측\",list(y_pred))\n",
        "\n"
      ],
      "execution_count": 69,
      "outputs": [
        {
          "output_type": "stream",
          "text": [
            "실제 [1, 1, 0, 2, 2, 0, 0, 2, 2, 0, 1, 2, 2, 2, 1, 0, 1, 2, 0, 0, 2, 2, 2, 1, 0, 1, 1, 2, 2, 1, 0, 2, 0, 0, 2, 1, 2, 0, 1, 0, 1, 0, 0, 0, 1]\n",
            "예측 [1, 1, 0, 2, 2, 0, 0, 2, 2, 0, 1, 2, 2, 2, 1, 0, 1, 2, 0, 0, 2, 2, 2, 1, 0, 1, 1, 2, 2, 1, 0, 2, 0, 0, 2, 1, 2, 0, 1, 0, 1, 0, 0, 0, 1]\n"
          ],
          "name": "stdout"
        }
      ]
    },
    {
      "cell_type": "markdown",
      "metadata": {
        "id": "ea2Jx0ltl7uS",
        "colab_type": "text"
      },
      "source": [
        "# 검증데이터에 대한 예측력을 살펴보자"
      ]
    },
    {
      "cell_type": "code",
      "metadata": {
        "id": "J2do7ZZVg16c",
        "colab_type": "code",
        "colab": {
          "base_uri": "https://localhost:8080/",
          "height": 125
        },
        "outputId": "1e93668d-c6ef-4007-f92e-6bfdda3194ff"
      },
      "source": [
        "# 정확도 확인\n",
        "acc= metrics.accuracy_score(y_test, y_pred)\n",
        "import matplotlib.pyplot as plt; import numpy as np; from sklearn.metrics import confusion_matrix\n",
        "print(\"test accuracy=\",  np.round(100*acc,2), \"%\")\n",
        "print(\"Confusion Matrix\")\n",
        "print(\"*****************\")\n",
        "print(confusion_matrix(y_test, y_pred))   ## 대각선이 올바른 예측\n",
        "\n"
      ],
      "execution_count": 70,
      "outputs": [
        {
          "output_type": "stream",
          "text": [
            "test accuracy= 100.0 %\n",
            "Confusion Matrix\n",
            "*****************\n",
            "[[16  0  0]\n",
            " [ 0 13  0]\n",
            " [ 0  0 16]]\n"
          ],
          "name": "stdout"
        }
      ]
    }
  ]
}