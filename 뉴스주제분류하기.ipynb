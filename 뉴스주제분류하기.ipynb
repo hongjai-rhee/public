{
  "nbformat": 4,
  "nbformat_minor": 0,
  "metadata": {
    "colab": {
      "name": "뉴스주제분류하기.ipynb",
      "provenance": [],
      "collapsed_sections": [],
      "authorship_tag": "ABX9TyPD0PByZUdE2GDjlDkIEj8Z",
      "include_colab_link": true
    },
    "kernelspec": {
      "name": "python3",
      "display_name": "Python 3"
    }
  },
  "cells": [
    {
      "cell_type": "markdown",
      "metadata": {
        "id": "view-in-github",
        "colab_type": "text"
      },
      "source": [
        "<a href=\"https://colab.research.google.com/github/hongjai-rhee/public/blob/master/%EB%89%B4%EC%8A%A4%EC%A3%BC%EC%A0%9C%EB%B6%84%EB%A5%98%ED%95%98%EA%B8%B0.ipynb\" target=\"_parent\"><img src=\"https://colab.research.google.com/assets/colab-badge.svg\" alt=\"Open In Colab\"/></a>"
      ]
    },
    {
      "cell_type": "markdown",
      "metadata": {
        "id": "H9GJe_34uW0o",
        "colab_type": "text"
      },
      "source": [
        "# 데이터셋 준비\n",
        "로이터에서 제공하는 뉴스와이어 데이터셋을 이용하겠습니다. 이 데이터셋은 총 11,228개의 샘플로 구성되어 있습니다. 라벨은 46개 주제로 지정되어 0에서 45의 값을 가지고 있습니다. 케라스에서 제공하는 reuters의 load_data() 함수을 이용하면 데이터셋을 쉽게 얻을 수 있습니다. 데이터셋은 이미 정수로 인코딩되어 있으며, 정수값은 단어의 코드번호를 나타냅니다. 모든 단어를 고려할 수 없으므로 빈도수가 높은 단어를 위주로 데이터셋을 생성합니다. 15,000번째로 많이 사용하는 단어까지만 데이터셋으로 만들고 싶다면, num_words 인자에 15000이라고 지정하면 됩니다.\n",
        "\n",
        "---\n",
        "\n",
        "![image.png](data:image/png;base64,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)"
      ]
    },
    {
      "cell_type": "code",
      "metadata": {
        "id": "4JaE3vvDun1n",
        "colab_type": "code",
        "colab": {
          "base_uri": "https://localhost:8080/",
          "height": 118
        },
        "outputId": "1f2e706d-b4ee-4046-eb5a-a4d8c144ed97"
      },
      "source": [
        "\n",
        "## 필요한 라이브러리 부르기\n",
        "from keras.datasets import reuters; from keras.utils import np_utils; from keras.preprocessing import sequence\n",
        "from keras.models import Sequential; from keras.layers import Dense, Embedding; from keras.layers import Flatten\n",
        "\n",
        "max_features = 15000\n",
        "text_max_words = 120   ## 처음 120 단어만 살펴봄\n",
        "# 데이터 불러오기\n",
        "(x_train, y_train), (x_test, y_test) = reuters.load_data(num_words=max_features)\n"
      ],
      "execution_count": 1,
      "outputs": [
        {
          "output_type": "stream",
          "text": [
            "Using TensorFlow backend.\n"
          ],
          "name": "stderr"
        },
        {
          "output_type": "display_data",
          "data": {
            "text/html": [
              "<p style=\"color: red;\">\n",
              "The default version of TensorFlow in Colab will soon switch to TensorFlow 2.x.<br>\n",
              "We recommend you <a href=\"https://www.tensorflow.org/guide/migrate\" target=\"_blank\">upgrade</a> now \n",
              "or ensure your notebook will continue to use TensorFlow 1.x via the <code>%tensorflow_version 1.x</code> magic:\n",
              "<a href=\"https://colab.research.google.com/notebooks/tensorflow_version.ipynb\" target=\"_blank\">more info</a>.</p>\n"
            ],
            "text/plain": [
              "<IPython.core.display.HTML object>"
            ]
          },
          "metadata": {
            "tags": []
          }
        },
        {
          "output_type": "stream",
          "text": [
            "Downloading data from https://s3.amazonaws.com/text-datasets/reuters.npz\n",
            "2113536/2110848 [==============================] - 1s 1us/step\n"
          ],
          "name": "stdout"
        }
      ]
    },
    {
      "cell_type": "markdown",
      "metadata": {
        "id": "IehwMnB9vw7I",
        "colab_type": "text"
      },
      "source": [
        "# 데이터 정리하기\n",
        "훈련셋 8,982개와 시험셋 2,246개로 구성된 총 11,228개 샘플이 로딩이 됩니다. 훈련셋과 시험셋의 비율은 load_data() 함수의 test_split 인자로 조절 가능합니다. 각 샘플은 뉴스 한 건을 의미하며, 단어의 인덱스로 구성되어 있습니다. 훈련셋 8,982개 중 다시 7,000개을 훈련셋으로 나머지를 검증셋으로 분리합니다. 처음 120단어만 남기고 삭제합니다. (부족한 경우는 0으로 패딩) .\n",
        "."
      ]
    },
    {
      "cell_type": "code",
      "metadata": {
        "id": "amp-d1tIwJpR",
        "colab_type": "code",
        "outputId": "fc36d299-8052-443b-d09a-f4c51d0bc5ce",
        "colab": {
          "base_uri": "https://localhost:8080/",
          "height": 55
        }
      },
      "source": [
        "# 훈련셋과 검증셋 분리\n",
        "x_val = x_train[7000:]; y_val = y_train[7000:]\n",
        "x_train = x_train[:7000]; y_train = y_train[:7000]\n",
        "print(x_train[0])\n",
        "\n",
        "\n",
        "# 데이터셋 전처리 : 문장 길이 맞추기\n",
        "x_train = sequence.pad_sequences(x_train, maxlen=text_max_words)\n",
        "x_val = sequence.pad_sequences(x_val, maxlen=text_max_words)\n",
        "x_test = sequence.pad_sequences(x_test, maxlen=text_max_words)\n",
        "\n",
        "# one-hot 인코딩\n",
        "y_train = np_utils.to_categorical(y_train)\n",
        "y_val = np_utils.to_categorical(y_val)\n",
        "y_test = np_utils.to_categorical(y_test)"
      ],
      "execution_count": 2,
      "outputs": [
        {
          "output_type": "stream",
          "text": [
            "[1, 2, 2, 8, 43, 10, 447, 5, 25, 207, 270, 5, 3095, 111, 16, 369, 186, 90, 67, 7, 89, 5, 19, 102, 6, 19, 124, 15, 90, 67, 84, 22, 482, 26, 7, 48, 4, 49, 8, 864, 39, 209, 154, 6, 151, 6, 83, 11, 15, 22, 155, 11, 15, 7, 48, 9, 4579, 1005, 504, 6, 258, 6, 272, 11, 15, 22, 134, 44, 11, 15, 16, 8, 197, 1245, 90, 67, 52, 29, 209, 30, 32, 132, 6, 109, 15, 17, 12]\n"
          ],
          "name": "stdout"
        }
      ]
    },
    {
      "cell_type": "markdown",
      "metadata": {
        "id": "UT7ge6cyyLSQ",
        "colab_type": "text"
      },
      "source": [
        "# 모델설정과 학습실행"
      ]
    },
    {
      "cell_type": "code",
      "metadata": {
        "id": "p-Crtt4tz8Aq",
        "colab_type": "code",
        "colab": {}
      },
      "source": [
        "EPOCH=7   # 학습횟수 지정\n",
        "BATCH=512\n",
        "\n",
        "\n"
      ],
      "execution_count": 0,
      "outputs": []
    },
    {
      "cell_type": "code",
      "metadata": {
        "id": "_I9g4D09yDJo",
        "colab_type": "code",
        "outputId": "3fa4a807-9d4d-48d8-a18e-7a9557f92c0f",
        "colab": {
          "base_uri": "https://localhost:8080/",
          "height": 809
        }
      },
      "source": [
        "# 모델 구성하기\n",
        "model = Sequential()\n",
        "model.add(Embedding(max_features, 128, input_length=text_max_words))\n",
        "model.add(Flatten())\n",
        "model.add(Dense(256, activation='relu'))\n",
        "model.add(Dense(46, activation='softmax'))\n",
        "\n",
        "# 모델 학습과정 설정하기\n",
        "model.compile(loss='categorical_crossentropy', optimizer='adam', metrics=['accuracy'])\n",
        "\n",
        "# 모델 학습시키기\n",
        "hist = model.fit(x_train, y_train, epochs=EPOCH, batch_size=BATCH, validation_data=(x_val, y_val))\n"
      ],
      "execution_count": 4,
      "outputs": [
        {
          "output_type": "stream",
          "text": [
            "WARNING:tensorflow:From /usr/local/lib/python3.6/dist-packages/keras/backend/tensorflow_backend.py:66: The name tf.get_default_graph is deprecated. Please use tf.compat.v1.get_default_graph instead.\n",
            "\n",
            "WARNING:tensorflow:From /usr/local/lib/python3.6/dist-packages/keras/backend/tensorflow_backend.py:541: The name tf.placeholder is deprecated. Please use tf.compat.v1.placeholder instead.\n",
            "\n",
            "WARNING:tensorflow:From /usr/local/lib/python3.6/dist-packages/keras/backend/tensorflow_backend.py:4432: The name tf.random_uniform is deprecated. Please use tf.random.uniform instead.\n",
            "\n",
            "WARNING:tensorflow:From /usr/local/lib/python3.6/dist-packages/keras/optimizers.py:793: The name tf.train.Optimizer is deprecated. Please use tf.compat.v1.train.Optimizer instead.\n",
            "\n",
            "WARNING:tensorflow:From /usr/local/lib/python3.6/dist-packages/keras/backend/tensorflow_backend.py:3576: The name tf.log is deprecated. Please use tf.math.log instead.\n",
            "\n",
            "WARNING:tensorflow:From /usr/local/lib/python3.6/dist-packages/tensorflow_core/python/ops/math_grad.py:1424: where (from tensorflow.python.ops.array_ops) is deprecated and will be removed in a future version.\n",
            "Instructions for updating:\n",
            "Use tf.where in 2.0, which has the same broadcast rule as np.where\n",
            "WARNING:tensorflow:From /usr/local/lib/python3.6/dist-packages/keras/backend/tensorflow_backend.py:1033: The name tf.assign_add is deprecated. Please use tf.compat.v1.assign_add instead.\n",
            "\n",
            "WARNING:tensorflow:From /usr/local/lib/python3.6/dist-packages/keras/backend/tensorflow_backend.py:1020: The name tf.assign is deprecated. Please use tf.compat.v1.assign instead.\n",
            "\n",
            "WARNING:tensorflow:From /usr/local/lib/python3.6/dist-packages/keras/backend/tensorflow_backend.py:3005: The name tf.Session is deprecated. Please use tf.compat.v1.Session instead.\n",
            "\n",
            "Train on 7000 samples, validate on 1982 samples\n",
            "Epoch 1/7\n",
            "WARNING:tensorflow:From /usr/local/lib/python3.6/dist-packages/keras/backend/tensorflow_backend.py:190: The name tf.get_default_session is deprecated. Please use tf.compat.v1.get_default_session instead.\n",
            "\n",
            "WARNING:tensorflow:From /usr/local/lib/python3.6/dist-packages/keras/backend/tensorflow_backend.py:197: The name tf.ConfigProto is deprecated. Please use tf.compat.v1.ConfigProto instead.\n",
            "\n",
            "WARNING:tensorflow:From /usr/local/lib/python3.6/dist-packages/keras/backend/tensorflow_backend.py:207: The name tf.global_variables is deprecated. Please use tf.compat.v1.global_variables instead.\n",
            "\n",
            "WARNING:tensorflow:From /usr/local/lib/python3.6/dist-packages/keras/backend/tensorflow_backend.py:216: The name tf.is_variable_initialized is deprecated. Please use tf.compat.v1.is_variable_initialized instead.\n",
            "\n",
            "WARNING:tensorflow:From /usr/local/lib/python3.6/dist-packages/keras/backend/tensorflow_backend.py:223: The name tf.variables_initializer is deprecated. Please use tf.compat.v1.variables_initializer instead.\n",
            "\n",
            "7000/7000 [==============================] - 6s 790us/step - loss: 2.7525 - acc: 0.3653 - val_loss: 2.1155 - val_acc: 0.4072\n",
            "Epoch 2/7\n",
            "7000/7000 [==============================] - 5s 646us/step - loss: 1.8556 - acc: 0.5040 - val_loss: 1.7667 - val_acc: 0.5333\n",
            "Epoch 3/7\n",
            "7000/7000 [==============================] - 5s 650us/step - loss: 1.4458 - acc: 0.6344 - val_loss: 1.5652 - val_acc: 0.6115\n",
            "Epoch 4/7\n",
            "7000/7000 [==============================] - 5s 662us/step - loss: 1.0744 - acc: 0.7540 - val_loss: 1.4280 - val_acc: 0.6569\n",
            "Epoch 5/7\n",
            "7000/7000 [==============================] - 5s 671us/step - loss: 0.7125 - acc: 0.8456 - val_loss: 1.3524 - val_acc: 0.6781\n",
            "Epoch 6/7\n",
            "7000/7000 [==============================] - 5s 656us/step - loss: 0.4250 - acc: 0.9197 - val_loss: 1.3433 - val_acc: 0.6857\n",
            "Epoch 7/7\n",
            "7000/7000 [==============================] - 5s 660us/step - loss: 0.2290 - acc: 0.9531 - val_loss: 1.3487 - val_acc: 0.6922\n"
          ],
          "name": "stdout"
        }
      ]
    },
    {
      "cell_type": "markdown",
      "metadata": {
        "id": "kpauadAaymw5",
        "colab_type": "text"
      },
      "source": [
        "# 학습과정 시각화"
      ]
    },
    {
      "cell_type": "code",
      "metadata": {
        "id": "rL4Qmux-yafB",
        "colab_type": "code",
        "outputId": "36cacf88-d1de-48bb-a5d3-80970124856a",
        "colab": {
          "base_uri": "https://localhost:8080/",
          "height": 337
        }
      },
      "source": [
        "import matplotlib.pyplot as plt\n",
        "\n",
        "fig, loss_ax = plt.subplots()\n",
        "\n",
        "acc_ax = loss_ax.twinx()\n",
        "\n",
        "loss_ax.plot(hist.history['loss'], 'y', label='train loss')\n",
        "loss_ax.plot(hist.history['val_loss'], 'r', label='val loss')\n",
        "loss_ax.set_ylim([0.0, 3.0])\n",
        "\n",
        "acc_ax.plot(hist.history['acc'], 'b', label='train acc')\n",
        "acc_ax.plot(hist.history['val_acc'], 'g', label='val acc')\n",
        "acc_ax.set_ylim([0.0, 1.0])\n",
        "\n",
        "loss_ax.set_xlabel('epoch')\n",
        "loss_ax.set_ylabel('loss')\n",
        "acc_ax.set_ylabel('accuray')\n",
        "\n",
        "loss_ax.legend(loc='upper left')\n",
        "acc_ax.legend(loc='lower left')\n",
        "\n",
        "plt.show()\n",
        "\n",
        "# 6. 모델 평가하기\n",
        "loss_and_metrics = model.evaluate(x_test, y_test, batch_size=64)\n",
        "print('## evaluation loss and_metrics ##')\n",
        "print(loss_and_metrics)\n",
        "#EOF)"
      ],
      "execution_count": 5,
      "outputs": [
        {
          "output_type": "display_data",
          "data": {
            "image/png": "[encoded data removed]",
            "text/plain": [
              "<Figure size 432x288 with 2 Axes>"
            ]
          },
          "metadata": {
            "tags": []
          }
        },
        {
          "output_type": "stream",
          "text": [
            "2246/2246 [==============================] - 0s 207us/step\n",
            "## evaluation loss and_metrics ##\n",
            "[1.3714733648172788, 0.674087266251113]\n"
          ],
          "name": "stdout"
        }
      ]
    },
    {
      "cell_type": "markdown",
      "metadata": {
        "id": "l1qm6mP-wiKh",
        "colab_type": "text"
      },
      "source": [
        ""
      ]
    }
  ]
}