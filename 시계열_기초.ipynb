{
  "nbformat": 4,
  "nbformat_minor": 0,
  "metadata": {
    "colab": {
      "name": "시계열_기초.ipynb",
      "provenance": [],
      "collapsed_sections": [],
      "authorship_tag": "ABX9TyNxnusDx1A+7bFARxgrkWLN",
      "include_colab_link": true
    },
    "kernelspec": {
      "name": "python3",
      "display_name": "Python 3"
    }
  },
  "cells": [
    {
      "cell_type": "markdown",
      "metadata": {
        "id": "view-in-github",
        "colab_type": "text"
      },
      "source": [
        "<a href=\"https://colab.research.google.com/github/hongjai-rhee/public/blob/master/%EC%8B%9C%EA%B3%84%EC%97%B4_%EA%B8%B0%EC%B4%88.ipynb\" target=\"_parent\"><img src=\"https://colab.research.google.com/assets/colab-badge.svg\" alt=\"Open In Colab\"/></a>"
      ]
    },
    {
      "cell_type": "code",
      "metadata": {
        "id": "KdvBr38GoAXA",
        "colab_type": "code",
        "colab": {}
      },
      "source": [
        "import numpy; import matplotlib.pyplot as plt; from pandas import read_csv\n",
        "import math; from keras.models import Sequential; from keras.layers import Dense\n",
        "from keras.layers import LSTM ; from sklearn.preprocessing import MinMaxScaler\n",
        "from sklearn.metrics import mean_squared_error ; # convert an array of values into a dataset matrix"
      ],
      "execution_count": 0,
      "outputs": []
    },
    {
      "cell_type": "markdown",
      "metadata": {
        "id": "mDTqEF11nUim",
        "colab_type": "text"
      },
      "source": [
        "# 시계열 데이터 예측\n",
        "\n",
        "---\n",
        "**y**=y(t), **x**=[y(t-1), y[t-2], ... ] \n"
      ]
    },
    {
      "cell_type": "markdown",
      "metadata": {
        "id": "OIZLmRnmuTJv",
        "colab_type": "text"
      },
      "source": [
        "![image.png](data:image/png;base64,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)"
      ]
    },
    {
      "cell_type": "markdown",
      "metadata": {
        "id": "Yu6tzGyWrAiG",
        "colab_type": "text"
      },
      "source": [
        "# 데이터를 불러오자"
      ]
    },
    {
      "cell_type": "code",
      "metadata": {
        "id": "-4D-WGKunT0m",
        "colab_type": "code",
        "colab": {
          "base_uri": "https://localhost:8080/",
          "height": 359
        },
        "outputId": "067b1c88-3117-418e-f6e4-ece9f49cb84e"
      },
      "source": [
        "# fix random seed for reproducibility\n",
        "numpy.random.seed(7)\n",
        "\n",
        "# load the dataset\n",
        "dataframe = read_csv('airline.csv', usecols=[1], engine='python')\n",
        "dataset = dataframe.values; dataset = dataset.astype('float32')\n",
        "dataframe.head(10)"
      ],
      "execution_count": 106,
      "outputs": [
        {
          "output_type": "execute_result",
          "data": {
            "text/html": [
              "<div>\n",
              "<style scoped>\n",
              "    .dataframe tbody tr th:only-of-type {\n",
              "        vertical-align: middle;\n",
              "    }\n",
              "\n",
              "    .dataframe tbody tr th {\n",
              "        vertical-align: top;\n",
              "    }\n",
              "\n",
              "    .dataframe thead th {\n",
              "        text-align: right;\n",
              "    }\n",
              "</style>\n",
              "<table border=\"1\" class=\"dataframe\">\n",
              "  <thead>\n",
              "    <tr style=\"text-align: right;\">\n",
              "      <th></th>\n",
              "      <th>passengers</th>\n",
              "    </tr>\n",
              "  </thead>\n",
              "  <tbody>\n",
              "    <tr>\n",
              "      <th>0</th>\n",
              "      <td>112</td>\n",
              "    </tr>\n",
              "    <tr>\n",
              "      <th>1</th>\n",
              "      <td>118</td>\n",
              "    </tr>\n",
              "    <tr>\n",
              "      <th>2</th>\n",
              "      <td>132</td>\n",
              "    </tr>\n",
              "    <tr>\n",
              "      <th>3</th>\n",
              "      <td>129</td>\n",
              "    </tr>\n",
              "    <tr>\n",
              "      <th>4</th>\n",
              "      <td>121</td>\n",
              "    </tr>\n",
              "    <tr>\n",
              "      <th>5</th>\n",
              "      <td>135</td>\n",
              "    </tr>\n",
              "    <tr>\n",
              "      <th>6</th>\n",
              "      <td>148</td>\n",
              "    </tr>\n",
              "    <tr>\n",
              "      <th>7</th>\n",
              "      <td>148</td>\n",
              "    </tr>\n",
              "    <tr>\n",
              "      <th>8</th>\n",
              "      <td>136</td>\n",
              "    </tr>\n",
              "    <tr>\n",
              "      <th>9</th>\n",
              "      <td>119</td>\n",
              "    </tr>\n",
              "  </tbody>\n",
              "</table>\n",
              "</div>"
            ],
            "text/plain": [
              "   passengers\n",
              "0         112\n",
              "1         118\n",
              "2         132\n",
              "3         129\n",
              "4         121\n",
              "5         135\n",
              "6         148\n",
              "7         148\n",
              "8         136\n",
              "9         119"
            ]
          },
          "metadata": {
            "tags": []
          },
          "execution_count": 106
        }
      ]
    },
    {
      "cell_type": "markdown",
      "metadata": {
        "id": "cVR0oHFwrR9m",
        "colab_type": "text"
      },
      "source": [
        "# 데이터 스케일을 정규화(optional)"
      ]
    },
    {
      "cell_type": "code",
      "metadata": {
        "id": "M-oSHTPOp3Fv",
        "colab_type": "code",
        "colab": {
          "base_uri": "https://localhost:8080/",
          "height": 197
        },
        "outputId": "891a2181-7395-456a-d8b8-6e898bc101d5"
      },
      "source": [
        "# normalize the dataset\n",
        "scaler = MinMaxScaler(feature_range=(0, 1))\n",
        "dataset = scaler.fit_transform(dataset)\n",
        "dataset[0:10]"
      ],
      "execution_count": 107,
      "outputs": [
        {
          "output_type": "execute_result",
          "data": {
            "text/plain": [
              "array([[0.01544401],\n",
              "       [0.02702703],\n",
              "       [0.05405405],\n",
              "       [0.04826255],\n",
              "       [0.03281853],\n",
              "       [0.05984557],\n",
              "       [0.08494207],\n",
              "       [0.08494207],\n",
              "       [0.06177607],\n",
              "       [0.02895753]], dtype=float32)"
            ]
          },
          "metadata": {
            "tags": []
          },
          "execution_count": 107
        }
      ]
    },
    {
      "cell_type": "markdown",
      "metadata": {
        "id": "KJPS2_5WrehI",
        "colab_type": "text"
      },
      "source": [
        "# 훈련/ 검증 데이터 분리"
      ]
    },
    {
      "cell_type": "code",
      "metadata": {
        "id": "Y1lvAaeiqAQ1",
        "colab_type": "code",
        "colab": {}
      },
      "source": [
        "# split into train and test sets\n",
        "train_size = int(len(dataset) * 0.7)\n",
        "test_size = len(dataset) - train_size\n",
        "train, test = dataset[0:train_size,:], dataset[train_size:len(dataset),:]\n"
      ],
      "execution_count": 0,
      "outputs": []
    },
    {
      "cell_type": "markdown",
      "metadata": {
        "id": "rd00bKQKrvQ-",
        "colab_type": "text"
      },
      "source": [
        "# x = (t-1) 시점의 데이터, y = t 시점의 데이터로 정리"
      ]
    },
    {
      "cell_type": "code",
      "metadata": {
        "id": "znNtejP2qKct",
        "colab_type": "code",
        "colab": {
          "base_uri": "https://localhost:8080/",
          "height": 125
        },
        "outputId": "865cd21e-9de6-40ec-ce08-8911194f07ae"
      },
      "source": [
        "# reshape into X=t and Y=t+1   \n",
        "\n",
        "def create_dataset(dataset, look_back=1):\n",
        "\tdataX, dataY = [], []\n",
        "\tfor i in range(len(dataset)-look_back-1):\n",
        "\t\ta = dataset[i:(i+look_back), 0]\n",
        "\t\tdataX.append(a)\n",
        "\t\tdataY.append(dataset[i + look_back, 0])\n",
        "\treturn numpy.array(dataX), numpy.array(dataY)\n",
        " \n",
        "look_back = 1    \n",
        "trainX, trainY = create_dataset(train, look_back)\n",
        "testX, testY = create_dataset(test, look_back)\n",
        "# reshape input to be [samples, time steps, features]\n",
        "trainX = numpy.reshape(trainX, (trainX.shape[0], 1, trainX.shape[1]))\n",
        "testX = numpy.reshape(testX, (testX.shape[0], 1, testX.shape[1]))\n",
        "# reshape input to be [samples, time steps, features]\n",
        "trainX = numpy.reshape(trainX, (trainX.shape[0], 1, trainX.shape[1]))\n",
        "testX = numpy.reshape(testX, (testX.shape[0], 1, testX.shape[1]))\n",
        "print('      X=Y(t-1),     Y')\n",
        "for i in range(5):\n",
        "  print(i, trainX[i], trainY[i])"
      ],
      "execution_count": 109,
      "outputs": [
        {
          "output_type": "stream",
          "text": [
            "      X=Y(t-1),     Y\n",
            "0 [[0.01544401]] 0.027027026\n",
            "1 [[0.02702703]] 0.05405405\n",
            "2 [[0.05405405]] 0.04826255\n",
            "3 [[0.04826255]] 0.032818526\n",
            "4 [[0.03281853]] 0.059845567\n"
          ],
          "name": "stdout"
        }
      ]
    },
    {
      "cell_type": "markdown",
      "metadata": {
        "id": "wXgvYbR9tTaW",
        "colab_type": "text"
      },
      "source": [
        "# 모형설정\n",
        "시계열 모형에 특화된 LSTM 모형을 사용하자"
      ]
    },
    {
      "cell_type": "code",
      "metadata": {
        "id": "yNNnJI8Wqg5N",
        "colab_type": "code",
        "colab": {
          "base_uri": "https://localhost:8080/",
          "height": 1000
        },
        "outputId": "39ca050f-3f65-427f-cb07-34f487622aa7"
      },
      "source": [
        "EPOCH=100; BATCH=1;\n",
        "\n",
        "# create and fit the LSTM network\n",
        "model = Sequential()\n",
        "model.add(LSTM(4, input_shape=(1, look_back)))\n",
        "model.add(Dense(1))\n",
        "model.compile(loss='mean_squared_error', optimizer='adam')\n",
        "model.fit(trainX, trainY, epochs=EPOCH, batch_size=BATCH, verbose=2)"
      ],
      "execution_count": 110,
      "outputs": [
        {
          "output_type": "stream",
          "text": [
            "Epoch 1/100\n",
            " - 2s - loss: 0.0434\n",
            "Epoch 2/100\n",
            " - 0s - loss: 0.0207\n",
            "Epoch 3/100\n",
            " - 0s - loss: 0.0147\n",
            "Epoch 4/100\n",
            " - 0s - loss: 0.0134\n",
            "Epoch 5/100\n",
            " - 0s - loss: 0.0123\n",
            "Epoch 6/100\n",
            " - 0s - loss: 0.0112\n",
            "Epoch 7/100\n",
            " - 0s - loss: 0.0101\n",
            "Epoch 8/100\n",
            " - 0s - loss: 0.0091\n",
            "Epoch 9/100\n",
            " - 0s - loss: 0.0080\n",
            "Epoch 10/100\n",
            " - 0s - loss: 0.0070\n",
            "Epoch 11/100\n",
            " - 0s - loss: 0.0058\n",
            "Epoch 12/100\n",
            " - 0s - loss: 0.0050\n",
            "Epoch 13/100\n",
            " - 0s - loss: 0.0043\n",
            "Epoch 14/100\n",
            " - 0s - loss: 0.0036\n",
            "Epoch 15/100\n",
            " - 0s - loss: 0.0031\n",
            "Epoch 16/100\n",
            " - 0s - loss: 0.0028\n",
            "Epoch 17/100\n",
            " - 0s - loss: 0.0025\n",
            "Epoch 18/100\n",
            " - 0s - loss: 0.0024\n",
            "Epoch 19/100\n",
            " - 0s - loss: 0.0023\n",
            "Epoch 20/100\n",
            " - 0s - loss: 0.0022\n",
            "Epoch 21/100\n",
            " - 0s - loss: 0.0022\n",
            "Epoch 22/100\n",
            " - 0s - loss: 0.0022\n",
            "Epoch 23/100\n",
            " - 0s - loss: 0.0021\n",
            "Epoch 24/100\n",
            " - 0s - loss: 0.0022\n",
            "Epoch 25/100\n",
            " - 0s - loss: 0.0022\n",
            "Epoch 26/100\n",
            " - 0s - loss: 0.0022\n",
            "Epoch 27/100\n",
            " - 0s - loss: 0.0021\n",
            "Epoch 28/100\n",
            " - 0s - loss: 0.0021\n",
            "Epoch 29/100\n",
            " - 0s - loss: 0.0022\n",
            "Epoch 30/100\n",
            " - 0s - loss: 0.0022\n",
            "Epoch 31/100\n",
            " - 0s - loss: 0.0022\n",
            "Epoch 32/100\n",
            " - 0s - loss: 0.0022\n",
            "Epoch 33/100\n",
            " - 0s - loss: 0.0021\n",
            "Epoch 34/100\n",
            " - 0s - loss: 0.0022\n",
            "Epoch 35/100\n",
            " - 0s - loss: 0.0022\n",
            "Epoch 36/100\n",
            " - 0s - loss: 0.0022\n",
            "Epoch 37/100\n",
            " - 0s - loss: 0.0021\n",
            "Epoch 38/100\n",
            " - 0s - loss: 0.0021\n",
            "Epoch 39/100\n",
            " - 0s - loss: 0.0022\n",
            "Epoch 40/100\n",
            " - 0s - loss: 0.0022\n",
            "Epoch 41/100\n",
            " - 0s - loss: 0.0021\n",
            "Epoch 42/100\n",
            " - 0s - loss: 0.0022\n",
            "Epoch 43/100\n",
            " - 0s - loss: 0.0022\n",
            "Epoch 44/100\n",
            " - 0s - loss: 0.0021\n",
            "Epoch 45/100\n",
            " - 0s - loss: 0.0021\n",
            "Epoch 46/100\n",
            " - 0s - loss: 0.0022\n",
            "Epoch 47/100\n",
            " - 0s - loss: 0.0021\n",
            "Epoch 48/100\n",
            " - 0s - loss: 0.0021\n",
            "Epoch 49/100\n",
            " - 0s - loss: 0.0021\n",
            "Epoch 50/100\n",
            " - 0s - loss: 0.0022\n",
            "Epoch 51/100\n",
            " - 0s - loss: 0.0021\n",
            "Epoch 52/100\n",
            " - 0s - loss: 0.0021\n",
            "Epoch 53/100\n",
            " - 0s - loss: 0.0021\n",
            "Epoch 54/100\n",
            " - 0s - loss: 0.0022\n",
            "Epoch 55/100\n",
            " - 0s - loss: 0.0021\n",
            "Epoch 56/100\n",
            " - 0s - loss: 0.0022\n",
            "Epoch 57/100\n",
            " - 0s - loss: 0.0021\n",
            "Epoch 58/100\n",
            " - 0s - loss: 0.0021\n",
            "Epoch 59/100\n",
            " - 0s - loss: 0.0021\n",
            "Epoch 60/100\n",
            " - 0s - loss: 0.0021\n",
            "Epoch 61/100\n",
            " - 0s - loss: 0.0021\n",
            "Epoch 62/100\n",
            " - 0s - loss: 0.0022\n",
            "Epoch 63/100\n",
            " - 0s - loss: 0.0021\n",
            "Epoch 64/100\n",
            " - 0s - loss: 0.0022\n",
            "Epoch 65/100\n",
            " - 0s - loss: 0.0021\n",
            "Epoch 66/100\n",
            " - 0s - loss: 0.0021\n",
            "Epoch 67/100\n",
            " - 0s - loss: 0.0021\n",
            "Epoch 68/100\n",
            " - 0s - loss: 0.0021\n",
            "Epoch 69/100\n",
            " - 0s - loss: 0.0021\n",
            "Epoch 70/100\n",
            " - 0s - loss: 0.0021\n",
            "Epoch 71/100\n",
            " - 0s - loss: 0.0022\n",
            "Epoch 72/100\n",
            " - 0s - loss: 0.0021\n",
            "Epoch 73/100\n",
            " - 0s - loss: 0.0021\n",
            "Epoch 74/100\n",
            " - 0s - loss: 0.0021\n",
            "Epoch 75/100\n",
            " - 0s - loss: 0.0021\n",
            "Epoch 76/100\n",
            " - 0s - loss: 0.0021\n",
            "Epoch 77/100\n",
            " - 0s - loss: 0.0021\n",
            "Epoch 78/100\n",
            " - 0s - loss: 0.0022\n",
            "Epoch 79/100\n",
            " - 0s - loss: 0.0021\n",
            "Epoch 80/100\n",
            " - 0s - loss: 0.0021\n",
            "Epoch 81/100\n",
            " - 0s - loss: 0.0021\n",
            "Epoch 82/100\n",
            " - 0s - loss: 0.0021\n",
            "Epoch 83/100\n",
            " - 0s - loss: 0.0022\n",
            "Epoch 84/100\n",
            " - 0s - loss: 0.0022\n",
            "Epoch 85/100\n",
            " - 0s - loss: 0.0021\n",
            "Epoch 86/100\n",
            " - 0s - loss: 0.0021\n",
            "Epoch 87/100\n",
            " - 0s - loss: 0.0021\n",
            "Epoch 88/100\n",
            " - 0s - loss: 0.0021\n",
            "Epoch 89/100\n",
            " - 0s - loss: 0.0021\n",
            "Epoch 90/100\n",
            " - 0s - loss: 0.0021\n",
            "Epoch 91/100\n",
            " - 0s - loss: 0.0021\n",
            "Epoch 92/100\n",
            " - 0s - loss: 0.0021\n",
            "Epoch 93/100\n",
            " - 0s - loss: 0.0021\n",
            "Epoch 94/100\n",
            " - 0s - loss: 0.0021\n",
            "Epoch 95/100\n",
            " - 0s - loss: 0.0021\n",
            "Epoch 96/100\n",
            " - 0s - loss: 0.0021\n",
            "Epoch 97/100\n",
            " - 0s - loss: 0.0021\n",
            "Epoch 98/100\n",
            " - 0s - loss: 0.0021\n",
            "Epoch 99/100\n",
            " - 0s - loss: 0.0021\n",
            "Epoch 100/100\n",
            " - 0s - loss: 0.0021\n"
          ],
          "name": "stdout"
        },
        {
          "output_type": "execute_result",
          "data": {
            "text/plain": [
              "<keras.callbacks.History at 0x7f9c5382eef0>"
            ]
          },
          "metadata": {
            "tags": []
          },
          "execution_count": 110
        }
      ]
    },
    {
      "cell_type": "markdown",
      "metadata": {
        "id": "ACoLUSDztzUY",
        "colab_type": "text"
      },
      "source": [
        "# 예측성능 시각화"
      ]
    },
    {
      "cell_type": "code",
      "metadata": {
        "id": "f8POipCLqYH2",
        "colab_type": "code",
        "colab": {
          "base_uri": "https://localhost:8080/",
          "height": 319
        },
        "outputId": "a2d7ae2a-68a9-45fa-fa07-4ef4ffe9dfcf"
      },
      "source": [
        "# make predictions\n",
        "trainPredict = model.predict(trainX)\n",
        "testPredict = model.predict(testX)\n",
        "# invert predictions (원래의 스케일을 복원)\n",
        "trainPredict = scaler.inverse_transform(trainPredict)\n",
        "trainY = scaler.inverse_transform([trainY])\n",
        "testPredict = scaler.inverse_transform(testPredict)\n",
        "testY = scaler.inverse_transform([testY])\n",
        "\n",
        "# calculate root mean squared error\n",
        "trainScore = math.sqrt(mean_squared_error(trainY[0], trainPredict[:,0]))\n",
        "print('Train Score: %.2f RMSE' % (trainScore))\n",
        "testScore = math.sqrt(mean_squared_error(testY[0], testPredict[:,0]))\n",
        "print('Test Score: %.2f RMSE' % (testScore))\n",
        "\n",
        "from sklearn.metrics import r2_score; import numpy as np\n",
        "y_test=np.transpose(testY)\n",
        "r2=r2_score(testPredict,y_test)\n",
        "\n",
        "print('R-squared=', np.round(r2,3))\n",
        "# shift train predictions for plotting\n",
        "trainPredictPlot = numpy.empty_like(dataset)\n",
        "trainPredictPlot[:, :] = numpy.nan\n",
        "trainPredictPlot[look_back:len(trainPredict)+look_back, :] = trainPredict\n",
        "# shift test predictions for plotting\n",
        "testPredictPlot = numpy.empty_like(dataset)\n",
        "testPredictPlot[:, :] = numpy.nan\n",
        "testPredictPlot[len(trainPredict)+(look_back*2)+1:len(dataset)-1, :] = testPredict\n",
        "# plot baseline and predictions\n",
        "plt.plot(scaler.inverse_transform(dataset))\n",
        "plt.plot(trainPredictPlot)\n",
        "plt.plot(testPredictPlot)\n",
        "plt.show()"
      ],
      "execution_count": 111,
      "outputs": [
        {
          "output_type": "stream",
          "text": [
            "Train Score: 23.52 RMSE\n",
            "Test Score: 50.05 RMSE\n",
            "R-squared= 0.43835497816404956\n"
          ],
          "name": "stdout"
        },
        {
          "output_type": "display_data",
          "data": {
            "image/png": "[encoded data removed]",
            "text/plain": [
              "<Figure size 432x288 with 1 Axes>"
            ]
          },
          "metadata": {
            "tags": []
          }
        }
      ]
    }
  ]
}