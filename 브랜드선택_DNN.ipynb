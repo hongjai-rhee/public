{
  "nbformat": 4,
  "nbformat_minor": 0,
  "metadata": {
    "colab": {
      "name": "브랜드선택.ipynb",
      "provenance": [],
      "collapsed_sections": [],
      "authorship_tag": "ABX9TyPs5IRpgrDkB0sn5oysmK0n",
      "include_colab_link": true
    },
    "kernelspec": {
      "name": "python3",
      "display_name": "Python 3"
    }
  },
  "cells": [
    {
      "cell_type": "markdown",
      "metadata": {
        "id": "view-in-github",
        "colab_type": "text"
      },
      "source": [
        "<a href=\"https://colab.research.google.com/github/hongjai-rhee/public/blob/master/%EB%B8%8C%EB%9E%9C%EB%93%9C%EC%84%A0%ED%83%9D.ipynb\" target=\"_parent\"><img src=\"https://colab.research.google.com/assets/colab-badge.svg\" alt=\"Open In Colab\"/></a>"
      ]
    },
    {
      "cell_type": "markdown",
      "metadata": {
        "id": "BWkFoo5bzzQh",
        "colab_type": "text"
      },
      "source": [
        "# 데이터 불러오기\n",
        "데이터파일 이름을 지정한 후, 해당 파일을 코랩에 마운트하고\n",
        "필요한 라이브러리를 불러온다\n"
      ]
    },
    {
      "cell_type": "code",
      "metadata": {
        "id": "BXXIvoqMygeA",
        "colab_type": "code",
        "colab": {
          "base_uri": "https://localhost:8080/",
          "height": 161
        },
        "outputId": "22c3115e-66fe-44bd-aed6-78c528c59823"
      },
      "source": [
        "\n",
        "data_file='choice500.csv'    ## 데이터 파일 이름\n",
        "\n",
        "## 필요한 라이브러리 불러오기\n",
        "import pandas as pd; import numpy as np; from keras.models import Sequential; from keras.layers import Dense, Dropout, Activation; import matplotlib.pyplot as plt \n",
        "from sklearn.model_selection import train_test_split; from keras.utils.np_utils import to_categorical;  from matplotlib import style\n",
        "\n",
        "## 1. 데이터 불러오기  \n",
        "dat = pd.read_csv(data_file); \n",
        "print(dat.head())\n",
        "dat = np.array(dat); ncol=dat.shape[1]; nrow=dat.shape[0]\n",
        "x=dat[:,0:ncol-1]; y=dat[:,ncol-1]-1  \n",
        "y = to_categorical(y)\n",
        "\n"
      ],
      "execution_count": 106,
      "outputs": [
        {
          "output_type": "stream",
          "text": [
            "   age  male  heavy  price1  price2  price3  ...  ad2  ad3  disp1  disp2  disp3  buy\n",
            "0   63     0      0    1.75    1.30    1.73  ...    1    1      0      1      1    2\n",
            "1   29     1      1    1.65    1.43    1.66  ...    1    1      0      0      1    3\n",
            "2   30     1      1    1.62    1.53    1.76  ...    0    0      1      0      0    1\n",
            "3   53     1      1    1.52    1.53    1.76  ...    0    1      1      1      1    3\n",
            "4   55     0      0    1.83    1.62    1.67  ...    0    1      0      0      0    3\n",
            "\n",
            "[5 rows x 13 columns]\n"
          ],
          "name": "stdout"
        }
      ]
    },
    {
      "cell_type": "markdown",
      "metadata": {
        "id": "HsaSGzNM5OPq",
        "colab_type": "text"
      },
      "source": [
        "# 데이터의 구조를 살펴보자"
      ]
    },
    {
      "cell_type": "code",
      "metadata": {
        "id": "Y0-r00OM0KMY",
        "colab_type": "code",
        "outputId": "b3b82151-2167-4448-bf73-9fe9d1949a34",
        "colab": {
          "base_uri": "https://localhost:8080/",
          "height": 923
        }
      },
      "source": [
        "## 1. 데이터 살펴보기  \n",
        "print(np.around(x[0:10,:],2))      # 고객특성(나이, 성별, 헤비유저), 3개 브랜드의 (가격, 광고, 스페셜 디스플레이 여부)\n",
        "print(y[0:10])                     # 선택된 브랜드  \n",
        "class_names = ['nabisco', 'keebler', 'sunshine']    ## 브랜드 이름\n",
        "\n",
        "# X 벡터를 이미지로 시각화\n",
        "import copy \n",
        "z=copy.copy(x)\n",
        "z[:,0]=z[:,0]/50\n",
        "z = z.reshape(nrow, 4,3)\n",
        "\n",
        "plt.figure(figsize=(10,10))\n",
        "for i in range(40) :\n",
        "    plt.subplot(5,8,i+1)\n",
        "    plt.xticks([])\n",
        "    plt.yticks([])\n",
        "    plt.grid(False)\n",
        "    plt.imshow(z[i])\n",
        "plt.show()\n",
        "\n"
      ],
      "execution_count": 107,
      "outputs": [
        {
          "output_type": "stream",
          "text": [
            "[[63.    0.    0.    1.75  1.3   1.73  1.    1.    1.    0.    1.    1.  ]\n",
            " [29.    1.    1.    1.65  1.43  1.66  1.    1.    1.    0.    0.    1.  ]\n",
            " [30.    1.    1.    1.62  1.53  1.76  0.    0.    0.    1.    0.    0.  ]\n",
            " [53.    1.    1.    1.52  1.53  1.76  1.    0.    1.    1.    1.    1.  ]\n",
            " [55.    0.    0.    1.83  1.62  1.67  1.    0.    1.    0.    0.    0.  ]\n",
            " [57.    0.    0.    1.86  1.63  1.72  1.    0.    0.    0.    1.    1.  ]\n",
            " [31.    0.    1.    1.64  1.85  1.62  0.    0.    1.    1.    1.    0.  ]\n",
            " [30.    1.    0.    1.75  1.67  1.78  1.    1.    1.    0.    0.    1.  ]\n",
            " [37.    1.    1.    1.87  1.37  1.77  1.    1.    0.    1.    1.    1.  ]\n",
            " [44.    1.    0.    1.76  1.9   1.74  0.    0.    1.    0.    1.    0.  ]]\n",
            "[[0. 1. 0.]\n",
            " [0. 0. 1.]\n",
            " [1. 0. 0.]\n",
            " [0. 0. 1.]\n",
            " [0. 0. 1.]\n",
            " [1. 0. 0.]\n",
            " [1. 0. 0.]\n",
            " [0. 0. 1.]\n",
            " [0. 1. 0.]\n",
            " [1. 0. 0.]]\n"
          ],
          "name": "stdout"
        },
        {
          "output_type": "display_data",
          "data": {
            "image/png": "[encoded data removed]",
            "text/plain": [
              "<Figure size 720x720 with 40 Axes>"
            ]
          },
          "metadata": {
            "tags": []
          }
        }
      ]
    },
    {
      "cell_type": "markdown",
      "metadata": {
        "id": "7XaW0TKE52Sx",
        "colab_type": "text"
      },
      "source": [
        "# 학습 파라미터를 설정하자"
      ]
    },
    {
      "cell_type": "code",
      "metadata": {
        "id": "MExaDG0H5YlI",
        "colab_type": "code",
        "colab": {}
      },
      "source": [
        "hidden_neuron=4      ## 은닉층(1개)의 뉴론 수 (은닉층 없으면 0으로 설정)\n",
        "EPOCH=200; BATCH=32  ## 학습횟수 \n",
        "test = 0.2           ## 데이터 중 테스트셋의 비율 \n"
      ],
      "execution_count": 0,
      "outputs": []
    },
    {
      "cell_type": "markdown",
      "metadata": {
        "id": "l6Ccjetc8G4J",
        "colab_type": "text"
      },
      "source": [
        "# 모형을 설정하고 학습시키자\n",
        "\n"
      ]
    },
    {
      "cell_type": "code",
      "metadata": {
        "id": "pWDeZE4j6rEa",
        "colab_type": "code",
        "outputId": "7b4d81d7-f07f-420a-b7c0-f434f82a7bfb",
        "colab": {
          "base_uri": "https://localhost:8080/",
          "height": 1000
        }
      },
      "source": [
        "\n",
        "#### 이 아래는 자동으로 실행됨\n",
        "## 2. 학습/검증 데이터 나누기  (80-20)\n",
        "x_train, x_test, y_train, y_test = train_test_split(x, y, test_size=test, random_state=77)\n",
        "\n",
        "## 3. 모델만들기\n",
        "if hidden_neuron ==0: \n",
        "    model = Sequential()\n",
        "    model.add(Dense(y_train.shape[1], input_dim=x_train.shape[1], activation='softmax'))## 은닉층=0\n",
        "else: \n",
        "    model = Sequential()\n",
        "    model.add(Dense(hidden_neuron, input_dim=x_train.shape[1], activation='relu'))\n",
        "    model.add(Dense(y_train.shape[1], activation='softmax')) ## 은닉층=1\n",
        "\n",
        "model.compile(loss='categorical_crossentropy', optimizer='adam', metrics=['accuracy'])\n",
        "hist = model.fit(x_train, y_train, epochs = EPOCH, batch_size=BATCH, validation_data=(x_test, y_test), verbose = 2)\n",
        "model.summary()\n",
        "\n",
        "# model fit 그림으로 표시\n",
        "plt.plot(range(EPOCH), hist.history['acc'], label='Accuracy', color='darkred')\n",
        "plt.plot(range(EPOCH), hist.history['val_acc'], label='Validation Accuracy', color='darkblue')\n",
        "plt.xlabel('epochs'); plt.ylabel('accuracy(%)'); plt.title('red=train, blue=validation'); plt.show()\n",
        "model.summary()"
      ],
      "execution_count": 109,
      "outputs": [
        {
          "output_type": "stream",
          "text": [
            "Train on 400 samples, validate on 100 samples\n",
            "Epoch 1/200\n",
            " - 1s - loss: 7.7476 - acc: 0.5025 - val_loss: 6.1933 - val_acc: 0.6000\n",
            "Epoch 2/200\n",
            " - 0s - loss: 7.5086 - acc: 0.5025 - val_loss: 5.9062 - val_acc: 0.6000\n",
            "Epoch 3/200\n",
            " - 0s - loss: 6.9997 - acc: 0.5025 - val_loss: 5.2433 - val_acc: 0.6000\n",
            "Epoch 4/200\n",
            " - 0s - loss: 5.9986 - acc: 0.5025 - val_loss: 4.1746 - val_acc: 0.6000\n",
            "Epoch 5/200\n",
            " - 0s - loss: 5.1414 - acc: 0.4800 - val_loss: 3.5925 - val_acc: 0.5200\n",
            "Epoch 6/200\n",
            " - 0s - loss: 4.8920 - acc: 0.4350 - val_loss: 3.6260 - val_acc: 0.4800\n",
            "Epoch 7/200\n",
            " - 0s - loss: 4.8589 - acc: 0.4350 - val_loss: 3.5778 - val_acc: 0.5200\n",
            "Epoch 8/200\n",
            " - 0s - loss: 4.8425 - acc: 0.4575 - val_loss: 3.5698 - val_acc: 0.5200\n",
            "Epoch 9/200\n",
            " - 0s - loss: 4.8328 - acc: 0.4650 - val_loss: 3.5609 - val_acc: 0.5200\n",
            "Epoch 10/200\n",
            " - 0s - loss: 4.8253 - acc: 0.4575 - val_loss: 3.5539 - val_acc: 0.5300\n",
            "Epoch 11/200\n",
            " - 0s - loss: 4.8174 - acc: 0.4575 - val_loss: 3.5441 - val_acc: 0.5200\n",
            "Epoch 12/200\n",
            " - 0s - loss: 4.8089 - acc: 0.4675 - val_loss: 3.5350 - val_acc: 0.5200\n",
            "Epoch 13/200\n",
            " - 0s - loss: 4.8022 - acc: 0.4650 - val_loss: 3.5273 - val_acc: 0.5300\n",
            "Epoch 14/200\n",
            " - 0s - loss: 4.7947 - acc: 0.4525 - val_loss: 3.5212 - val_acc: 0.5300\n",
            "Epoch 15/200\n",
            " - 0s - loss: 4.7862 - acc: 0.4700 - val_loss: 3.5120 - val_acc: 0.5300\n",
            "Epoch 16/200\n",
            " - 0s - loss: 4.7791 - acc: 0.4775 - val_loss: 3.5044 - val_acc: 0.5300\n",
            "Epoch 17/200\n",
            " - 0s - loss: 4.7719 - acc: 0.4700 - val_loss: 3.4964 - val_acc: 0.5300\n",
            "Epoch 18/200\n",
            " - 0s - loss: 4.7633 - acc: 0.4900 - val_loss: 3.4889 - val_acc: 0.5400\n",
            "Epoch 19/200\n",
            " - 0s - loss: 4.7605 - acc: 0.4925 - val_loss: 3.4843 - val_acc: 0.5400\n",
            "Epoch 20/200\n",
            " - 0s - loss: 4.7494 - acc: 0.4975 - val_loss: 3.4747 - val_acc: 0.5400\n",
            "Epoch 21/200\n",
            " - 0s - loss: 4.7469 - acc: 0.5000 - val_loss: 3.4681 - val_acc: 0.5500\n",
            "Epoch 22/200\n",
            " - 0s - loss: 4.7458 - acc: 0.5075 - val_loss: 3.4655 - val_acc: 0.5600\n",
            "Epoch 23/200\n",
            " - 0s - loss: 4.7292 - acc: 0.5100 - val_loss: 3.4562 - val_acc: 0.5500\n",
            "Epoch 24/200\n",
            " - 0s - loss: 4.7285 - acc: 0.5025 - val_loss: 3.4491 - val_acc: 0.5500\n",
            "Epoch 25/200\n",
            " - 0s - loss: 4.7196 - acc: 0.5075 - val_loss: 3.4420 - val_acc: 0.5600\n",
            "Epoch 26/200\n",
            " - 0s - loss: 4.7135 - acc: 0.5100 - val_loss: 3.4353 - val_acc: 0.5800\n",
            "Epoch 27/200\n",
            " - 0s - loss: 4.7060 - acc: 0.5100 - val_loss: 3.4287 - val_acc: 0.5500\n",
            "Epoch 28/200\n",
            " - 0s - loss: 4.7017 - acc: 0.5175 - val_loss: 3.4270 - val_acc: 0.5700\n",
            "Epoch 29/200\n",
            " - 0s - loss: 4.6977 - acc: 0.5100 - val_loss: 3.4186 - val_acc: 0.5500\n",
            "Epoch 30/200\n",
            " - 0s - loss: 4.6971 - acc: 0.5225 - val_loss: 3.4153 - val_acc: 0.5800\n",
            "Epoch 31/200\n",
            " - 0s - loss: 4.6875 - acc: 0.5150 - val_loss: 3.4104 - val_acc: 0.5700\n",
            "Epoch 32/200\n",
            " - 0s - loss: 4.6797 - acc: 0.5225 - val_loss: 3.4061 - val_acc: 0.6000\n",
            "Epoch 33/200\n",
            " - 0s - loss: 4.6764 - acc: 0.5350 - val_loss: 3.3986 - val_acc: 0.5900\n",
            "Epoch 34/200\n",
            " - 0s - loss: 4.6726 - acc: 0.5275 - val_loss: 3.3931 - val_acc: 0.5800\n",
            "Epoch 35/200\n",
            " - 0s - loss: 4.6686 - acc: 0.5325 - val_loss: 3.3913 - val_acc: 0.6100\n",
            "Epoch 36/200\n",
            " - 0s - loss: 4.6631 - acc: 0.5425 - val_loss: 3.3852 - val_acc: 0.5800\n",
            "Epoch 37/200\n",
            " - 0s - loss: 4.6602 - acc: 0.5350 - val_loss: 3.3825 - val_acc: 0.6100\n",
            "Epoch 38/200\n",
            " - 0s - loss: 4.6535 - acc: 0.5350 - val_loss: 3.3763 - val_acc: 0.6000\n",
            "Epoch 39/200\n",
            " - 0s - loss: 4.6529 - acc: 0.5475 - val_loss: 3.3729 - val_acc: 0.6100\n",
            "Epoch 40/200\n",
            " - 0s - loss: 4.6475 - acc: 0.5425 - val_loss: 3.3682 - val_acc: 0.6300\n",
            "Epoch 41/200\n",
            " - 0s - loss: 4.6440 - acc: 0.5550 - val_loss: 3.3684 - val_acc: 0.6400\n",
            "Epoch 42/200\n",
            " - 0s - loss: 4.6375 - acc: 0.5500 - val_loss: 3.3608 - val_acc: 0.6400\n",
            "Epoch 43/200\n",
            " - 0s - loss: 4.6373 - acc: 0.5475 - val_loss: 3.3587 - val_acc: 0.6500\n",
            "Epoch 44/200\n",
            " - 0s - loss: 4.6314 - acc: 0.5550 - val_loss: 3.3536 - val_acc: 0.6500\n",
            "Epoch 45/200\n",
            " - 0s - loss: 4.6283 - acc: 0.5575 - val_loss: 3.3507 - val_acc: 0.6500\n",
            "Epoch 46/200\n",
            " - 0s - loss: 4.6271 - acc: 0.5600 - val_loss: 3.3478 - val_acc: 0.6500\n",
            "Epoch 47/200\n",
            " - 0s - loss: 4.6274 - acc: 0.5675 - val_loss: 3.3483 - val_acc: 0.6600\n",
            "Epoch 48/200\n",
            " - 0s - loss: 4.6196 - acc: 0.5625 - val_loss: 3.3423 - val_acc: 0.6400\n",
            "Epoch 49/200\n",
            " - 0s - loss: 4.6167 - acc: 0.5600 - val_loss: 3.3399 - val_acc: 0.6600\n",
            "Epoch 50/200\n",
            " - 0s - loss: 4.6128 - acc: 0.5700 - val_loss: 3.3367 - val_acc: 0.6600\n",
            "Epoch 51/200\n",
            " - 0s - loss: 4.6139 - acc: 0.5600 - val_loss: 3.3325 - val_acc: 0.6800\n",
            "Epoch 52/200\n",
            " - 0s - loss: 4.6126 - acc: 0.5725 - val_loss: 3.3302 - val_acc: 0.6800\n",
            "Epoch 53/200\n",
            " - 0s - loss: 4.6055 - acc: 0.5725 - val_loss: 3.3277 - val_acc: 0.6700\n",
            "Epoch 54/200\n",
            " - 0s - loss: 4.6009 - acc: 0.5775 - val_loss: 3.3260 - val_acc: 0.6600\n",
            "Epoch 55/200\n",
            " - 0s - loss: 4.6073 - acc: 0.5850 - val_loss: 3.3212 - val_acc: 0.6800\n",
            "Epoch 56/200\n",
            " - 0s - loss: 4.5988 - acc: 0.5750 - val_loss: 3.3193 - val_acc: 0.6800\n",
            "Epoch 57/200\n",
            " - 0s - loss: 4.5965 - acc: 0.5900 - val_loss: 3.3178 - val_acc: 0.6800\n",
            "Epoch 58/200\n",
            " - 0s - loss: 4.5921 - acc: 0.5800 - val_loss: 3.3136 - val_acc: 0.6900\n",
            "Epoch 59/200\n",
            " - 0s - loss: 4.5902 - acc: 0.5825 - val_loss: 3.3127 - val_acc: 0.6800\n",
            "Epoch 60/200\n",
            " - 0s - loss: 4.5883 - acc: 0.5875 - val_loss: 3.3091 - val_acc: 0.6900\n",
            "Epoch 61/200\n",
            " - 0s - loss: 4.5853 - acc: 0.5850 - val_loss: 3.3084 - val_acc: 0.7000\n",
            "Epoch 62/200\n",
            " - 0s - loss: 4.5859 - acc: 0.5875 - val_loss: 3.3045 - val_acc: 0.6900\n",
            "Epoch 63/200\n",
            " - 0s - loss: 4.5844 - acc: 0.5950 - val_loss: 3.3018 - val_acc: 0.6900\n",
            "Epoch 64/200\n",
            " - 0s - loss: 4.5809 - acc: 0.5850 - val_loss: 3.3007 - val_acc: 0.6900\n",
            "Epoch 65/200\n",
            " - 0s - loss: 4.5757 - acc: 0.6075 - val_loss: 3.3015 - val_acc: 0.7200\n",
            "Epoch 66/200\n",
            " - 0s - loss: 4.5749 - acc: 0.6025 - val_loss: 3.2956 - val_acc: 0.6900\n",
            "Epoch 67/200\n",
            " - 0s - loss: 4.5773 - acc: 0.5925 - val_loss: 3.2943 - val_acc: 0.7000\n",
            "Epoch 68/200\n",
            " - 0s - loss: 4.5797 - acc: 0.6100 - val_loss: 3.2936 - val_acc: 0.7000\n",
            "Epoch 69/200\n",
            " - 0s - loss: 4.5867 - acc: 0.5725 - val_loss: 3.2934 - val_acc: 0.6900\n",
            "Epoch 70/200\n",
            " - 0s - loss: 4.5786 - acc: 0.6175 - val_loss: 3.3000 - val_acc: 0.7300\n",
            "Epoch 71/200\n",
            " - 0s - loss: 4.5627 - acc: 0.6050 - val_loss: 3.2946 - val_acc: 0.7000\n",
            "Epoch 72/200\n",
            " - 0s - loss: 4.5678 - acc: 0.6100 - val_loss: 3.2880 - val_acc: 0.7200\n",
            "Epoch 73/200\n",
            " - 0s - loss: 4.5623 - acc: 0.6175 - val_loss: 3.2824 - val_acc: 0.7000\n",
            "Epoch 74/200\n",
            " - 0s - loss: 4.5603 - acc: 0.6075 - val_loss: 3.2804 - val_acc: 0.7100\n",
            "Epoch 75/200\n",
            " - 0s - loss: 4.5601 - acc: 0.6275 - val_loss: 3.2783 - val_acc: 0.7000\n",
            "Epoch 76/200\n",
            " - 0s - loss: 4.5579 - acc: 0.6100 - val_loss: 3.2777 - val_acc: 0.7100\n",
            "Epoch 77/200\n",
            " - 0s - loss: 4.5564 - acc: 0.6325 - val_loss: 3.2770 - val_acc: 0.7100\n",
            "Epoch 78/200\n",
            " - 0s - loss: 4.5552 - acc: 0.6100 - val_loss: 3.2758 - val_acc: 0.7100\n",
            "Epoch 79/200\n",
            " - 0s - loss: 4.5528 - acc: 0.6275 - val_loss: 3.2737 - val_acc: 0.7100\n",
            "Epoch 80/200\n",
            " - 0s - loss: 4.5528 - acc: 0.6100 - val_loss: 3.2714 - val_acc: 0.7100\n",
            "Epoch 81/200\n",
            " - 0s - loss: 4.5525 - acc: 0.6300 - val_loss: 3.2706 - val_acc: 0.7100\n",
            "Epoch 82/200\n",
            " - 0s - loss: 4.5502 - acc: 0.6325 - val_loss: 3.2690 - val_acc: 0.6900\n",
            "Epoch 83/200\n",
            " - 0s - loss: 4.5473 - acc: 0.6150 - val_loss: 3.2672 - val_acc: 0.7100\n",
            "Epoch 84/200\n",
            " - 0s - loss: 4.5467 - acc: 0.6350 - val_loss: 3.2655 - val_acc: 0.7200\n",
            "Epoch 85/200\n",
            " - 0s - loss: 4.5436 - acc: 0.6350 - val_loss: 3.2657 - val_acc: 0.7100\n",
            "Epoch 86/200\n",
            " - 0s - loss: 4.5428 - acc: 0.6300 - val_loss: 3.2630 - val_acc: 0.7100\n",
            "Epoch 87/200\n",
            " - 0s - loss: 4.5423 - acc: 0.6250 - val_loss: 3.2619 - val_acc: 0.7200\n",
            "Epoch 88/200\n",
            " - 0s - loss: 4.5427 - acc: 0.6200 - val_loss: 3.2617 - val_acc: 0.7200\n",
            "Epoch 89/200\n",
            " - 0s - loss: 4.5426 - acc: 0.6425 - val_loss: 3.2597 - val_acc: 0.7200\n",
            "Epoch 90/200\n",
            " - 0s - loss: 4.5379 - acc: 0.6375 - val_loss: 3.2576 - val_acc: 0.7300\n",
            "Epoch 91/200\n",
            " - 0s - loss: 4.5372 - acc: 0.6300 - val_loss: 3.2573 - val_acc: 0.7300\n",
            "Epoch 92/200\n",
            " - 0s - loss: 4.5359 - acc: 0.6475 - val_loss: 3.2566 - val_acc: 0.7300\n",
            "Epoch 93/200\n",
            " - 0s - loss: 4.5345 - acc: 0.6325 - val_loss: 3.2558 - val_acc: 0.7400\n",
            "Epoch 94/200\n",
            " - 0s - loss: 4.5325 - acc: 0.6400 - val_loss: 3.2546 - val_acc: 0.7300\n",
            "Epoch 95/200\n",
            " - 0s - loss: 4.5314 - acc: 0.6400 - val_loss: 3.2528 - val_acc: 0.7300\n",
            "Epoch 96/200\n",
            " - 0s - loss: 4.5310 - acc: 0.6475 - val_loss: 3.2510 - val_acc: 0.7400\n",
            "Epoch 97/200\n",
            " - 0s - loss: 4.5292 - acc: 0.6450 - val_loss: 3.2509 - val_acc: 0.7400\n",
            "Epoch 98/200\n",
            " - 0s - loss: 4.5280 - acc: 0.6425 - val_loss: 3.2489 - val_acc: 0.7500\n",
            "Epoch 99/200\n",
            " - 0s - loss: 4.5278 - acc: 0.6475 - val_loss: 3.2480 - val_acc: 0.7500\n",
            "Epoch 100/200\n",
            " - 0s - loss: 4.5265 - acc: 0.6450 - val_loss: 3.2486 - val_acc: 0.7600\n",
            "Epoch 101/200\n",
            " - 0s - loss: 4.5250 - acc: 0.6500 - val_loss: 3.2459 - val_acc: 0.7600\n",
            "Epoch 102/200\n",
            " - 0s - loss: 4.5261 - acc: 0.6450 - val_loss: 3.2462 - val_acc: 0.7300\n",
            "Epoch 103/200\n",
            " - 0s - loss: 4.5240 - acc: 0.6500 - val_loss: 3.2460 - val_acc: 0.7600\n",
            "Epoch 104/200\n",
            " - 0s - loss: 4.5221 - acc: 0.6475 - val_loss: 3.2443 - val_acc: 0.7500\n",
            "Epoch 105/200\n",
            " - 0s - loss: 4.5219 - acc: 0.6425 - val_loss: 3.2421 - val_acc: 0.7600\n",
            "Epoch 106/200\n",
            " - 0s - loss: 4.5208 - acc: 0.6500 - val_loss: 3.2434 - val_acc: 0.7600\n",
            "Epoch 107/200\n",
            " - 0s - loss: 4.5195 - acc: 0.6525 - val_loss: 3.2409 - val_acc: 0.7600\n",
            "Epoch 108/200\n",
            " - 0s - loss: 4.5192 - acc: 0.6450 - val_loss: 3.2399 - val_acc: 0.7500\n",
            "Epoch 109/200\n",
            " - 0s - loss: 4.5197 - acc: 0.6425 - val_loss: 3.2393 - val_acc: 0.7600\n",
            "Epoch 110/200\n",
            " - 0s - loss: 4.5163 - acc: 0.6550 - val_loss: 3.2389 - val_acc: 0.7600\n",
            "Epoch 111/200\n",
            " - 0s - loss: 4.5158 - acc: 0.6525 - val_loss: 3.2366 - val_acc: 0.7700\n",
            "Epoch 112/200\n",
            " - 0s - loss: 4.5149 - acc: 0.6550 - val_loss: 3.2371 - val_acc: 0.7700\n",
            "Epoch 113/200\n",
            " - 0s - loss: 4.5142 - acc: 0.6575 - val_loss: 3.2358 - val_acc: 0.7600\n",
            "Epoch 114/200\n",
            " - 0s - loss: 4.5133 - acc: 0.6550 - val_loss: 3.2348 - val_acc: 0.7700\n",
            "Epoch 115/200\n",
            " - 0s - loss: 4.5132 - acc: 0.6525 - val_loss: 3.2344 - val_acc: 0.7600\n",
            "Epoch 116/200\n",
            " - 0s - loss: 4.5145 - acc: 0.6475 - val_loss: 3.2354 - val_acc: 0.7700\n",
            "Epoch 117/200\n",
            " - 0s - loss: 4.5128 - acc: 0.6575 - val_loss: 3.2337 - val_acc: 0.7600\n",
            "Epoch 118/200\n",
            " - 0s - loss: 4.5119 - acc: 0.6500 - val_loss: 3.2337 - val_acc: 0.7700\n",
            "Epoch 119/200\n",
            " - 0s - loss: 4.5104 - acc: 0.6525 - val_loss: 3.2326 - val_acc: 0.7600\n",
            "Epoch 120/200\n",
            " - 0s - loss: 4.5085 - acc: 0.6600 - val_loss: 3.2321 - val_acc: 0.7700\n",
            "Epoch 121/200\n",
            " - 0s - loss: 4.5089 - acc: 0.6525 - val_loss: 3.2290 - val_acc: 0.7700\n",
            "Epoch 122/200\n",
            " - 0s - loss: 4.5078 - acc: 0.6625 - val_loss: 3.2302 - val_acc: 0.7700\n",
            "Epoch 123/200\n",
            " - 0s - loss: 4.5087 - acc: 0.6525 - val_loss: 3.2287 - val_acc: 0.7700\n",
            "Epoch 124/200\n",
            " - 0s - loss: 4.5063 - acc: 0.6525 - val_loss: 3.2293 - val_acc: 0.7700\n",
            "Epoch 125/200\n",
            " - 0s - loss: 4.5059 - acc: 0.6600 - val_loss: 3.2271 - val_acc: 0.7700\n",
            "Epoch 126/200\n",
            " - 0s - loss: 4.5060 - acc: 0.6600 - val_loss: 3.2282 - val_acc: 0.7700\n",
            "Epoch 127/200\n",
            " - 0s - loss: 4.5045 - acc: 0.6600 - val_loss: 3.2256 - val_acc: 0.7700\n",
            "Epoch 128/200\n",
            " - 0s - loss: 4.5031 - acc: 0.6525 - val_loss: 3.2260 - val_acc: 0.7700\n",
            "Epoch 129/200\n",
            " - 0s - loss: 4.5028 - acc: 0.6725 - val_loss: 3.2267 - val_acc: 0.7700\n",
            "Epoch 130/200\n",
            " - 0s - loss: 4.5048 - acc: 0.6675 - val_loss: 3.2265 - val_acc: 0.7700\n",
            "Epoch 131/200\n",
            " - 0s - loss: 4.5008 - acc: 0.6700 - val_loss: 3.2230 - val_acc: 0.7700\n",
            "Epoch 132/200\n",
            " - 0s - loss: 4.5011 - acc: 0.6500 - val_loss: 3.2230 - val_acc: 0.7700\n",
            "Epoch 133/200\n",
            " - 0s - loss: 4.4990 - acc: 0.6700 - val_loss: 3.2243 - val_acc: 0.7700\n",
            "Epoch 134/200\n",
            " - 0s - loss: 4.4990 - acc: 0.6750 - val_loss: 3.2247 - val_acc: 0.7700\n",
            "Epoch 135/200\n",
            " - 0s - loss: 4.5006 - acc: 0.6650 - val_loss: 3.2228 - val_acc: 0.7700\n",
            "Epoch 136/200\n",
            " - 0s - loss: 4.4992 - acc: 0.6700 - val_loss: 3.2229 - val_acc: 0.7700\n",
            "Epoch 137/200\n",
            " - 0s - loss: 4.4975 - acc: 0.6725 - val_loss: 3.2217 - val_acc: 0.7700\n",
            "Epoch 138/200\n",
            " - 0s - loss: 4.4969 - acc: 0.6675 - val_loss: 3.2207 - val_acc: 0.7700\n",
            "Epoch 139/200\n",
            " - 0s - loss: 4.4968 - acc: 0.6750 - val_loss: 3.2209 - val_acc: 0.7700\n",
            "Epoch 140/200\n",
            " - 0s - loss: 4.4954 - acc: 0.6775 - val_loss: 3.2203 - val_acc: 0.7700\n",
            "Epoch 141/200\n",
            " - 0s - loss: 4.4944 - acc: 0.6775 - val_loss: 3.2185 - val_acc: 0.7700\n",
            "Epoch 142/200\n",
            " - 0s - loss: 4.4952 - acc: 0.6675 - val_loss: 3.2195 - val_acc: 0.7700\n",
            "Epoch 143/200\n",
            " - 0s - loss: 4.4947 - acc: 0.6750 - val_loss: 3.2190 - val_acc: 0.7700\n",
            "Epoch 144/200\n",
            " - 0s - loss: 4.4930 - acc: 0.6700 - val_loss: 3.2176 - val_acc: 0.7700\n",
            "Epoch 145/200\n",
            " - 0s - loss: 4.4926 - acc: 0.6800 - val_loss: 3.2173 - val_acc: 0.7700\n",
            "Epoch 146/200\n",
            " - 0s - loss: 4.4940 - acc: 0.6725 - val_loss: 3.2172 - val_acc: 0.7700\n",
            "Epoch 147/200\n",
            " - 0s - loss: 4.4916 - acc: 0.6800 - val_loss: 3.2152 - val_acc: 0.7700\n",
            "Epoch 148/200\n",
            " - 0s - loss: 4.4906 - acc: 0.6750 - val_loss: 3.2149 - val_acc: 0.7700\n",
            "Epoch 149/200\n",
            " - 0s - loss: 4.4900 - acc: 0.6800 - val_loss: 3.2143 - val_acc: 0.7700\n",
            "Epoch 150/200\n",
            " - 0s - loss: 4.4893 - acc: 0.6725 - val_loss: 3.2143 - val_acc: 0.7700\n",
            "Epoch 151/200\n",
            " - 0s - loss: 4.4885 - acc: 0.6850 - val_loss: 3.2142 - val_acc: 0.7700\n",
            "Epoch 152/200\n",
            " - 0s - loss: 4.4884 - acc: 0.6825 - val_loss: 3.2127 - val_acc: 0.7700\n",
            "Epoch 153/200\n",
            " - 0s - loss: 4.4882 - acc: 0.6700 - val_loss: 3.2133 - val_acc: 0.7700\n",
            "Epoch 154/200\n",
            " - 0s - loss: 4.4871 - acc: 0.6850 - val_loss: 3.2125 - val_acc: 0.7700\n",
            "Epoch 155/200\n",
            " - 0s - loss: 4.4866 - acc: 0.6775 - val_loss: 3.2114 - val_acc: 0.7700\n",
            "Epoch 156/200\n",
            " - 0s - loss: 4.4861 - acc: 0.6750 - val_loss: 3.2113 - val_acc: 0.7700\n",
            "Epoch 157/200\n",
            " - 0s - loss: 4.4866 - acc: 0.6800 - val_loss: 3.2109 - val_acc: 0.7700\n",
            "Epoch 158/200\n",
            " - 0s - loss: 4.4855 - acc: 0.6825 - val_loss: 3.2123 - val_acc: 0.7700\n",
            "Epoch 159/200\n",
            " - 0s - loss: 4.4852 - acc: 0.6700 - val_loss: 3.2100 - val_acc: 0.7700\n",
            "Epoch 160/200\n",
            " - 0s - loss: 4.4976 - acc: 0.6675 - val_loss: 3.2103 - val_acc: 0.7700\n",
            "Epoch 161/200\n",
            " - 0s - loss: 4.4965 - acc: 0.6375 - val_loss: 3.2102 - val_acc: 0.7700\n",
            "Epoch 162/200\n",
            " - 0s - loss: 4.4860 - acc: 0.6775 - val_loss: 3.2094 - val_acc: 0.7700\n",
            "Epoch 163/200\n",
            " - 0s - loss: 4.4844 - acc: 0.6700 - val_loss: 3.2089 - val_acc: 0.7700\n",
            "Epoch 164/200\n",
            " - 0s - loss: 4.4846 - acc: 0.6750 - val_loss: 3.2094 - val_acc: 0.7600\n",
            "Epoch 165/200\n",
            " - 0s - loss: 4.4809 - acc: 0.6825 - val_loss: 3.2092 - val_acc: 0.7700\n",
            "Epoch 166/200\n",
            " - 0s - loss: 4.4833 - acc: 0.6750 - val_loss: 3.2067 - val_acc: 0.7700\n",
            "Epoch 167/200\n",
            " - 0s - loss: 4.4826 - acc: 0.6750 - val_loss: 3.2066 - val_acc: 0.7700\n",
            "Epoch 168/200\n",
            " - 0s - loss: 4.4826 - acc: 0.6825 - val_loss: 3.2063 - val_acc: 0.7700\n",
            "Epoch 169/200\n",
            " - 0s - loss: 4.4813 - acc: 0.6775 - val_loss: 3.2067 - val_acc: 0.7700\n",
            "Epoch 170/200\n",
            " - 0s - loss: 4.4853 - acc: 0.6725 - val_loss: 3.2055 - val_acc: 0.7700\n",
            "Epoch 171/200\n",
            " - 0s - loss: 4.4812 - acc: 0.6800 - val_loss: 3.2043 - val_acc: 0.7700\n",
            "Epoch 172/200\n",
            " - 0s - loss: 4.4826 - acc: 0.6750 - val_loss: 3.2069 - val_acc: 0.7700\n",
            "Epoch 173/200\n",
            " - 0s - loss: 4.4786 - acc: 0.6750 - val_loss: 3.2051 - val_acc: 0.7700\n",
            "Epoch 174/200\n",
            " - 0s - loss: 4.4812 - acc: 0.6750 - val_loss: 3.2031 - val_acc: 0.7700\n",
            "Epoch 175/200\n",
            " - 0s - loss: 4.4840 - acc: 0.6800 - val_loss: 3.2043 - val_acc: 0.7700\n",
            "Epoch 176/200\n",
            " - 0s - loss: 4.4792 - acc: 0.6675 - val_loss: 3.2036 - val_acc: 0.7700\n",
            "Epoch 177/200\n",
            " - 0s - loss: 4.4791 - acc: 0.6800 - val_loss: 3.2024 - val_acc: 0.7700\n",
            "Epoch 178/200\n",
            " - 0s - loss: 4.4781 - acc: 0.6800 - val_loss: 3.2024 - val_acc: 0.7700\n",
            "Epoch 179/200\n",
            " - 0s - loss: 4.4780 - acc: 0.6700 - val_loss: 3.2033 - val_acc: 0.7700\n",
            "Epoch 180/200\n",
            " - 0s - loss: 4.4799 - acc: 0.6850 - val_loss: 3.2007 - val_acc: 0.7700\n",
            "Epoch 181/200\n",
            " - 0s - loss: 4.4788 - acc: 0.6700 - val_loss: 3.2016 - val_acc: 0.7700\n",
            "Epoch 182/200\n",
            " - 0s - loss: 4.4781 - acc: 0.6825 - val_loss: 3.2002 - val_acc: 0.7700\n",
            "Epoch 183/200\n",
            " - 0s - loss: 4.4766 - acc: 0.6825 - val_loss: 3.2012 - val_acc: 0.7700\n",
            "Epoch 184/200\n",
            " - 0s - loss: 4.4768 - acc: 0.6800 - val_loss: 3.2013 - val_acc: 0.7700\n",
            "Epoch 185/200\n",
            " - 0s - loss: 4.4748 - acc: 0.6775 - val_loss: 3.2005 - val_acc: 0.7700\n",
            "Epoch 186/200\n",
            " - 0s - loss: 4.4753 - acc: 0.6775 - val_loss: 3.1994 - val_acc: 0.7700\n",
            "Epoch 187/200\n",
            " - 0s - loss: 4.4737 - acc: 0.6800 - val_loss: 3.1994 - val_acc: 0.7700\n",
            "Epoch 188/200\n",
            " - 0s - loss: 4.4739 - acc: 0.6825 - val_loss: 3.1990 - val_acc: 0.7700\n",
            "Epoch 189/200\n",
            " - 0s - loss: 4.4730 - acc: 0.6800 - val_loss: 3.1990 - val_acc: 0.7700\n",
            "Epoch 190/200\n",
            " - 0s - loss: 4.4735 - acc: 0.6800 - val_loss: 3.1992 - val_acc: 0.7700\n",
            "Epoch 191/200\n",
            " - 0s - loss: 4.4732 - acc: 0.6800 - val_loss: 3.1976 - val_acc: 0.7700\n",
            "Epoch 192/200\n",
            " - 0s - loss: 4.4723 - acc: 0.6750 - val_loss: 3.1981 - val_acc: 0.7700\n",
            "Epoch 193/200\n",
            " - 0s - loss: 4.4729 - acc: 0.6800 - val_loss: 3.1979 - val_acc: 0.7700\n",
            "Epoch 194/200\n",
            " - 0s - loss: 4.4727 - acc: 0.6725 - val_loss: 3.1973 - val_acc: 0.7700\n",
            "Epoch 195/200\n",
            " - 0s - loss: 4.4732 - acc: 0.6825 - val_loss: 3.1966 - val_acc: 0.7700\n",
            "Epoch 196/200\n",
            " - 0s - loss: 4.4749 - acc: 0.6875 - val_loss: 3.1993 - val_acc: 0.7700\n",
            "Epoch 197/200\n",
            " - 0s - loss: 4.4743 - acc: 0.6675 - val_loss: 3.1973 - val_acc: 0.7700\n",
            "Epoch 198/200\n",
            " - 0s - loss: 4.4746 - acc: 0.6825 - val_loss: 3.1961 - val_acc: 0.7700\n",
            "Epoch 199/200\n",
            " - 0s - loss: 4.4739 - acc: 0.6600 - val_loss: 3.1960 - val_acc: 0.7700\n",
            "Epoch 200/200\n",
            " - 0s - loss: 4.4702 - acc: 0.6800 - val_loss: 3.1955 - val_acc: 0.7700\n",
            "Model: \"sequential_15\"\n",
            "_________________________________________________________________\n",
            "Layer (type)                 Output Shape              Param #   \n",
            "=================================================================\n",
            "dense_27 (Dense)             (None, 4)                 52        \n",
            "_________________________________________________________________\n",
            "dense_28 (Dense)             (None, 3)                 15        \n",
            "=================================================================\n",
            "Total params: 67\n",
            "Trainable params: 67\n",
            "Non-trainable params: 0\n",
            "_________________________________________________________________\n"
          ],
          "name": "stdout"
        },
        {
          "output_type": "display_data",
          "data": {
            "image/png": "[encoded data removed]",
            "text/plain": [
              "<Figure size 432x288 with 1 Axes>"
            ]
          },
          "metadata": {
            "tags": []
          }
        },
        {
          "output_type": "stream",
          "text": [
            "Model: \"sequential_15\"\n",
            "_________________________________________________________________\n",
            "Layer (type)                 Output Shape              Param #   \n",
            "=================================================================\n",
            "dense_27 (Dense)             (None, 4)                 52        \n",
            "_________________________________________________________________\n",
            "dense_28 (Dense)             (None, 3)                 15        \n",
            "=================================================================\n",
            "Total params: 67\n",
            "Trainable params: 67\n",
            "Non-trainable params: 0\n",
            "_________________________________________________________________\n"
          ],
          "name": "stdout"
        }
      ]
    },
    {
      "cell_type": "markdown",
      "metadata": {
        "id": "J9zNGqCV8sSf",
        "colab_type": "text"
      },
      "source": [
        "# 학습된 모형을 사용하여 예측하기"
      ]
    },
    {
      "cell_type": "code",
      "metadata": {
        "id": "V81VzzwI8cjh",
        "colab_type": "code",
        "outputId": "58446433-a0d1-407e-8a3e-2f5227976241",
        "colab": {
          "base_uri": "https://localhost:8080/",
          "height": 277
        }
      },
      "source": [
        "\n",
        "# 6. 예측하기 \n",
        "x_new= x_test[0:3]; x_new; yhat = model.predict(x_new)\n",
        "\n",
        "plt.figure(figsize=(15,205))\n",
        "for i in range(3) :\n",
        "    ratio = yhat[i]; plt.subplot(1,3,i+1); plt.xticks([]); plt.yticks([]); plt.grid(False)\n",
        "    plt.pie(ratio, labels=class_names, shadow=True, startangle=90, autopct='%0.1f%%')\n",
        "plt.show()\n"
      ],
      "execution_count": 110,
      "outputs": [
        {
          "output_type": "display_data",
          "data": {
            "image/png": "[encoded data removed]",
            "text/plain": [
              "<Figure size 1080x14760 with 3 Axes>"
            ]
          },
          "metadata": {
            "tags": []
          }
        }
      ]
    },
    {
      "cell_type": "markdown",
      "metadata": {
        "id": "2TaYUdAUD1BS",
        "colab_type": "text"
      },
      "source": [
        "# X가 주어졌을 때 확률적인 구매예측을 해보자"
      ]
    },
    {
      "cell_type": "code",
      "metadata": {
        "id": "Jy8TpvPICMuD",
        "colab_type": "code",
        "colab": {
          "base_uri": "https://localhost:8080/",
          "height": 197
        },
        "outputId": "4914dd37-639f-4a4f-87c2-15f02597c73a"
      },
      "source": [
        "y_pred=np.argmax(yhat,axis=1)\n",
        "print(\"age male heavy  price1 price2 price3 adv1 adv2 adv3  disp1 disp2 disp3\")\n",
        "\n",
        "for i in range(3):\n",
        "    print(x_test[i])\n",
        "    print(\"=======> 이 경우\", np.round(100*yhat[i,y_pred[i]],2), \"%의 확률로\", class_names[y_pred[i]], \"을 살 것으로 예측됩니다\")\n",
        "    print()\n"
      ],
      "execution_count": 111,
      "outputs": [
        {
          "output_type": "stream",
          "text": [
            "age male heavy  price1 price2 price3 adv1 adv2 adv3  disp1 disp2 disp3\n",
            "[57.    1.    1.    1.52  1.64  1.67  1.    0.    1.    0.    1.    1.  ]\n",
            "=======> 이 경우 91.98 %의 확률로 sunshine 을 살 것으로 예측됩니다\n",
            "\n",
            "[50.    0.    1.    1.55  1.54  1.75  0.    1.    1.    0.    0.    1.  ]\n",
            "=======> 이 경우 58.77 %의 확률로 nabisco 을 살 것으로 예측됩니다\n",
            "\n",
            "[56.    1.    0.    1.73  1.66  1.71  1.    0.    1.    1.    0.    1.  ]\n",
            "=======> 이 경우 75.15 %의 확률로 sunshine 을 살 것으로 예측됩니다\n",
            "\n"
          ],
          "name": "stdout"
        }
      ]
    },
    {
      "cell_type": "markdown",
      "metadata": {
        "id": "4c7q7XkU9bqp",
        "colab_type": "text"
      },
      "source": [
        "이 결과를 어떻게 해석할까?\n",
        "브랜드 선택에 관한 모형의 예측력을 높이기 위해서는 어떤 데이터가 필요할까?\n",
        "?"
      ]
    },
    {
      "cell_type": "markdown",
      "metadata": {
        "id": "lGWgwgwHdVbG",
        "colab_type": "text"
      },
      "source": [
        "# 학습된 모형을 저장하자"
      ]
    },
    {
      "cell_type": "code",
      "metadata": {
        "id": "mAlpTg9jdfHl",
        "colab_type": "code",
        "colab": {}
      },
      "source": [
        "# 모델 저장하기\n",
        "from keras.models import load_model\n",
        "model.save('brand_model_01.h5')\n",
        "\n",
        "## 모델을 불러올때, \n",
        "#model1 = load_model('brand_model_01.h5')\n",
        "#yhat1 = model1.predict(x_new)\n",
        "#yhat1)"
      ],
      "execution_count": 0,
      "outputs": []
    },
    {
      "cell_type": "markdown",
      "metadata": {
        "id": "rJ-vFO0uwHQK",
        "colab_type": "text"
      },
      "source": [
        "# 선택모형에 NN의 대안으로 RF(랜덤-포레스트) 모형을 사용할 수 있다."
      ]
    },
    {
      "cell_type": "markdown",
      "metadata": {
        "id": "bk_3S2xiwh6E",
        "colab_type": "text"
      },
      "source": [
        "X에서 랜덤으로 추출된 부분집합 x변수에 의해 y변수의 클래스를 구분하는 decision tree를 K개 만든 다음, 주어진 X에 대한 K개 예측치를 다수결로 평가하여 최종 예측을 하는 알고리즘. 똑똑한 한 명보다 조금 덜 똑똑한 100명이 더 낫다는 멋진 아이디어. \n",
        "https://medium.com/@deepvalidation/title-3b0e263605de\n"
      ]
    }
  ]
}