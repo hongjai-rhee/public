{
  "nbformat": 4,
  "nbformat_minor": 0,
  "metadata": {
    "colab": {
      "name": "브랜드선택_DNN.ipynb",
      "provenance": [],
      "collapsed_sections": [],
      "authorship_tag": "ABX9TyOu7sk4l+BEL2kBNEb+IuUh",
      "include_colab_link": true
    },
    "kernelspec": {
      "name": "python3",
      "display_name": "Python 3"
    }
  },
  "cells": [
    {
      "cell_type": "markdown",
      "metadata": {
        "id": "view-in-github",
        "colab_type": "text"
      },
      "source": [
        "<a href=\"https://colab.research.google.com/github/hongjai-rhee/public/blob/master/%EB%B8%8C%EB%9E%9C%EB%93%9C%EC%84%A0%ED%83%9D_DNN.ipynb\" target=\"_parent\"><img src=\"https://colab.research.google.com/assets/colab-badge.svg\" alt=\"Open In Colab\"/></a>"
      ]
    },
    {
      "cell_type": "markdown",
      "metadata": {
        "id": "BWkFoo5bzzQh",
        "colab_type": "text"
      },
      "source": [
        "# 데이터 불러오기\n",
        "데이터파일 이름을 지정한 후, 해당 파일을 코랩에 마운트하고\n",
        "필요한 라이브러리를 불러온다\n"
      ]
    },
    {
      "cell_type": "code",
      "metadata": {
        "id": "BXXIvoqMygeA",
        "colab_type": "code",
        "outputId": "dc3932c8-664c-4c89-a87b-15ac61e37e33",
        "colab": {
          "base_uri": "https://localhost:8080/",
          "height": 352
        }
      },
      "source": [
        "\n",
        "## 필요한 라이브러리 불러오기\n",
        "import pandas as pd; import numpy as np; from keras.models import Sequential; from keras.layers import Dense, Dropout, Activation; import matplotlib.pyplot as plt \n",
        "from sklearn.model_selection import train_test_split; from keras.utils.np_utils import to_categorical;  from matplotlib import style\n",
        "\n",
        "## 1. 데이터 불러오기  \n",
        "!git clone https://github.com/hongjai-rhee/public.git\n",
        "## 깃허브 디렉토리 마운트\n",
        "dat = pd.read_csv('/content/public/choice500.csv')\n",
        "print(dat.head())\n",
        "dat = np.array(dat); ncol=dat.shape[1]; nrow=dat.shape[0]\n",
        "x=dat[:,0:ncol-1]; y=dat[:,ncol-1]-1  \n",
        "y = to_categorical(y)\n",
        "\n"
      ],
      "execution_count": 1,
      "outputs": [
        {
          "output_type": "stream",
          "text": [
            "Using TensorFlow backend.\n"
          ],
          "name": "stderr"
        },
        {
          "output_type": "display_data",
          "data": {
            "text/html": [
              "<p style=\"color: red;\">\n",
              "The default version of TensorFlow in Colab will soon switch to TensorFlow 2.x.<br>\n",
              "We recommend you <a href=\"https://www.tensorflow.org/guide/migrate\" target=\"_blank\">upgrade</a> now \n",
              "or ensure your notebook will continue to use TensorFlow 1.x via the <code>%tensorflow_version 1.x</code> magic:\n",
              "<a href=\"https://colab.research.google.com/notebooks/tensorflow_version.ipynb\" target=\"_blank\">more info</a>.</p>\n"
            ],
            "text/plain": [
              "<IPython.core.display.HTML object>"
            ]
          },
          "metadata": {
            "tags": []
          }
        },
        {
          "output_type": "stream",
          "text": [
            "Cloning into 'public'...\n",
            "remote: Enumerating objects: 134, done.\u001b[K\n",
            "remote: Counting objects: 100% (134/134), done.\u001b[K\n",
            "remote: Compressing objects: 100% (118/118), done.\u001b[K\n",
            "remote: Total 134 (delta 54), reused 50 (delta 15), pack-reused 0\u001b[K\n",
            "Receiving objects: 100% (134/134), 4.80 MiB | 9.28 MiB/s, done.\n",
            "Resolving deltas: 100% (54/54), done.\n",
            "   age  male  heavy  price1  price2  price3  ...  ad2  ad3  disp1  disp2  disp3  buy\n",
            "0   63     0      0    1.75    1.30    1.73  ...    1    1      0      1      1    2\n",
            "1   29     1      1    1.65    1.43    1.66  ...    1    1      0      0      1    3\n",
            "2   30     1      1    1.62    1.53    1.76  ...    0    0      1      0      0    1\n",
            "3   53     1      1    1.52    1.53    1.76  ...    0    1      1      1      1    3\n",
            "4   55     0      0    1.83    1.62    1.67  ...    0    1      0      0      0    3\n",
            "\n",
            "[5 rows x 13 columns]\n"
          ],
          "name": "stdout"
        }
      ]
    },
    {
      "cell_type": "markdown",
      "metadata": {
        "id": "HsaSGzNM5OPq",
        "colab_type": "text"
      },
      "source": [
        "# 데이터의 구조를 살펴보자"
      ]
    },
    {
      "cell_type": "code",
      "metadata": {
        "id": "Y0-r00OM0KMY",
        "colab_type": "code",
        "outputId": "997182e8-28b0-4f2e-97fe-475d76174b25",
        "colab": {
          "base_uri": "https://localhost:8080/",
          "height": 923
        }
      },
      "source": [
        "## 1. 데이터 살펴보기  \n",
        "print(np.around(x[0:10,:],2))      # 고객특성(나이, 성별, 헤비유저), 3개 브랜드의 (가격, 광고, 스페셜 디스플레이 여부)\n",
        "print(y[0:10])                     # 선택된 브랜드  \n",
        "class_names = ['nabisco', 'keebler', 'sunshine']    ## 브랜드 이름\n",
        "\n",
        "# X 벡터를 이미지로 시각화\n",
        "import copy \n",
        "z=copy.copy(x)\n",
        "z[:,0]=z[:,0]/50\n",
        "z = z.reshape(nrow, 4,3)\n",
        "\n",
        "plt.figure(figsize=(10,10))\n",
        "for i in range(40) :\n",
        "    plt.subplot(5,8,i+1)\n",
        "    plt.xticks([])\n",
        "    plt.yticks([])\n",
        "    plt.grid(False)\n",
        "    plt.imshow(z[i])\n",
        "plt.show()\n",
        "\n"
      ],
      "execution_count": 2,
      "outputs": [
        {
          "output_type": "stream",
          "text": [
            "[[63.    0.    0.    1.75  1.3   1.73  1.    1.    1.    0.    1.    1.  ]\n",
            " [29.    1.    1.    1.65  1.43  1.66  1.    1.    1.    0.    0.    1.  ]\n",
            " [30.    1.    1.    1.62  1.53  1.76  0.    0.    0.    1.    0.    0.  ]\n",
            " [53.    1.    1.    1.52  1.53  1.76  1.    0.    1.    1.    1.    1.  ]\n",
            " [55.    0.    0.    1.83  1.62  1.67  1.    0.    1.    0.    0.    0.  ]\n",
            " [57.    0.    0.    1.86  1.63  1.72  1.    0.    0.    0.    1.    1.  ]\n",
            " [31.    0.    1.    1.64  1.85  1.62  0.    0.    1.    1.    1.    0.  ]\n",
            " [30.    1.    0.    1.75  1.67  1.78  1.    1.    1.    0.    0.    1.  ]\n",
            " [37.    1.    1.    1.87  1.37  1.77  1.    1.    0.    1.    1.    1.  ]\n",
            " [44.    1.    0.    1.76  1.9   1.74  0.    0.    1.    0.    1.    0.  ]]\n",
            "[[0. 1. 0.]\n",
            " [0. 0. 1.]\n",
            " [1. 0. 0.]\n",
            " [0. 0. 1.]\n",
            " [0. 0. 1.]\n",
            " [1. 0. 0.]\n",
            " [1. 0. 0.]\n",
            " [0. 0. 1.]\n",
            " [0. 1. 0.]\n",
            " [1. 0. 0.]]\n"
          ],
          "name": "stdout"
        },
        {
          "output_type": "display_data",
          "data": {
            "image/png": "[encoded data removed]",
            "text/plain": [
              "<Figure size 720x720 with 40 Axes>"
            ]
          },
          "metadata": {
            "tags": []
          }
        }
      ]
    },
    {
      "cell_type": "markdown",
      "metadata": {
        "id": "7XaW0TKE52Sx",
        "colab_type": "text"
      },
      "source": [
        "# 학습 파라미터를 설정하자"
      ]
    },
    {
      "cell_type": "code",
      "metadata": {
        "id": "MExaDG0H5YlI",
        "colab_type": "code",
        "colab": {}
      },
      "source": [
        "hidden_neuron=4      ## 은닉층(1개)의 뉴론 수 (은닉층 없으면 0으로 설정)\n",
        "EPOCH=200; BATCH=32  ## 학습횟수 \n",
        "test = 0.2           ## 데이터 중 테스트셋의 비율 \n"
      ],
      "execution_count": 0,
      "outputs": []
    },
    {
      "cell_type": "markdown",
      "metadata": {
        "id": "l6Ccjetc8G4J",
        "colab_type": "text"
      },
      "source": [
        "# 모형을 설정하고 학습시키자\n",
        "\n"
      ]
    },
    {
      "cell_type": "code",
      "metadata": {
        "id": "pWDeZE4j6rEa",
        "colab_type": "code",
        "outputId": "e6c613e3-fca3-42e7-aa12-2140b01ab5ac",
        "colab": {
          "base_uri": "https://localhost:8080/",
          "height": 1000
        }
      },
      "source": [
        "\n",
        "#### 이 아래는 자동으로 실행됨\n",
        "## 2. 학습/검증 데이터 나누기  (80-20)\n",
        "x_train, x_test, y_train, y_test = train_test_split(x, y, test_size=test, random_state=77)\n",
        "\n",
        "## 3. 모델만들기\n",
        "if hidden_neuron ==0: \n",
        "    model = Sequential()\n",
        "    model.add(Dense(y_train.shape[1], input_dim=x_train.shape[1], activation='softmax'))## 은닉층=0\n",
        "else: \n",
        "    model = Sequential()\n",
        "    model.add(Dense(hidden_neuron, input_dim=x_train.shape[1], activation='relu'))\n",
        "    model.add(Dense(y_train.shape[1], activation='softmax')) ## 은닉층=1\n",
        "\n",
        "model.compile(loss='categorical_crossentropy', optimizer='adam', metrics=['accuracy'])\n",
        "hist = model.fit(x_train, y_train, epochs = EPOCH, batch_size=BATCH, validation_data=(x_test, y_test), verbose = 2)\n",
        "model.summary()\n",
        "\n",
        "# model fit 그림으로 표시\n",
        "plt.plot(range(EPOCH), hist.history['acc'], label='Accuracy', color='darkred')\n",
        "plt.plot(range(EPOCH), hist.history['val_acc'], label='Validation Accuracy', color='darkblue')\n",
        "plt.xlabel('epochs'); plt.ylabel('accuracy(%)'); plt.title('red=train, blue=validation'); plt.show()\n",
        "model.summary()"
      ],
      "execution_count": 8,
      "outputs": [
        {
          "output_type": "stream",
          "text": [
            "Train on 400 samples, validate on 100 samples\n",
            "Epoch 1/200\n",
            " - 0s - loss: 2.4800 - acc: 0.5025 - val_loss: 1.6587 - val_acc: 0.6000\n",
            "Epoch 2/200\n",
            " - 0s - loss: 2.0031 - acc: 0.5025 - val_loss: 1.3327 - val_acc: 0.6000\n",
            "Epoch 3/200\n",
            " - 0s - loss: 1.5859 - acc: 0.5025 - val_loss: 1.0977 - val_acc: 0.6000\n",
            "Epoch 4/200\n",
            " - 0s - loss: 1.2752 - acc: 0.5025 - val_loss: 0.9683 - val_acc: 0.6000\n",
            "Epoch 5/200\n",
            " - 0s - loss: 1.0829 - acc: 0.5025 - val_loss: 0.9455 - val_acc: 0.6000\n",
            "Epoch 6/200\n",
            " - 0s - loss: 1.0283 - acc: 0.5200 - val_loss: 0.9812 - val_acc: 0.5800\n",
            "Epoch 7/200\n",
            " - 0s - loss: 1.0262 - acc: 0.5125 - val_loss: 0.9785 - val_acc: 0.5800\n",
            "Epoch 8/200\n",
            " - 0s - loss: 1.0235 - acc: 0.5175 - val_loss: 0.9572 - val_acc: 0.6300\n",
            "Epoch 9/200\n",
            " - 0s - loss: 1.0179 - acc: 0.5200 - val_loss: 0.9532 - val_acc: 0.6300\n",
            "Epoch 10/200\n",
            " - 0s - loss: 1.0157 - acc: 0.5225 - val_loss: 0.9429 - val_acc: 0.6200\n",
            "Epoch 11/200\n",
            " - 0s - loss: 1.0129 - acc: 0.5250 - val_loss: 0.9518 - val_acc: 0.6100\n",
            "Epoch 12/200\n",
            " - 0s - loss: 1.0108 - acc: 0.5225 - val_loss: 0.9501 - val_acc: 0.6000\n",
            "Epoch 13/200\n",
            " - 0s - loss: 1.0064 - acc: 0.5275 - val_loss: 0.9452 - val_acc: 0.6200\n",
            "Epoch 14/200\n",
            " - 0s - loss: 1.0044 - acc: 0.5250 - val_loss: 0.9374 - val_acc: 0.6300\n",
            "Epoch 15/200\n",
            " - 0s - loss: 1.0016 - acc: 0.5250 - val_loss: 0.9405 - val_acc: 0.6200\n",
            "Epoch 16/200\n",
            " - 0s - loss: 0.9983 - acc: 0.5350 - val_loss: 0.9457 - val_acc: 0.6200\n",
            "Epoch 17/200\n",
            " - 0s - loss: 0.9953 - acc: 0.5325 - val_loss: 0.9341 - val_acc: 0.6200\n",
            "Epoch 18/200\n",
            " - 0s - loss: 0.9924 - acc: 0.5325 - val_loss: 0.9364 - val_acc: 0.6000\n",
            "Epoch 19/200\n",
            " - 0s - loss: 0.9891 - acc: 0.5350 - val_loss: 0.9327 - val_acc: 0.6100\n",
            "Epoch 20/200\n",
            " - 0s - loss: 0.9867 - acc: 0.5350 - val_loss: 0.9298 - val_acc: 0.6100\n",
            "Epoch 21/200\n",
            " - 0s - loss: 0.9831 - acc: 0.5375 - val_loss: 0.9347 - val_acc: 0.6200\n",
            "Epoch 22/200\n",
            " - 0s - loss: 0.9812 - acc: 0.5475 - val_loss: 0.9328 - val_acc: 0.6200\n",
            "Epoch 23/200\n",
            " - 0s - loss: 0.9778 - acc: 0.5500 - val_loss: 0.9253 - val_acc: 0.6100\n",
            "Epoch 24/200\n",
            " - 0s - loss: 0.9750 - acc: 0.5525 - val_loss: 0.9259 - val_acc: 0.6200\n",
            "Epoch 25/200\n",
            " - 0s - loss: 0.9715 - acc: 0.5525 - val_loss: 0.9229 - val_acc: 0.6200\n",
            "Epoch 26/200\n",
            " - 0s - loss: 0.9706 - acc: 0.5700 - val_loss: 0.9248 - val_acc: 0.6200\n",
            "Epoch 27/200\n",
            " - 0s - loss: 0.9661 - acc: 0.5525 - val_loss: 0.9153 - val_acc: 0.6100\n",
            "Epoch 28/200\n",
            " - 0s - loss: 0.9626 - acc: 0.5650 - val_loss: 0.9216 - val_acc: 0.6300\n",
            "Epoch 29/200\n",
            " - 0s - loss: 0.9608 - acc: 0.5625 - val_loss: 0.9131 - val_acc: 0.6100\n",
            "Epoch 30/200\n",
            " - 0s - loss: 0.9569 - acc: 0.5725 - val_loss: 0.9202 - val_acc: 0.6300\n",
            "Epoch 31/200\n",
            " - 0s - loss: 0.9583 - acc: 0.5750 - val_loss: 0.9221 - val_acc: 0.6300\n",
            "Epoch 32/200\n",
            " - 0s - loss: 0.9518 - acc: 0.5725 - val_loss: 0.9009 - val_acc: 0.6200\n",
            "Epoch 33/200\n",
            " - 0s - loss: 0.9482 - acc: 0.5700 - val_loss: 0.9074 - val_acc: 0.6300\n",
            "Epoch 34/200\n",
            " - 0s - loss: 0.9499 - acc: 0.5975 - val_loss: 0.9203 - val_acc: 0.6500\n",
            "Epoch 35/200\n",
            " - 0s - loss: 0.9415 - acc: 0.5850 - val_loss: 0.9000 - val_acc: 0.6200\n",
            "Epoch 36/200\n",
            " - 0s - loss: 0.9415 - acc: 0.5700 - val_loss: 0.8983 - val_acc: 0.6400\n",
            "Epoch 37/200\n",
            " - 0s - loss: 0.9372 - acc: 0.5825 - val_loss: 0.9008 - val_acc: 0.6400\n",
            "Epoch 38/200\n",
            " - 0s - loss: 0.9348 - acc: 0.5950 - val_loss: 0.9097 - val_acc: 0.6500\n",
            "Epoch 39/200\n",
            " - 0s - loss: 0.9317 - acc: 0.5950 - val_loss: 0.8996 - val_acc: 0.6500\n",
            "Epoch 40/200\n",
            " - 0s - loss: 0.9298 - acc: 0.5875 - val_loss: 0.8938 - val_acc: 0.6500\n",
            "Epoch 41/200\n",
            " - 0s - loss: 0.9282 - acc: 0.6025 - val_loss: 0.9111 - val_acc: 0.6500\n",
            "Epoch 42/200\n",
            " - 0s - loss: 0.9239 - acc: 0.6100 - val_loss: 0.8896 - val_acc: 0.6500\n",
            "Epoch 43/200\n",
            " - 0s - loss: 0.9213 - acc: 0.5950 - val_loss: 0.8807 - val_acc: 0.6400\n",
            "Epoch 44/200\n",
            " - 0s - loss: 0.9186 - acc: 0.5875 - val_loss: 0.8868 - val_acc: 0.6600\n",
            "Epoch 45/200\n",
            " - 0s - loss: 0.9146 - acc: 0.6125 - val_loss: 0.8938 - val_acc: 0.6600\n",
            "Epoch 46/200\n",
            " - 0s - loss: 0.9125 - acc: 0.6175 - val_loss: 0.8871 - val_acc: 0.6600\n",
            "Epoch 47/200\n",
            " - 0s - loss: 0.9103 - acc: 0.6200 - val_loss: 0.8871 - val_acc: 0.6600\n",
            "Epoch 48/200\n",
            " - 0s - loss: 0.9073 - acc: 0.6225 - val_loss: 0.8838 - val_acc: 0.6600\n",
            "Epoch 49/200\n",
            " - 0s - loss: 0.9042 - acc: 0.6200 - val_loss: 0.8856 - val_acc: 0.6500\n",
            "Epoch 50/200\n",
            " - 0s - loss: 0.9031 - acc: 0.6175 - val_loss: 0.8869 - val_acc: 0.6500\n",
            "Epoch 51/200\n",
            " - 0s - loss: 0.9002 - acc: 0.6200 - val_loss: 0.8807 - val_acc: 0.6500\n",
            "Epoch 52/200\n",
            " - 0s - loss: 0.8976 - acc: 0.6150 - val_loss: 0.8764 - val_acc: 0.6500\n",
            "Epoch 53/200\n",
            " - 0s - loss: 0.8941 - acc: 0.6225 - val_loss: 0.8772 - val_acc: 0.6500\n",
            "Epoch 54/200\n",
            " - 0s - loss: 0.8912 - acc: 0.6175 - val_loss: 0.8729 - val_acc: 0.6500\n",
            "Epoch 55/200\n",
            " - 0s - loss: 0.8896 - acc: 0.6225 - val_loss: 0.8706 - val_acc: 0.6500\n",
            "Epoch 56/200\n",
            " - 0s - loss: 0.8865 - acc: 0.6250 - val_loss: 0.8726 - val_acc: 0.6400\n",
            "Epoch 57/200\n",
            " - 0s - loss: 0.8853 - acc: 0.6225 - val_loss: 0.8673 - val_acc: 0.6500\n",
            "Epoch 58/200\n",
            " - 0s - loss: 0.8822 - acc: 0.6250 - val_loss: 0.8675 - val_acc: 0.6400\n",
            "Epoch 59/200\n",
            " - 0s - loss: 0.8819 - acc: 0.6450 - val_loss: 0.8774 - val_acc: 0.6400\n",
            "Epoch 60/200\n",
            " - 0s - loss: 0.8773 - acc: 0.6275 - val_loss: 0.8608 - val_acc: 0.6500\n",
            "Epoch 61/200\n",
            " - 0s - loss: 0.8750 - acc: 0.6375 - val_loss: 0.8634 - val_acc: 0.6500\n",
            "Epoch 62/200\n",
            " - 0s - loss: 0.8719 - acc: 0.6350 - val_loss: 0.8611 - val_acc: 0.6500\n",
            "Epoch 63/200\n",
            " - 0s - loss: 0.8717 - acc: 0.6325 - val_loss: 0.8552 - val_acc: 0.6500\n",
            "Epoch 64/200\n",
            " - 0s - loss: 0.8673 - acc: 0.6325 - val_loss: 0.8604 - val_acc: 0.6500\n",
            "Epoch 65/200\n",
            " - 0s - loss: 0.8645 - acc: 0.6425 - val_loss: 0.8561 - val_acc: 0.6500\n",
            "Epoch 66/200\n",
            " - 0s - loss: 0.8623 - acc: 0.6325 - val_loss: 0.8550 - val_acc: 0.6500\n",
            "Epoch 67/200\n",
            " - 0s - loss: 0.8598 - acc: 0.6425 - val_loss: 0.8535 - val_acc: 0.6500\n",
            "Epoch 68/200\n",
            " - 0s - loss: 0.8582 - acc: 0.6475 - val_loss: 0.8522 - val_acc: 0.6500\n",
            "Epoch 69/200\n",
            " - 0s - loss: 0.8582 - acc: 0.6325 - val_loss: 0.8403 - val_acc: 0.6700\n",
            "Epoch 70/200\n",
            " - 0s - loss: 0.8562 - acc: 0.6475 - val_loss: 0.8538 - val_acc: 0.6600\n",
            "Epoch 71/200\n",
            " - 0s - loss: 0.8509 - acc: 0.6450 - val_loss: 0.8428 - val_acc: 0.6600\n",
            "Epoch 72/200\n",
            " - 0s - loss: 0.8491 - acc: 0.6375 - val_loss: 0.8434 - val_acc: 0.6500\n",
            "Epoch 73/200\n",
            " - 0s - loss: 0.8484 - acc: 0.6400 - val_loss: 0.8353 - val_acc: 0.6500\n",
            "Epoch 74/200\n",
            " - 0s - loss: 0.8444 - acc: 0.6650 - val_loss: 0.8557 - val_acc: 0.6700\n",
            "Epoch 75/200\n",
            " - 0s - loss: 0.8433 - acc: 0.6575 - val_loss: 0.8433 - val_acc: 0.6600\n",
            "Epoch 76/200\n",
            " - 0s - loss: 0.8410 - acc: 0.6450 - val_loss: 0.8416 - val_acc: 0.6700\n",
            "Epoch 77/200\n",
            " - 0s - loss: 0.8385 - acc: 0.6675 - val_loss: 0.8486 - val_acc: 0.6700\n",
            "Epoch 78/200\n",
            " - 0s - loss: 0.8393 - acc: 0.6450 - val_loss: 0.8318 - val_acc: 0.6600\n",
            "Epoch 79/200\n",
            " - 0s - loss: 0.8334 - acc: 0.6700 - val_loss: 0.8465 - val_acc: 0.6800\n",
            "Epoch 80/200\n",
            " - 0s - loss: 0.8318 - acc: 0.6725 - val_loss: 0.8367 - val_acc: 0.6700\n",
            "Epoch 81/200\n",
            " - 0s - loss: 0.8314 - acc: 0.6525 - val_loss: 0.8307 - val_acc: 0.6700\n",
            "Epoch 82/200\n",
            " - 0s - loss: 0.8282 - acc: 0.6750 - val_loss: 0.8344 - val_acc: 0.6700\n",
            "Epoch 83/200\n",
            " - 0s - loss: 0.8263 - acc: 0.6675 - val_loss: 0.8313 - val_acc: 0.6700\n",
            "Epoch 84/200\n",
            " - 0s - loss: 0.8239 - acc: 0.6775 - val_loss: 0.8353 - val_acc: 0.6800\n",
            "Epoch 85/200\n",
            " - 0s - loss: 0.8229 - acc: 0.6725 - val_loss: 0.8260 - val_acc: 0.6700\n",
            "Epoch 86/200\n",
            " - 0s - loss: 0.8212 - acc: 0.6825 - val_loss: 0.8415 - val_acc: 0.6800\n",
            "Epoch 87/200\n",
            " - 0s - loss: 0.8197 - acc: 0.6700 - val_loss: 0.8146 - val_acc: 0.6600\n",
            "Epoch 88/200\n",
            " - 0s - loss: 0.8159 - acc: 0.6800 - val_loss: 0.8265 - val_acc: 0.6800\n",
            "Epoch 89/200\n",
            " - 0s - loss: 0.8155 - acc: 0.6775 - val_loss: 0.8329 - val_acc: 0.6800\n",
            "Epoch 90/200\n",
            " - 0s - loss: 0.8142 - acc: 0.6700 - val_loss: 0.8092 - val_acc: 0.6600\n",
            "Epoch 91/200\n",
            " - 0s - loss: 0.8099 - acc: 0.6725 - val_loss: 0.8250 - val_acc: 0.6800\n",
            "Epoch 92/200\n",
            " - 0s - loss: 0.8102 - acc: 0.6825 - val_loss: 0.8268 - val_acc: 0.6800\n",
            "Epoch 93/200\n",
            " - 0s - loss: 0.8091 - acc: 0.6700 - val_loss: 0.8104 - val_acc: 0.6600\n",
            "Epoch 94/200\n",
            " - 0s - loss: 0.8055 - acc: 0.6725 - val_loss: 0.8191 - val_acc: 0.6800\n",
            "Epoch 95/200\n",
            " - 0s - loss: 0.8033 - acc: 0.6850 - val_loss: 0.8152 - val_acc: 0.6800\n",
            "Epoch 96/200\n",
            " - 0s - loss: 0.8040 - acc: 0.6700 - val_loss: 0.8065 - val_acc: 0.6600\n",
            "Epoch 97/200\n",
            " - 0s - loss: 0.8003 - acc: 0.6925 - val_loss: 0.8251 - val_acc: 0.6900\n",
            "Epoch 98/200\n",
            " - 0s - loss: 0.7971 - acc: 0.6900 - val_loss: 0.8056 - val_acc: 0.6700\n",
            "Epoch 99/200\n",
            " - 0s - loss: 0.7958 - acc: 0.6900 - val_loss: 0.8080 - val_acc: 0.6900\n",
            "Epoch 100/200\n",
            " - 0s - loss: 0.7943 - acc: 0.6850 - val_loss: 0.8118 - val_acc: 0.6800\n",
            "Epoch 101/200\n",
            " - 0s - loss: 0.7968 - acc: 0.6725 - val_loss: 0.8006 - val_acc: 0.6700\n",
            "Epoch 102/200\n",
            " - 0s - loss: 0.7890 - acc: 0.6850 - val_loss: 0.8200 - val_acc: 0.6900\n",
            "Epoch 103/200\n",
            " - 0s - loss: 0.7894 - acc: 0.6975 - val_loss: 0.8077 - val_acc: 0.6900\n",
            "Epoch 104/200\n",
            " - 0s - loss: 0.7885 - acc: 0.6925 - val_loss: 0.8024 - val_acc: 0.6800\n",
            "Epoch 105/200\n",
            " - 0s - loss: 0.7874 - acc: 0.6900 - val_loss: 0.8033 - val_acc: 0.6900\n",
            "Epoch 106/200\n",
            " - 0s - loss: 0.7847 - acc: 0.6900 - val_loss: 0.7961 - val_acc: 0.6800\n",
            "Epoch 107/200\n",
            " - 0s - loss: 0.7827 - acc: 0.6900 - val_loss: 0.8080 - val_acc: 0.6900\n",
            "Epoch 108/200\n",
            " - 0s - loss: 0.7809 - acc: 0.6900 - val_loss: 0.7977 - val_acc: 0.6800\n",
            "Epoch 109/200\n",
            " - 0s - loss: 0.7794 - acc: 0.6925 - val_loss: 0.7997 - val_acc: 0.6800\n",
            "Epoch 110/200\n",
            " - 0s - loss: 0.7803 - acc: 0.6975 - val_loss: 0.7996 - val_acc: 0.6900\n",
            "Epoch 111/200\n",
            " - 0s - loss: 0.7760 - acc: 0.6975 - val_loss: 0.7883 - val_acc: 0.6800\n",
            "Epoch 112/200\n",
            " - 0s - loss: 0.7765 - acc: 0.6925 - val_loss: 0.7934 - val_acc: 0.6800\n",
            "Epoch 113/200\n",
            " - 0s - loss: 0.7740 - acc: 0.7000 - val_loss: 0.8040 - val_acc: 0.6900\n",
            "Epoch 114/200\n",
            " - 0s - loss: 0.7715 - acc: 0.7075 - val_loss: 0.7851 - val_acc: 0.6900\n",
            "Epoch 115/200\n",
            " - 0s - loss: 0.7712 - acc: 0.6900 - val_loss: 0.7878 - val_acc: 0.6800\n",
            "Epoch 116/200\n",
            " - 0s - loss: 0.7727 - acc: 0.6975 - val_loss: 0.7963 - val_acc: 0.6800\n",
            "Epoch 117/200\n",
            " - 0s - loss: 0.7719 - acc: 0.6875 - val_loss: 0.7780 - val_acc: 0.6800\n",
            "Epoch 118/200\n",
            " - 0s - loss: 0.7669 - acc: 0.7000 - val_loss: 0.8024 - val_acc: 0.6800\n",
            "Epoch 119/200\n",
            " - 0s - loss: 0.7658 - acc: 0.7025 - val_loss: 0.7761 - val_acc: 0.6900\n",
            "Epoch 120/200\n",
            " - 0s - loss: 0.7635 - acc: 0.6975 - val_loss: 0.7941 - val_acc: 0.6800\n",
            "Epoch 121/200\n",
            " - 0s - loss: 0.7625 - acc: 0.7125 - val_loss: 0.7859 - val_acc: 0.6800\n",
            "Epoch 122/200\n",
            " - 0s - loss: 0.7614 - acc: 0.6925 - val_loss: 0.7838 - val_acc: 0.6800\n",
            "Epoch 123/200\n",
            " - 0s - loss: 0.7597 - acc: 0.7100 - val_loss: 0.7957 - val_acc: 0.6800\n",
            "Epoch 124/200\n",
            " - 0s - loss: 0.7577 - acc: 0.7000 - val_loss: 0.7787 - val_acc: 0.6800\n",
            "Epoch 125/200\n",
            " - 0s - loss: 0.7571 - acc: 0.7050 - val_loss: 0.7855 - val_acc: 0.6800\n",
            "Epoch 126/200\n",
            " - 0s - loss: 0.7559 - acc: 0.7175 - val_loss: 0.7895 - val_acc: 0.6800\n",
            "Epoch 127/200\n",
            " - 0s - loss: 0.7555 - acc: 0.7125 - val_loss: 0.7691 - val_acc: 0.6900\n",
            "Epoch 128/200\n",
            " - 0s - loss: 0.7542 - acc: 0.7025 - val_loss: 0.7775 - val_acc: 0.6800\n",
            "Epoch 129/200\n",
            " - 0s - loss: 0.7547 - acc: 0.7125 - val_loss: 0.7987 - val_acc: 0.6800\n",
            "Epoch 130/200\n",
            " - 0s - loss: 0.7525 - acc: 0.7075 - val_loss: 0.7727 - val_acc: 0.6800\n",
            "Epoch 131/200\n",
            " - 0s - loss: 0.7482 - acc: 0.7050 - val_loss: 0.7819 - val_acc: 0.6800\n",
            "Epoch 132/200\n",
            " - 0s - loss: 0.7479 - acc: 0.7125 - val_loss: 0.7791 - val_acc: 0.6800\n",
            "Epoch 133/200\n",
            " - 0s - loss: 0.7458 - acc: 0.7125 - val_loss: 0.7688 - val_acc: 0.6800\n",
            "Epoch 134/200\n",
            " - 0s - loss: 0.7472 - acc: 0.7150 - val_loss: 0.7803 - val_acc: 0.6800\n",
            "Epoch 135/200\n",
            " - 0s - loss: 0.7469 - acc: 0.7000 - val_loss: 0.7621 - val_acc: 0.7000\n",
            "Epoch 136/200\n",
            " - 0s - loss: 0.7425 - acc: 0.7200 - val_loss: 0.7852 - val_acc: 0.6700\n",
            "Epoch 137/200\n",
            " - 0s - loss: 0.7418 - acc: 0.7225 - val_loss: 0.7658 - val_acc: 0.6800\n",
            "Epoch 138/200\n",
            " - 0s - loss: 0.7403 - acc: 0.7150 - val_loss: 0.7700 - val_acc: 0.6800\n",
            "Epoch 139/200\n",
            " - 0s - loss: 0.7406 - acc: 0.7200 - val_loss: 0.7753 - val_acc: 0.6700\n",
            "Epoch 140/200\n",
            " - 0s - loss: 0.7373 - acc: 0.7200 - val_loss: 0.7636 - val_acc: 0.6800\n",
            "Epoch 141/200\n",
            " - 0s - loss: 0.7387 - acc: 0.7125 - val_loss: 0.7659 - val_acc: 0.6800\n",
            "Epoch 142/200\n",
            " - 0s - loss: 0.7376 - acc: 0.7250 - val_loss: 0.7789 - val_acc: 0.6700\n",
            "Epoch 143/200\n",
            " - 0s - loss: 0.7336 - acc: 0.7200 - val_loss: 0.7585 - val_acc: 0.6800\n",
            "Epoch 144/200\n",
            " - 0s - loss: 0.7341 - acc: 0.7150 - val_loss: 0.7624 - val_acc: 0.6800\n",
            "Epoch 145/200\n",
            " - 0s - loss: 0.7323 - acc: 0.7175 - val_loss: 0.7662 - val_acc: 0.6800\n",
            "Epoch 146/200\n",
            " - 0s - loss: 0.7318 - acc: 0.7200 - val_loss: 0.7753 - val_acc: 0.6700\n",
            "Epoch 147/200\n",
            " - 0s - loss: 0.7309 - acc: 0.7200 - val_loss: 0.7559 - val_acc: 0.6800\n",
            "Epoch 148/200\n",
            " - 0s - loss: 0.7295 - acc: 0.7200 - val_loss: 0.7646 - val_acc: 0.6800\n",
            "Epoch 149/200\n",
            " - 0s - loss: 0.7308 - acc: 0.7225 - val_loss: 0.7666 - val_acc: 0.6700\n",
            "Epoch 150/200\n",
            " - 0s - loss: 0.7281 - acc: 0.7125 - val_loss: 0.7520 - val_acc: 0.7000\n",
            "Epoch 151/200\n",
            " - 0s - loss: 0.7266 - acc: 0.7225 - val_loss: 0.7615 - val_acc: 0.6800\n",
            "Epoch 152/200\n",
            " - 0s - loss: 0.7248 - acc: 0.7250 - val_loss: 0.7677 - val_acc: 0.6700\n",
            "Epoch 153/200\n",
            " - 0s - loss: 0.7264 - acc: 0.7200 - val_loss: 0.7600 - val_acc: 0.6800\n",
            "Epoch 154/200\n",
            " - 0s - loss: 0.7226 - acc: 0.7250 - val_loss: 0.7516 - val_acc: 0.6900\n",
            "Epoch 155/200\n",
            " - 0s - loss: 0.7225 - acc: 0.7225 - val_loss: 0.7561 - val_acc: 0.6800\n",
            "Epoch 156/200\n",
            " - 0s - loss: 0.7227 - acc: 0.7225 - val_loss: 0.7587 - val_acc: 0.6700\n",
            "Epoch 157/200\n",
            " - 0s - loss: 0.7202 - acc: 0.7250 - val_loss: 0.7596 - val_acc: 0.6700\n",
            "Epoch 158/200\n",
            " - 0s - loss: 0.7200 - acc: 0.7250 - val_loss: 0.7495 - val_acc: 0.6800\n",
            "Epoch 159/200\n",
            " - 0s - loss: 0.7177 - acc: 0.7250 - val_loss: 0.7615 - val_acc: 0.6700\n",
            "Epoch 160/200\n",
            " - 0s - loss: 0.7181 - acc: 0.7250 - val_loss: 0.7548 - val_acc: 0.6800\n",
            "Epoch 161/200\n",
            " - 0s - loss: 0.7173 - acc: 0.7200 - val_loss: 0.7498 - val_acc: 0.6800\n",
            "Epoch 162/200\n",
            " - 0s - loss: 0.7164 - acc: 0.7200 - val_loss: 0.7600 - val_acc: 0.6700\n",
            "Epoch 163/200\n",
            " - 0s - loss: 0.7149 - acc: 0.7225 - val_loss: 0.7502 - val_acc: 0.6800\n",
            "Epoch 164/200\n",
            " - 0s - loss: 0.7140 - acc: 0.7225 - val_loss: 0.7485 - val_acc: 0.6800\n",
            "Epoch 165/200\n",
            " - 0s - loss: 0.7149 - acc: 0.7250 - val_loss: 0.7569 - val_acc: 0.6700\n",
            "Epoch 166/200\n",
            " - 0s - loss: 0.7118 - acc: 0.7225 - val_loss: 0.7445 - val_acc: 0.6900\n",
            "Epoch 167/200\n",
            " - 0s - loss: 0.7118 - acc: 0.7225 - val_loss: 0.7520 - val_acc: 0.6700\n",
            "Epoch 168/200\n",
            " - 0s - loss: 0.7115 - acc: 0.7225 - val_loss: 0.7471 - val_acc: 0.6800\n",
            "Epoch 169/200\n",
            " - 0s - loss: 0.7102 - acc: 0.7225 - val_loss: 0.7407 - val_acc: 0.6900\n",
            "Epoch 170/200\n",
            " - 0s - loss: 0.7091 - acc: 0.7275 - val_loss: 0.7464 - val_acc: 0.6800\n",
            "Epoch 171/200\n",
            " - 0s - loss: 0.7081 - acc: 0.7225 - val_loss: 0.7450 - val_acc: 0.6800\n",
            "Epoch 172/200\n",
            " - 0s - loss: 0.7069 - acc: 0.7225 - val_loss: 0.7475 - val_acc: 0.6700\n",
            "Epoch 173/200\n",
            " - 0s - loss: 0.7077 - acc: 0.7250 - val_loss: 0.7455 - val_acc: 0.6700\n",
            "Epoch 174/200\n",
            " - 0s - loss: 0.7069 - acc: 0.7200 - val_loss: 0.7490 - val_acc: 0.6700\n",
            "Epoch 175/200\n",
            " - 0s - loss: 0.7055 - acc: 0.7250 - val_loss: 0.7405 - val_acc: 0.6900\n",
            "Epoch 176/200\n",
            " - 0s - loss: 0.7037 - acc: 0.7225 - val_loss: 0.7476 - val_acc: 0.6700\n",
            "Epoch 177/200\n",
            " - 0s - loss: 0.7056 - acc: 0.7200 - val_loss: 0.7454 - val_acc: 0.6700\n",
            "Epoch 178/200\n",
            " - 0s - loss: 0.7049 - acc: 0.7250 - val_loss: 0.7384 - val_acc: 0.6900\n",
            "Epoch 179/200\n",
            " - 0s - loss: 0.7020 - acc: 0.7250 - val_loss: 0.7445 - val_acc: 0.6700\n",
            "Epoch 180/200\n",
            " - 0s - loss: 0.7024 - acc: 0.7250 - val_loss: 0.7418 - val_acc: 0.6700\n",
            "Epoch 181/200\n",
            " - 0s - loss: 0.7027 - acc: 0.7175 - val_loss: 0.7533 - val_acc: 0.6700\n",
            "Epoch 182/200\n",
            " - 0s - loss: 0.7009 - acc: 0.7225 - val_loss: 0.7299 - val_acc: 0.7200\n",
            "Epoch 183/200\n",
            " - 0s - loss: 0.6995 - acc: 0.7275 - val_loss: 0.7452 - val_acc: 0.6700\n",
            "Epoch 184/200\n",
            " - 0s - loss: 0.6993 - acc: 0.7200 - val_loss: 0.7339 - val_acc: 0.6900\n",
            "Epoch 185/200\n",
            " - 0s - loss: 0.6980 - acc: 0.7275 - val_loss: 0.7497 - val_acc: 0.6700\n",
            "Epoch 186/200\n",
            " - 0s - loss: 0.6970 - acc: 0.7250 - val_loss: 0.7307 - val_acc: 0.7000\n",
            "Epoch 187/200\n",
            " - 0s - loss: 0.6962 - acc: 0.7275 - val_loss: 0.7394 - val_acc: 0.6700\n",
            "Epoch 188/200\n",
            " - 0s - loss: 0.6954 - acc: 0.7225 - val_loss: 0.7398 - val_acc: 0.6700\n",
            "Epoch 189/200\n",
            " - 0s - loss: 0.6951 - acc: 0.7250 - val_loss: 0.7382 - val_acc: 0.6700\n",
            "Epoch 190/200\n",
            " - 0s - loss: 0.6944 - acc: 0.7250 - val_loss: 0.7378 - val_acc: 0.6700\n",
            "Epoch 191/200\n",
            " - 0s - loss: 0.6954 - acc: 0.7125 - val_loss: 0.7506 - val_acc: 0.6600\n",
            "Epoch 192/200\n",
            " - 0s - loss: 0.6933 - acc: 0.7300 - val_loss: 0.7214 - val_acc: 0.7200\n",
            "Epoch 193/200\n",
            " - 0s - loss: 0.6918 - acc: 0.7250 - val_loss: 0.7401 - val_acc: 0.6700\n",
            "Epoch 194/200\n",
            " - 0s - loss: 0.6926 - acc: 0.7225 - val_loss: 0.7393 - val_acc: 0.6700\n",
            "Epoch 195/200\n",
            " - 0s - loss: 0.6912 - acc: 0.7225 - val_loss: 0.7389 - val_acc: 0.6700\n",
            "Epoch 196/200\n",
            " - 0s - loss: 0.6915 - acc: 0.7250 - val_loss: 0.7327 - val_acc: 0.6800\n",
            "Epoch 197/200\n",
            " - 0s - loss: 0.6894 - acc: 0.7250 - val_loss: 0.7384 - val_acc: 0.6700\n",
            "Epoch 198/200\n",
            " - 0s - loss: 0.6891 - acc: 0.7225 - val_loss: 0.7280 - val_acc: 0.6900\n",
            "Epoch 199/200\n",
            " - 0s - loss: 0.6885 - acc: 0.7275 - val_loss: 0.7264 - val_acc: 0.7000\n",
            "Epoch 200/200\n",
            " - 0s - loss: 0.6883 - acc: 0.7225 - val_loss: 0.7393 - val_acc: 0.6700\n",
            "Model: \"sequential_2\"\n",
            "_________________________________________________________________\n",
            "Layer (type)                 Output Shape              Param #   \n",
            "=================================================================\n",
            "dense_3 (Dense)              (None, 4)                 52        \n",
            "_________________________________________________________________\n",
            "dense_4 (Dense)              (None, 3)                 15        \n",
            "=================================================================\n",
            "Total params: 67\n",
            "Trainable params: 67\n",
            "Non-trainable params: 0\n",
            "_________________________________________________________________\n"
          ],
          "name": "stdout"
        },
        {
          "output_type": "display_data",
          "data": {
            "image/png": "[encoded data removed]",
            "text/plain": [
              "<Figure size 432x288 with 1 Axes>"
            ]
          },
          "metadata": {
            "tags": []
          }
        },
        {
          "output_type": "stream",
          "text": [
            "Model: \"sequential_2\"\n",
            "_________________________________________________________________\n",
            "Layer (type)                 Output Shape              Param #   \n",
            "=================================================================\n",
            "dense_3 (Dense)              (None, 4)                 52        \n",
            "_________________________________________________________________\n",
            "dense_4 (Dense)              (None, 3)                 15        \n",
            "=================================================================\n",
            "Total params: 67\n",
            "Trainable params: 67\n",
            "Non-trainable params: 0\n",
            "_________________________________________________________________\n"
          ],
          "name": "stdout"
        }
      ]
    },
    {
      "cell_type": "markdown",
      "metadata": {
        "id": "J9zNGqCV8sSf",
        "colab_type": "text"
      },
      "source": [
        "# 학습된 모형을 사용하여 예측하기"
      ]
    },
    {
      "cell_type": "code",
      "metadata": {
        "id": "V81VzzwI8cjh",
        "colab_type": "code",
        "outputId": "17bc9479-1724-45a8-9839-98ac2e2fd220",
        "colab": {
          "base_uri": "https://localhost:8080/",
          "height": 277
        }
      },
      "source": [
        "\n",
        "# 6. 예측하기 \n",
        "x_new= x_test[0:3]; x_new; yhat = model.predict(x_new)\n",
        "\n",
        "plt.figure(figsize=(15,205))\n",
        "for i in range(3) :\n",
        "    ratio = yhat[i]; plt.subplot(1,3,i+1); plt.xticks([]); plt.yticks([]); plt.grid(False)\n",
        "    plt.pie(ratio, labels=class_names, shadow=True, startangle=90, autopct='%0.1f%%')\n",
        "plt.show()\n"
      ],
      "execution_count": 9,
      "outputs": [
        {
          "output_type": "display_data",
          "data": {
            "image/png": "[encoded data removed]",
            "text/plain": [
              "<Figure size 1080x14760 with 3 Axes>"
            ]
          },
          "metadata": {
            "tags": []
          }
        }
      ]
    },
    {
      "cell_type": "markdown",
      "metadata": {
        "id": "2TaYUdAUD1BS",
        "colab_type": "text"
      },
      "source": [
        "# X가 주어졌을 때 확률적인 구매예측을 해보자"
      ]
    },
    {
      "cell_type": "code",
      "metadata": {
        "id": "Jy8TpvPICMuD",
        "colab_type": "code",
        "outputId": "93b1ec66-ecac-4cbe-ee9e-9ce2d6e1c5a4",
        "colab": {
          "base_uri": "https://localhost:8080/",
          "height": 197
        }
      },
      "source": [
        "y_pred=np.argmax(yhat,axis=1)\n",
        "print(\"age male heavy  price1 price2 price3 adv1 adv2 adv3  disp1 disp2 disp3\")\n",
        "\n",
        "for i in range(3):\n",
        "    print(x_test[i])\n",
        "    print(\"=======> 이 경우\", np.round(100*yhat[i,y_pred[i]],2), \"%의 확률로\", class_names[y_pred[i]], \"을 살 것으로 예측됩니다\")\n",
        "    print()\n"
      ],
      "execution_count": 10,
      "outputs": [
        {
          "output_type": "stream",
          "text": [
            "age male heavy  price1 price2 price3 adv1 adv2 adv3  disp1 disp2 disp3\n",
            "[57.    1.    1.    1.52  1.64  1.67  1.    0.    1.    0.    1.    1.  ]\n",
            "=======> 이 경우 48.67 %의 확률로 nabisco 을 살 것으로 예측됩니다\n",
            "\n",
            "[50.    0.    1.    1.55  1.54  1.75  0.    1.    1.    0.    0.    1.  ]\n",
            "=======> 이 경우 63.23 %의 확률로 nabisco 을 살 것으로 예측됩니다\n",
            "\n",
            "[56.    1.    0.    1.73  1.66  1.71  1.    0.    1.    1.    0.    1.  ]\n",
            "=======> 이 경우 78.44 %의 확률로 nabisco 을 살 것으로 예측됩니다\n",
            "\n"
          ],
          "name": "stdout"
        }
      ]
    },
    {
      "cell_type": "markdown",
      "metadata": {
        "id": "4c7q7XkU9bqp",
        "colab_type": "text"
      },
      "source": [
        "이 결과를 어떻게 해석할까?\n",
        "브랜드 선택에 관한 모형의 예측력을 높이기 위해서는 어떤 데이터가 필요할까?\n",
        "?"
      ]
    },
    {
      "cell_type": "markdown",
      "metadata": {
        "id": "lGWgwgwHdVbG",
        "colab_type": "text"
      },
      "source": [
        "# 학습된 모형을 저장하자"
      ]
    },
    {
      "cell_type": "code",
      "metadata": {
        "id": "mAlpTg9jdfHl",
        "colab_type": "code",
        "colab": {}
      },
      "source": [
        "# 모델 저장하기\n",
        "from keras.models import load_model\n",
        "model.save('brand_model_01.h5')\n",
        "\n",
        "## 모델을 불러올때, \n",
        "#model1 = load_model('brand_model_01.h5')\n",
        "#yhat1 = model1.predict(x_new)\n",
        "#yhat1)"
      ],
      "execution_count": 0,
      "outputs": []
    },
    {
      "cell_type": "markdown",
      "metadata": {
        "id": "rJ-vFO0uwHQK",
        "colab_type": "text"
      },
      "source": [
        "# 선택모형에 NN의 대안으로 RF(랜덤-포레스트) 모형을 사용할 수 있다."
      ]
    },
    {
      "cell_type": "markdown",
      "metadata": {
        "id": "bk_3S2xiwh6E",
        "colab_type": "text"
      },
      "source": [
        "X에서 랜덤으로 추출된 부분집합 x변수에 의해 y변수의 클래스를 구분하는 decision tree를 K개 만든 다음, 주어진 X에 대한 K개 예측치를 다수결로 평가하여 최종 예측을 하는 알고리즘. 똑똑한 한 명보다 조금 덜 똑똑한 100명이 더 낫다는 멋진 아이디어. \n",
        "https://medium.com/@deepvalidation/title-3b0e263605de\n"
      ]
    }
  ]
}