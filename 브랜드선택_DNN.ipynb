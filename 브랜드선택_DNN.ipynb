{
  "nbformat": 4,
  "nbformat_minor": 0,
  "metadata": {
    "colab": {
      "name": "브랜드선택_DNN.ipynb",
      "provenance": [],
      "collapsed_sections": [],
      "authorship_tag": "ABX9TyOu7sk4l+BEL2kBNEb+IuUh",
      "include_colab_link": true
    },
    "kernelspec": {
      "name": "python3",
      "display_name": "Python 3"
    }
  },
  "cells": [
    {
      "cell_type": "markdown",
      "metadata": {
        "id": "view-in-github",
        "colab_type": "text"
      },
      "source": [
        "<a href=\"https://colab.research.google.com/github/hongjai-rhee/public/blob/master/%EB%B8%8C%EB%9E%9C%EB%93%9C%EC%84%A0%ED%83%9D_DNN.ipynb\" target=\"_parent\"><img src=\"https://colab.research.google.com/assets/colab-badge.svg\" alt=\"Open In Colab\"/></a>"
      ]
    },
    {
      "cell_type": "markdown",
      "metadata": {
        "id": "BWkFoo5bzzQh",
        "colab_type": "text"
      },
      "source": [
        "# 데이터 불러오기\n",
        "데이터파일 이름을 지정한 후, 해당 파일을 코랩에 마운트하고\n",
        "필요한 라이브러리를 불러온다\n"
      ]
    },
    {
      "cell_type": "code",
      "metadata": {
        "id": "BXXIvoqMygeA",
        "colab_type": "code",
        "outputId": "631c8d29-60dd-4321-a1c3-825dfdbfee3a",
        "colab": {
          "base_uri": "https://localhost:8080/",
          "height": 352
        }
      },
      "source": [
        "\n",
        "## 필요한 라이브러리 불러오기\n",
        "import pandas as pd; import numpy as np; from keras.models import Sequential; from keras.layers import Dense, Dropout, Activation; import matplotlib.pyplot as plt \n",
        "from sklearn.model_selection import train_test_split; from keras.utils.np_utils import to_categorical;  from matplotlib import style\n",
        "\n",
        "## 1. 데이터 불러오기  \n",
        "!git clone https://github.com/hongjai-rhee/public.git\n",
        "## 깃허브 디렉토리 마운트\n",
        "dat = pd.read_csv('/content/public/choice500.csv')\n",
        "print(dat.head())\n",
        "dat = np.array(dat); ncol=dat.shape[1]; nrow=dat.shape[0]\n",
        "x=dat[:,0:ncol-1]; y=dat[:,ncol-1]-1  \n",
        "y = to_categorical(y)\n",
        "\n"
      ],
      "execution_count": 0,
      "outputs": [
        {
          "output_type": "stream",
          "text": [
            "Using TensorFlow backend.\n"
          ],
          "name": "stderr"
        },
        {
          "output_type": "display_data",
          "data": {
            "text/html": [
              "<p style=\"color: red;\">\n",
              "The default version of TensorFlow in Colab will soon switch to TensorFlow 2.x.<br>\n",
              "We recommend you <a href=\"https://www.tensorflow.org/guide/migrate\" target=\"_blank\">upgrade</a> now \n",
              "or ensure your notebook will continue to use TensorFlow 1.x via the <code>%tensorflow_version 1.x</code> magic:\n",
              "<a href=\"https://colab.research.google.com/notebooks/tensorflow_version.ipynb\" target=\"_blank\">more info</a>.</p>\n"
            ],
            "text/plain": [
              "<IPython.core.display.HTML object>"
            ]
          },
          "metadata": {
            "tags": []
          }
        },
        {
          "output_type": "stream",
          "text": [
            "Cloning into 'public'...\n",
            "remote: Enumerating objects: 130, done.\u001b[K\n",
            "remote: Counting objects: 100% (130/130), done.\u001b[K\n",
            "remote: Compressing objects: 100% (114/114), done.\u001b[K\n",
            "remote: Total 130 (delta 52), reused 51 (delta 15), pack-reused 0\u001b[K\n",
            "Receiving objects: 100% (130/130), 4.73 MiB | 4.36 MiB/s, done.\n",
            "Resolving deltas: 100% (52/52), done.\n",
            "   age  male  heavy  price1  price2  price3  ...  ad2  ad3  disp1  disp2  disp3  buy\n",
            "0   63     0      0    1.75    1.30    1.73  ...    1    1      0      1      1    2\n",
            "1   29     1      1    1.65    1.43    1.66  ...    1    1      0      0      1    3\n",
            "2   30     1      1    1.62    1.53    1.76  ...    0    0      1      0      0    1\n",
            "3   53     1      1    1.52    1.53    1.76  ...    0    1      1      1      1    3\n",
            "4   55     0      0    1.83    1.62    1.67  ...    0    1      0      0      0    3\n",
            "\n",
            "[5 rows x 13 columns]\n"
          ],
          "name": "stdout"
        }
      ]
    },
    {
      "cell_type": "markdown",
      "metadata": {
        "id": "HsaSGzNM5OPq",
        "colab_type": "text"
      },
      "source": [
        "# 데이터의 구조를 살펴보자"
      ]
    },
    {
      "cell_type": "code",
      "metadata": {
        "id": "Y0-r00OM0KMY",
        "colab_type": "code",
        "outputId": "a4867c23-8009-491a-9d93-d780b04f11ef",
        "colab": {
          "base_uri": "https://localhost:8080/",
          "height": 923
        }
      },
      "source": [
        "## 1. 데이터 살펴보기  \n",
        "print(np.around(x[0:10,:],2))      # 고객특성(나이, 성별, 헤비유저), 3개 브랜드의 (가격, 광고, 스페셜 디스플레이 여부)\n",
        "print(y[0:10])                     # 선택된 브랜드  \n",
        "class_names = ['nabisco', 'keebler', 'sunshine']    ## 브랜드 이름\n",
        "\n",
        "# X 벡터를 이미지로 시각화\n",
        "import copy \n",
        "z=copy.copy(x)\n",
        "z[:,0]=z[:,0]/50\n",
        "z = z.reshape(nrow, 4,3)\n",
        "\n",
        "plt.figure(figsize=(10,10))\n",
        "for i in range(40) :\n",
        "    plt.subplot(5,8,i+1)\n",
        "    plt.xticks([])\n",
        "    plt.yticks([])\n",
        "    plt.grid(False)\n",
        "    plt.imshow(z[i])\n",
        "plt.show()\n",
        "\n"
      ],
      "execution_count": 0,
      "outputs": [
        {
          "output_type": "stream",
          "text": [
            "[[63.    0.    0.    1.75  1.3   1.73  1.    1.    1.    0.    1.    1.  ]\n",
            " [29.    1.    1.    1.65  1.43  1.66  1.    1.    1.    0.    0.    1.  ]\n",
            " [30.    1.    1.    1.62  1.53  1.76  0.    0.    0.    1.    0.    0.  ]\n",
            " [53.    1.    1.    1.52  1.53  1.76  1.    0.    1.    1.    1.    1.  ]\n",
            " [55.    0.    0.    1.83  1.62  1.67  1.    0.    1.    0.    0.    0.  ]\n",
            " [57.    0.    0.    1.86  1.63  1.72  1.    0.    0.    0.    1.    1.  ]\n",
            " [31.    0.    1.    1.64  1.85  1.62  0.    0.    1.    1.    1.    0.  ]\n",
            " [30.    1.    0.    1.75  1.67  1.78  1.    1.    1.    0.    0.    1.  ]\n",
            " [37.    1.    1.    1.87  1.37  1.77  1.    1.    0.    1.    1.    1.  ]\n",
            " [44.    1.    0.    1.76  1.9   1.74  0.    0.    1.    0.    1.    0.  ]]\n",
            "[[0. 1. 0.]\n",
            " [0. 0. 1.]\n",
            " [1. 0. 0.]\n",
            " [0. 0. 1.]\n",
            " [0. 0. 1.]\n",
            " [1. 0. 0.]\n",
            " [1. 0. 0.]\n",
            " [0. 0. 1.]\n",
            " [0. 1. 0.]\n",
            " [1. 0. 0.]]\n"
          ],
          "name": "stdout"
        },
        {
          "output_type": "display_data",
          "data": {
            "image/png": "[encoded data removed]",
            "text/plain": [
              "<Figure size 720x720 with 40 Axes>"
            ]
          },
          "metadata": {
            "tags": []
          }
        }
      ]
    },
    {
      "cell_type": "markdown",
      "metadata": {
        "id": "7XaW0TKE52Sx",
        "colab_type": "text"
      },
      "source": [
        "# 학습 파라미터를 설정하자"
      ]
    },
    {
      "cell_type": "code",
      "metadata": {
        "id": "MExaDG0H5YlI",
        "colab_type": "code",
        "colab": {}
      },
      "source": [
        "hidden_neuron=4      ## 은닉층(1개)의 뉴론 수 (은닉층 없으면 0으로 설정)\n",
        "EPOCH=200; BATCH=32  ## 학습횟수 \n",
        "test = 0.2           ## 데이터 중 테스트셋의 비율 \n"
      ],
      "execution_count": 0,
      "outputs": []
    },
    {
      "cell_type": "markdown",
      "metadata": {
        "id": "l6Ccjetc8G4J",
        "colab_type": "text"
      },
      "source": [
        "# 모형을 설정하고 학습시키자\n",
        "\n"
      ]
    },
    {
      "cell_type": "code",
      "metadata": {
        "id": "pWDeZE4j6rEa",
        "colab_type": "code",
        "outputId": "ba77ba3f-f94b-41e2-e01c-cc88534c73a8",
        "colab": {
          "base_uri": "https://localhost:8080/",
          "height": 1000
        }
      },
      "source": [
        "\n",
        "#### 이 아래는 자동으로 실행됨\n",
        "## 2. 학습/검증 데이터 나누기  (80-20)\n",
        "x_train, x_test, y_train, y_test = train_test_split(x, y, test_size=test, random_state=77)\n",
        "\n",
        "## 3. 모델만들기\n",
        "if hidden_neuron ==0: \n",
        "    model = Sequential()\n",
        "    model.add(Dense(y_train.shape[1], input_dim=x_train.shape[1], activation='softmax'))## 은닉층=0\n",
        "else: \n",
        "    model = Sequential()\n",
        "    model.add(Dense(hidden_neuron, input_dim=x_train.shape[1], activation='relu'))\n",
        "    model.add(Dense(y_train.shape[1], activation='softmax')) ## 은닉층=1\n",
        "\n",
        "model.compile(loss='categorical_crossentropy', optimizer='adam', metrics=['accuracy'])\n",
        "hist = model.fit(x_train, y_train, epochs = EPOCH, batch_size=BATCH, validation_data=(x_test, y_test), verbose = 2)\n",
        "model.summary()\n",
        "\n",
        "# model fit 그림으로 표시\n",
        "plt.plot(range(EPOCH), hist.history['acc'], label='Accuracy', color='darkred')\n",
        "plt.plot(range(EPOCH), hist.history['val_acc'], label='Validation Accuracy', color='darkblue')\n",
        "plt.xlabel('epochs'); plt.ylabel('accuracy(%)'); plt.title('red=train, blue=validation'); plt.show()\n",
        "model.summary()"
      ],
      "execution_count": 0,
      "outputs": [
        {
          "output_type": "stream",
          "text": [
            "WARNING:tensorflow:From /usr/local/lib/python3.6/dist-packages/keras/backend/tensorflow_backend.py:66: The name tf.get_default_graph is deprecated. Please use tf.compat.v1.get_default_graph instead.\n",
            "\n",
            "WARNING:tensorflow:From /usr/local/lib/python3.6/dist-packages/keras/backend/tensorflow_backend.py:541: The name tf.placeholder is deprecated. Please use tf.compat.v1.placeholder instead.\n",
            "\n",
            "WARNING:tensorflow:From /usr/local/lib/python3.6/dist-packages/keras/backend/tensorflow_backend.py:4432: The name tf.random_uniform is deprecated. Please use tf.random.uniform instead.\n",
            "\n",
            "WARNING:tensorflow:From /usr/local/lib/python3.6/dist-packages/keras/optimizers.py:793: The name tf.train.Optimizer is deprecated. Please use tf.compat.v1.train.Optimizer instead.\n",
            "\n",
            "WARNING:tensorflow:From /usr/local/lib/python3.6/dist-packages/keras/backend/tensorflow_backend.py:3576: The name tf.log is deprecated. Please use tf.math.log instead.\n",
            "\n",
            "WARNING:tensorflow:From /usr/local/lib/python3.6/dist-packages/tensorflow_core/python/ops/math_grad.py:1424: where (from tensorflow.python.ops.array_ops) is deprecated and will be removed in a future version.\n",
            "Instructions for updating:\n",
            "Use tf.where in 2.0, which has the same broadcast rule as np.where\n",
            "WARNING:tensorflow:From /usr/local/lib/python3.6/dist-packages/keras/backend/tensorflow_backend.py:1033: The name tf.assign_add is deprecated. Please use tf.compat.v1.assign_add instead.\n",
            "\n",
            "WARNING:tensorflow:From /usr/local/lib/python3.6/dist-packages/keras/backend/tensorflow_backend.py:1020: The name tf.assign is deprecated. Please use tf.compat.v1.assign instead.\n",
            "\n",
            "WARNING:tensorflow:From /usr/local/lib/python3.6/dist-packages/keras/backend/tensorflow_backend.py:3005: The name tf.Session is deprecated. Please use tf.compat.v1.Session instead.\n",
            "\n",
            "Train on 400 samples, validate on 100 samples\n",
            "Epoch 1/200\n",
            "WARNING:tensorflow:From /usr/local/lib/python3.6/dist-packages/keras/backend/tensorflow_backend.py:190: The name tf.get_default_session is deprecated. Please use tf.compat.v1.get_default_session instead.\n",
            "\n",
            "WARNING:tensorflow:From /usr/local/lib/python3.6/dist-packages/keras/backend/tensorflow_backend.py:197: The name tf.ConfigProto is deprecated. Please use tf.compat.v1.ConfigProto instead.\n",
            "\n",
            "WARNING:tensorflow:From /usr/local/lib/python3.6/dist-packages/keras/backend/tensorflow_backend.py:207: The name tf.global_variables is deprecated. Please use tf.compat.v1.global_variables instead.\n",
            "\n",
            "WARNING:tensorflow:From /usr/local/lib/python3.6/dist-packages/keras/backend/tensorflow_backend.py:216: The name tf.is_variable_initialized is deprecated. Please use tf.compat.v1.is_variable_initialized instead.\n",
            "\n",
            "WARNING:tensorflow:From /usr/local/lib/python3.6/dist-packages/keras/backend/tensorflow_backend.py:223: The name tf.variables_initializer is deprecated. Please use tf.compat.v1.variables_initializer instead.\n",
            "\n",
            " - 1s - loss: 10.9348 - acc: 0.2675 - val_loss: 11.9446 - val_acc: 0.1900\n",
            "Epoch 2/200\n",
            " - 0s - loss: 10.3222 - acc: 0.2675 - val_loss: 10.9514 - val_acc: 0.1900\n",
            "Epoch 3/200\n",
            " - 0s - loss: 9.0576 - acc: 0.2675 - val_loss: 9.0042 - val_acc: 0.1900\n",
            "Epoch 4/200\n",
            " - 0s - loss: 7.2565 - acc: 0.2675 - val_loss: 6.8115 - val_acc: 0.1900\n",
            "Epoch 5/200\n",
            " - 0s - loss: 5.6881 - acc: 0.2675 - val_loss: 4.8817 - val_acc: 0.1800\n",
            "Epoch 6/200\n",
            " - 0s - loss: 4.5394 - acc: 0.3100 - val_loss: 4.0217 - val_acc: 0.3900\n",
            "Epoch 7/200\n",
            " - 0s - loss: 4.3644 - acc: 0.4275 - val_loss: 3.9234 - val_acc: 0.5600\n",
            "Epoch 8/200\n",
            " - 0s - loss: 4.3548 - acc: 0.4625 - val_loss: 3.9340 - val_acc: 0.5300\n",
            "Epoch 9/200\n",
            " - 0s - loss: 4.3347 - acc: 0.4150 - val_loss: 3.9798 - val_acc: 0.4100\n",
            "Epoch 10/200\n",
            " - 0s - loss: 4.3156 - acc: 0.4100 - val_loss: 3.9725 - val_acc: 0.4200\n",
            "Epoch 11/200\n",
            " - 0s - loss: 4.3066 - acc: 0.4200 - val_loss: 3.9548 - val_acc: 0.4500\n",
            "Epoch 12/200\n",
            " - 0s - loss: 4.3008 - acc: 0.4325 - val_loss: 3.9322 - val_acc: 0.4900\n",
            "Epoch 13/200\n",
            " - 0s - loss: 4.2893 - acc: 0.4250 - val_loss: 3.9471 - val_acc: 0.4500\n",
            "Epoch 14/200\n",
            " - 0s - loss: 4.2798 - acc: 0.4250 - val_loss: 3.9345 - val_acc: 0.4600\n",
            "Epoch 15/200\n",
            " - 0s - loss: 4.2713 - acc: 0.4275 - val_loss: 3.9277 - val_acc: 0.4600\n",
            "Epoch 16/200\n",
            " - 0s - loss: 4.2634 - acc: 0.4325 - val_loss: 3.9199 - val_acc: 0.4700\n",
            "Epoch 17/200\n",
            " - 0s - loss: 4.2537 - acc: 0.4375 - val_loss: 3.9113 - val_acc: 0.4900\n",
            "Epoch 18/200\n",
            " - 0s - loss: 4.2426 - acc: 0.4525 - val_loss: 3.8926 - val_acc: 0.5000\n",
            "Epoch 19/200\n",
            " - 0s - loss: 4.2334 - acc: 0.4575 - val_loss: 3.8899 - val_acc: 0.5100\n",
            "Epoch 20/200\n",
            " - 0s - loss: 4.2176 - acc: 0.4550 - val_loss: 3.8864 - val_acc: 0.5000\n",
            "Epoch 21/200\n",
            " - 0s - loss: 4.2019 - acc: 0.4500 - val_loss: 3.8764 - val_acc: 0.4700\n",
            "Epoch 22/200\n",
            " - 0s - loss: 4.1684 - acc: 0.4600 - val_loss: 3.8369 - val_acc: 0.4800\n",
            "Epoch 23/200\n",
            " - 0s - loss: 4.1210 - acc: 0.4625 - val_loss: 3.7904 - val_acc: 0.4800\n",
            "Epoch 24/200\n",
            " - 0s - loss: 4.0578 - acc: 0.4550 - val_loss: 3.7305 - val_acc: 0.4800\n",
            "Epoch 25/200\n",
            " - 0s - loss: 3.9549 - acc: 0.4700 - val_loss: 3.6496 - val_acc: 0.5000\n",
            "Epoch 26/200\n",
            " - 0s - loss: 3.8182 - acc: 0.4800 - val_loss: 3.5272 - val_acc: 0.5100\n",
            "Epoch 27/200\n",
            " - 0s - loss: 3.6337 - acc: 0.4750 - val_loss: 3.3766 - val_acc: 0.4400\n",
            "Epoch 28/200\n",
            " - 0s - loss: 3.3393 - acc: 0.4625 - val_loss: 3.0389 - val_acc: 0.4200\n",
            "Epoch 29/200\n",
            " - 0s - loss: 2.7883 - acc: 0.4700 - val_loss: 2.4798 - val_acc: 0.3400\n",
            "Epoch 30/200\n",
            " - 0s - loss: 2.1774 - acc: 0.4625 - val_loss: 1.8758 - val_acc: 0.4100\n",
            "Epoch 31/200\n",
            " - 0s - loss: 1.6363 - acc: 0.4825 - val_loss: 1.3729 - val_acc: 0.4000\n",
            "Epoch 32/200\n",
            " - 0s - loss: 1.2025 - acc: 0.5125 - val_loss: 1.1371 - val_acc: 0.4500\n",
            "Epoch 33/200\n",
            " - 0s - loss: 1.0950 - acc: 0.4375 - val_loss: 1.0756 - val_acc: 0.4400\n",
            "Epoch 34/200\n",
            " - 0s - loss: 1.0732 - acc: 0.4475 - val_loss: 1.0336 - val_acc: 0.5300\n",
            "Epoch 35/200\n",
            " - 0s - loss: 1.0613 - acc: 0.4600 - val_loss: 1.0468 - val_acc: 0.4900\n",
            "Epoch 36/200\n",
            " - 0s - loss: 1.0517 - acc: 0.4700 - val_loss: 1.0381 - val_acc: 0.5000\n",
            "Epoch 37/200\n",
            " - 0s - loss: 1.0395 - acc: 0.4800 - val_loss: 1.0173 - val_acc: 0.5500\n",
            "Epoch 38/200\n",
            " - 0s - loss: 1.0347 - acc: 0.4675 - val_loss: 1.0159 - val_acc: 0.5300\n",
            "Epoch 39/200\n",
            " - 0s - loss: 1.0225 - acc: 0.4850 - val_loss: 0.9848 - val_acc: 0.5800\n",
            "Epoch 40/200\n",
            " - 0s - loss: 1.0178 - acc: 0.4825 - val_loss: 1.0001 - val_acc: 0.5600\n",
            "Epoch 41/200\n",
            " - 0s - loss: 1.0045 - acc: 0.4975 - val_loss: 0.9744 - val_acc: 0.5900\n",
            "Epoch 42/200\n",
            " - 0s - loss: 0.9990 - acc: 0.5125 - val_loss: 0.9690 - val_acc: 0.5800\n",
            "Epoch 43/200\n",
            " - 0s - loss: 0.9934 - acc: 0.4800 - val_loss: 0.9675 - val_acc: 0.5900\n",
            "Epoch 44/200\n",
            " - 0s - loss: 0.9820 - acc: 0.5200 - val_loss: 0.9461 - val_acc: 0.6100\n",
            "Epoch 45/200\n",
            " - 0s - loss: 0.9768 - acc: 0.5100 - val_loss: 0.9464 - val_acc: 0.6100\n",
            "Epoch 46/200\n",
            " - 0s - loss: 0.9666 - acc: 0.5250 - val_loss: 0.9348 - val_acc: 0.6300\n",
            "Epoch 47/200\n",
            " - 0s - loss: 0.9602 - acc: 0.5425 - val_loss: 0.9348 - val_acc: 0.6400\n",
            "Epoch 48/200\n",
            " - 0s - loss: 0.9534 - acc: 0.5375 - val_loss: 0.9188 - val_acc: 0.6500\n",
            "Epoch 49/200\n",
            " - 0s - loss: 0.9547 - acc: 0.5400 - val_loss: 0.9123 - val_acc: 0.6600\n",
            "Epoch 50/200\n",
            " - 0s - loss: 0.9472 - acc: 0.5325 - val_loss: 0.9095 - val_acc: 0.6600\n",
            "Epoch 51/200\n",
            " - 0s - loss: 0.9390 - acc: 0.5425 - val_loss: 0.9040 - val_acc: 0.6600\n",
            "Epoch 52/200\n",
            " - 0s - loss: 0.9333 - acc: 0.5500 - val_loss: 0.8844 - val_acc: 0.6700\n",
            "Epoch 53/200\n",
            " - 0s - loss: 0.9245 - acc: 0.5475 - val_loss: 0.8818 - val_acc: 0.6700\n",
            "Epoch 54/200\n",
            " - 0s - loss: 0.9189 - acc: 0.5500 - val_loss: 0.8750 - val_acc: 0.6800\n",
            "Epoch 55/200\n",
            " - 0s - loss: 0.9157 - acc: 0.5700 - val_loss: 0.8797 - val_acc: 0.6700\n",
            "Epoch 56/200\n",
            " - 0s - loss: 0.9091 - acc: 0.5700 - val_loss: 0.8603 - val_acc: 0.7000\n",
            "Epoch 57/200\n",
            " - 0s - loss: 0.9075 - acc: 0.5525 - val_loss: 0.8580 - val_acc: 0.6900\n",
            "Epoch 58/200\n",
            " - 0s - loss: 0.8986 - acc: 0.5725 - val_loss: 0.8561 - val_acc: 0.6700\n",
            "Epoch 59/200\n",
            " - 0s - loss: 0.9001 - acc: 0.5625 - val_loss: 0.8460 - val_acc: 0.7000\n",
            "Epoch 60/200\n",
            " - 0s - loss: 0.8905 - acc: 0.5875 - val_loss: 0.8433 - val_acc: 0.6800\n",
            "Epoch 61/200\n",
            " - 0s - loss: 0.8850 - acc: 0.5675 - val_loss: 0.8336 - val_acc: 0.7000\n",
            "Epoch 62/200\n",
            " - 0s - loss: 0.8804 - acc: 0.5775 - val_loss: 0.8251 - val_acc: 0.6900\n",
            "Epoch 63/200\n",
            " - 0s - loss: 0.8773 - acc: 0.5725 - val_loss: 0.8302 - val_acc: 0.6700\n",
            "Epoch 64/200\n",
            " - 0s - loss: 0.8717 - acc: 0.5725 - val_loss: 0.8123 - val_acc: 0.6900\n",
            "Epoch 65/200\n",
            " - 0s - loss: 0.8712 - acc: 0.5925 - val_loss: 0.8152 - val_acc: 0.7000\n",
            "Epoch 66/200\n",
            " - 0s - loss: 0.8649 - acc: 0.5850 - val_loss: 0.8104 - val_acc: 0.7000\n",
            "Epoch 67/200\n",
            " - 0s - loss: 0.8620 - acc: 0.5825 - val_loss: 0.7983 - val_acc: 0.6900\n",
            "Epoch 68/200\n",
            " - 0s - loss: 0.8593 - acc: 0.5775 - val_loss: 0.8095 - val_acc: 0.6600\n",
            "Epoch 69/200\n",
            " - 0s - loss: 0.8540 - acc: 0.6075 - val_loss: 0.7930 - val_acc: 0.6800\n",
            "Epoch 70/200\n",
            " - 0s - loss: 0.8487 - acc: 0.5925 - val_loss: 0.7892 - val_acc: 0.7100\n",
            "Epoch 71/200\n",
            " - 0s - loss: 0.8449 - acc: 0.6100 - val_loss: 0.7962 - val_acc: 0.6700\n",
            "Epoch 72/200\n",
            " - 0s - loss: 0.8418 - acc: 0.6125 - val_loss: 0.7815 - val_acc: 0.7000\n",
            "Epoch 73/200\n",
            " - 0s - loss: 0.8397 - acc: 0.6000 - val_loss: 0.7769 - val_acc: 0.7200\n",
            "Epoch 74/200\n",
            " - 0s - loss: 0.8365 - acc: 0.6150 - val_loss: 0.7766 - val_acc: 0.7100\n",
            "Epoch 75/200\n",
            " - 0s - loss: 0.8342 - acc: 0.6050 - val_loss: 0.7762 - val_acc: 0.6800\n",
            "Epoch 76/200\n",
            " - 0s - loss: 0.8293 - acc: 0.6175 - val_loss: 0.7675 - val_acc: 0.7300\n",
            "Epoch 77/200\n",
            " - 0s - loss: 0.8313 - acc: 0.5925 - val_loss: 0.7553 - val_acc: 0.7100\n",
            "Epoch 78/200\n",
            " - 0s - loss: 0.8301 - acc: 0.6175 - val_loss: 0.7653 - val_acc: 0.7300\n",
            "Epoch 79/200\n",
            " - 0s - loss: 0.8210 - acc: 0.6200 - val_loss: 0.7487 - val_acc: 0.7200\n",
            "Epoch 80/200\n",
            " - 0s - loss: 0.8189 - acc: 0.6200 - val_loss: 0.7664 - val_acc: 0.7200\n",
            "Epoch 81/200\n",
            " - 0s - loss: 0.8145 - acc: 0.6300 - val_loss: 0.7428 - val_acc: 0.7300\n",
            "Epoch 82/200\n",
            " - 0s - loss: 0.8103 - acc: 0.6275 - val_loss: 0.7494 - val_acc: 0.7400\n",
            "Epoch 83/200\n",
            " - 0s - loss: 0.8085 - acc: 0.6375 - val_loss: 0.7421 - val_acc: 0.7500\n",
            "Epoch 84/200\n",
            " - 0s - loss: 0.8055 - acc: 0.6350 - val_loss: 0.7364 - val_acc: 0.7400\n",
            "Epoch 85/200\n",
            " - 0s - loss: 0.8037 - acc: 0.6475 - val_loss: 0.7386 - val_acc: 0.7300\n",
            "Epoch 86/200\n",
            " - 0s - loss: 0.8006 - acc: 0.6300 - val_loss: 0.7313 - val_acc: 0.7400\n",
            "Epoch 87/200\n",
            " - 0s - loss: 0.7964 - acc: 0.6425 - val_loss: 0.7303 - val_acc: 0.7400\n",
            "Epoch 88/200\n",
            " - 0s - loss: 0.7946 - acc: 0.6475 - val_loss: 0.7267 - val_acc: 0.7500\n",
            "Epoch 89/200\n",
            " - 0s - loss: 0.7967 - acc: 0.6300 - val_loss: 0.7156 - val_acc: 0.7300\n",
            "Epoch 90/200\n",
            " - 0s - loss: 0.7922 - acc: 0.6525 - val_loss: 0.7377 - val_acc: 0.7400\n",
            "Epoch 91/200\n",
            " - 0s - loss: 0.7915 - acc: 0.6625 - val_loss: 0.7071 - val_acc: 0.7600\n",
            "Epoch 92/200\n",
            " - 0s - loss: 0.7861 - acc: 0.6325 - val_loss: 0.7243 - val_acc: 0.7300\n",
            "Epoch 93/200\n",
            " - 0s - loss: 0.7826 - acc: 0.6675 - val_loss: 0.7118 - val_acc: 0.7500\n",
            "Epoch 94/200\n",
            " - 0s - loss: 0.7808 - acc: 0.6500 - val_loss: 0.7145 - val_acc: 0.7400\n",
            "Epoch 95/200\n",
            " - 0s - loss: 0.7786 - acc: 0.6550 - val_loss: 0.7057 - val_acc: 0.7500\n",
            "Epoch 96/200\n",
            " - 0s - loss: 0.7799 - acc: 0.6525 - val_loss: 0.6942 - val_acc: 0.7300\n",
            "Epoch 97/200\n",
            " - 0s - loss: 0.7737 - acc: 0.6425 - val_loss: 0.6957 - val_acc: 0.7400\n",
            "Epoch 98/200\n",
            " - 0s - loss: 0.7703 - acc: 0.6550 - val_loss: 0.6952 - val_acc: 0.7500\n",
            "Epoch 99/200\n",
            " - 0s - loss: 0.7687 - acc: 0.6550 - val_loss: 0.6937 - val_acc: 0.7300\n",
            "Epoch 100/200\n",
            " - 0s - loss: 0.7655 - acc: 0.6550 - val_loss: 0.6900 - val_acc: 0.7400\n",
            "Epoch 101/200\n",
            " - 0s - loss: 0.7628 - acc: 0.6650 - val_loss: 0.6920 - val_acc: 0.7500\n",
            "Epoch 102/200\n",
            " - 0s - loss: 0.7635 - acc: 0.6525 - val_loss: 0.6879 - val_acc: 0.7400\n",
            "Epoch 103/200\n",
            " - 0s - loss: 0.7645 - acc: 0.6875 - val_loss: 0.6913 - val_acc: 0.7500\n",
            "Epoch 104/200\n",
            " - 0s - loss: 0.7592 - acc: 0.6675 - val_loss: 0.6779 - val_acc: 0.7400\n",
            "Epoch 105/200\n",
            " - 0s - loss: 0.7575 - acc: 0.6600 - val_loss: 0.6793 - val_acc: 0.7300\n",
            "Epoch 106/200\n",
            " - 0s - loss: 0.7526 - acc: 0.6675 - val_loss: 0.6719 - val_acc: 0.7300\n",
            "Epoch 107/200\n",
            " - 0s - loss: 0.7503 - acc: 0.6700 - val_loss: 0.6729 - val_acc: 0.7400\n",
            "Epoch 108/200\n",
            " - 0s - loss: 0.7500 - acc: 0.6800 - val_loss: 0.6730 - val_acc: 0.7500\n",
            "Epoch 109/200\n",
            " - 0s - loss: 0.7470 - acc: 0.6700 - val_loss: 0.6679 - val_acc: 0.7400\n",
            "Epoch 110/200\n",
            " - 0s - loss: 0.7446 - acc: 0.6675 - val_loss: 0.6654 - val_acc: 0.7400\n",
            "Epoch 111/200\n",
            " - 0s - loss: 0.7427 - acc: 0.6625 - val_loss: 0.6610 - val_acc: 0.7500\n",
            "Epoch 112/200\n",
            " - 0s - loss: 0.7409 - acc: 0.6850 - val_loss: 0.6699 - val_acc: 0.7600\n",
            "Epoch 113/200\n",
            " - 0s - loss: 0.7383 - acc: 0.6700 - val_loss: 0.6572 - val_acc: 0.7500\n",
            "Epoch 114/200\n",
            " - 0s - loss: 0.7369 - acc: 0.6725 - val_loss: 0.6537 - val_acc: 0.7400\n",
            "Epoch 115/200\n",
            " - 0s - loss: 0.7360 - acc: 0.6850 - val_loss: 0.6552 - val_acc: 0.7600\n",
            "Epoch 116/200\n",
            " - 0s - loss: 0.7318 - acc: 0.6850 - val_loss: 0.6503 - val_acc: 0.7600\n",
            "Epoch 117/200\n",
            " - 0s - loss: 0.7325 - acc: 0.6675 - val_loss: 0.6500 - val_acc: 0.7600\n",
            "Epoch 118/200\n",
            " - 0s - loss: 0.7307 - acc: 0.6925 - val_loss: 0.6527 - val_acc: 0.7500\n",
            "Epoch 119/200\n",
            " - 0s - loss: 0.7253 - acc: 0.6900 - val_loss: 0.6482 - val_acc: 0.7600\n",
            "Epoch 120/200\n",
            " - 0s - loss: 0.7243 - acc: 0.6800 - val_loss: 0.6411 - val_acc: 0.7600\n",
            "Epoch 121/200\n",
            " - 0s - loss: 0.7232 - acc: 0.6900 - val_loss: 0.6421 - val_acc: 0.7500\n",
            "Epoch 122/200\n",
            " - 0s - loss: 0.7205 - acc: 0.6850 - val_loss: 0.6406 - val_acc: 0.7500\n",
            "Epoch 123/200\n",
            " - 0s - loss: 0.7185 - acc: 0.7050 - val_loss: 0.6427 - val_acc: 0.7600\n",
            "Epoch 124/200\n",
            " - 0s - loss: 0.7161 - acc: 0.7100 - val_loss: 0.6281 - val_acc: 0.7600\n",
            "Epoch 125/200\n",
            " - 0s - loss: 0.7134 - acc: 0.6800 - val_loss: 0.6403 - val_acc: 0.7700\n",
            "Epoch 126/200\n",
            " - 0s - loss: 0.7168 - acc: 0.7025 - val_loss: 0.6253 - val_acc: 0.7600\n",
            "Epoch 127/200\n",
            " - 0s - loss: 0.7113 - acc: 0.6850 - val_loss: 0.6305 - val_acc: 0.7500\n",
            "Epoch 128/200\n",
            " - 0s - loss: 0.7083 - acc: 0.7275 - val_loss: 0.6350 - val_acc: 0.7700\n",
            "Epoch 129/200\n",
            " - 0s - loss: 0.7051 - acc: 0.7150 - val_loss: 0.6228 - val_acc: 0.7600\n",
            "Epoch 130/200\n",
            " - 0s - loss: 0.7043 - acc: 0.7025 - val_loss: 0.6204 - val_acc: 0.7800\n",
            "Epoch 131/200\n",
            " - 0s - loss: 0.7017 - acc: 0.7150 - val_loss: 0.6215 - val_acc: 0.7500\n",
            "Epoch 132/200\n",
            " - 0s - loss: 0.7009 - acc: 0.7100 - val_loss: 0.6312 - val_acc: 0.7600\n",
            "Epoch 133/200\n",
            " - 0s - loss: 0.7014 - acc: 0.7050 - val_loss: 0.6206 - val_acc: 0.7600\n",
            "Epoch 134/200\n",
            " - 0s - loss: 0.6964 - acc: 0.7225 - val_loss: 0.6216 - val_acc: 0.7800\n",
            "Epoch 135/200\n",
            " - 0s - loss: 0.6971 - acc: 0.7175 - val_loss: 0.6138 - val_acc: 0.7500\n",
            "Epoch 136/200\n",
            " - 0s - loss: 0.6955 - acc: 0.7275 - val_loss: 0.6163 - val_acc: 0.7700\n",
            "Epoch 137/200\n",
            " - 0s - loss: 0.6941 - acc: 0.7025 - val_loss: 0.6094 - val_acc: 0.7600\n",
            "Epoch 138/200\n",
            " - 0s - loss: 0.6876 - acc: 0.7350 - val_loss: 0.6109 - val_acc: 0.7800\n",
            "Epoch 139/200\n",
            " - 0s - loss: 0.6844 - acc: 0.7275 - val_loss: 0.6007 - val_acc: 0.7500\n",
            "Epoch 140/200\n",
            " - 0s - loss: 0.6839 - acc: 0.7225 - val_loss: 0.6000 - val_acc: 0.7600\n",
            "Epoch 141/200\n",
            " - 0s - loss: 0.6798 - acc: 0.7325 - val_loss: 0.6056 - val_acc: 0.7600\n",
            "Epoch 142/200\n",
            " - 0s - loss: 0.6786 - acc: 0.7375 - val_loss: 0.6060 - val_acc: 0.7900\n",
            "Epoch 143/200\n",
            " - 0s - loss: 0.6768 - acc: 0.7300 - val_loss: 0.6003 - val_acc: 0.7700\n",
            "Epoch 144/200\n",
            " - 0s - loss: 0.6776 - acc: 0.7375 - val_loss: 0.5950 - val_acc: 0.7600\n",
            "Epoch 145/200\n",
            " - 0s - loss: 0.6727 - acc: 0.7375 - val_loss: 0.5921 - val_acc: 0.7600\n",
            "Epoch 146/200\n",
            " - 0s - loss: 0.6699 - acc: 0.7400 - val_loss: 0.5925 - val_acc: 0.7700\n",
            "Epoch 147/200\n",
            " - 0s - loss: 0.6687 - acc: 0.7375 - val_loss: 0.5974 - val_acc: 0.7900\n",
            "Epoch 148/200\n",
            " - 0s - loss: 0.6657 - acc: 0.7350 - val_loss: 0.5883 - val_acc: 0.7700\n",
            "Epoch 149/200\n",
            " - 0s - loss: 0.6682 - acc: 0.7175 - val_loss: 0.5856 - val_acc: 0.7900\n",
            "Epoch 150/200\n",
            " - 0s - loss: 0.6685 - acc: 0.7550 - val_loss: 0.5927 - val_acc: 0.7800\n",
            "Epoch 151/200\n",
            " - 0s - loss: 0.6630 - acc: 0.7375 - val_loss: 0.5798 - val_acc: 0.7800\n",
            "Epoch 152/200\n",
            " - 0s - loss: 0.6604 - acc: 0.7600 - val_loss: 0.5876 - val_acc: 0.7800\n",
            "Epoch 153/200\n",
            " - 0s - loss: 0.6577 - acc: 0.7400 - val_loss: 0.5829 - val_acc: 0.7900\n",
            "Epoch 154/200\n",
            " - 0s - loss: 0.6524 - acc: 0.7425 - val_loss: 0.5756 - val_acc: 0.7900\n",
            "Epoch 155/200\n",
            " - 0s - loss: 0.6520 - acc: 0.7575 - val_loss: 0.5723 - val_acc: 0.7900\n",
            "Epoch 156/200\n",
            " - 0s - loss: 0.6479 - acc: 0.7450 - val_loss: 0.5742 - val_acc: 0.7900\n",
            "Epoch 157/200\n",
            " - 0s - loss: 0.6453 - acc: 0.7550 - val_loss: 0.5763 - val_acc: 0.7800\n",
            "Epoch 158/200\n",
            " - 0s - loss: 0.6440 - acc: 0.7500 - val_loss: 0.5728 - val_acc: 0.7800\n",
            "Epoch 159/200\n",
            " - 0s - loss: 0.6424 - acc: 0.7625 - val_loss: 0.5694 - val_acc: 0.8000\n",
            "Epoch 160/200\n",
            " - 0s - loss: 0.6373 - acc: 0.7550 - val_loss: 0.5613 - val_acc: 0.7800\n",
            "Epoch 161/200\n",
            " - 0s - loss: 0.6367 - acc: 0.7525 - val_loss: 0.5655 - val_acc: 0.7900\n",
            "Epoch 162/200\n",
            " - 0s - loss: 0.6368 - acc: 0.7600 - val_loss: 0.5636 - val_acc: 0.7800\n",
            "Epoch 163/200\n",
            " - 0s - loss: 0.6326 - acc: 0.7600 - val_loss: 0.5622 - val_acc: 0.7800\n",
            "Epoch 164/200\n",
            " - 0s - loss: 0.6289 - acc: 0.7625 - val_loss: 0.5545 - val_acc: 0.7900\n",
            "Epoch 165/200\n",
            " - 0s - loss: 0.6260 - acc: 0.7600 - val_loss: 0.5530 - val_acc: 0.7800\n",
            "Epoch 166/200\n",
            " - 0s - loss: 0.6273 - acc: 0.7550 - val_loss: 0.5598 - val_acc: 0.8000\n",
            "Epoch 167/200\n",
            " - 0s - loss: 0.6250 - acc: 0.7700 - val_loss: 0.5558 - val_acc: 0.8100\n",
            "Epoch 168/200\n",
            " - 0s - loss: 0.6240 - acc: 0.7425 - val_loss: 0.5478 - val_acc: 0.7900\n",
            "Epoch 169/200\n",
            " - 0s - loss: 0.6163 - acc: 0.7700 - val_loss: 0.5584 - val_acc: 0.8200\n",
            "Epoch 170/200\n",
            " - 0s - loss: 0.6153 - acc: 0.7625 - val_loss: 0.5409 - val_acc: 0.7800\n",
            "Epoch 171/200\n",
            " - 0s - loss: 0.6112 - acc: 0.7700 - val_loss: 0.5551 - val_acc: 0.8200\n",
            "Epoch 172/200\n",
            " - 0s - loss: 0.6108 - acc: 0.7775 - val_loss: 0.5463 - val_acc: 0.8000\n",
            "Epoch 173/200\n",
            " - 0s - loss: 0.6063 - acc: 0.7800 - val_loss: 0.5391 - val_acc: 0.8000\n",
            "Epoch 174/200\n",
            " - 0s - loss: 0.6046 - acc: 0.7775 - val_loss: 0.5352 - val_acc: 0.7900\n",
            "Epoch 175/200\n",
            " - 0s - loss: 0.6020 - acc: 0.7750 - val_loss: 0.5334 - val_acc: 0.8000\n",
            "Epoch 176/200\n",
            " - 0s - loss: 0.6040 - acc: 0.7675 - val_loss: 0.5362 - val_acc: 0.7900\n",
            "Epoch 177/200\n",
            " - 0s - loss: 0.6006 - acc: 0.7875 - val_loss: 0.5303 - val_acc: 0.8100\n",
            "Epoch 178/200\n",
            " - 0s - loss: 0.5958 - acc: 0.7750 - val_loss: 0.5302 - val_acc: 0.7900\n",
            "Epoch 179/200\n",
            " - 0s - loss: 0.5918 - acc: 0.7950 - val_loss: 0.5296 - val_acc: 0.8100\n",
            "Epoch 180/200\n",
            " - 0s - loss: 0.5919 - acc: 0.7925 - val_loss: 0.5252 - val_acc: 0.8000\n",
            "Epoch 181/200\n",
            " - 0s - loss: 0.5912 - acc: 0.7700 - val_loss: 0.5272 - val_acc: 0.8100\n",
            "Epoch 182/200\n",
            " - 0s - loss: 0.5884 - acc: 0.7900 - val_loss: 0.5198 - val_acc: 0.8000\n",
            "Epoch 183/200\n",
            " - 0s - loss: 0.5814 - acc: 0.7900 - val_loss: 0.5206 - val_acc: 0.8100\n",
            "Epoch 184/200\n",
            " - 0s - loss: 0.5802 - acc: 0.7850 - val_loss: 0.5233 - val_acc: 0.8100\n",
            "Epoch 185/200\n",
            " - 0s - loss: 0.5762 - acc: 0.7950 - val_loss: 0.5172 - val_acc: 0.8200\n",
            "Epoch 186/200\n",
            " - 0s - loss: 0.5751 - acc: 0.7900 - val_loss: 0.5146 - val_acc: 0.8100\n",
            "Epoch 187/200\n",
            " - 0s - loss: 0.5724 - acc: 0.7975 - val_loss: 0.5171 - val_acc: 0.8200\n",
            "Epoch 188/200\n",
            " - 0s - loss: 0.5706 - acc: 0.7925 - val_loss: 0.5045 - val_acc: 0.8100\n",
            "Epoch 189/200\n",
            " - 0s - loss: 0.5644 - acc: 0.8025 - val_loss: 0.5138 - val_acc: 0.8200\n",
            "Epoch 190/200\n",
            " - 0s - loss: 0.5633 - acc: 0.8150 - val_loss: 0.5092 - val_acc: 0.8200\n",
            "Epoch 191/200\n",
            " - 0s - loss: 0.5604 - acc: 0.7875 - val_loss: 0.5039 - val_acc: 0.8100\n",
            "Epoch 192/200\n",
            " - 0s - loss: 0.5589 - acc: 0.8050 - val_loss: 0.5007 - val_acc: 0.8200\n",
            "Epoch 193/200\n",
            " - 0s - loss: 0.5559 - acc: 0.7975 - val_loss: 0.4970 - val_acc: 0.8200\n",
            "Epoch 194/200\n",
            " - 0s - loss: 0.5527 - acc: 0.8125 - val_loss: 0.5005 - val_acc: 0.8100\n",
            "Epoch 195/200\n",
            " - 0s - loss: 0.5546 - acc: 0.7975 - val_loss: 0.4970 - val_acc: 0.8100\n",
            "Epoch 196/200\n",
            " - 0s - loss: 0.5506 - acc: 0.8225 - val_loss: 0.4910 - val_acc: 0.8200\n",
            "Epoch 197/200\n",
            " - 0s - loss: 0.5446 - acc: 0.8150 - val_loss: 0.4922 - val_acc: 0.8200\n",
            "Epoch 198/200\n",
            " - 0s - loss: 0.5453 - acc: 0.8200 - val_loss: 0.5004 - val_acc: 0.8200\n",
            "Epoch 199/200\n",
            " - 0s - loss: 0.5465 - acc: 0.8150 - val_loss: 0.4842 - val_acc: 0.8300\n",
            "Epoch 200/200\n",
            " - 0s - loss: 0.5388 - acc: 0.8150 - val_loss: 0.4950 - val_acc: 0.8100\n",
            "Model: \"sequential_1\"\n",
            "_________________________________________________________________\n",
            "Layer (type)                 Output Shape              Param #   \n",
            "=================================================================\n",
            "dense_1 (Dense)              (None, 4)                 52        \n",
            "_________________________________________________________________\n",
            "dense_2 (Dense)              (None, 3)                 15        \n",
            "=================================================================\n",
            "Total params: 67\n",
            "Trainable params: 67\n",
            "Non-trainable params: 0\n",
            "_________________________________________________________________\n"
          ],
          "name": "stdout"
        },
        {
          "output_type": "display_data",
          "data": {
            "image/png": "[encoded data removed]",
            "text/plain": [
              "<Figure size 432x288 with 1 Axes>"
            ]
          },
          "metadata": {
            "tags": []
          }
        },
        {
          "output_type": "stream",
          "text": [
            "Model: \"sequential_1\"\n",
            "_________________________________________________________________\n",
            "Layer (type)                 Output Shape              Param #   \n",
            "=================================================================\n",
            "dense_1 (Dense)              (None, 4)                 52        \n",
            "_________________________________________________________________\n",
            "dense_2 (Dense)              (None, 3)                 15        \n",
            "=================================================================\n",
            "Total params: 67\n",
            "Trainable params: 67\n",
            "Non-trainable params: 0\n",
            "_________________________________________________________________\n"
          ],
          "name": "stdout"
        }
      ]
    },
    {
      "cell_type": "markdown",
      "metadata": {
        "id": "J9zNGqCV8sSf",
        "colab_type": "text"
      },
      "source": [
        "# 학습된 모형을 사용하여 예측하기"
      ]
    },
    {
      "cell_type": "code",
      "metadata": {
        "id": "V81VzzwI8cjh",
        "colab_type": "code",
        "outputId": "72d66db1-e84d-42d3-9b64-d59e294b4d2d",
        "colab": {
          "base_uri": "https://localhost:8080/",
          "height": 277
        }
      },
      "source": [
        "\n",
        "# 6. 예측하기 \n",
        "x_new= x_test[0:3]; x_new; yhat = model.predict(x_new)\n",
        "\n",
        "plt.figure(figsize=(15,205))\n",
        "for i in range(3) :\n",
        "    ratio = yhat[i]; plt.subplot(1,3,i+1); plt.xticks([]); plt.yticks([]); plt.grid(False)\n",
        "    plt.pie(ratio, labels=class_names, shadow=True, startangle=90, autopct='%0.1f%%')\n",
        "plt.show()\n"
      ],
      "execution_count": 0,
      "outputs": [
        {
          "output_type": "display_data",
          "data": {
            "image/png": "[encoded data removed]",
            "text/plain": [
              "<Figure size 1080x14760 with 3 Axes>"
            ]
          },
          "metadata": {
            "tags": []
          }
        }
      ]
    },
    {
      "cell_type": "markdown",
      "metadata": {
        "id": "2TaYUdAUD1BS",
        "colab_type": "text"
      },
      "source": [
        "# X가 주어졌을 때 확률적인 구매예측을 해보자"
      ]
    },
    {
      "cell_type": "code",
      "metadata": {
        "id": "Jy8TpvPICMuD",
        "colab_type": "code",
        "outputId": "1a0639a4-480d-433d-f5ad-f5f99e3cc144",
        "colab": {
          "base_uri": "https://localhost:8080/",
          "height": 197
        }
      },
      "source": [
        "y_pred=np.argmax(yhat,axis=1)\n",
        "print(\"age male heavy  price1 price2 price3 adv1 adv2 adv3  disp1 disp2 disp3\")\n",
        "\n",
        "for i in range(3):\n",
        "    print(x_test[i])\n",
        "    print(\"=======> 이 경우\", np.round(100*yhat[i,y_pred[i]],2), \"%의 확률로\", class_names[y_pred[i]], \"을 살 것으로 예측됩니다\")\n",
        "    print()\n"
      ],
      "execution_count": 0,
      "outputs": [
        {
          "output_type": "stream",
          "text": [
            "age male heavy  price1 price2 price3 adv1 adv2 adv3  disp1 disp2 disp3\n",
            "[57.    1.    1.    1.52  1.64  1.67  1.    0.    1.    0.    1.    1.  ]\n",
            "=======> 이 경우 76.28 %의 확률로 sunshine 을 살 것으로 예측됩니다\n",
            "\n",
            "[50.    0.    1.    1.55  1.54  1.75  0.    1.    1.    0.    0.    1.  ]\n",
            "=======> 이 경우 43.2 %의 확률로 nabisco 을 살 것으로 예측됩니다\n",
            "\n",
            "[56.    1.    0.    1.73  1.66  1.71  1.    0.    1.    1.    0.    1.  ]\n",
            "=======> 이 경우 51.35 %의 확률로 sunshine 을 살 것으로 예측됩니다\n",
            "\n"
          ],
          "name": "stdout"
        }
      ]
    },
    {
      "cell_type": "markdown",
      "metadata": {
        "id": "4c7q7XkU9bqp",
        "colab_type": "text"
      },
      "source": [
        "이 결과를 어떻게 해석할까?\n",
        "브랜드 선택에 관한 모형의 예측력을 높이기 위해서는 어떤 데이터가 필요할까?\n",
        "?"
      ]
    },
    {
      "cell_type": "markdown",
      "metadata": {
        "id": "lGWgwgwHdVbG",
        "colab_type": "text"
      },
      "source": [
        "# 학습된 모형을 저장하자"
      ]
    },
    {
      "cell_type": "code",
      "metadata": {
        "id": "mAlpTg9jdfHl",
        "colab_type": "code",
        "colab": {}
      },
      "source": [
        "# 모델 저장하기\n",
        "from keras.models import load_model\n",
        "model.save('brand_model_01.h5')\n",
        "\n",
        "## 모델을 불러올때, \n",
        "#model1 = load_model('brand_model_01.h5')\n",
        "#yhat1 = model1.predict(x_new)\n",
        "#yhat1)"
      ],
      "execution_count": 0,
      "outputs": []
    },
    {
      "cell_type": "markdown",
      "metadata": {
        "id": "rJ-vFO0uwHQK",
        "colab_type": "text"
      },
      "source": [
        "# 선택모형에 NN의 대안으로 RF(랜덤-포레스트) 모형을 사용할 수 있다."
      ]
    },
    {
      "cell_type": "markdown",
      "metadata": {
        "id": "bk_3S2xiwh6E",
        "colab_type": "text"
      },
      "source": [
        "X에서 랜덤으로 추출된 부분집합 x변수에 의해 y변수의 클래스를 구분하는 decision tree를 K개 만든 다음, 주어진 X에 대한 K개 예측치를 다수결로 평가하여 최종 예측을 하는 알고리즘. 똑똑한 한 명보다 조금 덜 똑똑한 100명이 더 낫다는 멋진 아이디어. \n",
        "https://medium.com/@deepvalidation/title-3b0e263605de\n"
      ]
    }
  ]
}