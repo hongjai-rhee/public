{
  "nbformat": 4,
  "nbformat_minor": 0,
  "metadata": {
    "colab": {
      "name": "지역정보탐색.ipynb",
      "provenance": [],
      "authorship_tag": "ABX9TyOtewcBaD92xMajtFwf5aql",
      "include_colab_link": true
    },
    "kernelspec": {
      "name": "python3",
      "display_name": "Python 3"
    },
    "language_info": {
      "name": "python"
    }
  },
  "cells": [
    {
      "cell_type": "markdown",
      "metadata": {
        "id": "view-in-github",
        "colab_type": "text"
      },
      "source": [
        "<a href=\"https://colab.research.google.com/github/hongjai-rhee/public/blob/master/%EC%A7%80%EC%97%AD%EC%A0%95%EB%B3%B4%ED%83%90%EC%83%89.ipynb\" target=\"_parent\"><img src=\"https://colab.research.google.com/assets/colab-badge.svg\" alt=\"Open In Colab\"/></a>"
      ]
    },
    {
      "cell_type": "code",
      "metadata": {
        "id": "0C43sBqBjazg"
      },
      "source": [
        "import geopy\n",
        "import pandas as pd\n",
        "import numpy as np\n",
        "from geopy.geocoders import Bing\n",
        "from geopy.geocoders import Nominatim\n",
        "!pip install osmnx\n",
        "import osmnx as ox "
      ],
      "execution_count": null,
      "outputs": []
    },
    {
      "cell_type": "markdown",
      "metadata": {
        "id": "GKk3crN0vDpQ"
      },
      "source": [
        "# 지번 주소 데이터를 읽어오자"
      ]
    },
    {
      "cell_type": "code",
      "metadata": {
        "colab": {
          "base_uri": "https://localhost:8080/"
        },
        "id": "t6k6pUJmv3Bv",
        "outputId": "aebbd609-c397-47d3-891a-fc0227ba6141"
      },
      "source": [
        "!git clone https://github.com/hongjai-rhee/public.git"
      ],
      "execution_count": null,
      "outputs": [
        {
          "output_type": "stream",
          "text": [
            "Cloning into 'public'...\n",
            "remote: Enumerating objects: 717, done.\u001b[K\n",
            "remote: Counting objects: 100% (37/37), done.\u001b[K\n",
            "remote: Compressing objects: 100% (37/37), done.\u001b[K\n",
            "remote: Total 717 (delta 13), reused 0 (delta 0), pack-reused 680\u001b[K\n",
            "Receiving objects: 100% (717/717), 76.88 MiB | 25.60 MiB/s, done.\n",
            "Resolving deltas: 100% (337/337), done.\n"
          ],
          "name": "stdout"
        }
      ]
    },
    {
      "cell_type": "code",
      "metadata": {
        "colab": {
          "base_uri": "https://localhost:8080/"
        },
        "id": "dfcOkKw9f-X4",
        "outputId": "0d68f163-afc4-4a8b-d905-b26dc572925b"
      },
      "source": [
        "jibun = pd.read_csv('/content/public/address.csv', encoding = 'EUC-KR', dtype = str)  ## 2020 지번주소 (n=87372)\n",
        "address_list=np.array(jibun['ADDR'])\n",
        "address_list"
      ],
      "execution_count": null,
      "outputs": [
        {
          "output_type": "execute_result",
          "data": {
            "text/plain": [
              "array(['서울특별시 구로구 구로동 748', '서울특별시 구로구 구로동 805', '서울특별시 구로구 구로동 780', ...,\n",
              "       '서울특별시 서초구 잠원동 162', '서울특별시 강동구 고덕동 210', '서울특별시 강동구 상일동 520'],\n",
              "      dtype=object)"
            ]
          },
          "metadata": {
            "tags": []
          },
          "execution_count": 3
        }
      ]
    },
    {
      "cell_type": "markdown",
      "metadata": {
        "id": "BeRRBvy0uO7Y"
      },
      "source": [
        "# 위경도 좌표 변환:\n",
        "- 안되는 주소가 있음 ㅜㅜ"
      ]
    },
    {
      "cell_type": "code",
      "metadata": {
        "id": "rVs00MEzoAtX"
      },
      "source": [
        "geolocoder = Nominatim(user_agent = 'South Korea')\n",
        "\n",
        "def geocoding(address): \n",
        "    geo = geolocoder.geocode(address)\n",
        "    crd = (geo.latitude, geo.longitude)\n",
        "    return crd"
      ],
      "execution_count": null,
      "outputs": []
    },
    {
      "cell_type": "code",
      "metadata": {
        "colab": {
          "base_uri": "https://localhost:8080/"
        },
        "id": "6q7SmBe4gj12",
        "outputId": "e4046c55-72ad-40c3-9ba9-facedd512045"
      },
      "source": [
        "#for i in address_list:\n",
        "i=1\n",
        "k=address_list[i]\n",
        "crd = geocoding(k)\n",
        "crd\n",
        "  "
      ],
      "execution_count": null,
      "outputs": [
        {
          "output_type": "execute_result",
          "data": {
            "text/plain": [
              "(37.508071349999994, 126.88287328081626)"
            ]
          },
          "metadata": {
            "tags": []
          },
          "execution_count": 5
        }
      ]
    },
    {
      "cell_type": "markdown",
      "metadata": {
        "id": "AYIzVvlBuXt-"
      },
      "source": [
        "# 반경 k 미터 이내에 어떤 시설이 있을까? \n",
        "- 학교, 까페, 병원, 경찰,..\n",
        "- 이 정보를 데이터로 어떻게 기록할까"
      ]
    },
    {
      "cell_type": "code",
      "metadata": {
        "colab": {
          "base_uri": "https://localhost:8080/"
        },
        "id": "epnzYAibdOlI",
        "outputId": "9b3543f5-a1e7-4e5b-e822-8d828025b451"
      },
      "source": [
        "tags = {'amenity': True}\n",
        "\n",
        "demo = dict()\n",
        "#for i in np.arange(135,150):\n",
        "i=441\n",
        "\n",
        "print(address_list[i])\n",
        "crd = geocoding(address_list[i])\n",
        "pois = ox.geometries.geometries_from_point(crd, tags=tags, dist=500)\n",
        "poi_count = pois['amenity'].value_counts()\n",
        "print(crd)\n",
        "demo[i] = poi_count\n",
        "demo"
      ],
      "execution_count": null,
      "outputs": [
        {
          "output_type": "stream",
          "text": [
            "서울특별시 서초구 반포동 968\n",
            "(37.5062092, 127.023387)\n"
          ],
          "name": "stdout"
        },
        {
          "output_type": "execute_result",
          "data": {
            "text/plain": [
              "{441: restaurant          49\n",
              " bank                13\n",
              " cafe                 8\n",
              " parking              5\n",
              " dentist              4\n",
              " bar                  3\n",
              " post_office          3\n",
              " fuel                 3\n",
              " fast_food            2\n",
              " nightclub            2\n",
              " pharmacy             2\n",
              " place_of_worship     2\n",
              " pub                  2\n",
              " car_rental           1\n",
              " bicycle_rental       1\n",
              " townhall             1\n",
              " bbq                  1\n",
              " kindergarten         1\n",
              " marketplace          1\n",
              " hospital             1\n",
              " clinic               1\n",
              " school               1\n",
              " Name: amenity, dtype: int64}"
            ]
          },
          "metadata": {
            "tags": []
          },
          "execution_count": 6
        }
      ]
    }
  ]
}